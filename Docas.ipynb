{
 "cells": [
  {
   "cell_type": "code",
   "execution_count": 1,
   "metadata": {},
   "outputs": [],
   "source": [
    "class Caminhao:\n",
    "    def __init__(self, items = 0, doca = -1, horaEntrada = -1):\n",
    "        self.NAO_HOUVE_DELIBERACAO = -1\n",
    "        self.__doca = doca\n",
    "        self.__horaEntrada = horaEntrada\n",
    "        self.__horaDescarregando = self.NAO_HOUVE_DELIBERACAO\n",
    "        self.__horaDeSaida = self.NAO_HOUVE_DELIBERACAO\n",
    "        self.__items = items\n",
    "    \n",
    "    def getDoca(self):\n",
    "        if self.__doca == self.NAO_HOUVE_DELIBERACAO:\n",
    "            return 'ESPERANDO DECISAO'\n",
    "        else:\n",
    "            return self.__doca\n",
    "\n",
    "    def setDoca(self, doca, horaEntrada):\n",
    "        self.__doca = doca\n",
    "        self.__horaEntrada = horaEntrada\n",
    "\n",
    "    def comecaDescarregar(self, hora):\n",
    "        self.__horaDescarregando = hora\n",
    "        \n",
    "    def getHoraDescarregando(self):\n",
    "        return self.__horaDescarregando\n",
    "        \n",
    "    def getTempoDescarregando(self, hora):\n",
    "        if self.__horaDescarregando == self.NAO_HOUVE_DELIBERACAO:\n",
    "            return self.NAO_HOUVE_DELIBERACAO\n",
    "        else:\n",
    "            return hora - self.__horaDescarregando\n",
    "        \n",
    "    def getTempoNaFila(self, hora):\n",
    "        if self.__doca == self.NAO_HOUVE_DELIBERACAO:\n",
    "            return self.NAO_HOUVE_DELIBERACAO\n",
    "        else:\n",
    "            return hora - self.__horaEntrada            \n",
    "    \n",
    "    def setHoraDeSaida(self, hora):\n",
    "        self.__horaDeSaida = hora\n",
    "    \n",
    "    def getHoraDeSaida(self):\n",
    "        return self.__horaDeSaida\n",
    "    \n",
    "    def getHoraEntrada(self):\n",
    "        return self.__horaEntrada\n",
    "    \n",
    "    def tempoTotalDescarregando(self):\n",
    "        return self.getTempoDescarregando(self.__horaDeSaida)\n",
    "    \n",
    "    def tempoTotalNaFila(self):\n",
    "        return self.getTempoNaFila(self.__horaDeSaida)\n",
    "    \n",
    "    @property\n",
    "    def items(self):\n",
    "        return self.__items\n",
    "    \n",
    "    @items.setter\n",
    "    def items(self, items):\n",
    "        self.__items = items\n",
    "        \n",
    "    \n",
    "    "
   ]
  },
  {
   "cell_type": "code",
   "execution_count": 2,
   "metadata": {},
   "outputs": [],
   "source": [
    "class Docas:\n",
    "    def __init__(self, nDocas = 4):\n",
    "        #self.TEMPO_ENTRE_CAMINHOES = 0 # ativo como o delay do update\n",
    "        self.__NAO_HOUVE_DELIBERACAO = -1\n",
    "        self.__historicoDeCaminhoes = []\n",
    "        self.__caminhoesDasDocas = {}\n",
    "        for i in range(nDocas):\n",
    "            self.__caminhoesDasDocas[i] = []\n",
    "\n",
    "    def addCaminhao(self, caminhao):\n",
    "        iDoca = caminhao.getDoca()\n",
    "        self._checkDoca(iDoca)\n",
    "        self.__caminhoesDasDocas[iDoca].append(caminhao)\n",
    "    \n",
    "    def updateDescarregamento(self, hora):\n",
    "        for iDoca in self.__caminhoesDasDocas:\n",
    "            if len(self.__caminhoesDasDocas[iDoca]) == 0:\n",
    "                continue\n",
    "            else:\n",
    "                caminhaoI = self.__caminhoesDasDocas[iDoca][0]\n",
    "                tDesc = caminhaoI.getTempoDescarregando(hora)\n",
    "                if tDesc == self.__NAO_HOUVE_DELIBERACAO:\n",
    "                    caminhaoI.comecaDescarregar(hora)\n",
    "                elif terminouDeDescarregar(caminhaoI,hora):\n",
    "                    caminhaoI.setHoraDeSaida(hora)\n",
    "                    self.__historicoDeCaminhoes.append(caminhaoI)\n",
    "                    self.__caminhoesDasDocas[iDoca].pop(0)\n",
    "\n",
    "    def getHistorico(self):\n",
    "        return self.__historicoDeCaminhoes\n",
    "                    \n",
    "    def getNumeroDocas(self):\n",
    "        return len(self.__caminhoesDasDocas)\n",
    "\n",
    "    def getDocaComMenosItems(self):\n",
    "        minNumero = float('inf')\n",
    "        iDocaMin = -1\n",
    "        for iDoca in self.__caminhoesDasDocas:\n",
    "            nItems = self.getNumeroDeItemsNaDoca(iDoca)\n",
    "            if nItems < minNumero:\n",
    "                iDocaMin = iDoca\n",
    "                minNumero = nItems\n",
    "        return iDocaMin\n",
    "\n",
    "    def getNumeroDeItemsNaDoca(self, iDoca):\n",
    "        self._checkDoca(iDoca)\n",
    "        itemsDoca = 0\n",
    "        for caminhao in self.__caminhoesDasDocas[iDoca]:\n",
    "            itemsDoca += caminhao.items\n",
    "        return itemsDoca\n",
    "\n",
    "    def getDocaComMenosCaminhoes(self):\n",
    "        minNumero = float('inf')\n",
    "        iDocaMin = -1\n",
    "        for iDoca in self.__caminhoesDasDocas:\n",
    "            nCaminhoes = self.getNumeroCaminhoesNaDoca(iDoca)\n",
    "            if nCaminhoes < minNumero:\n",
    "                iDocaMin = iDoca\n",
    "                minNumero = nCaminhoes\n",
    "        return iDocaMin\n",
    "                \n",
    "    def getNumeroCaminhoesNaDoca(self, iDoca):\n",
    "        self._checkDoca(iDoca)\n",
    "        return len(self.__caminhoesDasDocas[iDoca])\n",
    "    \n",
    "    def getTempoDescarregandoNaDoca(self, iDoca, hora):\n",
    "        self._checkDoca(iDoca)\n",
    "        if len(self.__caminhoesDasDocas[iDoca]) == 0:\n",
    "            return -1\n",
    "        else:\n",
    "            return self.__caminhoesDasDocas[iDoca][0].getTempoDescarregando(hora)\n",
    "\n",
    "        \n",
    "    def getNumeroItemsDeCadaCaminhao(self, iDoca):\n",
    "        itemsLista = []\n",
    "        if len(self.__caminhoesDasDocas[iDoca]) == 0:\n",
    "            return itemsLista\n",
    "        for caminhaoI in self.__caminhoesDasDocas[iDoca]:\n",
    "            itemsLista.append(caminhaoI.items)\n",
    "        return itemsLista\n",
    "        \n",
    "        \n",
    "    def _checkDoca(self, iDoca):\n",
    "        if iDoca not in self.__caminhoesDasDocas:\n",
    "            raise Exception('A doca ' + str(iDoca) + ' nao foi encontrada')\n",
    "        \n",
    "            "
   ]
  },
  {
   "cell_type": "code",
   "execution_count": 3,
   "metadata": {},
   "outputs": [],
   "source": [
    "def terminouDeDescarregar(caminhao, hora):\n",
    "    return caminhao.getTempoDescarregando(hora) > caminhao.items\n",
    " \n",
    "def calculateTempoTotalMedio(historico):\n",
    "    tempoTotalMedio = 0\n",
    "    for caminhaoI in historico:\n",
    "        tempoTotalMedio += caminhaoI.tempoTotalNaFila()\n",
    "    tempoTotalMedio /= len(historico)\n",
    "    return tempoTotalMedio    \n",
    "\n",
    "def verificaFinal(docas, hora):\n",
    "    if hora%20 == 0:\n",
    "        if VERBOSE:\n",
    "            print('Hora:  ', hora)\n",
    "            print('Doca   :  Numero de caminhoes', hora)\n",
    "        numeroCaminhoesAtivos = 0\n",
    "        for i in range(docas.getNumeroDocas()):\n",
    "            nCaminhoes = docas.getNumeroCaminhoesNaDoca(i)\n",
    "            numeroCaminhoesAtivos += nCaminhoes\n",
    "            if VERBOSE:\n",
    "                print(' ',i,'   :      ',nCaminhoes)\n",
    "        return numeroCaminhoesAtivos == 0 and hora > TEMPO_LIMITE\n",
    "    else:\n",
    "        return False\n",
    "    \n",
    "def adicionarCaminhao(hora, docas):\n",
    "    if hora%np.random.randint(2,10) == 0 and hora < TEMPO_LIMITE:\n",
    "        iDoca = calculeMelhorDoca(docas, hora)\n",
    "        #iDoca = docas.getDocaComMenosItems()\n",
    "        #iDoca = docas.getDocaComMenosCaminhoes()\n",
    "        #iDoca = np.random.choice(docas.getNumeroDocas())                   # politica de escolha\n",
    "        #items = ITEMS                                      \n",
    "        items = 5 * np.random.randint(2,20)\n",
    "        docas.addCaminhao(Caminhao(items, iDoca, hora))\n",
    "        \n",
    "def simuleUmDia():\n",
    "    docas = Docas()\n",
    "    for hora in range(10000):\n",
    "        adicionarCaminhao(hora, docas)\n",
    "        docas.updateDescarregamento(hora)\n",
    "        if verificaFinal(docas, hora):\n",
    "            break\n",
    "    tempoMedio = calculateTempoTotalMedio(docas.getHistorico())\n",
    "    return [tempoMedio, docas]\n",
    "    "
   ]
  },
  {
   "cell_type": "code",
   "execution_count": 4,
   "metadata": {},
   "outputs": [],
   "source": [
    "import numpy as np\n",
    "class PredicaoDoTempoNaDoca:\n",
    "    def __init__(self):\n",
    "        self.__TAXA_APRENDIZADO = 1e-4\n",
    "        self.__nParameters = 3\n",
    "        self.resetParameters()\n",
    "        pass\n",
    "    \n",
    "    def resetParameters(self):\n",
    "        self.__parameters = np.random.random(self.__nParameters)\n",
    "\n",
    "    def getParameters(self):\n",
    "        return self.__parameters\n",
    "        \n",
    "    def transformX(self, x):\n",
    "        return np.array([1,x[0],x[1]])\n",
    "        \n",
    "    def previsao(self, x):\n",
    "        x = self.transformX(x)\n",
    "        return self.__parameters.dot(x) # a + b*items no caminhao + c*numero doca\n",
    "    \n",
    "    def atualizandoParametros(self, x, valorReal):\n",
    "        prev = self.previsao(x)\n",
    "        gradiente = -self.__TAXA_APRENDIZADO * (prev-valorReal) * self.transformX(x)\n",
    "        self.__parameters += gradiente\n"
   ]
  },
  {
   "cell_type": "code",
   "execution_count": null,
   "metadata": {},
   "outputs": [],
   "source": []
  },
  {
   "cell_type": "code",
   "execution_count": null,
   "metadata": {},
   "outputs": [],
   "source": []
  },
  {
   "cell_type": "code",
   "execution_count": null,
   "metadata": {},
   "outputs": [],
   "source": []
  },
  {
   "cell_type": "code",
   "execution_count": null,
   "metadata": {},
   "outputs": [],
   "source": []
  },
  {
   "cell_type": "code",
   "execution_count": null,
   "metadata": {},
   "outputs": [],
   "source": []
  },
  {
   "cell_type": "code",
   "execution_count": null,
   "metadata": {},
   "outputs": [],
   "source": []
  },
  {
   "cell_type": "code",
   "execution_count": null,
   "metadata": {},
   "outputs": [],
   "source": []
  },
  {
   "cell_type": "code",
   "execution_count": 38,
   "metadata": {},
   "outputs": [
    {
     "name": "stdout",
     "output_type": "stream",
     "text": [
      "123.62684668318064\n"
     ]
    }
   ],
   "source": [
    "TEMPO_LIMITE = 80\n",
    "VERBOSE = False\n",
    "ITEMS = 15\n",
    "med = 0\n",
    "for i in range(1000):\n",
    "    tempoMedio, _ = simuleUmDia()\n",
    "    med += tempoMedio\n",
    "print(med/1000) #824 aleatorio, 719 - numero, 694 - items"
   ]
  },
  {
   "cell_type": "code",
   "execution_count": 4278,
   "metadata": {},
   "outputs": [],
   "source": [
    "modeloPrevisao = PredicaoDoTempoNaDoca()"
   ]
  },
  {
   "cell_type": "code",
   "execution_count": 4279,
   "metadata": {},
   "outputs": [
    {
     "data": {
      "text/plain": [
       "17.410582425934805"
      ]
     },
     "execution_count": 4279,
     "metadata": {},
     "output_type": "execute_result"
    }
   ],
   "source": [
    "modeloPrevisao.previsao([45,0])"
   ]
  },
  {
   "cell_type": "code",
   "execution_count": 4329,
   "metadata": {},
   "outputs": [
    {
     "name": "stdout",
     "output_type": "stream",
     "text": [
      "Grad:  [4.95692028e-08 2.23061412e-06 0.00000000e+00]\n",
      "[0.62450018 1.09722455 0.28148128]\n"
     ]
    },
    {
     "data": {
      "text/plain": [
       "49.99960473517724"
      ]
     },
     "execution_count": 4329,
     "metadata": {},
     "output_type": "execute_result"
    }
   ],
   "source": [
    "modeloPrevisao.atualizandoParametros([45,0],50)\n",
    "modeloPrevisao.previsao([45,0])"
   ]
  },
  {
   "cell_type": "code",
   "execution_count": 4331,
   "metadata": {},
   "outputs": [
    {
     "data": {
      "text/plain": [
       "array([0.62450018, 1.09722455, 0.28148128])"
      ]
     },
     "execution_count": 4331,
     "metadata": {},
     "output_type": "execute_result"
    }
   ],
   "source": [
    "modeloPrevisao.getParameters()"
   ]
  },
  {
   "cell_type": "code",
   "execution_count": null,
   "metadata": {},
   "outputs": [],
   "source": []
  },
  {
   "cell_type": "code",
   "execution_count": null,
   "metadata": {},
   "outputs": [],
   "source": []
  },
  {
   "cell_type": "code",
   "execution_count": null,
   "metadata": {},
   "outputs": [],
   "source": []
  },
  {
   "cell_type": "code",
   "execution_count": null,
   "metadata": {},
   "outputs": [],
   "source": []
  },
  {
   "cell_type": "code",
   "execution_count": null,
   "metadata": {},
   "outputs": [],
   "source": []
  },
  {
   "cell_type": "code",
   "execution_count": 8,
   "metadata": {},
   "outputs": [],
   "source": [
    "EPSILON = 0.4\n",
    "modeloPrevisao = PredicaoDoTempoNaDoca()\n",
    "def calculeMelhorDoca(docas, hora):\n",
    "    dice = np.random.random()\n",
    "    nDocas = docas.getNumeroDocas()\n",
    "    if dice < EPSILON:\n",
    "        return np.random.choice(nDocas)\n",
    "\n",
    "    menorTempo = float('inf')\n",
    "    iDocaMenor = -1\n",
    "    for i in range(nDocas):\n",
    "        itemsList = docas.getNumeroItemsDeCadaCaminhao(i)\n",
    "        tempoPrevisto = 0\n",
    "        for items in itemsList:\n",
    "            tempoPrevisto += modeloPrevisao.previsao([items,i])\n",
    "        tempoPrevisto -= docas.getTempoDescarregandoNaDoca(i, hora)\n",
    "        if tempoPrevisto < menorTempo:\n",
    "            menorTempo = tempoPrevisto \n",
    "            iDocaMenor = i\n",
    "    return iDocaMenor\n",
    "\n",
    "def updateModel(historico):\n",
    "    erroMedio = 0\n",
    "    for caminhaoI in historico:\n",
    "        x = [caminhaoI.items,caminhaoI.getDoca()]\n",
    "        valorReal = caminhaoI.tempoTotalDescarregando()\n",
    "        modeloPrevisao.atualizandoParametros(x,valorReal)\n",
    "        erroMedio += abs(valorReal - modeloPrevisao.previsao(x))\n",
    "        if VERBOSE:\n",
    "            print(valorReal, x, 'erro:  ', \n",
    "                  abs(valorReal - modeloPrevisao.previsao(x)))\n",
    "    return erroMedio/len(historico)\n"
   ]
  },
  {
   "cell_type": "code",
   "execution_count": 35,
   "metadata": {
    "scrolled": true
   },
   "outputs": [
    {
     "name": "stdout",
     "output_type": "stream",
     "text": [
      "erro medio:  0.09843532826890598\n",
      "erro medio:  0.0997784070763231\n",
      "erro medio:  0.06750113131693627\n",
      "erro medio:  0.0693232551360019\n",
      "erro medio:  0.1047348713199506\n",
      "erro medio:  0.08392131460014837\n",
      "erro medio:  0.08521131765708609\n",
      "erro medio:  0.08334867807999231\n",
      "erro medio:  0.06750426226983665\n",
      "erro medio:  0.10881892774800539\n",
      "erro medio:  0.10509844285951764\n",
      "erro medio:  0.11727739196235157\n",
      "erro medio:  0.1271534946285024\n",
      "erro medio:  0.11276406379079298\n",
      "erro medio:  0.08435853687148845\n",
      "erro medio:  0.06819283060778461\n",
      "erro medio:  0.0638255941810393\n",
      "erro medio:  0.10215437352783645\n",
      "erro medio:  0.07179010248390925\n",
      "erro medio:  0.11209276436880114\n",
      "erro medio:  0.10523689003808366\n",
      "erro medio:  0.08353655361388039\n",
      "erro medio:  0.09147311626715282\n",
      "erro medio:  0.08693265102053764\n",
      "erro medio:  0.07557940178982206\n",
      "erro medio:  0.1137997108446937\n",
      "erro medio:  0.0900207232863881\n",
      "erro medio:  0.1274450728793082\n",
      "erro medio:  0.10888649254681065\n",
      "erro medio:  0.08486447438832319\n",
      "erro medio:  0.0939283826394027\n",
      "erro medio:  0.08956420918686527\n",
      "erro medio:  0.11603351179910103\n",
      "erro medio:  0.11028031443528907\n",
      "erro medio:  0.09726073075821225\n",
      "erro medio:  0.10139403937999253\n",
      "erro medio:  0.06910977826249483\n",
      "erro medio:  0.13056801092821332\n",
      "erro medio:  0.06536528672435574\n",
      "erro medio:  0.07133169153220202\n",
      "erro medio:  0.08584233659788812\n",
      "erro medio:  0.0841073495056669\n",
      "erro medio:  0.10722849820201874\n",
      "erro medio:  0.12462435352905957\n",
      "erro medio:  0.07760516808589285\n",
      "erro medio:  0.07368067269048972\n",
      "erro medio:  0.08789960679848093\n",
      "erro medio:  0.104067673227711\n",
      "erro medio:  0.07043628039509553\n",
      "erro medio:  0.10180402998845581\n",
      "erro medio:  0.09302079008238641\n",
      "erro medio:  0.10180243998380667\n",
      "erro medio:  0.08049682446848727\n",
      "erro medio:  0.0784345518054741\n",
      "erro medio:  0.06775834701358201\n",
      "erro medio:  0.09418119102689841\n",
      "erro medio:  0.10327011527519625\n",
      "erro medio:  0.08834475074938908\n",
      "erro medio:  0.08031745955237624\n",
      "erro medio:  0.08508802589167952\n",
      "erro medio:  0.10900681450316685\n",
      "erro medio:  0.06648115193323682\n",
      "erro medio:  0.11846697391683353\n",
      "erro medio:  0.09604002918880869\n",
      "erro medio:  0.08694385784160961\n",
      "erro medio:  0.08371208961802153\n",
      "erro medio:  0.08536228580012208\n",
      "erro medio:  0.09117584349975338\n",
      "erro medio:  0.08926144432428479\n",
      "erro medio:  0.06254864470031621\n",
      "erro medio:  0.07544125882290716\n",
      "erro medio:  0.08926684361752517\n",
      "erro medio:  0.10230790039649229\n",
      "erro medio:  0.09120844720783779\n",
      "erro medio:  0.0877717246926614\n",
      "erro medio:  0.09341272484141942\n",
      "erro medio:  0.10074318186104507\n",
      "erro medio:  0.09322917830077819\n",
      "erro medio:  0.09764097829662867\n",
      "erro medio:  0.08713397995046562\n",
      "erro medio:  0.09864937222005674\n",
      "erro medio:  0.07482995065338882\n",
      "erro medio:  0.08173670853862003\n",
      "erro medio:  0.06035665557651657\n",
      "erro medio:  0.09716276399922814\n",
      "erro medio:  0.11075186485960267\n",
      "erro medio:  0.04771941474367018\n",
      "erro medio:  0.0597556153252153\n",
      "erro medio:  0.04725163340139105\n",
      "erro medio:  0.06468673861267149\n",
      "erro medio:  0.112761616264112\n",
      "erro medio:  0.1317956588769992\n",
      "erro medio:  0.09709448724690502\n",
      "erro medio:  0.0750966470668451\n",
      "erro medio:  0.08104088555936574\n",
      "erro medio:  0.08071627808118409\n",
      "erro medio:  0.0898875384377007\n",
      "erro medio:  0.08739640172941626\n",
      "erro medio:  0.11354455094073697\n",
      "erro medio:  0.12308047963906675\n"
     ]
    }
   ],
   "source": [
    "VERBOSE = False\n",
    "\n",
    "for i in range(100):\n",
    "    tempoMedio, docas = simuleUmDia()\n",
    "    historico = docas.getHistorico()\n",
    "    #updateModel(historico)\n",
    "    print('erro medio: ', updateModel(historico))"
   ]
  },
  {
   "cell_type": "code",
   "execution_count": 37,
   "metadata": {},
   "outputs": [
    {
     "data": {
      "text/plain": [
       "42.82914701876894"
      ]
     },
     "execution_count": 37,
     "metadata": {},
     "output_type": "execute_result"
    }
   ],
   "source": [
    "modeloPrevisao.previsao([42,1])"
   ]
  },
  {
   "cell_type": "code",
   "execution_count": 4493,
   "metadata": {},
   "outputs": [
    {
     "data": {
      "text/plain": [
       "0.47452938164644565"
      ]
     },
     "execution_count": 4493,
     "metadata": {},
     "output_type": "execute_result"
    }
   ],
   "source": []
  },
  {
   "cell_type": "code",
   "execution_count": 596,
   "metadata": {},
   "outputs": [
    {
     "data": {
      "text/plain": [
       "<__main__.Caminhao at 0x1f59e2972e8>"
      ]
     },
     "execution_count": 596,
     "metadata": {},
     "output_type": "execute_result"
    }
   ],
   "source": [
    "caminhaoI"
   ]
  },
  {
   "cell_type": "code",
   "execution_count": null,
   "metadata": {},
   "outputs": [],
   "source": []
  },
  {
   "cell_type": "code",
   "execution_count": null,
   "metadata": {},
   "outputs": [],
   "source": []
  },
  {
   "cell_type": "code",
   "execution_count": null,
   "metadata": {},
   "outputs": [],
   "source": []
  },
  {
   "cell_type": "code",
   "execution_count": null,
   "metadata": {},
   "outputs": [],
   "source": []
  },
  {
   "cell_type": "code",
   "execution_count": null,
   "metadata": {},
   "outputs": [],
   "source": []
  }
 ],
 "metadata": {
  "kernelspec": {
   "display_name": "Python 3",
   "language": "python",
   "name": "python3"
  },
  "language_info": {
   "codemirror_mode": {
    "name": "ipython",
    "version": 3
   },
   "file_extension": ".py",
   "mimetype": "text/x-python",
   "name": "python",
   "nbconvert_exporter": "python",
   "pygments_lexer": "ipython3",
   "version": "3.6.7"
  }
 },
 "nbformat": 4,
 "nbformat_minor": 2
}
