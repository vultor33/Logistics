{
 "cells": [
  {
   "cell_type": "markdown",
   "metadata": {},
   "source": [
    "# Notebook dedicado a construcao da tabela a ser analisada"
   ]
  },
  {
   "cell_type": "code",
   "execution_count": 1,
   "metadata": {},
   "outputs": [],
   "source": [
    "import json\n",
    "import pandas\n",
    "import collections\n",
    "from core.MachineLearningOptions import MachineLearningOptions\n",
    "from core.FeatureTransform import FeatureTransform\n",
    "from core.DataExploration import DataExploration\n",
    "from core.util import cleanDataColumns\n",
    "from core.util import renameColumn\n",
    "from hagana.ContatenateTables import ContatenateTables\n",
    "from hagana.CalculateKpis import CalculateKpis"
   ]
  },
  {
   "cell_type": "code",
   "execution_count": 2,
   "metadata": {},
   "outputs": [],
   "source": [
    "# se a pessoa ligou reclamando, se nao ligou\n",
    "# se foram resolver\n",
    "# se expandiram o posto de trabalho ou nao\n",
    "# ficou mais caro ou nao"
   ]
  },
  {
   "cell_type": "markdown",
   "metadata": {},
   "source": [
    "# PREPARACAO"
   ]
  },
  {
   "cell_type": "code",
   "execution_count": 3,
   "metadata": {},
   "outputs": [],
   "source": [
    "from hagana.ContatenateTables import ContatenateTables\n",
    "import pandas\n",
    "fileInsp = 'hagana-inspecoes.xls'\n",
    "fileRecis = 'hagana-recisoes.csv'\n",
    "conT = ContatenateTables(fileInsp, fileRecis)\n",
    "conT.generateRecisaoColStatus()\n",
    "conT.dataInspecoes = conT.takeOnlyNumberFromGrade(conT.dataInspecoes)\n",
    "conT.dataInspecoes = conT.transformTimeUnit(conT.dataInspecoes)\n",
    "pandas.DataFrame(data=conT.getCodigosRecisoesNotFound()).to_csv('nao-encontrei-na-inspecao.csv',sep=';')\n",
    "conT.dataInspecoes.to_csv('haganaTable.csv',sep=';')"
   ]
  },
  {
   "cell_type": "code",
   "execution_count": 4,
   "metadata": {},
   "outputs": [],
   "source": [
    "#LOAD TABLE\n",
    "data = pandas.read_csv('haganaTable.csv',delimiter=';',encoding='latin-1',dtype=str)"
   ]
  },
  {
   "cell_type": "code",
   "execution_count": null,
   "metadata": {},
   "outputs": [],
   "source": [
    "targetColumn = list(data.columns).index('recisaoCol')\n",
    "allOptions = {}\n",
    "featT = FeatureTransform()"
   ]
  },
  {
   "cell_type": "markdown",
   "metadata": {},
   "source": [
    "# TRANSFORMACOES DAS COLUNAS PARA O MODELO"
   ]
  },
  {
   "cell_type": "code",
   "execution_count": null,
   "metadata": {},
   "outputs": [],
   "source": [
    "colName = 'indicaria'\n",
    "allOptions[colName] = {\n",
    "    'type': 'cat',\n",
    "    'transforms': {\n",
    "        'convertCategories':{\n",
    "            'Sim':'S',\n",
    "            'NÃ£o':'N'\n",
    "        },\n",
    "        'oneHotColumns': ['S', 'N'],\n",
    "        'fillna':'NULO'\n",
    "    }\n",
    "}\n",
    "featT.transform(data, colName,allOptions)\n",
    "\n",
    "de = DataExploration(data)\n",
    "indexI = list(data.columns).index(colName)\n",
    "de._categoryPercentage(indexI,targetColumn)"
   ]
  },
  {
   "cell_type": "code",
   "execution_count": null,
   "metadata": {},
   "outputs": [],
   "source": [
    "colName = 'sugestao'\n",
    "allOptions[colName] = {\n",
    "    'type': 'cat',\n",
    "    'transforms': {\n",
    "        'convertCategories':{\n",
    "            'Sim':'S',\n",
    "            'NÃ£o':'N'\n",
    "        },\n",
    "        'oneHotColumns': ['S', 'N'],\n",
    "        'fillna':'NULO'\n",
    "    }\n",
    "}\n",
    "featT.transform(data, colName,allOptions)\n",
    "\n",
    "de = DataExploration(data)\n",
    "indexI = list(data.columns).index(colName)\n",
    "de._categoryPercentage(indexI,targetColumn)"
   ]
  },
  {
   "cell_type": "code",
   "execution_count": null,
   "metadata": {},
   "outputs": [],
   "source": [
    "colName = 'area'\n",
    "allOptions[colName] = {\n",
    "    'type': 'cat',\n",
    "    'transforms': {\n",
    "        'convertCategories':{\n",
    "            'False':'NULO',\n",
    "            'DELTA 1':'DELTA',\n",
    "            'DELTA 2':'DELTA',\n",
    "            'DELTA 3':'DELTA',\n",
    "            'ARCO 1':'ARCO',\n",
    "            'ARCO 2':'ARCO',\n",
    "            'Â¡GUIA 1':'AGUIA',\n",
    "            'Â¡GUIA 2':'AGUIA',\n",
    "            'RMS':'OUTROS',\n",
    "            'RMSJ':'OUTROS',\n",
    "            'RMC':'OUTROS',\n",
    "            'EXTREMO OESTE':'OUTROS',\n",
    "            'FLECHA':'OUTROS'\n",
    "        },\n",
    "        'oneHotColumns': ['PELICANO','DELTA', 'ARCO','AGUIA','OUTROS'],\n",
    "        'fillna':'NULO'\n",
    "    }\n",
    "}\n",
    "featT.transform(data, colName,allOptions)\n",
    "\n",
    "de = DataExploration(data)\n",
    "indexI = list(data.columns).index(colName)\n",
    "de._categoryPercentage(indexI,targetColumn)"
   ]
  },
  {
   "cell_type": "code",
   "execution_count": null,
   "metadata": {},
   "outputs": [],
   "source": [
    "colName = 'area'\n",
    "allOptions[colName] = {\n",
    "    'type': 'cat',\n",
    "    'transforms': {\n",
    "        'convertCategories':{\n",
    "            'False':'NULO',\n",
    "            'DELTA 1':'DELTA',\n",
    "            'DELTA 2':'DELTA',\n",
    "            'DELTA 3':'DELTA',\n",
    "            'ARCO 1':'ARCO',\n",
    "            'ARCO 2':'ARCO',\n",
    "            'Â¡GUIA 1':'AGUIA',\n",
    "            'Â¡GUIA 2':'AGUIA',\n",
    "            'RMS':'OUTROS',\n",
    "            'RMSJ':'OUTROS',\n",
    "            'RMC':'OUTROS',\n",
    "            'EXTREMO OESTE':'OUTROS',\n",
    "            'FLECHA':'OUTROS'\n",
    "        },\n",
    "        'oneHotColumns': ['PELICANO','DELTA', 'ARCO','AGUIA','OUTROS'],\n",
    "        'fillna':'NULO'\n",
    "    }\n",
    "}\n",
    "featT.transform(data, colName,allOptions)\n",
    "\n",
    "de = DataExploration(data)\n",
    "indexI = list(data.columns).index(colName)\n",
    "de._categoryPercentage(indexI,targetColumn)"
   ]
  },
  {
   "cell_type": "code",
   "execution_count": null,
   "metadata": {},
   "outputs": [],
   "source": [
    "colName = 'falta'\n",
    "allOptions[colName] = {\n",
    "    'type': 'cat',\n",
    "    'transforms': {\n",
    "        'convertCategories':{\n",
    "            'PerÃ\\x8codo Noturno':'RECLAMOU',\n",
    "            'PerÃ\\x8codo Diurno':'RECLAMOU',\n",
    "            'Ambos os PerÃ\\x8codo':'RECLAMOU',\n",
    "        },\n",
    "        'oneHotColumns': ['RECLAMOU'],\n",
    "        'fillna':'NULO'\n",
    "    }\n",
    "}\n",
    "featT.transform(data, colName,allOptions)\n",
    "\n",
    "de = DataExploration(data)\n",
    "indexI = list(data.columns).index(colName)\n",
    "de._categoryPercentage(indexI,targetColumn)"
   ]
  },
  {
   "cell_type": "code",
   "execution_count": null,
   "metadata": {},
   "outputs": [],
   "source": [
    "colName = 'cargo'\n",
    "allOptions[colName] = {\n",
    "    'type': 'cat',\n",
    "    'transforms': {\n",
    "        'convertCategories':{\n",
    "            'Gerente Predial':'Sindico',\n",
    "            'Sindico Profissional':'Sindico',\n",
    "            'SÃ\\xadndico ':'Sindico',\n",
    "            'Administrador':'Sindico',\n",
    "            'Zelador':'Zelador',\n",
    "            'Gerente Administrativo':'Gerente',\n",
    "            'Gerente de SeguranÃ§a':'Gerente',\n",
    "            'Diretor de SeguranÃ§a':'Gerente',\n",
    "        },\n",
    "        'oneHotColumns': ['Sindico','Gerente','Zelador'],\n",
    "        'fillna':'NULO'\n",
    "    }\n",
    "}\n",
    "featT.transform(data, colName,allOptions)\n",
    "\n",
    "de = DataExploration(data)\n",
    "indexI = list(data.columns).index(colName)\n",
    "de._categoryPercentage(indexI,targetColumn)"
   ]
  },
  {
   "cell_type": "code",
   "execution_count": null,
   "metadata": {},
   "outputs": [],
   "source": [
    "with open('Hagana-01.json', 'w') as outfile:\n",
    "    json.dump(allOptions, outfile)"
   ]
  },
  {
   "cell_type": "code",
   "execution_count": 5,
   "metadata": {},
   "outputs": [],
   "source": [
    "# CARREGANDO DOS DADOS PARA O MODELO\n",
    "data = pandas.read_csv('haganaTable.csv',delimiter=';',encoding='latin-1',dtype=str)\n",
    "with open('Hagana-01.json') as f:\n",
    "    allOptions = json.load(f)\n",
    "featT = FeatureTransform()\n",
    "for colName in allOptions:\n",
    "    featT.transform(data, colName,allOptions) # dropa as colunas transformadas com One Hot Encoder\n",
    "columnNames = featT.getAllColumnsNames(allOptions)\n",
    "columnNames += ['supervisao','grupo', 'diurna', 'noturna', 'equipamentos']\n",
    "columnNames += ['data']"
   ]
  },
  {
   "cell_type": "code",
   "execution_count": null,
   "metadata": {},
   "outputs": [],
   "source": []
  },
  {
   "cell_type": "code",
   "execution_count": null,
   "metadata": {},
   "outputs": [],
   "source": []
  },
  {
   "cell_type": "code",
   "execution_count": null,
   "metadata": {},
   "outputs": [],
   "source": []
  },
  {
   "cell_type": "code",
   "execution_count": null,
   "metadata": {},
   "outputs": [],
   "source": []
  },
  {
   "cell_type": "code",
   "execution_count": null,
   "metadata": {},
   "outputs": [],
   "source": []
  },
  {
   "cell_type": "code",
   "execution_count": null,
   "metadata": {},
   "outputs": [],
   "source": []
  },
  {
   "cell_type": "markdown",
   "metadata": {},
   "source": [
    "# GERACAO DAS KPIS"
   ]
  },
  {
   "cell_type": "code",
   "execution_count": 6,
   "metadata": {},
   "outputs": [],
   "source": [
    "calculateKpis = CalculateKpis(data)"
   ]
  },
  {
   "cell_type": "code",
   "execution_count": 7,
   "metadata": {},
   "outputs": [],
   "source": [
    "recisaoCodes = conT.getCodigosRecisao()\n",
    "meanOfStatsRecisao = calculateKpis.kpiOfCodes(recisaoCodes)"
   ]
  },
  {
   "cell_type": "code",
   "execution_count": 8,
   "metadata": {},
   "outputs": [],
   "source": [
    "allCodes = list(collections.Counter(data.loc[:,'codigo']).keys())\n",
    "semRecisao = []\n",
    "for code in allCodes:\n",
    "    if code not in recisaoCodes:\n",
    "        semRecisao.append(code)\n",
    "meanOfStatsSemRecis = calculateKpis.kpiOfCodes(semRecisao)"
   ]
  },
  {
   "cell_type": "code",
   "execution_count": null,
   "metadata": {},
   "outputs": [],
   "source": [
    "calculateKpis.plotAllGraphics(meanOfStatsRecisao,meanOfStatsSemRecis)"
   ]
  },
  {
   "cell_type": "code",
   "execution_count": null,
   "metadata": {},
   "outputs": [],
   "source": []
  },
  {
   "cell_type": "code",
   "execution_count": null,
   "metadata": {},
   "outputs": [],
   "source": []
  },
  {
   "cell_type": "code",
   "execution_count": null,
   "metadata": {},
   "outputs": [],
   "source": []
  },
  {
   "cell_type": "code",
   "execution_count": null,
   "metadata": {},
   "outputs": [],
   "source": []
  },
  {
   "cell_type": "code",
   "execution_count": null,
   "metadata": {},
   "outputs": [],
   "source": []
  },
  {
   "cell_type": "code",
   "execution_count": null,
   "metadata": {},
   "outputs": [],
   "source": []
  },
  {
   "cell_type": "code",
   "execution_count": null,
   "metadata": {},
   "outputs": [],
   "source": [
    "# dicionario = [cara e as possiveis caracteristicas]"
   ]
  },
  {
   "cell_type": "code",
   "execution_count": null,
   "metadata": {},
   "outputs": [],
   "source": [
    "#"
   ]
  },
  {
   "cell_type": "code",
   "execution_count": null,
   "metadata": {},
   "outputs": [],
   "source": [
    "update(pessoa & coisa)"
   ]
  },
  {
   "cell_type": "code",
   "execution_count": null,
   "metadata": {},
   "outputs": [],
   "source": []
  },
  {
   "cell_type": "code",
   "execution_count": null,
   "metadata": {},
   "outputs": [],
   "source": []
  },
  {
   "cell_type": "code",
   "execution_count": null,
   "metadata": {},
   "outputs": [],
   "source": []
  },
  {
   "cell_type": "code",
   "execution_count": null,
   "metadata": {},
   "outputs": [],
   "source": []
  },
  {
   "cell_type": "code",
   "execution_count": null,
   "metadata": {},
   "outputs": [],
   "source": []
  },
  {
   "cell_type": "code",
   "execution_count": null,
   "metadata": {},
   "outputs": [],
   "source": []
  },
  {
   "cell_type": "code",
   "execution_count": null,
   "metadata": {},
   "outputs": [],
   "source": []
  }
 ],
 "metadata": {
  "kernelspec": {
   "display_name": "Python 3",
   "language": "python",
   "name": "python3"
  },
  "language_info": {
   "codemirror_mode": {
    "name": "ipython",
    "version": 3
   },
   "file_extension": ".py",
   "mimetype": "text/x-python",
   "name": "python",
   "nbconvert_exporter": "python",
   "pygments_lexer": "ipython3",
   "version": "3.6.7"
  }
 },
 "nbformat": 4,
 "nbformat_minor": 2
}
