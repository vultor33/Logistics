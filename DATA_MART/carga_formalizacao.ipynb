{
 "cells": [
  {
   "cell_type": "code",
   "execution_count": 1,
   "metadata": {},
   "outputs": [],
   "source": [
    "import pandas as pd\n",
    "import dwsemear\n",
    "\n",
    "import postgresemear as sql  # mover os arquivos para a pasta principal\n",
    "\n",
    "dwsemear.atualize_metadados()"
   ]
  },
  {
   "cell_type": "markdown",
   "metadata": {},
   "source": [
    "# EXTRACAO E TRANSFORMACAO"
   ]
  },
  {
   "cell_type": "code",
   "execution_count": 11,
   "metadata": {},
   "outputs": [],
   "source": [
    "#dados = pd.read_csv('BaseClientes-FEV2019.csv',sep=';', encoding='latin-1',dtype=str)\n",
    "dados = pd.read_csv('BaseClientes-SET2019.csv',sep=';', encoding='latin-1',dtype=str)"
   ]
  },
  {
   "cell_type": "code",
   "execution_count": 12,
   "metadata": {},
   "outputs": [],
   "source": [
    "dados = dados[dados.con_sta != 'C']\n",
    "dados = dados.reset_index(drop=True)\n",
    "dados = dwsemear.limpa_nome_das_colunas(dados)"
   ]
  },
  {
   "cell_type": "code",
   "execution_count": null,
   "metadata": {},
   "outputs": [],
   "source": []
  },
  {
   "cell_type": "code",
   "execution_count": 13,
   "metadata": {},
   "outputs": [
    {
     "data": {
      "text/plain": [
       "['codigo_contrato', 'codigo_produto', 'codigo_proposta']"
      ]
     },
     "execution_count": 13,
     "metadata": {},
     "output_type": "execute_result"
    }
   ],
   "source": [
    "dwsemear.pegue_colunas('formalizacao')"
   ]
  },
  {
   "cell_type": "code",
   "execution_count": 14,
   "metadata": {},
   "outputs": [],
   "source": [
    "formalizacao = dwsemear.pegue_tabela('formalizacao') "
   ]
  },
  {
   "cell_type": "code",
   "execution_count": 15,
   "metadata": {},
   "outputs": [],
   "source": [
    "# Verifique se os contratos ja foram adicionados\n",
    "if len(formalizacao) != 0:\n",
    "    formalizacao_contratos = set(formalizacao.codigo_contrato)\n",
    "    dados.loc[:,'Con Contrato'] = dados.loc[:,'Con Contrato'].astype(int)\n",
    "    novos_contratos = set(dados.loc[:,'Con Contrato'])\n",
    "    contrato_aparece_nos_dois = list(formalizacao_contratos.intersection(novos_contratos))\n",
    "    # Descarte contratos que ja foram carregados\n",
    "    dados.index = dados.loc[:,'Con Contrato']\n",
    "    dados = dados.drop(contrato_aparece_nos_dois)\n",
    "    dados = dados.reset_index(drop=True)"
   ]
  },
  {
   "cell_type": "code",
   "execution_count": null,
   "metadata": {},
   "outputs": [],
   "source": []
  },
  {
   "cell_type": "code",
   "execution_count": null,
   "metadata": {},
   "outputs": [],
   "source": []
  },
  {
   "cell_type": "code",
   "execution_count": null,
   "metadata": {},
   "outputs": [],
   "source": []
  },
  {
   "cell_type": "markdown",
   "metadata": {},
   "source": [
    "# CARGA"
   ]
  },
  {
   "cell_type": "code",
   "execution_count": 18,
   "metadata": {},
   "outputs": [],
   "source": [
    "registros = []\n",
    "for i in dados.index:\n",
    "    registros.append((dwsemear.para_int(dados.loc[i,'Con Contrato']),\n",
    "                      dwsemear.para_int(dados.loc[i,'Produto']),\n",
    "                      dwsemear.para_int(dados.loc[i,'Pedido Jretail'])))\n",
    "\n",
    "    "
   ]
  },
  {
   "cell_type": "code",
   "execution_count": 19,
   "metadata": {},
   "outputs": [
    {
     "data": {
      "text/plain": [
       "(54791460, 3101, 6324203)"
      ]
     },
     "execution_count": 19,
     "metadata": {},
     "output_type": "execute_result"
    }
   ],
   "source": [
    "registros[0]"
   ]
  },
  {
   "cell_type": "code",
   "execution_count": null,
   "metadata": {},
   "outputs": [],
   "source": []
  },
  {
   "cell_type": "code",
   "execution_count": null,
   "metadata": {},
   "outputs": [],
   "source": []
  },
  {
   "cell_type": "code",
   "execution_count": 20,
   "metadata": {},
   "outputs": [],
   "source": [
    "dwsemear.insira_tabela('formalizacao', registros)"
   ]
  },
  {
   "cell_type": "code",
   "execution_count": null,
   "metadata": {},
   "outputs": [],
   "source": []
  },
  {
   "cell_type": "code",
   "execution_count": null,
   "metadata": {},
   "outputs": [],
   "source": []
  },
  {
   "cell_type": "code",
   "execution_count": 5,
   "metadata": {},
   "outputs": [],
   "source": [
    "# Resete a tabela\n",
    "#dwsemear.delete_tabela('formalizacao')\n",
    "#dwsemear.crie_tabela('formalizacao')"
   ]
  },
  {
   "cell_type": "code",
   "execution_count": null,
   "metadata": {},
   "outputs": [],
   "source": []
  },
  {
   "cell_type": "code",
   "execution_count": null,
   "metadata": {},
   "outputs": [],
   "source": []
  }
 ],
 "metadata": {
  "kernelspec": {
   "display_name": "Python 3",
   "language": "python",
   "name": "python3"
  },
  "language_info": {
   "codemirror_mode": {
    "name": "ipython",
    "version": 3
   },
   "file_extension": ".py",
   "mimetype": "text/x-python",
   "name": "python",
   "nbconvert_exporter": "python",
   "pygments_lexer": "ipython3",
   "version": "3.7.3"
  }
 },
 "nbformat": 4,
 "nbformat_minor": 2
}
