{
 "cells": [
  {
   "cell_type": "code",
   "execution_count": 1,
   "metadata": {},
   "outputs": [],
   "source": [
    "import pandas as pd\n",
    "import dwsemear\n",
    "import datetime\n",
    "import collections\n",
    "\n",
    "import postgresemear as sql  # mover os arquivos para a pasta principal"
   ]
  },
  {
   "cell_type": "code",
   "execution_count": 2,
   "metadata": {},
   "outputs": [],
   "source": [
    "dados = pd.read_csv('liquidacoes_012019_062019.csv', sep=',', encoding='latin-1', dtype=str)"
   ]
  },
  {
   "cell_type": "code",
   "execution_count": 3,
   "metadata": {},
   "outputs": [],
   "source": [
    "dados = dwsemear.limpa_nome_das_colunas(dados)\n",
    "dados = dwsemear.coluna_cpf_para_inteiro(dados, 'CPF CNPJ')\n",
    "dados.loc[:,'Dias'] = dados.loc[:,'Dias'].astype(int)\n",
    "dados.loc[:,'Parcela'] = dados.loc[:,'Parcela'].astype(int)\n",
    "dados['Vencimento'] = pd.to_datetime(dados['Vencimento'], format='%d/%m/%Y')\n",
    "dados['Liquida o'] = pd.to_datetime(dados['Liquida o'], format='%d/%m/%Y')\n",
    "dados.loc[:,'Recebido'] = dados.loc[:,'Recebido'].apply(dwsemear.converte_latin_para_float)\n",
    "dados = dwsemear.liquidacoes_csv.separa_codigo_do_contrato(dados)\n",
    "codigo_descricao = dwsemear.liquidacoes_csv.separa_forma_liquidacao(dados)\n",
    "codigo_da_forma_de_liquidacao, descricao_da_forma_de_liquidacao = codigo_descricao\n",
    "dados = dwsemear.liquidacoes_csv.separa_codigo_produto(dados)"
   ]
  },
  {
   "cell_type": "code",
   "execution_count": 3,
   "metadata": {},
   "outputs": [],
   "source": []
  },
  {
   "cell_type": "code",
   "execution_count": null,
   "metadata": {},
   "outputs": [],
   "source": []
  },
  {
   "cell_type": "code",
   "execution_count": 3,
   "metadata": {},
   "outputs": [],
   "source": []
  },
  {
   "cell_type": "code",
   "execution_count": 9,
   "metadata": {},
   "outputs": [],
   "source": [
    "liquidacoes_registros = []\n",
    "id_liquidacao = -1\n",
    "for i in dados.index:\n",
    "    id_liquidacao += 1\n",
    "    Data_de_liquidacao = dados.loc[i, 'Liquida o']\n",
    "    Data_de_vencimento_da_parcela_liquidada = dados.loc[i, 'Vencimento']\n",
    "    Numero_do_contrato = int(dados.loc[i,'codigos_contratos'])\n",
    "    Codigo_renegociacao_contrato = int(dados.loc[i,'codigos_renegociacoes'])\n",
    "    Parcela = int(dados.loc[i, 'Parcela'])\n",
    "    Codigo_do_produto = int(dados.loc[i, 'produtos_codigos'])\n",
    "    Numero_do_CPF = int(dados.loc[i,'CPF CNPJ'])\n",
    "    Dias_em_atraso_na_hora_da_liquidacao = int(dados.loc[i,'Dias'])\n",
    "    Valor_recebido_na_liquidacao = float(dados.loc[i,'Recebido'])\n",
    "    Codigo_forma = codigo_da_forma_de_liquidacao[i]\n",
    "    Descricao_forma = descricao_da_forma_de_liquidacao[i]\n",
    "    Estornado = dados.loc[i,'Estornado']\n",
    "    Situacao_da_liquidacao = dados.loc[i,'Situa o']\n",
    "    liquidacoes_registros.append((\n",
    "        id_liquidacao,\n",
    "        Data_de_liquidacao,\n",
    "        Data_de_vencimento_da_parcela_liquidada,\n",
    "        Numero_do_CPF,\n",
    "        Numero_do_contrato,\n",
    "        Codigo_renegociacao_contrato,\n",
    "        Codigo_do_produto,\n",
    "        Parcela,\n",
    "        Dias_em_atraso_na_hora_da_liquidacao,\n",
    "        Valor_recebido_na_liquidacao,\n",
    "        Codigo_forma,\n",
    "        Situacao_da_liquidacao,\n",
    "        Descricao_forma,\n",
    "        Estornado))\n",
    "    "
   ]
  },
  {
   "cell_type": "code",
   "execution_count": null,
   "metadata": {},
   "outputs": [],
   "source": []
  },
  {
   "cell_type": "code",
   "execution_count": null,
   "metadata": {},
   "outputs": [],
   "source": []
  },
  {
   "cell_type": "code",
   "execution_count": null,
   "metadata": {},
   "outputs": [],
   "source": []
  },
  {
   "cell_type": "markdown",
   "metadata": {},
   "source": [
    "# Carga no SQL"
   ]
  },
  {
   "cell_type": "code",
   "execution_count": 11,
   "metadata": {},
   "outputs": [],
   "source": [
    "delete_tabela = '''DROP TABLE liquidacoes'''\n",
    "sql.execute_query(delete_tabela)"
   ]
  },
  {
   "cell_type": "code",
   "execution_count": 12,
   "metadata": {},
   "outputs": [],
   "source": [
    "crie_tabela = '''CREATE TABLE liquidacoes\n",
    "            (ID BIGINT PRIMARY KEY NOT NULL,\n",
    "            Data_de_liquidacao timestamp with time zone NOT NULL,\n",
    "            Data_de_vencimento_da_parcela_liquidada timestamp with time zone NOT NULL,\n",
    "            CPF BIGINT NOT NULL,\n",
    "            Numero_do_contrato INT NOT NULL,\n",
    "            Codigo_renegociacao_contrato SMALLINT,\n",
    "            Codigo_do_produto SMALLINT,\n",
    "            Parcela INT,\n",
    "            Dias_em_atraso_na_hora_da_liquidacao INT,\n",
    "            Valor_recebido_na_liquidacao REAL,\n",
    "            Codigo_forma INT,\n",
    "            Situacao_da_liquidacao TEXT,\n",
    "            Descricao_forma TEXT,\n",
    "            Estornado TEXT);'''\n",
    "sql.execute_query(crie_tabela)"
   ]
  },
  {
   "cell_type": "code",
   "execution_count": 16,
   "metadata": {},
   "outputs": [],
   "source": [
    "query = \"\"\" INSERT INTO liquidacoes\n",
    "            (ID,\n",
    "            Data_de_liquidacao,\n",
    "            Data_de_vencimento_da_parcela_liquidada,\n",
    "            CPF,\n",
    "            Numero_do_contrato,\n",
    "            Codigo_renegociacao_contrato,\n",
    "            Codigo_do_produto,\n",
    "            Parcela,\n",
    "            Dias_em_atraso_na_hora_da_liquidacao,\n",
    "            Valor_recebido_na_liquidacao,\n",
    "            Codigo_forma,\n",
    "            Situacao_da_liquidacao,\n",
    "            Descricao_forma,\n",
    "            Estornado) \n",
    "            VALUES (%s,%s,%s,%s,%s,%s,%s,%s,%s,%s,%s,%s,%s,%s)\"\"\"\n",
    "sql.adicione_multiplos_registros(query, liquidacoes_registros)"
   ]
  },
  {
   "cell_type": "code",
   "execution_count": null,
   "metadata": {},
   "outputs": [],
   "source": []
  },
  {
   "cell_type": "code",
   "execution_count": null,
   "metadata": {},
   "outputs": [],
   "source": []
  },
  {
   "cell_type": "code",
   "execution_count": null,
   "metadata": {},
   "outputs": [],
   "source": []
  },
  {
   "cell_type": "code",
   "execution_count": 108,
   "metadata": {},
   "outputs": [],
   "source": [
    "# os dados dessas querys nao vem ordenados\n",
    "parametros = (datetime.datetime(2019,1,1), datetime.datetime(2019,2,1))\n",
    "dados_liquidacao = sql.query_para_pandas('''SELECT *\n",
    "                      FROM liquidacoes\n",
    "                      WHERE Data_de_liquidacao BETWEEN %s AND %s\n",
    "                      ''',parametros)"
   ]
  },
  {
   "cell_type": "code",
   "execution_count": 17,
   "metadata": {},
   "outputs": [],
   "source": [
    "# os dados dessas querys nao vem ordenados\n",
    "parametros = (0, 5)\n",
    "dados_liquidacao = sql.query_para_pandas('''SELECT *\n",
    "                      FROM liquidacoes\n",
    "                      WHERE ID BETWEEN %s AND %s\n",
    "                      ''',parametros)"
   ]
  },
  {
   "cell_type": "code",
   "execution_count": null,
   "metadata": {},
   "outputs": [],
   "source": []
  },
  {
   "cell_type": "code",
   "execution_count": null,
   "metadata": {},
   "outputs": [],
   "source": []
  },
  {
   "cell_type": "code",
   "execution_count": null,
   "metadata": {},
   "outputs": [],
   "source": []
  },
  {
   "cell_type": "code",
   "execution_count": null,
   "metadata": {},
   "outputs": [],
   "source": []
  }
 ],
 "metadata": {
  "kernelspec": {
   "display_name": "Python 3",
   "language": "python",
   "name": "python3"
  },
  "language_info": {
   "codemirror_mode": {
    "name": "ipython",
    "version": 3
   },
   "file_extension": ".py",
   "mimetype": "text/x-python",
   "name": "python",
   "nbconvert_exporter": "python",
   "pygments_lexer": "ipython3",
   "version": "3.7.3"
  }
 },
 "nbformat": 4,
 "nbformat_minor": 2
}
