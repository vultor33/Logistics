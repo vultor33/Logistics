{
 "cells": [
  {
   "cell_type": "markdown",
   "metadata": {},
   "source": [
    "# OBTENÇÃO DOS MELHORES CLIENTES PARA UM CERTO NUMERO DE LOJAS"
   ]
  },
  {
   "cell_type": "markdown",
   "metadata": {},
   "source": [
    "### Passo 1 - Encontrar o codigo das lojas no SCBI."
   ]
  },
  {
   "cell_type": "code",
   "execution_count": null,
   "metadata": {},
   "outputs": [],
   "source": [
    "# A PARTIR DESSA QUERY NO SCBI PUDEMOS COMPARAR OS NOMES DAS FILIAIS ELETROSSOM COM SEUS RESPECTIVOS CODIGOS.\n",
    "\n",
    "SELECT \n",
    "    LOJA_LOJ_NOM_FANTASIA, *\n",
    "FROM \n",
    "    [scbi].[st1].[st1_a_loja_adc_loj_fincdcdbs] as loj\n",
    "WHERE\n",
    "    LOJA_RED_LOJ_COD = 2975"
   ]
  },
  {
   "cell_type": "markdown",
   "metadata": {},
   "source": [
    "### Passo 2 - Utilizando os codigos das lojas, gerar uma lista com todos os CPFs que originaram contratos nessas lojas em um determinado periodo."
   ]
  },
  {
   "cell_type": "code",
   "execution_count": null,
   "metadata": {},
   "outputs": [],
   "source": [
    "# QUERY QUE APONTA PARA OS CONTRATOS QUE FORAM ORIGINADOS EM UMA DADA LOJA\n",
    "# Nome do arquivo gerado: cpfs_clientes_das_lojas_X.csv\n",
    "\n",
    "DECLARE @parDeSafra datetime = '2017-01-01',\n",
    "        @parAteSafra datetime = '2019-12-31',\n",
    "        @parDatReferencia datetime = '2019-12-31'\n",
    "\n",
    "SELECT\n",
    "    LOJA_LOJ_COD,\n",
    "    (con.cont_bas_cgccpf + con.cont_dig_cgccpf) AS CPF\n",
    "FROM\n",
    "    [scbi].[st1].[st1_a_cont_adc_con_fincdcdbs] con\n",
    "        JOIN [scbi].[st1].[st1_a_loja_adc_loj_fincdcdbs] loj\n",
    "            ON (con.cont_loj_cod = loj.loja_loj_cod AND con.cont_emp_cod = loj.loja_emp_cod)\n",
    "        JOIN [scbi].[st1].[st1_a_rede_adc_red_loj_fincdcdbs] red\n",
    "            ON (red.rede_red_loj_cod = loj.loja_red_loj_cod AND red.rede_emp_cod = loj.loja_emp_cod)\n",
    "WHERE\n",
    "    con.cont_con_sta NOT IN ('C')\n",
    "    AND con.cont_con_dta_ini BETWEEN @parDeSafra AND @parAteSafra\n",
    "    AND LOJA_LOJ_COD IN (29750056, 29750026, 29750044, 29750085, 29750047,\n",
    "                         29750064, 29750029, 29750002, 29750021, 29750001)"
   ]
  },
  {
   "cell_type": "markdown",
   "metadata": {},
   "source": [
    "### Passo 3 - Gerar o número de contratos de cada CPF em um determinado periodo."
   ]
  },
  {
   "cell_type": "code",
   "execution_count": null,
   "metadata": {},
   "outputs": [],
   "source": [
    "# QUERY DE CPFs POR CONTRATOS LIQUIDADOS\n",
    "# Nome do arquivo gerado: cpfs_contratos_liq.csv\n",
    "\n",
    "DECLARE @parDeSafra datetime = '2017-01-01',\n",
    "        @parAteSafra datetime = '2019-12-31',\n",
    "        @liqReferenciaInicial datetime = '2017-01-01',\n",
    "        @liqReferenciaFinal datetime = '2019-12-31'\n",
    "\n",
    "SELECT\n",
    "    CONT_BAS_CGCCPF as cpf,\n",
    "    COUNT(CONT_BAS_CGCCPF) as numr_contratos_liquidados\n",
    "FROM\n",
    "    [scbi].[st1].[st1_a_cont_adc_con_fincdcdbs]\n",
    "WHERE\n",
    "    CONT_CON_DTA_LIQ BETWEEN @liqReferenciaInicial AND @liqReferenciaFinal\n",
    "    AND CONT_CON_DTA_INI BETWEEN @parDeSafra AND @parAteSafra\n",
    "GROUP BY\n",
    "    CONT_BAS_CGCCPF\n"
   ]
  },
  {
   "cell_type": "markdown",
   "metadata": {},
   "source": [
    "### Passo 4: Executar o código python."
   ]
  },
  {
   "cell_type": "code",
   "execution_count": 34,
   "metadata": {},
   "outputs": [],
   "source": [
    "import pandas as pd\n",
    "import dwsemear\n",
    "\n",
    "import datetime\n",
    "import collections\n",
    "import postgresemear as sql\n",
    "\n",
    "# dwsemear.atualize_metadados()"
   ]
  },
  {
   "cell_type": "code",
   "execution_count": 35,
   "metadata": {},
   "outputs": [],
   "source": [
    "def retira_dv_cpf(cpf):\n",
    "    cpf_str = str(cpf)\n",
    "    return int(cpf_str[0:-2])\n",
    "\n",
    "def mapeamento_loja(codigo):\n",
    "    if codigo == 29750056:\n",
    "        return 'Filial 62 Paracatu'\n",
    "    elif codigo == 29750026:\n",
    "        return 'Filial 28  Nova Serrana'\n",
    "    elif codigo == 29750044:\n",
    "        return 'Filial 46  Montes Claros'\n",
    "    elif codigo == 29750085:\n",
    "        return 'Filial 116 Vitória da Conquista'\n",
    "    elif codigo == 29750047:\n",
    "        return 'Filial 49  Uberlândia'\n",
    "    elif codigo == 29750064:\n",
    "        return 'Filial 71  Patos de Minas'\n",
    "    elif codigo == 29750029:\n",
    "        return 'Filial 31  Jataí'\n",
    "    elif codigo == 29750002:\n",
    "        return 'Filial 02  Uberaba'\n",
    "    elif codigo == 29750021:\n",
    "        return 'Filial 23  Sete Lagoas'\n",
    "    elif codigo == 29750001:\n",
    "        return 'Filial 01  Goiania'\n",
    "    "
   ]
  },
  {
   "cell_type": "code",
   "execution_count": 36,
   "metadata": {},
   "outputs": [],
   "source": [
    "file = 'cpfs_clientes_das_lojas_X.csv'\n",
    "cpf_loja = pd.read_csv(file, sep=';')\n",
    "file = 'cpfs_contratos_liq.csv'\n",
    "cpfs_liq = pd.read_csv(file, sep=';')\n",
    "\n",
    "parametros = (datetime.datetime(2019,9,30),)\n",
    "dados_pdd = sql.query_para_pandas(\n",
    "                          '''\n",
    "                          SELECT\n",
    "                              *\n",
    "                          FROM \n",
    "                              pdd\n",
    "                          WHERE \n",
    "                              pdd.data_referencia = %s\n",
    "                          ''',\n",
    "                          parametros)\n",
    "dados_pdd.columns = dwsemear.pegue_colunas('pdd')"
   ]
  },
  {
   "cell_type": "markdown",
   "metadata": {},
   "source": [
    "# CPFs de cada loja sem o DV"
   ]
  },
  {
   "cell_type": "code",
   "execution_count": 37,
   "metadata": {},
   "outputs": [],
   "source": [
    "cpf_loja['cpf_sem_dv'] = cpf_loja.CPF.apply(retira_dv_cpf)\n",
    "loja_sem_dv = [int(x) for x in cpf_loja.cpf_sem_dv.tolist()]\n",
    "loja_sem_dv = set(cpf_loja.cpf_sem_dv.tolist())"
   ]
  },
  {
   "cell_type": "markdown",
   "metadata": {},
   "source": [
    "# CPFs que tiveram liquidacoes sem o DV"
   ]
  },
  {
   "cell_type": "code",
   "execution_count": 38,
   "metadata": {},
   "outputs": [],
   "source": [
    "liq_sem_dv = [int(x) for x in cpfs_liq.cpf.tolist()]\n",
    "liq_sem_dv = set(liq_sem_dv)"
   ]
  },
  {
   "cell_type": "markdown",
   "metadata": {},
   "source": [
    "# CPFs que estao atualmente em atraso sem o DV"
   ]
  },
  {
   "cell_type": "code",
   "execution_count": 39,
   "metadata": {},
   "outputs": [],
   "source": [
    "cpfs_rating_A = []\n",
    "cpfs_rating_abaixo_de_A = []\n",
    "dados_pdd_antes_junho = dados_pdd[dados_pdd.data_originacao < datetime.datetime(2019,5,1)].copy()\n",
    "for cpf in cpf_loja.CPF.tolist():\n",
    "    corte_cpf = dados_pdd_antes_junho[dados_pdd_antes_junho.cpf == cpf]\n",
    "    if len(corte_cpf) == 0:\n",
    "        continue\n",
    "    elif corte_cpf.rating_contabil_fim.iloc[0] == 'A':\n",
    "        cpfs_rating_A.append(cpf)\n",
    "    elif corte_cpf.rating_contabil_fim.iloc[0] != 'A':\n",
    "        cpfs_rating_abaixo_de_A.append(cpf)        "
   ]
  },
  {
   "cell_type": "code",
   "execution_count": 40,
   "metadata": {},
   "outputs": [],
   "source": [
    "cpfs_rating_baixo = set(list(map(retira_dv_cpf, cpfs_rating_abaixo_de_A)))"
   ]
  },
  {
   "cell_type": "markdown",
   "metadata": {},
   "source": [
    "# COMBINACAO DOS CPFs"
   ]
  },
  {
   "cell_type": "code",
   "execution_count": 41,
   "metadata": {},
   "outputs": [],
   "source": [
    "loja_e_liq = loja_sem_dv & liq_sem_dv"
   ]
  },
  {
   "cell_type": "code",
   "execution_count": 42,
   "metadata": {},
   "outputs": [],
   "source": [
    "loja_liq_rating_A = loja_e_liq - cpfs_rating_baixo"
   ]
  },
  {
   "cell_type": "code",
   "execution_count": null,
   "metadata": {},
   "outputs": [],
   "source": []
  },
  {
   "cell_type": "code",
   "execution_count": null,
   "metadata": {},
   "outputs": [],
   "source": []
  },
  {
   "cell_type": "code",
   "execution_count": null,
   "metadata": {},
   "outputs": [],
   "source": []
  },
  {
   "cell_type": "markdown",
   "metadata": {},
   "source": [
    "# Concatenacao dos CPFs com a tabela das lojas"
   ]
  },
  {
   "cell_type": "code",
   "execution_count": 43,
   "metadata": {},
   "outputs": [],
   "source": [
    "bons_clientes = []\n",
    "for i in cpf_loja.index:\n",
    "    if cpf_loja.cpf_sem_dv[i] in loja_liq_rating_A:\n",
    "        bons_clientes.append(1)\n",
    "    else:\n",
    "        bons_clientes.append(0)"
   ]
  },
  {
   "cell_type": "code",
   "execution_count": 44,
   "metadata": {},
   "outputs": [],
   "source": [
    "cpf_loja['bons'] = bons_clientes"
   ]
  },
  {
   "cell_type": "code",
   "execution_count": 45,
   "metadata": {},
   "outputs": [],
   "source": [
    "cpf_loja['nome_filial'] = cpf_loja.LOJA_LOJ_COD.apply(mapeamento_loja)"
   ]
  },
  {
   "cell_type": "code",
   "execution_count": 46,
   "metadata": {},
   "outputs": [],
   "source": [
    "cpf_loja = cpf_loja[cpf_loja.bons == 1].copy()"
   ]
  },
  {
   "cell_type": "code",
   "execution_count": 51,
   "metadata": {},
   "outputs": [],
   "source": [
    "cpf_loja = cpf_loja.drop(['cpf_sem_dv','bons'],axis=1)"
   ]
  },
  {
   "cell_type": "code",
   "execution_count": 67,
   "metadata": {},
   "outputs": [],
   "source": [
    "codigos_loja = list(set(cpf_loja.LOJA_LOJ_COD))"
   ]
  },
  {
   "cell_type": "code",
   "execution_count": 76,
   "metadata": {},
   "outputs": [],
   "source": [
    "cpfs_bons_por_loja = {}\n",
    "for codigo in codigos_loja:\n",
    "    cpfs_codigo = list(set(cpf_loja[cpf_loja.LOJA_LOJ_COD == codigo].CPF))\n",
    "    cpfs_bons_por_loja[codigo] = cpfs_codigo\n",
    "    "
   ]
  },
  {
   "cell_type": "code",
   "execution_count": 86,
   "metadata": {},
   "outputs": [],
   "source": [
    "tabela_cpfs_bons = []\n",
    "for codigo in cpfs_bons_por_loja:\n",
    "    for cpf in set(cpfs_bons_por_loja[codigo]):\n",
    "        tabela_cpfs_bons.append(\n",
    "            (codigo, \n",
    "              mapeamento_loja(codigo),\n",
    "              cpf))"
   ]
  },
  {
   "cell_type": "code",
   "execution_count": 90,
   "metadata": {},
   "outputs": [],
   "source": [
    "cpfs_lojas_selecionadas = pd.DataFrame(tabela_cpfs_bons)\n",
    "cpfs_lojas_selecionadas.columns =['codigo_loja', 'nome_filial', 'cpf']\n",
    "cpfs_lojas_selecionadas.to_csv('cpfs_lojas_selecionadas.csv', \n",
    "                               sep=';', \n",
    "                               encoding='latin-1', \n",
    "                               index=False)"
   ]
  },
  {
   "cell_type": "code",
   "execution_count": null,
   "metadata": {},
   "outputs": [],
   "source": []
  },
  {
   "cell_type": "code",
   "execution_count": null,
   "metadata": {},
   "outputs": [],
   "source": []
  },
  {
   "cell_type": "code",
   "execution_count": null,
   "metadata": {},
   "outputs": [],
   "source": []
  },
  {
   "cell_type": "code",
   "execution_count": null,
   "metadata": {},
   "outputs": [],
   "source": []
  },
  {
   "cell_type": "code",
   "execution_count": null,
   "metadata": {},
   "outputs": [],
   "source": []
  },
  {
   "cell_type": "code",
   "execution_count": null,
   "metadata": {},
   "outputs": [],
   "source": []
  },
  {
   "cell_type": "code",
   "execution_count": null,
   "metadata": {},
   "outputs": [],
   "source": []
  },
  {
   "cell_type": "code",
   "execution_count": null,
   "metadata": {},
   "outputs": [],
   "source": []
  },
  {
   "cell_type": "code",
   "execution_count": null,
   "metadata": {},
   "outputs": [],
   "source": []
  },
  {
   "cell_type": "code",
   "execution_count": null,
   "metadata": {},
   "outputs": [],
   "source": []
  },
  {
   "cell_type": "code",
   "execution_count": null,
   "metadata": {},
   "outputs": [],
   "source": []
  },
  {
   "cell_type": "code",
   "execution_count": null,
   "metadata": {},
   "outputs": [],
   "source": []
  },
  {
   "cell_type": "code",
   "execution_count": null,
   "metadata": {},
   "outputs": [],
   "source": []
  },
  {
   "cell_type": "code",
   "execution_count": null,
   "metadata": {},
   "outputs": [],
   "source": []
  },
  {
   "cell_type": "code",
   "execution_count": null,
   "metadata": {},
   "outputs": [],
   "source": []
  }
 ],
 "metadata": {
  "kernelspec": {
   "display_name": "Python 3",
   "language": "python",
   "name": "python3"
  },
  "language_info": {
   "codemirror_mode": {
    "name": "ipython",
    "version": 3
   },
   "file_extension": ".py",
   "mimetype": "text/x-python",
   "name": "python",
   "nbconvert_exporter": "python",
   "pygments_lexer": "ipython3",
   "version": "3.7.3"
  }
 },
 "nbformat": 4,
 "nbformat_minor": 2
}
