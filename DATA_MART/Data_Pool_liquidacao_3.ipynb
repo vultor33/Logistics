{
 "cells": [
  {
   "cell_type": "code",
   "execution_count": 1,
   "metadata": {},
   "outputs": [
    {
     "ename": "ModuleNotFoundError",
     "evalue": "No module named 'pymongo'",
     "output_type": "error",
     "traceback": [
      "\u001b[1;31m---------------------------------------------------------------------------\u001b[0m",
      "\u001b[1;31mModuleNotFoundError\u001b[0m                       Traceback (most recent call last)",
      "\u001b[1;32m<ipython-input-1-d1c325131a20>\u001b[0m in \u001b[0;36m<module>\u001b[1;34m\u001b[0m\n\u001b[0;32m      4\u001b[0m \u001b[1;32mimport\u001b[0m \u001b[0mcollections\u001b[0m\u001b[1;33m\u001b[0m\u001b[0m\n\u001b[0;32m      5\u001b[0m \u001b[1;32mimport\u001b[0m \u001b[0mre\u001b[0m\u001b[1;33m\u001b[0m\u001b[0m\n\u001b[1;32m----> 6\u001b[1;33m \u001b[1;32mfrom\u001b[0m \u001b[0mpymongo\u001b[0m \u001b[1;32mimport\u001b[0m \u001b[0mMongoClient\u001b[0m\u001b[1;33m\u001b[0m\u001b[0m\n\u001b[0m\u001b[0;32m      7\u001b[0m \u001b[1;32mimport\u001b[0m \u001b[0mnumpy\u001b[0m \u001b[1;32mas\u001b[0m \u001b[0mnp\u001b[0m\u001b[1;33m\u001b[0m\u001b[0m\n\u001b[0;32m      8\u001b[0m \u001b[1;32mimport\u001b[0m \u001b[0mpprint\u001b[0m\u001b[1;33m\u001b[0m\u001b[0m\n",
      "\u001b[1;31mModuleNotFoundError\u001b[0m: No module named 'pymongo'"
     ]
    }
   ],
   "source": [
    "import pytz\n",
    "import datetime\n",
    "import pandas as pd\n",
    "import collections\n",
    "import re\n",
    "from pymongo import MongoClient\n",
    "import numpy as np\n",
    "import pprint"
   ]
  },
  {
   "cell_type": "code",
   "execution_count": 6,
   "metadata": {},
   "outputs": [],
   "source": [
    "def removeSpecialCharacters(value):\n",
    "    return re.sub('[^A-Za-z0-9]+', ' ', str(value))\n",
    "\n",
    "def cleanDataColumns(data):\n",
    "    trueCol = []\n",
    "    for col in data.columns:\n",
    "        trueCol.append(removeSpecialCharacters(col))\n",
    "    data.columns = trueCol\n",
    "    return data\n",
    "\n",
    "def limpa_cpf(cpfString):\n",
    "    cpfString = cpfString.replace('.','')\n",
    "    cpfString = cpfString.replace('-','')\n",
    "    return int(cpfString)    \n",
    "\n",
    "def limpeza_de_cpfs(dados, coluna):\n",
    "    dados[coluna] = dados.loc[:,coluna].apply(limpa_cpf)\n",
    "    return dados\n",
    "            \n",
    "        \n",
    "def coluna_para_datetime(data, coluna):\n",
    "    data[coluna] = pd.to_datetime(data[coluna], format='%d/%m/%Y')\n",
    "    data[coluna] = data.loc[:,coluna].apply(date_to_Brazil_East_Utc)\n",
    "    return data\n",
    "\n",
    "def string_to_datetime(datetime_string):\n",
    "    datetime_string = datetime_string.split('/')\n",
    "    datetime_value = datetime.datetime(\n",
    "        int(datetime_string[2]),\n",
    "        int(datetime_string[1]),\n",
    "        int(datetime_string[0]))\n",
    "    return date_to_Brazil_East_Utc(datetime_value)\n",
    "\n",
    "def date_to_Brazil_East_Utc(datetime_value): # ele adianta o relogio em 3 horas\n",
    "    if str(datetime_value) == 'NaT':\n",
    "        datetime_value = datetime.datetime(1500,1,1) # minha data nulla e 01/01/1500\n",
    "    local = pytz.timezone(\"Brazil/East\")\n",
    "    local_dt = local.localize(datetime_value, is_dst=True) # esse is_dst e pra ambiguidades, deve ser horario de verao aqui\n",
    "    utc_dt = local_dt.astimezone(pytz.utc)\n",
    "    return utc_dt.strftime (\"%Y-%m-%d %H:%M:%S\")\n",
    "\n",
    "def float_latin_nan_e_zero(entry):\n",
    "    if _isNan(entry):\n",
    "        return 0.0e0\n",
    "    else:\n",
    "        return floatLatin(entry)\n",
    "    \n",
    "\n",
    "def floatLatin(entry):\n",
    "    if _isNan(entry):\n",
    "        return np.nan\n",
    "    entry = str(entry).replace('.','')\n",
    "    entry = str(entry).replace(',','.')\n",
    "    return float(entry)\n",
    "\n",
    "def _isNan(value):\n",
    "    if isinstance(value, str):\n",
    "        return value == 'nan'\n",
    "    else:\n",
    "        return np.isnan(value)\n",
    "\n",
    "\n",
    "# TRANSFORMACOES ESPECIFICAS DA TABELA ACORDOS\n",
    "\n",
    "def transforma_Assessoria(valor):\n",
    "    if str(valor) == 'nan':\n",
    "        return 'SEMEAR'\n",
    "    else:\n",
    "        return str(valor)\n",
    "\n",
    "def transforma_Cobrador(valor):\n",
    "    if 'Semear_Renego' in valor:\n",
    "        return 'Renegociacao'\n",
    "    elif 'Multiparcelas' in valor:\n",
    "        return 'Multiparcelas'\n",
    "    else:\n",
    "        return 'NULO'\n",
    "\n",
    "# TRANSFORMACOES ESPECIFICAS DA TABELA ACIONAMENTOS\n",
    "\n",
    "def coluna_para_datetime_hora(data, coluna):\n",
    "    data[coluna] = pd.to_datetime(data[coluna], format='%d/%m/%Y %H:%M')\n",
    "    data[coluna] = data.loc[:,coluna].apply(date_to_Brazil_East_Utc)\n",
    "    return data\n",
    "\n",
    "# TRANSFORMACOES ESPECIFICAS DO RELATORIO 3040\n",
    "\n",
    "def coluna_para_datetime_hora_seg(data, coluna):\n",
    "    data[coluna] = pd.to_datetime(data[coluna], format='%Y-%m-%d %H:%M:%S')\n",
    "    data[coluna] = data.loc[:,coluna].apply(date_to_Brazil_East_Utc)\n",
    "    return data\n",
    "\n"
   ]
  },
  {
   "cell_type": "markdown",
   "metadata": {},
   "source": [
    "# Leitura dos dados"
   ]
  },
  {
   "cell_type": "code",
   "execution_count": null,
   "metadata": {},
   "outputs": [],
   "source": [
    "# O DATA POOL EXIGE QUE ESSES DADOS SEJAM ENRIQUECIDOS COM A ORIGINACAO DA SAFRA"
   ]
  },
  {
   "cell_type": "code",
   "execution_count": 2,
   "metadata": {},
   "outputs": [],
   "source": [
    "dados = pd.read_csv('liquidacoes_012019_062019.csv', sep=',', encoding='latin-1', dtype=str)"
   ]
  },
  {
   "cell_type": "code",
   "execution_count": 7,
   "metadata": {},
   "outputs": [],
   "source": [
    "dados = cleanDataColumns(dados)"
   ]
  },
  {
   "cell_type": "code",
   "execution_count": null,
   "metadata": {},
   "outputs": [],
   "source": [
    "dados = coluna_para_datetime(dados, 'Vencimento')\n",
    "dados = coluna_para_datetime(dados, 'Liquida o')"
   ]
  },
  {
   "cell_type": "code",
   "execution_count": null,
   "metadata": {},
   "outputs": [],
   "source": [
    "def remover_o_codigo_contrato(contrato):\n",
    "    return int(contrato.split('/')[0])\n",
    "dados['Contrato_sem_codigo'] = dados.loc[:,'Contrato'].apply(remover_o_codigo_contrato)"
   ]
  },
  {
   "cell_type": "code",
   "execution_count": 8,
   "metadata": {},
   "outputs": [],
   "source": [
    "def codigo_de_renegociacao(contrato):\n",
    "    return int(contrato.split('/')[1])\n",
    "dados['Contrato_codigo_renegociacao'] = dados.loc[:,'Contrato'].apply(codigo_de_renegociacao)"
   ]
  },
  {
   "cell_type": "code",
   "execution_count": 9,
   "metadata": {},
   "outputs": [],
   "source": [
    "dados.loc[:,'Parcela'] = dados.loc[:,'Parcela'].astype(int)   # 0 e a entrada da renegociacao"
   ]
  },
  {
   "cell_type": "code",
   "execution_count": 10,
   "metadata": {},
   "outputs": [],
   "source": [
    "produtos_codigos = []\n",
    "produtos_descricoes = []\n",
    "for i in dados.index:\n",
    "    prod = dados.loc[i,'Produto']\n",
    "    prod_codigo = int(prod.split(' ')[0])\n",
    "    prod_descr = prod\n",
    "    produtos_codigos.append(prod_codigo)\n",
    "    produtos_descricoes.append(prod_descr)\n",
    "dados['produtos_codigos'] = produtos_codigos\n",
    "dados['produtos_descricoes'] = produtos_descricoes # o ideal e adicionar como metadado"
   ]
  },
  {
   "cell_type": "code",
   "execution_count": 11,
   "metadata": {},
   "outputs": [],
   "source": [
    "dados = limpeza_de_cpfs(dados, 'CPF CNPJ')"
   ]
  },
  {
   "cell_type": "code",
   "execution_count": 12,
   "metadata": {},
   "outputs": [],
   "source": [
    "dados.loc[:,'Dias'] = dados.loc[:,'Dias'].astype(int)"
   ]
  },
  {
   "cell_type": "code",
   "execution_count": 13,
   "metadata": {},
   "outputs": [],
   "source": [
    "codigo_da_forma_de_liquidacao = []\n",
    "descricao_da_forma_de_liquidacao = []\n",
    "for i in dados.index:\n",
    "    forma_de_liquidacao = str(dados.loc[i,'Forma'])\n",
    "    if forma_de_liquidacao == 'nan':\n",
    "        codigo_da_forma_de_liquidacao.append(-1)\n",
    "        descricao_da_forma_de_liquidacao.append('NULO')\n",
    "    else:\n",
    "        codigo_da_forma_de_liquidacao.append(int(forma_de_liquidacao.split(' ')[0]))\n",
    "        descricao_da_forma_de_liquidacao.append(forma_de_liquidacao)\n",
    "dados['codigo_da_forma_de_liquidacao'] = codigo_da_forma_de_liquidacao\n",
    "dados['descricao_da_forma_de_liquidacao'] = descricao_da_forma_de_liquidacao # o ideal e adicionar como metadado"
   ]
  },
  {
   "cell_type": "code",
   "execution_count": 14,
   "metadata": {},
   "outputs": [
    {
     "data": {
      "text/plain": [
       "Counter({'NÃ£o': 2185025, 'Sim': 31})"
      ]
     },
     "execution_count": 14,
     "metadata": {},
     "output_type": "execute_result"
    }
   ],
   "source": [
    "collections.Counter(dados.loc[:,'Estornado']) # 'NÃ£o'  e 'Sim'"
   ]
  },
  {
   "cell_type": "code",
   "execution_count": 15,
   "metadata": {},
   "outputs": [],
   "source": [
    "dados.loc[:,'Recebido'] = dados.loc[:,'Recebido'].apply(floatLatin)"
   ]
  },
  {
   "cell_type": "code",
   "execution_count": null,
   "metadata": {},
   "outputs": [],
   "source": []
  },
  {
   "cell_type": "markdown",
   "metadata": {},
   "source": [
    "# Teste da tabela limpa"
   ]
  },
  {
   "cell_type": "code",
   "execution_count": null,
   "metadata": {
    "scrolled": true
   },
   "outputs": [],
   "source": [
    "for i in range(5):\n",
    "    Numero_do_contrato = dados.loc[i,'Contrato_sem_codigo']\n",
    "    Codigo_renegociacao_contrato = dados.loc[i,'Contrato_codigo_renegociacao']\n",
    "    Parcela = dados.loc[i, 'Parcela']\n",
    "    Data_de_vencimento_da_parcela_liquidada = dados.loc[i, 'Vencimento']\n",
    "    Data_de_liquidacao = dados.loc[i, 'Liquida o']\n",
    "    Codigo_do_produto = dados.loc[i, 'produtos_codigos']\n",
    "    Situacao_da_liquidacao = dados.loc[i,'Situa o']\n",
    "    Numero_do_CPF = dados.loc[i,'CPF CNPJ']\n",
    "    Dias_em_atraso_na_hora_da_liquidacao = dados.loc[i,'Dias']\n",
    "    Codigo_da_forma_de_liquidacao = dados.loc[i,'codigo_da_forma_de_liquidacao']\n",
    "    Estornado = dados.loc[i,'Estornado']\n",
    "    Valor_recebido_na_liquidacao = dados.loc[i,'Recebido']\n",
    "    liquidacao_dict = {\n",
    "        'Numero_do_contrato': Numero_do_contrato,\n",
    "        'Data_da_liquidacao': Data_de_liquidacao,\n",
    "        'Codigo_renegociacao_contrato': Codigo_renegociacao_contrato,\n",
    "        'Parcela_liquidada': Parcela,\n",
    "        'Data_de_vencimento_da_parcela_liquidada': Data_de_vencimento_da_parcela_liquidada,\n",
    "        'Codigo_do_produto': Codigo_do_produto,\n",
    "        'Situacao_da_liquidacao': Situacao_da_liquidacao, # poucos casos com situacao parcial aqui\n",
    "        'Numero_do_CPF': Numero_do_CPF,\n",
    "        'Dias_em_atraso_na_hora_da_liquidacao': Dias_em_atraso_na_hora_da_liquidacao,\n",
    "        'Codigo_da_forma_de_liquidacao': Codigo_da_forma_de_liquidacao,\n",
    "        'Descricao_da_forma_de_liquidacao': Descricao_da_forma_de_liquidacao,\n",
    "        'Estornado': Estornado,\n",
    "        'Valor_recebido_na_liquidacao': Valor_recebido_na_liquidacao\n",
    "    }\n",
    "    print(liquidacao_dict)\n",
    "    \n",
    "    "
   ]
  },
  {
   "cell_type": "code",
   "execution_count": null,
   "metadata": {},
   "outputs": [],
   "source": []
  },
  {
   "cell_type": "code",
   "execution_count": null,
   "metadata": {},
   "outputs": [],
   "source": []
  },
  {
   "cell_type": "code",
   "execution_count": null,
   "metadata": {},
   "outputs": [],
   "source": [
    "dados.columns"
   ]
  },
  {
   "cell_type": "code",
   "execution_count": null,
   "metadata": {},
   "outputs": [],
   "source": []
  },
  {
   "cell_type": "code",
   "execution_count": null,
   "metadata": {},
   "outputs": [],
   "source": []
  },
  {
   "cell_type": "code",
   "execution_count": null,
   "metadata": {},
   "outputs": [],
   "source": []
  },
  {
   "cell_type": "code",
   "execution_count": null,
   "metadata": {},
   "outputs": [],
   "source": []
  },
  {
   "cell_type": "code",
   "execution_count": null,
   "metadata": {},
   "outputs": [],
   "source": []
  },
  {
   "cell_type": "code",
   "execution_count": null,
   "metadata": {},
   "outputs": [],
   "source": []
  },
  {
   "cell_type": "code",
   "execution_count": null,
   "metadata": {},
   "outputs": [],
   "source": []
  },
  {
   "cell_type": "markdown",
   "metadata": {},
   "source": [
    "# Definicao da coluna liquidacoes"
   ]
  },
  {
   "cell_type": "code",
   "execution_count": null,
   "metadata": {},
   "outputs": [],
   "source": [
    "client = MongoClient()\n",
    "client = MongoClient('localhost', 27017)\n",
    "db = client.cobrancas\n",
    "liquidacoes_mongo = db.liquidacoes"
   ]
  },
  {
   "cell_type": "code",
   "execution_count": null,
   "metadata": {},
   "outputs": [],
   "source": []
  },
  {
   "cell_type": "code",
   "execution_count": null,
   "metadata": {},
   "outputs": [],
   "source": []
  },
  {
   "cell_type": "markdown",
   "metadata": {},
   "source": [
    "# Carga no banco de dados"
   ]
  },
  {
   "cell_type": "code",
   "execution_count": null,
   "metadata": {},
   "outputs": [],
   "source": [
    "# demora mais ou menos 1 hora essa carga aqui\n",
    "liquidacao_ID = 0 \n",
    "for i in dados.index:\n",
    "    liquidacao_ID += 1\n",
    "    Numero_do_contrato = dados.loc[i,'Contrato_sem_codigo']\n",
    "    Codigo_renegociacao_contrato = dados.loc[i,'Contrato_codigo_renegociacao']\n",
    "    Parcela = dados.loc[i, 'Parcela']\n",
    "    Data_de_vencimento_da_parcela_liquidada = dados.loc[i, 'Vencimento']\n",
    "    Data_de_liquidacao = dados.loc[i, 'Liquida o']\n",
    "    Codigo_do_produto = dados.loc[i, 'produtos_codigos']\n",
    "    Situacao_da_liquidacao = dados.loc[i,'Situa o']\n",
    "    Numero_do_CPF = dados.loc[i,'CPF CNPJ']\n",
    "    Dias_em_atraso_na_hora_da_liquidacao = dados.loc[i,'Dias']\n",
    "    Codigo_da_forma_de_liquidacao = dados.loc[i,'codigo_da_forma_de_liquidacao']\n",
    "    Estornado = dados.loc[i,'Estornado']\n",
    "    Valor_recebido_na_liquidacao = dados.loc[i,'Recebido']\n",
    "    dados_dict = {\n",
    "        'Liquidacao_ID': liquidacao_ID,\n",
    "        'Numero_do_contrato': int(Numero_do_contrato),\n",
    "        'Data_da_liquidacao': Data_de_liquidacao,\n",
    "        'Codigo_renegociacao_contrato': int(Codigo_renegociacao_contrato),\n",
    "        'Parcela_liquidada': int(Parcela),\n",
    "        'Data_de_vencimento_da_parcela_liquidada': Data_de_vencimento_da_parcela_liquidada,\n",
    "        'Codigo_do_produto': int(Codigo_do_produto),\n",
    "        'Situacao_da_liquidacao': str(Situacao_da_liquidacao), # poucos casos com situacao parcial aqui\n",
    "        'Numero_do_CPF': int(Numero_do_CPF),\n",
    "        'Dias_em_atraso_na_hora_da_liquidacao': int(Dias_em_atraso_na_hora_da_liquidacao),\n",
    "        'Codigo_da_forma_de_liquidacao': int(Codigo_da_forma_de_liquidacao),\n",
    "        'Estornado': str(Estornado),\n",
    "        'Valor_recebido_na_liquidacao': Valor_recebido_na_liquidacao\n",
    "    }\n",
    "\n",
    "    liquidacoes_mongo.insert_one(dados_dict)"
   ]
  },
  {
   "cell_type": "code",
   "execution_count": null,
   "metadata": {},
   "outputs": [],
   "source": []
  },
  {
   "cell_type": "code",
   "execution_count": null,
   "metadata": {},
   "outputs": [],
   "source": []
  },
  {
   "cell_type": "code",
   "execution_count": null,
   "metadata": {},
   "outputs": [],
   "source": []
  },
  {
   "cell_type": "code",
   "execution_count": null,
   "metadata": {},
   "outputs": [],
   "source": []
  },
  {
   "cell_type": "markdown",
   "metadata": {},
   "source": [
    "# Metadados que mapeiam os codigos dos produtos"
   ]
  },
  {
   "cell_type": "code",
   "execution_count": null,
   "metadata": {},
   "outputs": [],
   "source": [
    "informacoes_adicionais = db.informacoes_adicionais"
   ]
  },
  {
   "cell_type": "code",
   "execution_count": null,
   "metadata": {},
   "outputs": [],
   "source": [
    "#informacoes_adicionais.insert_one() Adicionar metadados aqui."
   ]
  },
  {
   "cell_type": "code",
   "execution_count": null,
   "metadata": {},
   "outputs": [],
   "source": []
  },
  {
   "cell_type": "code",
   "execution_count": null,
   "metadata": {},
   "outputs": [],
   "source": []
  },
  {
   "cell_type": "code",
   "execution_count": null,
   "metadata": {},
   "outputs": [],
   "source": []
  },
  {
   "cell_type": "markdown",
   "metadata": {},
   "source": [
    "# Todos os registros para um dado CPF"
   ]
  },
  {
   "cell_type": "code",
   "execution_count": null,
   "metadata": {},
   "outputs": [],
   "source": [
    "import pprint\n",
    "cursor = liquidacoes_mongo.find({'Numero_do_CPF': 60014075920})\n",
    "for document in cursor:\n",
    "    pprint.pprint(document)"
   ]
  },
  {
   "cell_type": "code",
   "execution_count": null,
   "metadata": {},
   "outputs": [],
   "source": []
  },
  {
   "cell_type": "markdown",
   "metadata": {},
   "source": [
    "# Todos os registros em um determinado intervalo de datas"
   ]
  },
  {
   "cell_type": "code",
   "execution_count": null,
   "metadata": {},
   "outputs": [],
   "source": [
    "start = date_to_Brazil_East_Utc(datetime.datetime(2019, 6, 3))\n",
    "end = date_to_Brazil_East_Utc(datetime.datetime(2019, 6, 4))\n",
    "query_datas_limite = {'Data_da_liquidacao': {'$lt': end, '$gte': start}}\n",
    "cursor = liquidacoes_mongo.find(query_datas_limite)\n",
    "for document in cursor:\n",
    "    print(document)"
   ]
  },
  {
   "cell_type": "code",
   "execution_count": null,
   "metadata": {},
   "outputs": [],
   "source": []
  },
  {
   "cell_type": "code",
   "execution_count": null,
   "metadata": {},
   "outputs": [],
   "source": []
  },
  {
   "cell_type": "code",
   "execution_count": null,
   "metadata": {},
   "outputs": [],
   "source": []
  },
  {
   "cell_type": "code",
   "execution_count": null,
   "metadata": {},
   "outputs": [],
   "source": []
  },
  {
   "cell_type": "markdown",
   "metadata": {},
   "source": [
    "# ENRIQUECIMENTO DAS LIQUIDACOES COM DATA DE ORIGINACAO"
   ]
  },
  {
   "cell_type": "code",
   "execution_count": null,
   "metadata": {},
   "outputs": [],
   "source": [
    "dados = pd.read_csv('liquidacoes_012019_062019.csv', sep=',', encoding='latin-1', dtype=str)\n",
    "dados = cleanDataColumns(dados)\n",
    "dados = limpeza_de_cpfs(dados, 'CPF CNPJ')"
   ]
  },
  {
   "cell_type": "code",
   "execution_count": null,
   "metadata": {},
   "outputs": [],
   "source": [
    "def remover_o_codigo_contrato(contrato):\n",
    "    return int(contrato.split('/')[0])\n",
    "dados['Contrato_sem_codigo'] = dados.loc[:,'Contrato'].apply(remover_o_codigo_contrato)"
   ]
  },
  {
   "cell_type": "code",
   "execution_count": null,
   "metadata": {},
   "outputs": [],
   "source": [
    "contratos_liquid = list(set(dados.loc[:,'Contrato_sem_codigo']))"
   ]
  },
  {
   "cell_type": "code",
   "execution_count": null,
   "metadata": {},
   "outputs": [],
   "source": [
    "def get_DatInicio(pdd_table, contrato):\n",
    "    pdd_x = pdd_table[pdd_table.loc[:,'Contrato'] == contrato].copy()\n",
    "    pdd_x = pdd_x.reset_index(drop=True)\n",
    "    return pdd_x.loc[0,'DatInicio']"
   ]
  },
  {
   "cell_type": "code",
   "execution_count": null,
   "metadata": {},
   "outputs": [],
   "source": [
    "# OBTENCAO DAS DATAS DE ORIGINACAO DE TODOS OS PDDs\n",
    "# (ESSE PASSO DEMORA ALGUMAS HORAS)\n",
    "data_de_originacao_dos_contratos = {}\n",
    "pdd_files = ['3040_01_2019.xlsx','3040_02_2019.xlsx','3040_03_2019.xlsx','3040_04_2019.xlsx','3040_05_2019.xlsx','3040_06_2019.xlsx']\n",
    "for pdd_file in pdd_files:\n",
    "    pdd_i = pd.read_excel(pdd_file, encoding='latin-1', dtype=str) # demora uns 15min essa merda\n",
    "    contratos_i = list(set(pdd_i.loc[:,'Contrato']))\n",
    "    for contrato in contratos_i:\n",
    "        if contrato in data_de_originacao_dos_contratos:\n",
    "            continue\n",
    "        data_de_originacao_dos_contratos[contrato] = get_DatInicio(pdd_i, contrato) "
   ]
  },
  {
   "cell_type": "code",
   "execution_count": null,
   "metadata": {},
   "outputs": [],
   "source": [
    "contratos_pdd = [int(x) for x in data_de_originacao_dos_contratos.keys()]"
   ]
  },
  {
   "cell_type": "code",
   "execution_count": null,
   "metadata": {},
   "outputs": [],
   "source": [
    "diff = set(contratos_liquid) - set(contratos_pdd)"
   ]
  },
  {
   "cell_type": "code",
   "execution_count": null,
   "metadata": {},
   "outputs": [],
   "source": [
    "orig_data = []\n",
    "for key in data_de_originacao_dos_contratos:\n",
    "    orig_data.append([key, data_de_originacao_dos_contratos[key]])\n",
    "pd.DataFrame(orig_data).to_csv('Contratos_originacao_tirado_do_pdd.csv',sep=';')"
   ]
  },
  {
   "cell_type": "code",
   "execution_count": 16,
   "metadata": {},
   "outputs": [],
   "source": [
    "dados_originacao = pd.read_csv('Contratos_originacao_tirado_do_pdd.csv', sep = ';')\n",
    "dados_originacao.iloc[:,1] = dados_originacao.iloc[:,1].astype(int)\n",
    "data_de_originacao_dos_contratos = {}\n",
    "for i in dados_originacao.index:\n",
    "    contrato = dados_originacao.iloc[i,1]\n",
    "    data_origem = datetime.datetime.strptime(dados_originacao.iloc[i,2], \"%Y-%m-%d %H:%M:%S\")\n",
    "    data_origem = date_to_Brazil_East_Utc(data_origem)\n",
    "    data_de_originacao_dos_contratos[contrato] = data_origem"
   ]
  },
  {
   "cell_type": "code",
   "execution_count": 12,
   "metadata": {},
   "outputs": [],
   "source": []
  },
  {
   "cell_type": "code",
   "execution_count": 9,
   "metadata": {},
   "outputs": [],
   "source": []
  },
  {
   "cell_type": "code",
   "execution_count": 21,
   "metadata": {},
   "outputs": [],
   "source": []
  },
  {
   "cell_type": "code",
   "execution_count": null,
   "metadata": {},
   "outputs": [],
   "source": []
  },
  {
   "cell_type": "code",
   "execution_count": null,
   "metadata": {},
   "outputs": [],
   "source": []
  },
  {
   "cell_type": "code",
   "execution_count": null,
   "metadata": {},
   "outputs": [],
   "source": []
  },
  {
   "cell_type": "code",
   "execution_count": null,
   "metadata": {},
   "outputs": [],
   "source": []
  },
  {
   "cell_type": "markdown",
   "metadata": {},
   "source": [
    "# TODOS OS REGISTROS PARA UM DADO NUMERO DE CONTRATO"
   ]
  },
  {
   "cell_type": "code",
   "execution_count": 23,
   "metadata": {},
   "outputs": [],
   "source": [
    "client = MongoClient()\n",
    "client = MongoClient('localhost', 27017)\n",
    "db = client.cobrancas\n",
    "liquidacoes_mongo = db.liquidacoes"
   ]
  },
  {
   "cell_type": "code",
   "execution_count": null,
   "metadata": {},
   "outputs": [],
   "source": []
  },
  {
   "cell_type": "code",
   "execution_count": null,
   "metadata": {},
   "outputs": [],
   "source": [
    "# EXEMPLO DE QUERY\n",
    "cursor = liquidacoes_mongo.find({'Numero_do_contrato': 54578134})\n",
    "for document in cursor:\n",
    "    pprint.pprint(document)\n",
    "    print(document['Liquidacao_ID'])"
   ]
  },
  {
   "cell_type": "code",
   "execution_count": null,
   "metadata": {},
   "outputs": [],
   "source": []
  },
  {
   "cell_type": "code",
   "execution_count": null,
   "metadata": {},
   "outputs": [],
   "source": []
  },
  {
   "cell_type": "markdown",
   "metadata": {},
   "source": [
    "# ENRIQUECIMENTO DO RELATORIO DE LIQUIDACOES COM DATA DE ORIGINACAO (PDD)"
   ]
  },
  {
   "cell_type": "code",
   "execution_count": 34,
   "metadata": {},
   "outputs": [],
   "source": [
    "#def adicione_data_de_originacao(liquidacao_ID, data_de_originacao, liquidacoes_mongo):\n",
    "#    myquery = {'Liquidacao_ID':liquidacao_ID}\n",
    "#    newvalues = { \"$set\": { \"Data_de_originacao_do_contrato\": data_de_originacao}}\n",
    "#    liquidacoes_mongo.update_one(myquery, newvalues)"
   ]
  },
  {
   "cell_type": "code",
   "execution_count": null,
   "metadata": {},
   "outputs": [],
   "source": [
    "# CARGA NO BANCO DE DADOS DESSE JEITO DEMORA MAIS DE DIA\n",
    "#for contrato in data_de_originacao_dos_contratos:\n",
    "#    data_de_originacao = data_de_originacao_dos_contratos[numero_do_contrato]\n",
    "#    cursor = liquidacoes_mongo.find({'Numero_do_contrato': int(contrato)})\n",
    "#    for document in cursor:\n",
    "#        liquidacao_ID = document['Liquidacao_ID']\n",
    "#        adicione_data_de_originacao(liquidacao_ID, data_de_originacao, liquidacoes_mongo)"
   ]
  },
  {
   "cell_type": "code",
   "execution_count": 41,
   "metadata": {},
   "outputs": [],
   "source": [
    "originacoes = []\n",
    "for i in dados.index:\n",
    "    numero_contrato = dados.loc[i,'Contrato_sem_codigo']\n",
    "    if numero_contrato in data_de_originacao_dos_contratos:\n",
    "        datetime_origin = datetime.datetime.strptime(data_de_originacao_dos_contratos[numero_contrato], '%Y-%m-%d %H:%M:%S')\n",
    "        originacoes.append(datetime_origin)\n",
    "    else:\n",
    "        datetime_origin = datetime.datetime.strptime('1500-01-01 00:00:00', '%Y-%m-%d %H:%M:%S')\n",
    "        originacoes.append(datetime_origin)"
   ]
  },
  {
   "cell_type": "code",
   "execution_count": 42,
   "metadata": {},
   "outputs": [],
   "source": [
    "dados['Data_de_originacao'] = originacoes"
   ]
  },
  {
   "cell_type": "code",
   "execution_count": null,
   "metadata": {},
   "outputs": [],
   "source": [
    "dados_validos = dados[dados['Data_de_originacao'] > datetime.datetime(1600,1,1)].copy() # removendo casos onde a data de originicao nao foi encontrada"
   ]
  },
  {
   "cell_type": "code",
   "execution_count": null,
   "metadata": {},
   "outputs": [],
   "source": []
  },
  {
   "cell_type": "code",
   "execution_count": null,
   "metadata": {},
   "outputs": [],
   "source": []
  },
  {
   "cell_type": "markdown",
   "metadata": {},
   "source": [
    "# ENRIQUECIMENTO DO RELATORIO DE LIQUIDACOES COM OCORRENCIAS DE CONTATOS TELEFONICOS"
   ]
  },
  {
   "cell_type": "code",
   "execution_count": 78,
   "metadata": {},
   "outputs": [],
   "source": [
    "dados_cobrancas = dados_validos[dados_validos.loc[:,'Dias'] > 4].copy()"
   ]
  },
  {
   "cell_type": "code",
   "execution_count": 81,
   "metadata": {},
   "outputs": [],
   "source": [
    "dados_cobrancas = dados_cobrancas.reset_index(drop=True)"
   ]
  },
  {
   "cell_type": "code",
   "execution_count": 104,
   "metadata": {},
   "outputs": [],
   "source": [
    "acionamentos = pd.read_csv('Acionamentos_01012019_a_30062019.csv', sep=';', encoding='latin-1', dtype=str)\n",
    "acionamentos = cleanDataColumns(acionamentos)\n",
    "cpf_null = acionamentos[acionamentos.loc[:,'CPF CNPJ'].isnull()].index\n",
    "acionamentos = acionamentos.drop(cpf_null)\n",
    "acionamentos = acionamentos.reset_index(drop=True)\n",
    "acionamentos = limpeza_de_cpfs(acionamentos, 'CPF CNPJ')\n",
    "# Criacao da coluna datahora\n",
    "datahora = []\n",
    "for i in acionamentos.index:\n",
    "    datahora.append(acionamentos.loc[i,'Data'] + ' ' + acionamentos.loc[i,'Hor rio'])\n",
    "acionamentos['datahora'] = datahora\n",
    "acionamentos = coluna_para_datetime_hora(acionamentos, 'datahora')"
   ]
  },
  {
   "cell_type": "code",
   "execution_count": 123,
   "metadata": {},
   "outputs": [
    {
     "data": {
      "text/plain": [
       "574980"
      ]
     },
     "execution_count": 123,
     "metadata": {},
     "output_type": "execute_result"
    }
   ],
   "source": [
    "# NUMERO DE LIQUIDACOES QUE FORAM PAGAS COM ATRASO >= 5 dias.\n",
    "# NUMERO DE LIQUIDACOES NESTE PERIODO = 2185056\n",
    "# NUMERO DE LIQUIDACOES EM ATRASO = 574980  (26%)\n",
    "# NUMERO DE ACIONAMENTOS NO PERIODO = 139197\n",
    "# NUMERO QUE NAO ACHEI NO PDD = 109467 (provavelmente a ultima parcela foi paga)\n",
    "len(dados)\n",
    "len(dados_cobrancas)\n",
    "len(acionamentos)"
   ]
  },
  {
   "cell_type": "code",
   "execution_count": 254,
   "metadata": {},
   "outputs": [],
   "source": [
    "acionamentos.loc[:,'Dias atraso'] = acionamentos.loc[:,'Dias atraso'].astype(int)"
   ]
  },
  {
   "cell_type": "code",
   "execution_count": 256,
   "metadata": {},
   "outputs": [
    {
     "data": {
      "text/plain": [
       "104777"
      ]
     },
     "execution_count": 256,
     "metadata": {},
     "output_type": "execute_result"
    }
   ],
   "source": [
    "len(acionamentos[acionamentos.loc[:,'Dias atraso'] > 60])"
   ]
  },
  {
   "cell_type": "code",
   "execution_count": 263,
   "metadata": {},
   "outputs": [
    {
     "data": {
      "text/plain": [
       "6905"
      ]
     },
     "execution_count": 263,
     "metadata": {},
     "output_type": "execute_result"
    }
   ],
   "source": [
    "len(acionamentos[\n",
    "    (acionamentos.loc[:,'Dias atraso'] <= 60) &\n",
    "    (acionamentos.loc[:,'Dias atraso'] >= 30)])"
   ]
  },
  {
   "cell_type": "code",
   "execution_count": 261,
   "metadata": {},
   "outputs": [
    {
     "data": {
      "text/plain": [
       "27515"
      ]
     },
     "execution_count": 261,
     "metadata": {},
     "output_type": "execute_result"
    }
   ],
   "source": [
    "len(acionamentos[\n",
    "    (acionamentos.loc[:,'Dias atraso'] < 30)])"
   ]
  },
  {
   "cell_type": "code",
   "execution_count": null,
   "metadata": {},
   "outputs": [],
   "source": []
  },
  {
   "cell_type": "code",
   "execution_count": null,
   "metadata": {},
   "outputs": [],
   "source": [
    "liquidacao_cobrada = []\n",
    "por_cento = int(len(dados_cobrancas)/100)\n",
    "for i in dados_cobrancas.index:\n",
    "    if i % por_cento == 0:\n",
    "        print(i/por_cento, '%')\n",
    "        \n",
    "    cpf = dados_cobrancas.loc[i,'CPF CNPJ']\n",
    "    data_liq = datetime.datetime.strptime(\n",
    "        dados_cobrancas.loc[i,'Liquida o'], \n",
    "        '%Y-%m-%d %H:%M:%S')    \n",
    "    dias_em_atraso = dados.loc[i, 'Dias']\n",
    "    foi_cobrado = False\n",
    "    acionamento_I = acionamentos[acionamentos.loc[:,'CPF CNPJ'] == cpf].copy()\n",
    "    if len(acionamento_I) != 0:\n",
    "        for j in acionamento_I.index:\n",
    "            data_do_acionamento = acionamento_I.loc[j,'datahora']\n",
    "            data_do_acionamento = datetime.datetime.strptime(\n",
    "                data_do_acionamento, \n",
    "                '%Y-%m-%d %H:%M:%S')\n",
    "            dias_que_foi_cobrado = (data_do_acionamento - data_liq).days\n",
    "            if dias_que_foi_cobrado <= 0 and dias_que_foi_cobrado >= -15:\n",
    "                foi_cobrado = True\n",
    "                break\n",
    "    liquidacao_cobrada.append(foi_cobrado)"
   ]
  },
  {
   "cell_type": "code",
   "execution_count": 153,
   "metadata": {},
   "outputs": [
    {
     "data": {
      "text/plain": [
       "Counter({False: 556584, True: 18396})"
      ]
     },
     "execution_count": 153,
     "metadata": {},
     "output_type": "execute_result"
    }
   ],
   "source": [
    "collections.Counter(liquidacao_cobrada)"
   ]
  },
  {
   "cell_type": "code",
   "execution_count": 163,
   "metadata": {},
   "outputs": [],
   "source": [
    "dados_cobrancas['foi_cobrada'] = liquidacao_cobrada"
   ]
  },
  {
   "cell_type": "code",
   "execution_count": 195,
   "metadata": {},
   "outputs": [],
   "source": [
    "dados_cobrancas['Liquida o'] = pd.to_datetime(dados_cobrancas['Liquida o'], format='%Y-%m-%d %H:%M:%S')"
   ]
  },
  {
   "cell_type": "code",
   "execution_count": null,
   "metadata": {},
   "outputs": [],
   "source": []
  },
  {
   "cell_type": "code",
   "execution_count": null,
   "metadata": {},
   "outputs": [],
   "source": []
  },
  {
   "cell_type": "code",
   "execution_count": null,
   "metadata": {},
   "outputs": [],
   "source": []
  },
  {
   "cell_type": "code",
   "execution_count": null,
   "metadata": {},
   "outputs": [],
   "source": []
  },
  {
   "cell_type": "code",
   "execution_count": null,
   "metadata": {},
   "outputs": [],
   "source": []
  },
  {
   "cell_type": "code",
   "execution_count": null,
   "metadata": {},
   "outputs": [],
   "source": []
  },
  {
   "cell_type": "code",
   "execution_count": null,
   "metadata": {},
   "outputs": [],
   "source": []
  },
  {
   "cell_type": "code",
   "execution_count": null,
   "metadata": {},
   "outputs": [],
   "source": []
  },
  {
   "cell_type": "code",
   "execution_count": null,
   "metadata": {},
   "outputs": [],
   "source": []
  },
  {
   "cell_type": "markdown",
   "metadata": {},
   "source": [
    "# CORTES NAS DATAS DE ORIGINACAO"
   ]
  },
  {
   "cell_type": "code",
   "execution_count": 198,
   "metadata": {},
   "outputs": [],
   "source": [
    "data_fim = datetime.datetime.strptime('2017-12-31 23:59:59', '%Y-%m-%d %H:%M:%S')\n",
    "safra_2017_mais = dados_cobrancas[dados_cobrancas.loc[:,'Data_de_originacao'] < data_fim].copy()"
   ]
  },
  {
   "cell_type": "code",
   "execution_count": 199,
   "metadata": {},
   "outputs": [],
   "source": [
    "data_inicio = datetime.datetime.strptime('2018-01-01 00:00:00', '%Y-%m-%d %H:%M:%S')\n",
    "data_fim = datetime.datetime.strptime('2018-03-31 23:59:59', '%Y-%m-%d %H:%M:%S')\n",
    "safra_2018_jan_mar = dados_cobrancas[\n",
    "    (dados_cobrancas.loc[:,'Data_de_originacao'] < data_fim) &\n",
    "    (dados_cobrancas.loc[:,'Data_de_originacao'] > data_inicio)].copy()"
   ]
  },
  {
   "cell_type": "code",
   "execution_count": 200,
   "metadata": {},
   "outputs": [],
   "source": [
    "data_inicio = datetime.datetime.strptime('2018-04-01 00:00:00', '%Y-%m-%d %H:%M:%S')\n",
    "data_fim = datetime.datetime.strptime('2018-06-30 23:59:59', '%Y-%m-%d %H:%M:%S')\n",
    "safra_2018_abr_jun = dados_cobrancas[\n",
    "    (dados_cobrancas.loc[:,'Data_de_originacao'] < data_fim) &\n",
    "    (dados_cobrancas.loc[:,'Data_de_originacao'] > data_inicio)].copy()"
   ]
  },
  {
   "cell_type": "code",
   "execution_count": 201,
   "metadata": {},
   "outputs": [],
   "source": [
    "data_inicio = datetime.datetime.strptime('2018-07-01 00:00:00', '%Y-%m-%d %H:%M:%S')\n",
    "data_fim = datetime.datetime.strptime('2018-09-30 23:59:59', '%Y-%m-%d %H:%M:%S')\n",
    "safra_2018_jul_set = dados_cobrancas[\n",
    "    (dados_cobrancas.loc[:,'Data_de_originacao'] < data_fim) &\n",
    "    (dados_cobrancas.loc[:,'Data_de_originacao'] > data_inicio)].copy() "
   ]
  },
  {
   "cell_type": "code",
   "execution_count": 202,
   "metadata": {},
   "outputs": [],
   "source": [
    "data_inicio = datetime.datetime.strptime('2018-10-01 00:00:00', '%Y-%m-%d %H:%M:%S')\n",
    "data_fim = datetime.datetime.strptime('2018-12-31 23:59:59', '%Y-%m-%d %H:%M:%S')\n",
    "safra_2018_out_dez = dados_cobrancas[\n",
    "    (dados_cobrancas.loc[:,'Data_de_originacao'] < data_fim) &\n",
    "    (dados_cobrancas.loc[:,'Data_de_originacao'] > data_inicio)].copy()"
   ]
  },
  {
   "cell_type": "code",
   "execution_count": 203,
   "metadata": {},
   "outputs": [],
   "source": [
    "data_inicio = datetime.datetime.strptime('2019-01-01 00:00:00', '%Y-%m-%d %H:%M:%S')\n",
    "data_fim = datetime.datetime.strptime('2019-03-31 23:59:59', '%Y-%m-%d %H:%M:%S')\n",
    "safra_2019_jan_mar = dados_cobrancas[\n",
    "    (dados_cobrancas.loc[:,'Data_de_originacao'] < data_fim) &\n",
    "    (dados_cobrancas.loc[:,'Data_de_originacao'] > data_inicio)].copy()"
   ]
  },
  {
   "cell_type": "code",
   "execution_count": 204,
   "metadata": {},
   "outputs": [],
   "source": [
    "data_inicio = datetime.datetime.strptime('2019-04-01 00:00:00', '%Y-%m-%d %H:%M:%S')\n",
    "data_fim = datetime.datetime.strptime('2019-06-30 23:59:59', '%Y-%m-%d %H:%M:%S')\n",
    "safra_2019_abr_jun = dados_cobrancas[\n",
    "    (dados_cobrancas.loc[:,'Data_de_originacao'] < data_fim) &\n",
    "    (dados_cobrancas.loc[:,'Data_de_originacao'] > data_inicio)].copy()"
   ]
  },
  {
   "cell_type": "code",
   "execution_count": null,
   "metadata": {},
   "outputs": [],
   "source": []
  },
  {
   "cell_type": "code",
   "execution_count": null,
   "metadata": {},
   "outputs": [],
   "source": []
  },
  {
   "cell_type": "code",
   "execution_count": 190,
   "metadata": {},
   "outputs": [
    {
     "data": {
      "text/plain": [
       "574980"
      ]
     },
     "execution_count": 190,
     "metadata": {},
     "output_type": "execute_result"
    }
   ],
   "source": [
    "len(safra_2017_mais) + len(safra_2018_jan_mar) + len(safra_2018_abr_jun) + len(safra_2018_jul_set) + len(safra_2018_out_dez) + len(safra_2019_jan_mar) + len(safra_2019_abr_jun)"
   ]
  },
  {
   "cell_type": "code",
   "execution_count": 248,
   "metadata": {},
   "outputs": [],
   "source": [
    "def corte_na_BAD(safra, datas_limite):\n",
    "    data_inicio, data_fim = datas_limite\n",
    "    BAD_liquidacao = safra[\n",
    "        (safra.loc[:,'Liquida o'] < data_fim) &\n",
    "        (safra.loc[:,'Liquida o'] > data_inicio)].copy()\n",
    "    cobrancas_com_sucesso = len(BAD_liquidacao[BAD_liquidacao.foi_cobrada == True])\n",
    "    total = len(BAD_liquidacao)\n",
    "    if total == 0:\n",
    "        return 'X'\n",
    "    return int(100*(total-cobrancas_com_sucesso)/total)"
   ]
  },
  {
   "cell_type": "code",
   "execution_count": 219,
   "metadata": {},
   "outputs": [],
   "source": [
    "bads = [\n",
    "    [datetime.datetime.strptime('2019-01-01 00:00:00', '%Y-%m-%d %H:%M:%S'),\n",
    "     datetime.datetime.strptime('2019-01-31 23:59:59', '%Y-%m-%d %H:%M:%S')],\n",
    "    [datetime.datetime.strptime('2019-02-01 00:00:00', '%Y-%m-%d %H:%M:%S'),\n",
    "     datetime.datetime.strptime('2019-02-28 23:59:59', '%Y-%m-%d %H:%M:%S')],\n",
    "    [datetime.datetime.strptime('2019-03-01 00:00:00', '%Y-%m-%d %H:%M:%S'),\n",
    "     datetime.datetime.strptime('2019-03-31 23:59:59', '%Y-%m-%d %H:%M:%S')],\n",
    "    [datetime.datetime.strptime('2019-04-01 00:00:00', '%Y-%m-%d %H:%M:%S'),\n",
    "     datetime.datetime.strptime('2019-04-30 23:59:59', '%Y-%m-%d %H:%M:%S')],\n",
    "    [datetime.datetime.strptime('2019-05-01 00:00:00', '%Y-%m-%d %H:%M:%S'),\n",
    "     datetime.datetime.strptime('2019-05-31 23:59:59', '%Y-%m-%d %H:%M:%S')],\n",
    "    [datetime.datetime.strptime('2019-06-01 00:00:00', '%Y-%m-%d %H:%M:%S'),\n",
    "     datetime.datetime.strptime('2019-06-30 23:59:59', '%Y-%m-%d %H:%M:%S')]\n",
    "]"
   ]
  },
  {
   "cell_type": "code",
   "execution_count": 249,
   "metadata": {},
   "outputs": [
    {
     "name": "stdout",
     "output_type": "stream",
     "text": [
      "7319\n",
      "X\n",
      "X\n",
      "X\n",
      "100\n",
      "94\n",
      "95\n"
     ]
    }
   ],
   "source": [
    "safra = safra_2019_abr_jun\n",
    "print(len(safra))\n",
    "for i in range(6):\n",
    "    print(corte_na_BAD(safra, bads[i]))"
   ]
  },
  {
   "cell_type": "code",
   "execution_count": null,
   "metadata": {},
   "outputs": [],
   "source": []
  },
  {
   "cell_type": "code",
   "execution_count": null,
   "metadata": {},
   "outputs": [],
   "source": []
  },
  {
   "cell_type": "code",
   "execution_count": null,
   "metadata": {},
   "outputs": [],
   "source": []
  },
  {
   "cell_type": "code",
   "execution_count": null,
   "metadata": {},
   "outputs": [],
   "source": []
  },
  {
   "cell_type": "code",
   "execution_count": null,
   "metadata": {},
   "outputs": [],
   "source": []
  },
  {
   "cell_type": "code",
   "execution_count": null,
   "metadata": {},
   "outputs": [],
   "source": []
  },
  {
   "cell_type": "code",
   "execution_count": 10,
   "metadata": {},
   "outputs": [
    {
     "data": {
      "text/plain": [
       "Counter({'Liquidado': 2184883, 'Parcial': 165, 'Aberto': 8})"
      ]
     },
     "execution_count": 10,
     "metadata": {},
     "output_type": "execute_result"
    }
   ],
   "source": [
    "collections.Counter(dados.loc[:,'Situa o'])"
   ]
  },
  {
   "cell_type": "code",
   "execution_count": 11,
   "metadata": {},
   "outputs": [],
   "source": [
    "dados[dados.loc[:,'Situa o'] == 'Parcial'].to_csv('exemplo_liquidacao_parcial.csv',sep=';')"
   ]
  },
  {
   "cell_type": "code",
   "execution_count": 12,
   "metadata": {},
   "outputs": [],
   "source": [
    "dados[dados.loc[:,'Situa o'] == 'Aberto'].to_csv('exemplo_liquidacao_aberta.csv',sep=';')"
   ]
  },
  {
   "cell_type": "code",
   "execution_count": 16,
   "metadata": {},
   "outputs": [],
   "source": [
    "dados[dados.loc[:,'Estornado'] == 'Sim'].to_csv('exemplo_estornado_sim.csv',sep=';')"
   ]
  },
  {
   "cell_type": "code",
   "execution_count": null,
   "metadata": {},
   "outputs": [],
   "source": []
  },
  {
   "cell_type": "code",
   "execution_count": null,
   "metadata": {},
   "outputs": [],
   "source": []
  },
  {
   "cell_type": "code",
   "execution_count": null,
   "metadata": {},
   "outputs": [],
   "source": []
  },
  {
   "cell_type": "code",
   "execution_count": null,
   "metadata": {},
   "outputs": [],
   "source": []
  }
 ],
 "metadata": {
  "kernelspec": {
   "display_name": "Python 3",
   "language": "python",
   "name": "python3"
  }
 },
 "nbformat": 4,
 "nbformat_minor": 2
}
