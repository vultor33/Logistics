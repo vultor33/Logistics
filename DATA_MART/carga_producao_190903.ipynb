{
 "cells": [
  {
   "cell_type": "code",
   "execution_count": 2,
   "metadata": {},
   "outputs": [],
   "source": [
    "import pandas as pd\n",
    "import dwsemear\n",
    "import datetime\n",
    "import collections\n",
    "import numpy as np\n",
    "\n",
    "import postgresemear as sql  # mover os arquivos para a pasta principal\n",
    "\n",
    "def calcula_idade(dados, coluna):\n",
    "    idade = []\n",
    "    for i in dados.index:\n",
    "        if dwsemear.e_nulo(dados.loc[i,coluna]):\n",
    "            idade.append(None)\n",
    "        else:\n",
    "            anos = (dados.loc[i,'datahora'] - dados.loc[i,coluna]).days\n",
    "            anos = int(round(anos/365))\n",
    "            idade.append(anos)\n",
    "    dados['idade'] = idade\n",
    "    return dados\n",
    "\n",
    "def remove_localize(data):\n",
    "    return data.tz_localize(None)\n",
    "\n",
    "def coluna_para_lista(coluna):\n",
    "    nova_coluna = []\n",
    "    for elem in coluna:\n",
    "        if dwsemear.e_nulo(elem):\n",
    "            nova_coluna.append(None)\n",
    "        else:\n",
    "            nova_coluna.append(elem)\n",
    "    return nova_coluna\n",
    "\n",
    "def para_int(elemento):\n",
    "    if dwsemear.e_nulo(elemento):\n",
    "        return None\n",
    "    else:\n",
    "        return int(elemento)\n",
    "\n",
    "def para_float(elemento):\n",
    "    if dwsemear.e_nulo(elemento):\n",
    "        return None\n",
    "    else:\n",
    "        return float(elemento)\n",
    "\n",
    "def para_str(elemento):\n",
    "    if dwsemear.e_nulo(elemento):\n",
    "        return None\n",
    "    else:\n",
    "        return str(elemento)\n",
    "    \n",
    "def para_data(elemento):\n",
    "    if dwsemear.e_nulo(elemento):\n",
    "        return None\n",
    "    else:\n",
    "        return elemento\n",
    "    \n",
    "def pegue_elementos_com_repeticao(coluna):\n",
    "    contagem = collections.Counter(coluna)\n",
    "    return list(getItemsUpToCount(contagem,1).keys())\n",
    "\n",
    "def getItemsUpToCount(dct, n):\n",
    "    upToCount = {}\n",
    "    for key in dct:\n",
    "        if dct[key] > n:\n",
    "            upToCount[key] = dct[key]\n",
    "    return upToCount\n"
   ]
  },
  {
   "cell_type": "code",
   "execution_count": 3,
   "metadata": {},
   "outputs": [],
   "source": [
    "producao = pd.read_csv('BaseClientes-SET2019.csv',sep=';', encoding='latin-1',dtype=str)"
   ]
  },
  {
   "cell_type": "code",
   "execution_count": 5,
   "metadata": {},
   "outputs": [],
   "source": [
    "producao = producao[producao.con_sta != 'C']\n",
    "producao = producao.reset_index(drop=True)"
   ]
  },
  {
   "cell_type": "code",
   "execution_count": 7,
   "metadata": {},
   "outputs": [],
   "source": [
    "producao = dwsemear.limpa_nome_das_colunas(producao)\n",
    "producao.loc[:,'Con Contrato'] = producao.loc[:,'Con Contrato'].astype(int)\n",
    "producao.loc[:,'DiasEmAtraso'] = producao.loc[:,'DiasEmAtraso'].astype(int)\n",
    "producao.loc[:,'Pedido Jretail'] = producao.loc[:,'Pedido Jretail'].astype(int)"
   ]
  },
  {
   "cell_type": "code",
   "execution_count": null,
   "metadata": {},
   "outputs": [],
   "source": []
  },
  {
   "cell_type": "markdown",
   "metadata": {},
   "source": [
    "# Eliminando contratos que ja foram adicionados"
   ]
  },
  {
   "cell_type": "code",
   "execution_count": 63,
   "metadata": {},
   "outputs": [],
   "source": [
    "# Testando\n",
    "id_adicionados = sql.query_para_pandas('''SELECT ID\n",
    "                      FROM producao''')"
   ]
  },
  {
   "cell_type": "code",
   "execution_count": 64,
   "metadata": {},
   "outputs": [],
   "source": [
    "id_adicionados = set(id_adicionados.iloc[:,0].tolist())"
   ]
  },
  {
   "cell_type": "code",
   "execution_count": 66,
   "metadata": {},
   "outputs": [],
   "source": [
    "producao.index = producao.loc[:,'Con Contrato']\n",
    "intersec = list(id_adicionados.intersection(set(producao.index)))\n",
    "producao = producao.drop(intersec)\n",
    "producao = producao.reset_index(drop=True)"
   ]
  },
  {
   "cell_type": "code",
   "execution_count": 67,
   "metadata": {},
   "outputs": [],
   "source": []
  },
  {
   "cell_type": "code",
   "execution_count": null,
   "metadata": {},
   "outputs": [],
   "source": []
  },
  {
   "cell_type": "code",
   "execution_count": null,
   "metadata": {},
   "outputs": [],
   "source": []
  },
  {
   "cell_type": "code",
   "execution_count": null,
   "metadata": {},
   "outputs": [],
   "source": []
  },
  {
   "cell_type": "code",
   "execution_count": null,
   "metadata": {},
   "outputs": [],
   "source": []
  },
  {
   "cell_type": "code",
   "execution_count": null,
   "metadata": {},
   "outputs": [],
   "source": []
  },
  {
   "cell_type": "code",
   "execution_count": 61,
   "metadata": {},
   "outputs": [],
   "source": [
    "id_producao = 0\n",
    "producao_registros = []\n",
    "for i in producao.index:\n",
    "    id_producao += 1\n",
    "#    if id_producao > 10:\n",
    "#        break\n",
    "\n",
    "    producao_registros.append((para_int(producao.loc[i,'Con Contrato']),\n",
    "                               para_int(producao.loc[i,'Pedido Jretail']),\n",
    "                               para_int(producao.loc[i,'DiasEmAtraso'])))\n",
    "                               \n",
    "        \n",
    "#    print('LINHA: ',\n",
    "#          para_int(producao.loc[i,'Con Contrato']),\n",
    "#          para_int(producao.loc[i,'Pedido Jretail']),  # esse cara poderia ser not null\n",
    "#          para_int(producao.loc[i,'DiasEmAtraso']))\n"
   ]
  },
  {
   "cell_type": "code",
   "execution_count": 62,
   "metadata": {},
   "outputs": [],
   "source": [
    "query = \"\"\" INSERT INTO producao\n",
    "            (ID,\n",
    "            codigo_proposta_crivo,\n",
    "            dias_atraso) \n",
    "            VALUES (%s,%s,%s)\"\"\"\n",
    "sql.adicione_multiplos_registros(query, producao_registros)"
   ]
  },
  {
   "cell_type": "code",
   "execution_count": null,
   "metadata": {},
   "outputs": [],
   "source": []
  },
  {
   "cell_type": "code",
   "execution_count": null,
   "metadata": {},
   "outputs": [],
   "source": []
  },
  {
   "cell_type": "code",
   "execution_count": null,
   "metadata": {},
   "outputs": [],
   "source": []
  },
  {
   "cell_type": "code",
   "execution_count": null,
   "metadata": {},
   "outputs": [],
   "source": []
  },
  {
   "cell_type": "code",
   "execution_count": 8,
   "metadata": {},
   "outputs": [],
   "source": [
    "# Testando\n",
    "parametros = [1,31]\n",
    "dados_producao = sql.query_para_pandas('''SELECT *\n",
    "                      FROM producao\n",
    "                      WHERE ID BETWEEN %s AND %s\n",
    "                      ''',parametros)"
   ]
  },
  {
   "cell_type": "code",
   "execution_count": null,
   "metadata": {},
   "outputs": [],
   "source": []
  },
  {
   "cell_type": "code",
   "execution_count": null,
   "metadata": {},
   "outputs": [],
   "source": []
  },
  {
   "cell_type": "code",
   "execution_count": null,
   "metadata": {},
   "outputs": [],
   "source": []
  },
  {
   "cell_type": "code",
   "execution_count": null,
   "metadata": {},
   "outputs": [],
   "source": []
  },
  {
   "cell_type": "code",
   "execution_count": null,
   "metadata": {},
   "outputs": [],
   "source": []
  },
  {
   "cell_type": "code",
   "execution_count": null,
   "metadata": {},
   "outputs": [],
   "source": []
  }
 ],
 "metadata": {
  "kernelspec": {
   "display_name": "Python 3",
   "language": "python",
   "name": "python3"
  },
  "language_info": {
   "codemirror_mode": {
    "name": "ipython",
    "version": 3
   },
   "file_extension": ".py",
   "mimetype": "text/x-python",
   "name": "python",
   "nbconvert_exporter": "python",
   "pygments_lexer": "ipython3",
   "version": "3.7.3"
  }
 },
 "nbformat": 4,
 "nbformat_minor": 2
}
