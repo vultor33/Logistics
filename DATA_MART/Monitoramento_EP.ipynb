{
 "cells": [
  {
   "cell_type": "code",
   "execution_count": 1,
   "metadata": {},
   "outputs": [],
   "source": [
    "# Environment do conda:   fklearn\n",
    "from pymongo import MongoClient\n",
    "import datetime\n",
    "import pprint"
   ]
  },
  {
   "cell_type": "code",
   "execution_count": 2,
   "metadata": {},
   "outputs": [],
   "source": [
    "cliente = MongoClient()\n",
    "cliente = MongoClient('localhost', 27017)\n",
    "Base_de_dados = cliente.Monitoramento_EP"
   ]
  },
  {
   "cell_type": "code",
   "execution_count": null,
   "metadata": {},
   "outputs": [],
   "source": []
  },
  {
   "cell_type": "code",
   "execution_count": null,
   "metadata": {},
   "outputs": [],
   "source": []
  },
  {
   "cell_type": "code",
   "execution_count": null,
   "metadata": {},
   "outputs": [],
   "source": []
  },
  {
   "cell_type": "code",
   "execution_count": 6,
   "metadata": {},
   "outputs": [],
   "source": [
    "Informacoes_adicionais = Base_de_dados.Informacoes_adicionais"
   ]
  },
  {
   "cell_type": "code",
   "execution_count": 7,
   "metadata": {
    "scrolled": true
   },
   "outputs": [
    {
     "data": {
      "text/plain": [
       "ObjectId('5d307cd534426ed1a78d5e67')"
      ]
     },
     "execution_count": 7,
     "metadata": {},
     "output_type": "execute_result"
    }
   ],
   "source": [
    "#Informacoes_adicionais.insert_one({\"versionamento\": \"nao definido\"}).inserted_id\n",
    "for post in Informacoes_adicionais.find():  # find all\n",
    "    pprint.pprint(post)"
   ]
  },
  {
   "cell_type": "code",
   "execution_count": null,
   "metadata": {},
   "outputs": [],
   "source": []
  },
  {
   "cell_type": "code",
   "execution_count": null,
   "metadata": {},
   "outputs": [],
   "source": [
    "# tem que ser definida uma funcao - adicionar safra\n",
    "# vai ter que receber um monte de coisa e colocar essas coisas no mongodb\n",
    "# se tiver faltando alguma coisa, ele vai completar com \"NA\"\n",
    "\n",
    "\n"
   ]
  },
  {
   "cell_type": "code",
   "execution_count": null,
   "metadata": {},
   "outputs": [],
   "source": []
  },
  {
   "cell_type": "code",
   "execution_count": null,
   "metadata": {},
   "outputs": [],
   "source": []
  },
  {
   "cell_type": "code",
   "execution_count": null,
   "metadata": {},
   "outputs": [],
   "source": []
  },
  {
   "cell_type": "code",
   "execution_count": null,
   "metadata": {},
   "outputs": [],
   "source": []
  },
  {
   "cell_type": "code",
   "execution_count": null,
   "metadata": {},
   "outputs": [],
   "source": [
    "# adicionar uma safra no mongodb"
   ]
  },
  {
   "cell_type": "code",
   "execution_count": null,
   "metadata": {},
   "outputs": [],
   "source": [
    "# imprime o significado e o formato de cada campo\n",
    "# Informacoes_adicionais.insert_one({\"Documentacao\": \"nao definido\"}).inserted_id"
   ]
  },
  {
   "cell_type": "code",
   "execution_count": null,
   "metadata": {},
   "outputs": [],
   "source": [
    "#espeficificacoes\n",
    "# o software precisa ser capaz de somar safras\n",
    "# somar produtos dentro de uma mesma safra\n",
    "# e assim por diante."
   ]
  },
  {
   "cell_type": "code",
   "execution_count": null,
   "metadata": {},
   "outputs": [],
   "source": [
    "# SAFRA\n",
    "# ESTATICOS (producao)\n",
    "# nome: produto_mes_ano\n",
    "# tipo_de_produto: \"emprestimo pessoal - carne\"\n",
    "# cliente: \"eletrossom\"\n",
    "\n",
    "\n",
    "# valor_financiado\n",
    "# quantidade_contratos\n",
    "# ticket_medio\n",
    "# valor_tc ???\n",
    "# plano_medio\n",
    "# taxa_media\n",
    "# seguro\n",
    "# quantidade_de_seguro\n",
    "# penetracao_seguro\n",
    "# carencia_media\n",
    "# contratos -> [lista de numeros]\n",
    "# - estratificacoes_score  (producao_score)  --- no primeiro momento quero apenas funcoes aqui\n",
    "#   vlt_tc por faixa de score\n",
    "#   seguro por faixa de score\n",
    "#   vlr_financiado por faixa de score\n",
    "#   ...\n",
    "#\n",
    "# DINAMICOS (inadimplencia)\n",
    "# Inadimplencia (bads)\n",
    "# bads: { {\"nome\":\"bad1\"; \"mes\":xx; \"ano\":xx; inadimplencia\":XX} }\n",
    "# Cancelados e renegociados, para onde vão? - pode ser que nas bads se observe uma reducao no numero de contratos\n",
    "# Inaidmplencia (acompanhamento diario)\n",
    "# Classificacoes de risco (por loja e conjunto de safras)"
   ]
  },
  {
   "cell_type": "code",
   "execution_count": null,
   "metadata": {},
   "outputs": [],
   "source": []
  },
  {
   "cell_type": "code",
   "execution_count": null,
   "metadata": {},
   "outputs": [],
   "source": []
  },
  {
   "cell_type": "code",
   "execution_count": null,
   "metadata": {},
   "outputs": [],
   "source": []
  },
  {
   "cell_type": "code",
   "execution_count": null,
   "metadata": {},
   "outputs": [],
   "source": []
  },
  {
   "cell_type": "code",
   "execution_count": null,
   "metadata": {},
   "outputs": [],
   "source": []
  },
  {
   "cell_type": "code",
   "execution_count": 2,
   "metadata": {},
   "outputs": [
    {
     "name": "stdout",
     "output_type": "stream",
     "text": [
      "['posts']\n",
      "{'_id': ObjectId('5d2f9c7c7b98ad8286114e9d'), 'contrato_id': 23123, 'author': 'julio', 'text': 'My first blog post!', 'tags': ['mongodb', 'python', 'pymongo'], 'date': datetime.datetime(2019, 7, 17, 22, 9, 0, 102000)}\n"
     ]
    }
   ],
   "source": [
    "# starte o mongodb primeiro: C:\\mongodb\\bin\\mongod.exe --dbpath D:\\BANCO_DE_DADOS\\mongodb\\data\\db\n",
    "# depois execute o abaixo\n",
    "from pymongo import MongoClient\n",
    "client = MongoClient()\n",
    "client = MongoClient('localhost', 27017)\n",
    "db = client.test_database\n",
    "collection = db.test_collection\n",
    "import datetime\n",
    "post = {\"contrato_id\": 23123,\n",
    "        \"author\": \"julio\",\n",
    "         \"text\": \"My first blog post!\",\n",
    "         \"tags\": [\"mongodb\", \"python\", \"pymongo\"],  # poderia ser adicionado a versao do JSON\n",
    "         \"date\": datetime.datetime.utcnow()}\n",
    "posts = db.posts\n",
    "post_id = posts.insert_one(post).inserted_id\n",
    "print(db.list_collection_names())\n",
    "print(posts.find_one({\"contrato_id\":23123}))"
   ]
  },
  {
   "cell_type": "code",
   "execution_count": 3,
   "metadata": {},
   "outputs": [
    {
     "data": {
      "text/plain": [
       "MongoClient(host=['localhost:27017'], document_class=dict, tz_aware=False, connect=True)"
      ]
     },
     "execution_count": 3,
     "metadata": {},
     "output_type": "execute_result"
    }
   ],
   "source": [
    "client"
   ]
  },
  {
   "cell_type": "markdown",
   "metadata": {},
   "source": [
    "### LER O QUE JA ESTA LA"
   ]
  },
  {
   "cell_type": "code",
   "execution_count": 4,
   "metadata": {},
   "outputs": [
    {
     "name": "stdout",
     "output_type": "stream",
     "text": [
      "{'_id': ObjectId('5d2f9c7c7b98ad8286114e9d'), 'contrato_id': 23123, 'author': 'julio', 'text': 'My first blog post!', 'tags': ['mongodb', 'python', 'pymongo'], 'date': datetime.datetime(2019, 7, 17, 22, 9, 0, 102000), 'address': {'endereco1': 'Canyon 123'}}\n"
     ]
    }
   ],
   "source": [
    "from pymongo import MongoClient\n",
    "client = MongoClient()\n",
    "client = MongoClient('localhost', 27017)\n",
    "db = client.test_database\n",
    "posts = db.posts\n",
    "print(posts.find_one({\"contrato_id\":23123}))"
   ]
  },
  {
   "cell_type": "markdown",
   "metadata": {},
   "source": [
    "# update one"
   ]
  },
  {
   "cell_type": "code",
   "execution_count": 7,
   "metadata": {},
   "outputs": [],
   "source": [
    "myquery = {\"contrato_id\":23123}\n",
    "newvalues = { \"$set\": { \"address\": {\"endereco1\": \"Canyon 123\"} } } # isso altera e adiciona algum campo"
   ]
  },
  {
   "cell_type": "code",
   "execution_count": 8,
   "metadata": {},
   "outputs": [
    {
     "data": {
      "text/plain": [
       "{'_id': ObjectId('5d2f9c7c7b98ad8286114e9d'),\n",
       " 'contrato_id': 23123,\n",
       " 'author': 'julio',\n",
       " 'text': 'My first blog post!',\n",
       " 'tags': ['mongodb', 'python', 'pymongo'],\n",
       " 'date': datetime.datetime(2019, 7, 17, 22, 9, 0, 102000),\n",
       " 'address': {'endereco1': 'Canyon 123'}}"
      ]
     },
     "execution_count": 8,
     "metadata": {},
     "output_type": "execute_result"
    }
   ],
   "source": [
    "db = client.test_database\n",
    "mycol = db.posts\n",
    "mycol.update_one(myquery, newvalues)\n",
    "posts = db.posts\n",
    "posts.find_one({\"contrato_id\":23123})"
   ]
  },
  {
   "cell_type": "code",
   "execution_count": null,
   "metadata": {},
   "outputs": [],
   "source": []
  },
  {
   "cell_type": "code",
   "execution_count": null,
   "metadata": {},
   "outputs": [],
   "source": []
  },
  {
   "cell_type": "code",
   "execution_count": null,
   "metadata": {},
   "outputs": [],
   "source": []
  },
  {
   "cell_type": "code",
   "execution_count": null,
   "metadata": {},
   "outputs": [],
   "source": []
  }
 ],
 "metadata": {
  "kernelspec": {
   "display_name": "Python 3",
   "language": "python",
   "name": "python3"
  },
  "language_info": {
   "codemirror_mode": {
    "name": "ipython",
    "version": 3
   },
   "file_extension": ".py",
   "mimetype": "text/x-python",
   "name": "python",
   "nbconvert_exporter": "python",
   "pygments_lexer": "ipython3",
   "version": "3.7.3"
  }
 },
 "nbformat": 4,
 "nbformat_minor": 2
}
