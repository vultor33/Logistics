{
 "cells": [
  {
   "cell_type": "code",
   "execution_count": 3,
   "metadata": {},
   "outputs": [],
   "source": [
    "import postgresemear as sql\n",
    "import pandas as pd\n",
    "import dwsemear\n",
    "\n",
    "dwsemear.atualize_metadados()\n",
    "\n",
    "def transformacoes_pdd(dados):\n",
    "    dados = dwsemear.limpa_nome_das_colunas(dados)\n",
    "\n",
    "    dados['Data'] = pd.to_datetime(dados['Data'], format='%Y-%m-%d %H:%M:%S')\n",
    "    dados['DatInicio'] = pd.to_datetime(dados['DatInicio'], format='%Y-%m-%d %H:%M:%S')\n",
    "    dados['DatProxParcela'] = pd.to_datetime(dados['DatProxParcela'], format='%Y-%m-%d %H:%M:%S')\n",
    "    dados['DatVencimento'] = pd.to_datetime(dados['DatVencimento'], format='%Y-%m-%d %H:%M:%S')\n",
    "    dados['DatRenegociacao'] = pd.to_datetime(dados['DatRenegociacao'], format='%Y-%m-%d %H:%M:%S')\n",
    "\n",
    "    dados.loc[:,'CpfCgc'] = dados.loc[:,'CpfCgc'].apply(dwsemear.cpf_para_inteiro)\n",
    "    dados.loc[:,'CodProduto'] = dados.loc[:,'CodProduto'].apply(dwsemear.converte_latin_para_float)\n",
    "    dados.loc[:,'Contrato'] = dados.loc[:,'Contrato'].apply(dwsemear.converte_latin_para_float)\n",
    "    dados.loc[:,'DiasAtraso'] = dados.loc[:,'DiasAtraso'].apply(dwsemear.converte_latin_para_float)\n",
    "    dados.loc[:,'QtdParAberta'] = dados.loc[:,'QtdParAberta'].apply(dwsemear.converte_latin_para_float)\n",
    "    dados.loc[:,'VlrSaldo'] = dados.loc[:,'VlrSaldo'].apply(dwsemear.converte_latin_para_float)\n",
    "    dados.loc[:,'VlrPDD'] = dados.loc[:,'VlrPDD'].apply(dwsemear.converte_latin_para_float)\n",
    "    dados.loc[:,'VlrOperacao'] = dados.loc[:,'VlrOperacao'].apply(dwsemear.converte_latin_para_float)\n",
    "    dados.loc[:,'VlrRenda'] = dados.loc[:,'VlrRenda'].apply(dwsemear.converte_latin_para_float)\n",
    "    dados.loc[:,'VlrProxParcela'] = dados.loc[:,'VlrProxParcela'].apply(dwsemear.converte_latin_para_float)\n",
    "    # RatFim = str\n",
    "    \n",
    "    # Not null\n",
    "    dados = dados.dropna(subset=['Data', 'CpfCgc', 'Contrato'])\n",
    "    return dados\n",
    "\n",
    "def transformacoes_pdd_csv(dados):\n",
    "    dados = dwsemear.limpa_nome_das_colunas(dados)\n",
    "\n",
    "    dados['Data'] = pd.to_datetime(dados['Data'], format='%m/%d/%Y')\n",
    "    dados['DatInicio'] = pd.to_datetime(dados['DatInicio'], format='%m/%d/%Y')\n",
    "    dados['DatProxParcela'] = pd.to_datetime(dados['DatProxParcela'], format='%m/%d/%Y')\n",
    "    dados['DatVencimento'] = pd.to_datetime(dados['DatVencimento'], format='%m/%d/%Y')\n",
    "    dados['DatRenegociacao'] = pd.to_datetime(dados['DatRenegociacao'], format='%m/%d/%Y')\n",
    "\n",
    "    dados.loc[:,'CpfCgc'] = dados.loc[:,'CpfCgc'].apply(dwsemear.cpf_para_inteiro)\n",
    "    dados.loc[:,'CodProduto'] = dados.loc[:,'CodProduto'].apply(dwsemear.converte_latin_para_float)\n",
    "    dados.loc[:,'Contrato'] = dados.loc[:,'Contrato'].apply(dwsemear.converte_latin_para_float)\n",
    "    dados.loc[:,'DiasAtraso'] = dados.loc[:,'DiasAtraso'].apply(dwsemear.converte_latin_para_float)\n",
    "    dados.loc[:,'QtdParAberta'] = dados.loc[:,'QtdParAberta'].apply(dwsemear.converte_latin_para_float)\n",
    "    dados.loc[:,'VlrSaldo'] = dados.loc[:,'VlrSaldo'].apply(dwsemear.converte_latin_para_float)\n",
    "    dados.loc[:,'VlrPDD'] = dados.loc[:,'VlrPDD'].apply(dwsemear.converte_latin_para_float)\n",
    "    dados.loc[:,'VlrOperacao'] = dados.loc[:,'VlrOperacao'].apply(dwsemear.converte_latin_para_float)\n",
    "    dados.loc[:,'VlrRenda'] = dados.loc[:,'VlrRenda'].apply(dwsemear.converte_latin_para_float)\n",
    "    dados.loc[:,'VlrProxParcela'] = dados.loc[:,'VlrProxParcela'].apply(dwsemear.converte_latin_para_float)\n",
    "    # RatFim = str\n",
    "    \n",
    "    # Not null\n",
    "    dados = dados.dropna(subset=['Data', 'CpfCgc', 'Contrato'])\n",
    "    return dados\n",
    "\n"
   ]
  },
  {
   "cell_type": "code",
   "execution_count": 4,
   "metadata": {},
   "outputs": [
    {
     "name": "stdout",
     "output_type": "stream",
     "text": [
      "['codigo_contrato', 'codigo_produto', 'cpf', 'data_originacao', 'data_proxima_parcela', 'data_referencia', 'data_renegociacao', 'data_vencimento', 'dias_atraso', 'id', 'quantidade_parcelas_abertas', 'rating_contabil_fim', 'renda_cliente', 'valor_financiado', 'valor_pdd', 'valor_proxima_parcela', 'valor_saldo']\n"
     ]
    }
   ],
   "source": [
    "colunas = dwsemear.pegue_colunas('pdd')\n",
    "print(colunas)"
   ]
  },
  {
   "cell_type": "code",
   "execution_count": null,
   "metadata": {},
   "outputs": [],
   "source": []
  },
  {
   "cell_type": "code",
   "execution_count": null,
   "metadata": {},
   "outputs": [],
   "source": []
  },
  {
   "cell_type": "code",
   "execution_count": 31,
   "metadata": {},
   "outputs": [],
   "source": []
  },
  {
   "cell_type": "code",
   "execution_count": null,
   "metadata": {},
   "outputs": [],
   "source": []
  },
  {
   "cell_type": "code",
   "execution_count": null,
   "metadata": {},
   "outputs": [],
   "source": []
  },
  {
   "cell_type": "markdown",
   "metadata": {},
   "source": [
    "# Extracao"
   ]
  },
  {
   "cell_type": "code",
   "execution_count": 97,
   "metadata": {},
   "outputs": [],
   "source": [
    "#dados = pd.read_csv('3040_1807.csv', sep=';', encoding='latin-1', dtype=str)\n",
    "#dados = pd.read_csv('3040_1808.csv', sep=';', encoding='latin-1', dtype=str)\n",
    "#dados = pd.read_csv('3040_1809.csv', sep=';', encoding='latin-1', dtype=str)\n",
    "#dados = pd.read_csv('3040_1810.csv', sep=';', encoding='latin-1', dtype=str)\n",
    "#dados = pd.read_csv('3040_1811.csv', sep=';', encoding='latin-1', dtype=str)\n",
    "#dados = pd.read_csv('3040_1812.csv', sep=';', encoding='latin-1', dtype=str)\n",
    "#dados = pd.read_excel('3040_01_2019.xlsx', encoding='latin-1', dtype=str)\n",
    "#dados = pd.read_excel('3040_02_2019.xlsx', encoding='latin-1', dtype=str)\n",
    "#dados = pd.read_excel('3040_03_2019.xlsx', encoding='latin-1', dtype=str)\n",
    "#dados = pd.read_excel('3040_04_2019.xlsx', encoding='latin-1', dtype=str)\n",
    "#dados = pd.read_excel('3040_05_2019.xlsx', encoding='latin-1', dtype=str)\n",
    "dados = pd.read_excel('3040_06_2019.xlsx', encoding='latin-1', dtype=str)"
   ]
  },
  {
   "cell_type": "code",
   "execution_count": null,
   "metadata": {},
   "outputs": [],
   "source": []
  },
  {
   "cell_type": "markdown",
   "metadata": {},
   "source": [
    "# Transformacao"
   ]
  },
  {
   "cell_type": "code",
   "execution_count": 98,
   "metadata": {},
   "outputs": [],
   "source": [
    "#dados = transformacoes_pdd_csv(dados)\n",
    "dados = transformacoes_pdd(dados)"
   ]
  },
  {
   "cell_type": "markdown",
   "metadata": {},
   "source": [
    "# Carga"
   ]
  },
  {
   "cell_type": "code",
   "execution_count": 99,
   "metadata": {},
   "outputs": [],
   "source": [
    "id_pdd = sql.query_max_coluna('id', 'pdd')\n",
    "if id_pdd == None:\n",
    "    id_pdd = -1\n",
    "\n",
    "registros = []\n",
    "for i in dados.index:\n",
    "    id_pdd += 1\n",
    "    registros.append((\n",
    "        dwsemear.para_int(dados.loc[i,'Contrato']),\n",
    "        dwsemear.para_int(dados.loc[i,'CodProduto']),\n",
    "        dwsemear.para_int(dados.loc[i,'CpfCgc']),\n",
    "        dwsemear.para_data(dados.loc[i,'DatInicio']),\n",
    "        dwsemear.para_data(dados.loc[i,'DatProxParcela']),\n",
    "        dwsemear.para_data(dados.loc[i,'Data']),\n",
    "        dwsemear.para_data(dados.loc[i,'DatRenegociacao']),\n",
    "        dwsemear.para_data(dados.loc[i,'DatVencimento']),\n",
    "        dwsemear.para_int(dados.loc[i,'DiasAtraso']),\n",
    "        id_pdd,\n",
    "        dwsemear.para_int(dados.loc[i,'QtdParAberta']),\n",
    "        dwsemear.para_str(dados.loc[i,'RatFim']),\n",
    "        dwsemear.para_float(dados.loc[i,'VlrRenda']),\n",
    "        dwsemear.para_float(dados.loc[i,'VlrOperacao']),\n",
    "        dwsemear.para_float(dados.loc[i,'VlrPDD']),\n",
    "        dwsemear.para_float(dados.loc[i,'VlrProxParcela']),\n",
    "        dwsemear.para_float(dados.loc[i,'VlrSaldo'])))\n",
    "\n",
    "# LOAD\n",
    "dwsemear.insira_tabela('pdd', registros)    "
   ]
  },
  {
   "cell_type": "code",
   "execution_count": null,
   "metadata": {},
   "outputs": [],
   "source": []
  },
  {
   "cell_type": "code",
   "execution_count": null,
   "metadata": {},
   "outputs": [],
   "source": []
  },
  {
   "cell_type": "code",
   "execution_count": 5,
   "metadata": {},
   "outputs": [],
   "source": [
    "# Teste simples\n",
    "import datetime\n",
    "parametros = (datetime.datetime(2018,1,1), \n",
    "              datetime.datetime(2018,2,1), \n",
    "              datetime.datetime(2019,6,30))\n",
    "dados_pdd = sql.query_para_pandas('''SELECT *\n",
    "                      FROM pdd\n",
    "                      WHERE data_originacao BETWEEN %s AND %s\n",
    "                      AND data_referencia = %s\n",
    "                      ''',parametros)\n",
    "dados_pdd.columns = colunas"
   ]
  },
  {
   "cell_type": "code",
   "execution_count": 6,
   "metadata": {},
   "outputs": [
    {
     "data": {
      "text/html": [
       "<div>\n",
       "<style scoped>\n",
       "    .dataframe tbody tr th:only-of-type {\n",
       "        vertical-align: middle;\n",
       "    }\n",
       "\n",
       "    .dataframe tbody tr th {\n",
       "        vertical-align: top;\n",
       "    }\n",
       "\n",
       "    .dataframe thead th {\n",
       "        text-align: right;\n",
       "    }\n",
       "</style>\n",
       "<table border=\"1\" class=\"dataframe\">\n",
       "  <thead>\n",
       "    <tr style=\"text-align: right;\">\n",
       "      <th></th>\n",
       "      <th>codigo_contrato</th>\n",
       "      <th>codigo_produto</th>\n",
       "      <th>cpf</th>\n",
       "      <th>data_originacao</th>\n",
       "      <th>data_proxima_parcela</th>\n",
       "      <th>data_referencia</th>\n",
       "      <th>data_renegociacao</th>\n",
       "      <th>data_vencimento</th>\n",
       "      <th>dias_atraso</th>\n",
       "      <th>id</th>\n",
       "      <th>quantidade_parcelas_abertas</th>\n",
       "      <th>rating_contabil_fim</th>\n",
       "      <th>renda_cliente</th>\n",
       "      <th>valor_financiado</th>\n",
       "      <th>valor_pdd</th>\n",
       "      <th>valor_proxima_parcela</th>\n",
       "      <th>valor_saldo</th>\n",
       "    </tr>\n",
       "  </thead>\n",
       "  <tbody>\n",
       "    <tr>\n",
       "      <th>0</th>\n",
       "      <td>53876496</td>\n",
       "      <td>3101</td>\n",
       "      <td>6301341970</td>\n",
       "      <td>2018-01-11</td>\n",
       "      <td>2019-07-11</td>\n",
       "      <td>2019-06-30</td>\n",
       "      <td>NaT</td>\n",
       "      <td>2019-07-11</td>\n",
       "      <td>80</td>\n",
       "      <td>4425632</td>\n",
       "      <td>4</td>\n",
       "      <td>D</td>\n",
       "      <td>1850.0</td>\n",
       "      <td>306601.0</td>\n",
       "      <td>11137.0</td>\n",
       "      <td>2835.0</td>\n",
       "      <td>111372.0</td>\n",
       "    </tr>\n",
       "    <tr>\n",
       "      <th>1</th>\n",
       "      <td>53910108</td>\n",
       "      <td>3100</td>\n",
       "      <td>32068301687</td>\n",
       "      <td>2018-01-25</td>\n",
       "      <td>NaT</td>\n",
       "      <td>2019-06-30</td>\n",
       "      <td>NaT</td>\n",
       "      <td>2019-06-04</td>\n",
       "      <td>26</td>\n",
       "      <td>4422950</td>\n",
       "      <td>1</td>\n",
       "      <td>B</td>\n",
       "      <td>1490.0</td>\n",
       "      <td>168322.0</td>\n",
       "      <td>165.0</td>\n",
       "      <td>165.0</td>\n",
       "      <td>165.0</td>\n",
       "    </tr>\n",
       "    <tr>\n",
       "      <th>2</th>\n",
       "      <td>53913350</td>\n",
       "      <td>3101</td>\n",
       "      <td>73415944972</td>\n",
       "      <td>2018-01-27</td>\n",
       "      <td>2019-07-10</td>\n",
       "      <td>2019-06-30</td>\n",
       "      <td>NaT</td>\n",
       "      <td>2019-08-10</td>\n",
       "      <td>0</td>\n",
       "      <td>4423008</td>\n",
       "      <td>2</td>\n",
       "      <td>A</td>\n",
       "      <td>135686.0</td>\n",
       "      <td>74009.0</td>\n",
       "      <td>67.0</td>\n",
       "      <td>7041.0</td>\n",
       "      <td>13399.0</td>\n",
       "    </tr>\n",
       "  </tbody>\n",
       "</table>\n",
       "</div>"
      ],
      "text/plain": [
       "   codigo_contrato  codigo_produto          cpf data_originacao  \\\n",
       "0         53876496            3101   6301341970      2018-01-11   \n",
       "1         53910108            3100  32068301687      2018-01-25   \n",
       "2         53913350            3101  73415944972      2018-01-27   \n",
       "\n",
       "  data_proxima_parcela data_referencia data_renegociacao data_vencimento  \\\n",
       "0           2019-07-11      2019-06-30               NaT      2019-07-11   \n",
       "1                  NaT      2019-06-30               NaT      2019-06-04   \n",
       "2           2019-07-10      2019-06-30               NaT      2019-08-10   \n",
       "\n",
       "   dias_atraso       id  quantidade_parcelas_abertas rating_contabil_fim  \\\n",
       "0           80  4425632                            4                   D   \n",
       "1           26  4422950                            1                   B   \n",
       "2            0  4423008                            2                   A   \n",
       "\n",
       "   renda_cliente  valor_financiado  valor_pdd  valor_proxima_parcela  \\\n",
       "0         1850.0          306601.0    11137.0                 2835.0   \n",
       "1         1490.0          168322.0      165.0                  165.0   \n",
       "2       135686.0           74009.0       67.0                 7041.0   \n",
       "\n",
       "   valor_saldo  \n",
       "0     111372.0  \n",
       "1        165.0  \n",
       "2      13399.0  "
      ]
     },
     "execution_count": 6,
     "metadata": {},
     "output_type": "execute_result"
    }
   ],
   "source": [
    "dados_pdd.head(3)"
   ]
  },
  {
   "cell_type": "code",
   "execution_count": null,
   "metadata": {},
   "outputs": [],
   "source": []
  },
  {
   "cell_type": "code",
   "execution_count": null,
   "metadata": {},
   "outputs": [],
   "source": []
  },
  {
   "cell_type": "code",
   "execution_count": null,
   "metadata": {},
   "outputs": [],
   "source": []
  },
  {
   "cell_type": "code",
   "execution_count": null,
   "metadata": {},
   "outputs": [],
   "source": []
  },
  {
   "cell_type": "markdown",
   "metadata": {},
   "source": [
    "# Resete tabela"
   ]
  },
  {
   "cell_type": "code",
   "execution_count": 29,
   "metadata": {},
   "outputs": [],
   "source": [
    "#dwsemear.delete_tabela('pdd')\n",
    "#dwsemear.crie_tabela('pdd')"
   ]
  },
  {
   "cell_type": "code",
   "execution_count": null,
   "metadata": {},
   "outputs": [],
   "source": []
  },
  {
   "cell_type": "code",
   "execution_count": null,
   "metadata": {},
   "outputs": [],
   "source": []
  },
  {
   "cell_type": "code",
   "execution_count": null,
   "metadata": {},
   "outputs": [],
   "source": []
  }
 ],
 "metadata": {
  "kernelspec": {
   "display_name": "Python 3",
   "language": "python",
   "name": "python3"
  },
  "language_info": {
   "codemirror_mode": {
    "name": "ipython",
    "version": 3
   },
   "file_extension": ".py",
   "mimetype": "text/x-python",
   "name": "python",
   "nbconvert_exporter": "python",
   "pygments_lexer": "ipython3",
   "version": "3.7.3"
  }
 },
 "nbformat": 4,
 "nbformat_minor": 2
}
