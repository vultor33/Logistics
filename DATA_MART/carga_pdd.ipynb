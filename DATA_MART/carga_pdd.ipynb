{
 "cells": [
  {
   "cell_type": "code",
   "execution_count": 8,
   "metadata": {},
   "outputs": [],
   "source": [
    "import pandas as pd\n",
    "import dwsemear\n",
    "import datetime\n",
    "\n",
    "import postgresemear as sql # mover os arquivos para a pasta principal"
   ]
  },
  {
   "cell_type": "markdown",
   "metadata": {},
   "source": [
    "# GERACAO DOS DADOS"
   ]
  },
  {
   "cell_type": "code",
   "execution_count": 9,
   "metadata": {},
   "outputs": [],
   "source": [
    "def substituicao_de_NaT_para_None(dados, coluna):\n",
    "    novas_datas = []\n",
    "    for i in dados.index: \n",
    "        if str(dados.loc[i,coluna]) == 'NaT':\n",
    "            novas_datas.append(None)\n",
    "        else:\n",
    "            novas_datas.append(dados.loc[i,coluna])\n",
    "    return novas_datas\n"
   ]
  },
  {
   "cell_type": "code",
   "execution_count": 44,
   "metadata": {},
   "outputs": [],
   "source": [
    "dados = pd.read_excel('3040_06_2019.xlsx', encoding='latin-1', dtype=str) # demora uns 15min\n",
    "dados = dwsemear.limpa_nome_das_colunas(dados)"
   ]
  },
  {
   "cell_type": "code",
   "execution_count": 45,
   "metadata": {},
   "outputs": [],
   "source": [
    "dados['Data'] = pd.to_datetime(dados['Data'], format='%Y-%m-%d %H:%M:%S')\n",
    "dados['DatInicio'] = pd.to_datetime(dados['DatInicio'], format='%Y-%m-%d %H:%M:%S')\n",
    "dados['DatProxParcela'] = pd.to_datetime(dados['DatProxParcela'], format='%Y-%m-%d %H:%M:%S')\n",
    "dados['DatVencimento'] = pd.to_datetime(dados['DatVencimento'], format='%Y-%m-%d %H:%M:%S')\n",
    "dados['DatRenegociacao'] = pd.to_datetime(dados['DatRenegociacao'], format='%Y-%m-%d %H:%M:%S')\n",
    "dados = dwsemear.coluna_cpf_para_inteiro(dados, 'CpfCgc')\n",
    "dados['CodProduto'] = dados['CodProduto'].astype(int)\n",
    "dados['Contrato'] = dados['Contrato'].astype(int)\n",
    "dados.loc[:,'DiasAtraso'] = dados.loc[:,'DiasAtraso'].astype(int)\n",
    "dados['QtdParAberta'] = dados['QtdParAberta'].astype(int)\n",
    "dados['VlrSaldo'] = dados['VlrSaldo'].astype(float)\n",
    "dados['VlrPDD'] = dados['VlrPDD'].astype(float)\n",
    "dados['VlrOperacao'] = dados['VlrOperacao'].astype(float)\n",
    "dados['VlrRenda'] = dados['VlrRenda'].astype(float)\n",
    "dados.loc[:, 'VlrProxParcela'] = dados.loc[:, 'VlrProxParcela'].astype(float)\n",
    "# RatFim = str"
   ]
  },
  {
   "cell_type": "code",
   "execution_count": 46,
   "metadata": {},
   "outputs": [],
   "source": [
    "Data = substituicao_de_NaT_para_None(dados, 'Data')\n",
    "DatInicio = substituicao_de_NaT_para_None(dados, 'DatInicio')\n",
    "DatProxParcela = substituicao_de_NaT_para_None(dados, 'DatProxParcela')\n",
    "DatVencimento = substituicao_de_NaT_para_None(dados, 'DatVencimento')\n",
    "DatRenegociacao = substituicao_de_NaT_para_None(dados, 'DatRenegociacao')"
   ]
  },
  {
   "cell_type": "code",
   "execution_count": null,
   "metadata": {},
   "outputs": [],
   "source": []
  },
  {
   "cell_type": "code",
   "execution_count": null,
   "metadata": {},
   "outputs": [],
   "source": []
  },
  {
   "cell_type": "markdown",
   "metadata": {},
   "source": [
    "# ORGANIZACAO DOS DADOS PARA CARGA NO POSTGRESQL"
   ]
  },
  {
   "cell_type": "code",
   "execution_count": 47,
   "metadata": {},
   "outputs": [],
   "source": [
    "id_pdd = sql.query_max_coluna('id', 'pdd')\n",
    "if id_pdd == None:\n",
    "    id_pdd = -1"
   ]
  },
  {
   "cell_type": "code",
   "execution_count": 48,
   "metadata": {},
   "outputs": [],
   "source": [
    "pdd_registros = []\n",
    "for i in dados.index:\n",
    "    id_pdd += 1\n",
    "    pdd_registros.append((\n",
    "        int(id_pdd),\n",
    "        Data[i],\n",
    "        DatInicio[i],\n",
    "        DatProxParcela[i],\n",
    "        DatVencimento[i],\n",
    "        DatRenegociacao[i],\n",
    "        int(dados.loc[i,'CpfCgc']),\n",
    "        int(dados.loc[i,'CodProduto']),\n",
    "        int(dados.loc[i,'Contrato']),\n",
    "        int(dados.loc[i,'DiasAtraso']),\n",
    "        int(dados.loc[i,'QtdParAberta']),\n",
    "        float(dados.loc[i,'VlrSaldo']),\n",
    "        float(dados.loc[i,'VlrPDD']),\n",
    "        float(dados.loc[i,'VlrOperacao']),\n",
    "        float(dados.loc[i,'VlrRenda']),\n",
    "        float(dados.loc[i, 'VlrProxParcela']),\n",
    "        dados.loc[i, 'RatFim']))\n"
   ]
  },
  {
   "cell_type": "code",
   "execution_count": null,
   "metadata": {},
   "outputs": [],
   "source": []
  },
  {
   "cell_type": "code",
   "execution_count": null,
   "metadata": {},
   "outputs": [],
   "source": []
  },
  {
   "cell_type": "code",
   "execution_count": null,
   "metadata": {},
   "outputs": [],
   "source": []
  },
  {
   "cell_type": "markdown",
   "metadata": {},
   "source": [
    "# DEFINICAO DA TABELA"
   ]
  },
  {
   "cell_type": "code",
   "execution_count": null,
   "metadata": {},
   "outputs": [],
   "source": [
    "#delete_tabela = '''DROP TABLE pdd'''\n",
    "#sql.execute_query(delete_tabela)"
   ]
  },
  {
   "cell_type": "code",
   "execution_count": 136,
   "metadata": {},
   "outputs": [],
   "source": [
    "#crie_tabela = '''CREATE TABLE pdd\n",
    "#            (ID BIGINT PRIMARY KEY NOT NULL,\n",
    "#            DataDeReferencia timestamp with time zone,\n",
    "#            DataDeOriginiacao timestamp with time zone,\n",
    "#            DataDaProximaParcela timestamp with time zone,\n",
    "#            DataDeVencimento timestamp with time zone,\n",
    "#            DataDeRenegociacao timestamp with time zone,\n",
    "#            CPF BIGINT NOT NULL,\n",
    "#            CodigoDoProduto INT NOT NULL,\n",
    "#            CodigoDoContrato INT NOT NULL,\n",
    "#            DiasEmAtraso INT NOT NULL,\n",
    "#            QuantidadeDeParcelasAbertas INT NOT NULL,\n",
    "#            ValorSaldo REAL NOT NULL,\n",
    "#            ValorPDD REAL NOT NULL,\n",
    "#            ValorOperacao REAL NOT NULL,\n",
    "#            RendaDoCliente REAL,\n",
    "#            ValorDaProximaParcela REAL NOT NULL,\n",
    "#            RatingContabilFim TEXT NOT NULL);'''\n",
    "#sql.execute_query(crie_tabela)"
   ]
  },
  {
   "cell_type": "markdown",
   "metadata": {},
   "source": [
    "# CARGA"
   ]
  },
  {
   "cell_type": "code",
   "execution_count": 49,
   "metadata": {},
   "outputs": [],
   "source": [
    "query = \"\"\" INSERT INTO pdd\n",
    "            (ID,\n",
    "            DataDeReferencia,\n",
    "            DataDeOriginiacao,\n",
    "            DataDaProximaParcela,\n",
    "            DataDeVencimento,\n",
    "            DataDeRenegociacao,\n",
    "            CPF,\n",
    "            CodigoDoProduto,\n",
    "            CodigoDoContrato,\n",
    "            DiasEmAtraso,\n",
    "            QuantidadeDeParcelasAbertas,\n",
    "            ValorSaldo,\n",
    "            ValorPDD,\n",
    "            ValorOperacao,\n",
    "            RendaDoCliente,\n",
    "            ValorDaProximaParcela,\n",
    "            RatingContabilFim) \n",
    "            VALUES (%s,%s,%s,%s,%s,\n",
    "                    %s,%s,%s,%s,%s,\n",
    "                    %s,%s,%s,%s,%s,\n",
    "                    %s,%s)\"\"\"\n",
    "sql.adicione_multiplos_registros(query, pdd_registros)"
   ]
  },
  {
   "cell_type": "code",
   "execution_count": 50,
   "metadata": {},
   "outputs": [],
   "source": [
    "# os dados dessas querys nao vem ordenados\n",
    "parametros = (datetime.datetime(2018,1,1), datetime.datetime(2018,2,1))\n",
    "dados_pdd = sql.query_para_pandas('''SELECT *\n",
    "                      FROM pdd\n",
    "                      WHERE DataDeOriginiacao BETWEEN %s AND %s\n",
    "                      ''',parametros)"
   ]
  },
  {
   "cell_type": "code",
   "execution_count": null,
   "metadata": {},
   "outputs": [],
   "source": []
  },
  {
   "cell_type": "code",
   "execution_count": null,
   "metadata": {},
   "outputs": [],
   "source": []
  },
  {
   "cell_type": "code",
   "execution_count": null,
   "metadata": {},
   "outputs": [],
   "source": []
  },
  {
   "cell_type": "code",
   "execution_count": null,
   "metadata": {},
   "outputs": [],
   "source": []
  },
  {
   "cell_type": "code",
   "execution_count": null,
   "metadata": {},
   "outputs": [],
   "source": []
  },
  {
   "cell_type": "code",
   "execution_count": null,
   "metadata": {},
   "outputs": [],
   "source": []
  },
  {
   "cell_type": "code",
   "execution_count": null,
   "metadata": {},
   "outputs": [],
   "source": []
  },
  {
   "cell_type": "code",
   "execution_count": null,
   "metadata": {},
   "outputs": [],
   "source": []
  },
  {
   "cell_type": "code",
   "execution_count": null,
   "metadata": {},
   "outputs": [],
   "source": []
  },
  {
   "cell_type": "code",
   "execution_count": null,
   "metadata": {},
   "outputs": [],
   "source": []
  }
 ],
 "metadata": {
  "kernelspec": {
   "display_name": "Python 3",
   "language": "python",
   "name": "python3"
  },
  "language_info": {
   "codemirror_mode": {
    "name": "ipython",
    "version": 3
   },
   "file_extension": ".py",
   "mimetype": "text/x-python",
   "name": "python",
   "nbconvert_exporter": "python",
   "pygments_lexer": "ipython3",
   "version": "3.7.3"
  }
 },
 "nbformat": 4,
 "nbformat_minor": 2
}
