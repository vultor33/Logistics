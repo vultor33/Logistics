{
 "cells": [
  {
   "cell_type": "code",
   "execution_count": 1,
   "metadata": {},
   "outputs": [],
   "source": [
    "# depois tem que fazer logging, documentation e etc."
   ]
  },
  {
   "cell_type": "code",
   "execution_count": 2,
   "metadata": {},
   "outputs": [],
   "source": [
    "import pandas as pd\n",
    "import dwsemear\n",
    "import datetime\n",
    "import collections\n",
    "import numpy as np\n",
    "\n",
    "import postgresemear as sql  # mover os arquivos para a pasta principal\n",
    "\n",
    "def calcula_idade(dados, coluna):\n",
    "    idade = []\n",
    "    for i in dados.index:\n",
    "        if dwsemear.e_nulo(dados.loc[i,coluna]):\n",
    "            idade.append(None)\n",
    "        else:\n",
    "            anos = (dados.loc[i,'datahora'] - dados.loc[i,coluna]).days\n",
    "            anos = int(round(anos/365))\n",
    "            idade.append(anos)\n",
    "    dados['idade'] = idade\n",
    "    return dados\n",
    "\n",
    "def remove_localize(data):\n",
    "    return data.tz_localize(None)\n",
    "\n",
    "def coluna_para_lista(coluna):\n",
    "    nova_coluna = []\n",
    "    for elem in coluna:\n",
    "        if dwsemear.e_nulo(elem):\n",
    "            nova_coluna.append(None)\n",
    "        else:\n",
    "            nova_coluna.append(elem)\n",
    "    return nova_coluna\n",
    "\n",
    "def para_int(elemento):\n",
    "    if dwsemear.e_nulo(elemento):\n",
    "        return None\n",
    "    else:\n",
    "        return int(elemento)\n",
    "\n",
    "def para_float(elemento):\n",
    "    if dwsemear.e_nulo(elemento):\n",
    "        return None\n",
    "    else:\n",
    "        return float(elemento)\n",
    "\n",
    "def para_str(elemento):\n",
    "    if dwsemear.e_nulo(elemento):\n",
    "        return None\n",
    "    else:\n",
    "        return str(elemento)\n",
    "    \n",
    "def para_data(elemento):\n",
    "    if dwsemear.e_nulo(elemento):\n",
    "        return None\n",
    "    else:\n",
    "        return elemento\n",
    "    \n",
    "def pegue_elementos_com_repeticao(coluna):\n",
    "    contagem = collections.Counter(coluna)\n",
    "    return list(getItemsUpToCount(contagem,1).keys())\n",
    "\n",
    "def getItemsUpToCount(dct, n):\n",
    "    upToCount = {}\n",
    "    for key in dct:\n",
    "        if dct[key] > n:\n",
    "            upToCount[key] = dct[key]\n",
    "    return upToCount\n"
   ]
  },
  {
   "cell_type": "markdown",
   "metadata": {},
   "source": [
    "# EXTRACT"
   ]
  },
  {
   "cell_type": "code",
   "execution_count": 3,
   "metadata": {},
   "outputs": [],
   "source": [
    "producao = pd.read_csv('BaseClientes-FEV2019.csv',sep=';', encoding='latin-1',dtype=str)"
   ]
  },
  {
   "cell_type": "code",
   "execution_count": 4,
   "metadata": {},
   "outputs": [],
   "source": [
    "producao = producao[producao.con_sta != 'C']\n",
    "producao = producao.reset_index(drop=True)"
   ]
  },
  {
   "cell_type": "code",
   "execution_count": 9,
   "metadata": {},
   "outputs": [],
   "source": []
  },
  {
   "cell_type": "code",
   "execution_count": null,
   "metadata": {},
   "outputs": [],
   "source": []
  },
  {
   "cell_type": "code",
   "execution_count": null,
   "metadata": {},
   "outputs": [],
   "source": []
  },
  {
   "cell_type": "markdown",
   "metadata": {},
   "source": [
    "# TRANSFORM"
   ]
  },
  {
   "cell_type": "code",
   "execution_count": 5,
   "metadata": {},
   "outputs": [],
   "source": [
    "producao = dwsemear.limpa_nome_das_colunas(producao)\n",
    "producao.loc[:,'Con Contrato'] = producao.loc[:,'Con Contrato'].astype(int)\n",
    "producao.loc[:,'DiasEmAtraso'] = producao.loc[:,'DiasEmAtraso'].astype(int)\n",
    "producao.loc[:,'Pedido Jretail'] = producao.loc[:,'Pedido Jretail'].astype(int)"
   ]
  },
  {
   "cell_type": "code",
   "execution_count": 11,
   "metadata": {},
   "outputs": [],
   "source": []
  },
  {
   "cell_type": "code",
   "execution_count": 12,
   "metadata": {},
   "outputs": [],
   "source": []
  },
  {
   "cell_type": "code",
   "execution_count": 13,
   "metadata": {},
   "outputs": [],
   "source": []
  },
  {
   "cell_type": "code",
   "execution_count": null,
   "metadata": {},
   "outputs": [],
   "source": []
  },
  {
   "cell_type": "code",
   "execution_count": null,
   "metadata": {},
   "outputs": [],
   "source": []
  },
  {
   "cell_type": "code",
   "execution_count": null,
   "metadata": {},
   "outputs": [],
   "source": []
  },
  {
   "cell_type": "code",
   "execution_count": null,
   "metadata": {},
   "outputs": [],
   "source": []
  },
  {
   "cell_type": "markdown",
   "metadata": {},
   "source": [
    "# LOAD"
   ]
  },
  {
   "cell_type": "code",
   "execution_count": 6,
   "metadata": {},
   "outputs": [],
   "source": [
    "id_producao = 0\n",
    "producao_registros = []\n",
    "for i in producao.index:\n",
    "    id_producao += 1\n",
    "#    if id_producao > 10:\n",
    "#        break\n",
    "\n",
    "    producao_registros.append((para_int(producao.loc[i,'Con Contrato']),\n",
    "                               para_int(producao.loc[i,'Pedido Jretail']),\n",
    "                               para_int(producao.loc[i,'DiasEmAtraso'])))\n",
    "                               \n",
    "        \n",
    "#    print('LINHA: ',\n",
    "#          para_int(producao.loc[i,'Con Contrato']),\n",
    "#          para_int(producao.loc[i,'Pedido Jretail']),  # esse cara poderia ser not null\n",
    "#          para_int(producao.loc[i,'DiasEmAtraso']))\n"
   ]
  },
  {
   "cell_type": "code",
   "execution_count": 14,
   "metadata": {},
   "outputs": [],
   "source": [
    "delete_tabela = '''DROP TABLE producao'''\n",
    "sql.execute_query(delete_tabela)"
   ]
  },
  {
   "cell_type": "code",
   "execution_count": 15,
   "metadata": {},
   "outputs": [],
   "source": [
    "# O ID e o Codigo do contrato. Nesta tabela ele tem que ser unico.\n",
    "crie_tabela = '''CREATE TABLE producao\n",
    "            (ID BIGINT PRIMARY KEY NOT NULL,\n",
    "            codigo_proposta_crivo BIGINT NOT NULL,\n",
    "            dias_atraso INT);'''\n",
    "sql.execute_query(crie_tabela)"
   ]
  },
  {
   "cell_type": "code",
   "execution_count": 16,
   "metadata": {},
   "outputs": [],
   "source": [
    "query = \"\"\" INSERT INTO producao\n",
    "            (ID,\n",
    "            codigo_proposta_crivo,\n",
    "            dias_atraso) \n",
    "            VALUES (%s,%s,%s)\"\"\"\n",
    "sql.adicione_multiplos_registros(query, producao_registros)"
   ]
  },
  {
   "cell_type": "code",
   "execution_count": null,
   "metadata": {},
   "outputs": [],
   "source": []
  },
  {
   "cell_type": "code",
   "execution_count": 18,
   "metadata": {},
   "outputs": [],
   "source": [
    "# Testando\n",
    "parametros = [51930477,51930479]\n",
    "dados_producao = sql.query_para_pandas('''SELECT *\n",
    "                      FROM producao\n",
    "                      WHERE ID BETWEEN %s AND %s\n",
    "                      ''',parametros)"
   ]
  },
  {
   "cell_type": "code",
   "execution_count": 19,
   "metadata": {},
   "outputs": [
    {
     "data": {
      "text/html": [
       "<div>\n",
       "<style scoped>\n",
       "    .dataframe tbody tr th:only-of-type {\n",
       "        vertical-align: middle;\n",
       "    }\n",
       "\n",
       "    .dataframe tbody tr th {\n",
       "        vertical-align: top;\n",
       "    }\n",
       "\n",
       "    .dataframe thead th {\n",
       "        text-align: right;\n",
       "    }\n",
       "</style>\n",
       "<table border=\"1\" class=\"dataframe\">\n",
       "  <thead>\n",
       "    <tr style=\"text-align: right;\">\n",
       "      <th></th>\n",
       "      <th>0</th>\n",
       "      <th>1</th>\n",
       "      <th>2</th>\n",
       "    </tr>\n",
       "  </thead>\n",
       "  <tbody>\n",
       "    <tr>\n",
       "      <th>0</th>\n",
       "      <td>51930477</td>\n",
       "      <td>3424687</td>\n",
       "      <td>0</td>\n",
       "    </tr>\n",
       "    <tr>\n",
       "      <th>1</th>\n",
       "      <td>51930479</td>\n",
       "      <td>3424690</td>\n",
       "      <td>0</td>\n",
       "    </tr>\n",
       "    <tr>\n",
       "      <th>2</th>\n",
       "      <td>51930478</td>\n",
       "      <td>3424686</td>\n",
       "      <td>1046</td>\n",
       "    </tr>\n",
       "  </tbody>\n",
       "</table>\n",
       "</div>"
      ],
      "text/plain": [
       "          0        1     2\n",
       "0  51930477  3424687     0\n",
       "1  51930479  3424690     0\n",
       "2  51930478  3424686  1046"
      ]
     },
     "execution_count": 19,
     "metadata": {},
     "output_type": "execute_result"
    }
   ],
   "source": [
    "dados_producao.head(3)"
   ]
  },
  {
   "cell_type": "code",
   "execution_count": null,
   "metadata": {},
   "outputs": [],
   "source": []
  },
  {
   "cell_type": "markdown",
   "metadata": {},
   "source": [
    "# Entrega"
   ]
  },
  {
   "cell_type": "code",
   "execution_count": 20,
   "metadata": {},
   "outputs": [],
   "source": [
    "dados_abt = sql.query_para_pandas('''SELECT *\n",
    "                      FROM crivo, producao\n",
    "                      WHERE crivo.ultimo_pedido = 1\n",
    "                          AND crivo.codigo_proposta = producao.codigo_proposta_crivo\n",
    "                      ''')"
   ]
  },
  {
   "cell_type": "code",
   "execution_count": null,
   "metadata": {},
   "outputs": [],
   "source": []
  },
  {
   "cell_type": "code",
   "execution_count": 21,
   "metadata": {},
   "outputs": [],
   "source": []
  },
  {
   "cell_type": "code",
   "execution_count": 22,
   "metadata": {},
   "outputs": [],
   "source": []
  },
  {
   "cell_type": "code",
   "execution_count": 23,
   "metadata": {},
   "outputs": [],
   "source": []
  },
  {
   "cell_type": "code",
   "execution_count": null,
   "metadata": {},
   "outputs": [],
   "source": []
  },
  {
   "cell_type": "code",
   "execution_count": 24,
   "metadata": {},
   "outputs": [],
   "source": []
  },
  {
   "cell_type": "code",
   "execution_count": 25,
   "metadata": {},
   "outputs": [],
   "source": []
  },
  {
   "cell_type": "code",
   "execution_count": 29,
   "metadata": {},
   "outputs": [],
   "source": []
  },
  {
   "cell_type": "code",
   "execution_count": null,
   "metadata": {},
   "outputs": [],
   "source": []
  }
 ],
 "metadata": {
  "kernelspec": {
   "display_name": "Python 3",
   "language": "python",
   "name": "python3"
  },
  "language_info": {
   "codemirror_mode": {
    "name": "ipython",
    "version": 3
   },
   "file_extension": ".py",
   "mimetype": "text/x-python",
   "name": "python",
   "nbconvert_exporter": "python",
   "pygments_lexer": "ipython3",
   "version": "3.7.3"
  }
 },
 "nbformat": 4,
 "nbformat_minor": 2
}
