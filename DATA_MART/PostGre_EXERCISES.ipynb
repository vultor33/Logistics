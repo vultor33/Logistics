{
 "cells": [
  {
   "cell_type": "code",
   "execution_count": 35,
   "metadata": {},
   "outputs": [],
   "source": [
    "# https://www.w3resource.com/sql-exercises/\n",
    "# Ficou mais exercicios la\n",
    "\n",
    "import psycopg2\n",
    "from psycopg2 import Error\n",
    "import datetime\n",
    "def mysql_connection():\n",
    "    return psycopg2.connect(user = \"postgres\",\n",
    "                                  password = \"Bolota\",\n",
    "                                  host = \"127.0.0.1\",\n",
    "                                  port = \"5432\",\n",
    "                                  database = \"guru89\")\n",
    "\n",
    "def close_connection(connection, cursor):\n",
    "    if(connection):\n",
    "        cursor.close()\n",
    "        connection.close()\n",
    "        print(\"PostgreSQL connection is closed\")    \n",
    " \n",
    "# CRIACAO DO OBJETO DATETIME COM UM STRING: \n",
    "# datetime.datetime.strptime('2012-10-05', '%Y-%m-%d')"
   ]
  },
  {
   "cell_type": "code",
   "execution_count": 2,
   "metadata": {},
   "outputs": [
    {
     "name": "stdout",
     "output_type": "stream",
     "text": [
      "Table created successfully in PostgreSQL \n",
      "PostgreSQL connection is closed\n"
     ]
    }
   ],
   "source": [
    "#CRIACAO DA TABELA SALESMAN\n",
    "try:\n",
    "    connection = mysql_connection()\n",
    "    cursor = connection.cursor()\n",
    "    create_table_query = '''CREATE TABLE Salesman   \n",
    "            (ID INT PRIMARY KEY NOT NULL,\n",
    "            name TEXT NOT NULL,\n",
    "            city TEXT,\n",
    "            comission REAL);'''\n",
    "    cursor.execute(create_table_query)\n",
    "    connection.commit()\n",
    "    print(\"Table created successfully in PostgreSQL \")\n",
    "except (Exception, psycopg2.DatabaseError) as error :\n",
    "    print (\"Error while creating PostgreSQL table\", error)\n",
    "finally:\n",
    "    close_connection(connection, cursor)"
   ]
  },
  {
   "cell_type": "code",
   "execution_count": 3,
   "metadata": {},
   "outputs": [
    {
     "name": "stdout",
     "output_type": "stream",
     "text": [
      "7 Record inserted successfully into mobile table\n",
      "PostgreSQL connection is closed\n"
     ]
    }
   ],
   "source": [
    "# ADICAO DOS DADOS NA TABELA\n",
    "records = [\n",
    "     (5001, 'James Hoog', 'New York', 0.15), # NULL e o None do python. O nan do numpy nao funciona.\n",
    "     (5002, 'Nail Knite', 'Paris', 0.13),\n",
    "     (5005, 'Pit Alex', 'London', 0.11),\n",
    "     (5006, 'Mc Lyon', 'Paris', 0.14),\n",
    "     (5007, 'Paul Adam', 'Rome', 0.13),\n",
    "     (5003, 'Lauson Hen', 'San Jose', 0.12),\n",
    "     (5012, 'Fred vultor', 'Teofilo otoni', 0.32)]\n",
    "\n",
    "try:\n",
    "    connection = mysql_connection()\n",
    "    cursor = connection.cursor()\n",
    "    sql_insert_query = \"\"\" INSERT INTO Salesman (ID, name, city, comission) \n",
    "                               VALUES (%s,%s,%s,%s)\"\"\"\n",
    "    result = cursor.executemany(sql_insert_query, records)\n",
    "    connection.commit()\n",
    "    print(cursor.rowcount, \"Record inserted successfully into mobile table\")\n",
    "except (Exception, psycopg2.DatabaseError) as error :\n",
    "    print (\"Error:  \", error)\n",
    "finally:\n",
    "    close_connection(connection, cursor)"
   ]
  },
  {
   "cell_type": "code",
   "execution_count": 26,
   "metadata": {},
   "outputs": [
    {
     "name": "stdout",
     "output_type": "stream",
     "text": [
      "EXECUCAO COM SUCESSO\n",
      "(5001, 'James Hoog', 'New York', 0.15)\n",
      "(5002, 'Nail Knite', 'Paris', 0.13)\n",
      "(5005, 'Pit Alex', 'London', 0.11)\n",
      "(5006, 'Mc Lyon', 'Paris', 0.14)\n",
      "(5007, 'Paul Adam', 'Rome', 0.13)\n",
      "(5003, 'Lauson Hen', 'San Jose', 0.12)\n",
      "(5012, 'Fred vultor', 'Teofilo otoni', 0.32)\n",
      "PostgreSQL connection is closed\n"
     ]
    }
   ],
   "source": [
    "# QUERY 1 - pegar todos os valores\n",
    "\n",
    "try:\n",
    "    connection = mysql_connection()\n",
    "    cursor = connection.cursor()\n",
    "    sql_query = \"\"\"SELECT * FROM Salesman\"\"\"\n",
    "    result = cursor.execute(sql_query)\n",
    "    connection.commit()\n",
    "    print('EXECUCAO COM SUCESSO')\n",
    "    all_table = []\n",
    "    for record in cursor: # retorno dos records\n",
    "        all_table.append(record)\n",
    "        print(record)\n",
    "except (Exception, psycopg2.DatabaseError) as error :\n",
    "    print (\"Error:  \", error)\n",
    "finally:\n",
    "    close_connection(connection, cursor)"
   ]
  },
  {
   "cell_type": "code",
   "execution_count": 28,
   "metadata": {},
   "outputs": [
    {
     "name": "stdout",
     "output_type": "stream",
     "text": [
      "EXECUCAO COM SUCESSO\n",
      "('James Hoog', 0.15)\n",
      "('Nail Knite', 0.13)\n",
      "('Pit Alex', 0.11)\n",
      "('Mc Lyon', 0.14)\n",
      "('Paul Adam', 0.13)\n",
      "('Lauson Hen', 0.12)\n",
      "('Fred vultor', 0.32)\n",
      "PostgreSQL connection is closed\n"
     ]
    }
   ],
   "source": [
    "# QUERY 2 - Cortar colunas\n",
    "try:\n",
    "    connection = mysql_connection()\n",
    "    cursor = connection.cursor()\n",
    "    sql_query = \"\"\"SELECT name, comission FROM Salesman\"\"\"\n",
    "    result = cursor.execute(sql_query)\n",
    "    connection.commit()\n",
    "    print('EXECUCAO COM SUCESSO')\n",
    "    all_table = []\n",
    "    for record in cursor: # retorno dos records\n",
    "        all_table.append(record)\n",
    "        print(record)\n",
    "except (Exception, psycopg2.DatabaseError) as error :\n",
    "    print (\"Error:  \", error)\n",
    "finally:\n",
    "    close_connection(connection, cursor)"
   ]
  },
  {
   "cell_type": "code",
   "execution_count": null,
   "metadata": {},
   "outputs": [],
   "source": [
    "# QUERY 2 - Cortar colunas\n",
    "try:\n",
    "    connection = mysql_connection()\n",
    "    cursor = connection.cursor()\n",
    "    sql_query = \"\"\"SELECT name, comission FROM Salesman\"\"\"\n",
    "    result = cursor.execute(sql_query)\n",
    "    connection.commit()\n",
    "    print('EXECUCAO COM SUCESSO')\n",
    "    all_table = []\n",
    "    for record in cursor: # retorno dos records\n",
    "        all_table.append(record)\n",
    "        print(record)\n",
    "except (Exception, psycopg2.DatabaseError) as error :\n",
    "    print (\"Error:  \", error)\n",
    "finally:\n",
    "    close_connection(connection, cursor)"
   ]
  },
  {
   "cell_type": "code",
   "execution_count": 30,
   "metadata": {},
   "outputs": [
    {
     "name": "stdout",
     "output_type": "stream",
     "text": [
      "EXECUCAO COM SUCESSO\n",
      "(5001, 'James Hoog', 'New York', 0.15)\n",
      "PostgreSQL connection is closed\n"
     ]
    }
   ],
   "source": [
    "# QUERY 3 - Por id\n",
    "try:\n",
    "    connection = mysql_connection()\n",
    "    cursor = connection.cursor()\n",
    "    sql_query = \"\"\"SELECT * FROM Salesman WHERE ID=%s\"\"\"\n",
    "    result = cursor.execute(sql_query, (5001,)) # Quando tem um valor so tem que por essa virgula\n",
    "    connection.commit()\n",
    "    print('EXECUCAO COM SUCESSO')\n",
    "    all_table = []\n",
    "    for record in cursor: # retorno dos records\n",
    "        all_table.append(record)\n",
    "        print(record)\n",
    "except (Exception, psycopg2.DatabaseError) as error :\n",
    "    print (\"Error:  \", error)\n",
    "finally:\n",
    "    close_connection(connection, cursor)"
   ]
  },
  {
   "cell_type": "code",
   "execution_count": 61,
   "metadata": {},
   "outputs": [
    {
     "name": "stdout",
     "output_type": "stream",
     "text": [
      "Table created successfully in PostgreSQL \n",
      "PostgreSQL connection is closed\n"
     ]
    }
   ],
   "source": [
    "# DELETANDO DATABELA\n",
    "try:\n",
    "    connection = mysql_connection()\n",
    "    cursor = connection.cursor()\n",
    "    create_table_query = '''DROP TABLE orders;'''\n",
    "    cursor.execute(create_table_query)\n",
    "    connection.commit()\n",
    "    print(\"Table created successfully in PostgreSQL \")\n",
    "except (Exception, psycopg2.DatabaseError) as error :\n",
    "    print (\"Error while creating PostgreSQL table\", error)\n",
    "finally:\n",
    "    close_connection(connection, cursor)"
   ]
  },
  {
   "cell_type": "code",
   "execution_count": 62,
   "metadata": {},
   "outputs": [
    {
     "name": "stdout",
     "output_type": "stream",
     "text": [
      "Table created successfully in PostgreSQL \n",
      "PostgreSQL connection is closed\n"
     ]
    }
   ],
   "source": [
    "# CRIACAO DA TABELA \n",
    "#CRIACAO DA TABELA orders\n",
    "try:\n",
    "    connection = mysql_connection()\n",
    "    cursor = connection.cursor()\n",
    "    create_table_query = '''CREATE TABLE orders  \n",
    "            (ord_no INT PRIMARY KEY NOT NULL,\n",
    "            purch_amt REAL NOT NULL,\n",
    "            ord_date timestamp with time zone NOT NULL,\n",
    "            customer_id INT NOT NULL,\n",
    "            salesman_id INT NOT NULL,\n",
    "            ord_city TEXT NOT NULL\n",
    "            );'''\n",
    "    cursor.execute(create_table_query)\n",
    "    connection.commit()\n",
    "    print(\"Table created successfully in PostgreSQL \")\n",
    "except (Exception, psycopg2.DatabaseError) as error :\n",
    "    print (\"Error while creating PostgreSQL table\", error)\n",
    "finally:\n",
    "    close_connection(connection, cursor)"
   ]
  },
  {
   "cell_type": "code",
   "execution_count": 64,
   "metadata": {},
   "outputs": [
    {
     "name": "stdout",
     "output_type": "stream",
     "text": [
      "12 Record inserted successfully into mobile table\n",
      "PostgreSQL connection is closed\n"
     ]
    }
   ],
   "source": [
    "def toDatetime(string_time):\n",
    "    return datetime.datetime.strptime(string_time, '%Y-%m-%d') \n",
    "records = [\n",
    "(70001,       150.5 ,      toDatetime('2012-10-05'),  3005,         5002, 'New York'),\n",
    "(70009,       270.65,      toDatetime('2012-09-10'),  3001,         5005, 'London'),\n",
    "(70002,       65.26 ,      toDatetime('2012-10-05'),  3002,         5001, 'New York'),\n",
    "(70004,       110.5 ,      toDatetime('2012-08-17'),  3009,         5003, 'London'),\n",
    "(70007,       948.5 ,      toDatetime('2012-09-10'),  3005,         5002, 'Alabama'),\n",
    "(70005,       2400.6,      toDatetime('2012-07-27'),  3007,         5001, 'Alabama'),\n",
    "(70008,       5760  ,      toDatetime('2012-09-10'),  3002,         5001, 'London'),\n",
    "(70010,       1983.43,     toDatetime('2012-10-10'),  3004,         5006, 'London'),\n",
    "(70003,       2480.4,      toDatetime('2012-10-10'),  3009,         5003, 'London'),\n",
    "(70012,       250.45,      toDatetime('2012-06-27'),  3008,         5002, 'New York'),\n",
    "(70011,       75.29 ,      toDatetime('2012-08-17'),  3003,         5007, 'New York'),\n",
    "(70013,       3045.6,      toDatetime('2012-04-25'),  3002,         5001, 'Alabama')]\n",
    "\n",
    "try:\n",
    "    connection = mysql_connection()\n",
    "    cursor = connection.cursor()\n",
    "    sql_insert_query = \"\"\" INSERT INTO orders (ord_no, purch_amt, ord_date, customer_id, salesman_id, ord_city) \n",
    "                               VALUES (%s,%s,%s,%s,%s,%s)\"\"\"\n",
    "    result = cursor.executemany(sql_insert_query, records)\n",
    "    connection.commit()\n",
    "    print(cursor.rowcount, \"Record inserted successfully into mobile table\")\n",
    "except (Exception, psycopg2.DatabaseError) as error :\n",
    "    print (\"Error:  \", error)\n",
    "finally:\n",
    "    close_connection(connection, cursor)"
   ]
  },
  {
   "cell_type": "code",
   "execution_count": 65,
   "metadata": {},
   "outputs": [
    {
     "name": "stdout",
     "output_type": "stream",
     "text": [
      "EXECUCAO COM SUCESSO\n",
      "(70001, 150.5, datetime.datetime(2012, 10, 5, 0, 0, tzinfo=psycopg2.tz.FixedOffsetTimezone(offset=-180, name=None)), 3005, 5002, 'New York')\n",
      "(70009, 270.65, datetime.datetime(2012, 9, 10, 0, 0, tzinfo=psycopg2.tz.FixedOffsetTimezone(offset=-180, name=None)), 3001, 5005, 'London')\n",
      "(70002, 65.26, datetime.datetime(2012, 10, 5, 0, 0, tzinfo=psycopg2.tz.FixedOffsetTimezone(offset=-180, name=None)), 3002, 5001, 'New York')\n",
      "(70004, 110.5, datetime.datetime(2012, 8, 17, 0, 0, tzinfo=psycopg2.tz.FixedOffsetTimezone(offset=-180, name=None)), 3009, 5003, 'London')\n",
      "(70007, 948.5, datetime.datetime(2012, 9, 10, 0, 0, tzinfo=psycopg2.tz.FixedOffsetTimezone(offset=-180, name=None)), 3005, 5002, 'Alabama')\n",
      "(70005, 2400.6, datetime.datetime(2012, 7, 27, 0, 0, tzinfo=psycopg2.tz.FixedOffsetTimezone(offset=-180, name=None)), 3007, 5001, 'Alabama')\n",
      "(70008, 5760.0, datetime.datetime(2012, 9, 10, 0, 0, tzinfo=psycopg2.tz.FixedOffsetTimezone(offset=-180, name=None)), 3002, 5001, 'London')\n",
      "(70010, 1983.43, datetime.datetime(2012, 10, 10, 0, 0, tzinfo=psycopg2.tz.FixedOffsetTimezone(offset=-180, name=None)), 3004, 5006, 'London')\n",
      "(70003, 2480.4, datetime.datetime(2012, 10, 10, 0, 0, tzinfo=psycopg2.tz.FixedOffsetTimezone(offset=-180, name=None)), 3009, 5003, 'London')\n",
      "(70012, 250.45, datetime.datetime(2012, 6, 27, 0, 0, tzinfo=psycopg2.tz.FixedOffsetTimezone(offset=-180, name=None)), 3008, 5002, 'New York')\n",
      "(70011, 75.29, datetime.datetime(2012, 8, 17, 0, 0, tzinfo=psycopg2.tz.FixedOffsetTimezone(offset=-180, name=None)), 3003, 5007, 'New York')\n",
      "(70013, 3045.6, datetime.datetime(2012, 4, 25, 0, 0, tzinfo=psycopg2.tz.FixedOffsetTimezone(offset=-180, name=None)), 3002, 5001, 'Alabama')\n",
      "PostgreSQL connection is closed\n"
     ]
    }
   ],
   "source": [
    "# QUERY 1 - pegar todos os valores\n",
    "\n",
    "try:\n",
    "    connection = mysql_connection()\n",
    "    cursor = connection.cursor()\n",
    "    sql_query = \"\"\"SELECT * FROM orders\"\"\"\n",
    "    result = cursor.execute(sql_query)\n",
    "    connection.commit()\n",
    "    print('EXECUCAO COM SUCESSO')\n",
    "    all_table = []\n",
    "    for record in cursor: # retorno dos records\n",
    "        all_table.append(record)\n",
    "        print(record)\n",
    "except (Exception, psycopg2.DatabaseError) as error :\n",
    "    print (\"Error:  \", error)\n",
    "finally:\n",
    "    close_connection(connection, cursor)"
   ]
  },
  {
   "cell_type": "code",
   "execution_count": 66,
   "metadata": {},
   "outputs": [
    {
     "name": "stdout",
     "output_type": "stream",
     "text": [
      "EXECUCAO COM SUCESSO\n",
      "(70001, 150.5, datetime.datetime(2012, 10, 5, 0, 0, tzinfo=psycopg2.tz.FixedOffsetTimezone(offset=-180, name=None)), 3005, 5002, 'New York')\n",
      "(70002, 65.26, datetime.datetime(2012, 10, 5, 0, 0, tzinfo=psycopg2.tz.FixedOffsetTimezone(offset=-180, name=None)), 3002, 5001, 'New York')\n",
      "(70004, 110.5, datetime.datetime(2012, 8, 17, 0, 0, tzinfo=psycopg2.tz.FixedOffsetTimezone(offset=-180, name=None)), 3009, 5003, 'London')\n",
      "(70003, 2480.4, datetime.datetime(2012, 10, 10, 0, 0, tzinfo=psycopg2.tz.FixedOffsetTimezone(offset=-180, name=None)), 3009, 5003, 'London')\n",
      "PostgreSQL connection is closed\n"
     ]
    }
   ],
   "source": [
    "# QUERY DE INTERVALOS\n",
    "\n",
    "try:\n",
    "    connection = mysql_connection()\n",
    "    cursor = connection.cursor()\n",
    "    sql_query = \"\"\"SELECT * FROM orders\n",
    "                   WHERE ord_no BETWEEN 70001 AND 70004\"\"\"\n",
    "    result = cursor.execute(sql_query)\n",
    "    connection.commit()\n",
    "    print('EXECUCAO COM SUCESSO')\n",
    "    all_table = []\n",
    "    for record in cursor: # retorno dos records\n",
    "        all_table.append(record)\n",
    "        print(record)\n",
    "except (Exception, psycopg2.DatabaseError) as error :\n",
    "    print (\"Error:  \", error)\n",
    "finally:\n",
    "    close_connection(connection, cursor)"
   ]
  },
  {
   "cell_type": "code",
   "execution_count": 67,
   "metadata": {},
   "outputs": [
    {
     "name": "stdout",
     "output_type": "stream",
     "text": [
      "EXECUCAO COM SUCESSO\n",
      "(70002, 65.26, datetime.datetime(2012, 10, 5, 0, 0, tzinfo=psycopg2.tz.FixedOffsetTimezone(offset=-180, name=None)), 3002, 5001, 'New York')\n",
      "(70010, 1983.43, datetime.datetime(2012, 10, 10, 0, 0, tzinfo=psycopg2.tz.FixedOffsetTimezone(offset=-180, name=None)), 3004, 5006, 'London')\n",
      "(70003, 2480.4, datetime.datetime(2012, 10, 10, 0, 0, tzinfo=psycopg2.tz.FixedOffsetTimezone(offset=-180, name=None)), 3009, 5003, 'London')\n",
      "PostgreSQL connection is closed\n"
     ]
    }
   ],
   "source": [
    "# QUERY DE INTERVALOS\n",
    "try:\n",
    "    connection = mysql_connection()\n",
    "    cursor = connection.cursor()\n",
    "    sql_query = \"\"\"SELECT * FROM orders\n",
    "                   WHERE ord_date BETWEEN %s AND %s\n",
    "                   AND ord_no > 70001\"\"\"\n",
    "    result = cursor.execute(sql_query, (toDatetime('2012-10-5'), toDatetime('2012-10-10'),))\n",
    "    connection.commit()\n",
    "    print('EXECUCAO COM SUCESSO')\n",
    "    all_table = []\n",
    "    for record in cursor: # retorno dos records\n",
    "        all_table.append(record)\n",
    "        print(record)\n",
    "except (Exception, psycopg2.DatabaseError) as error :\n",
    "    print (\"Error:  \", error)\n",
    "finally:\n",
    "    close_connection(connection, cursor)"
   ]
  },
  {
   "cell_type": "code",
   "execution_count": 68,
   "metadata": {},
   "outputs": [
    {
     "name": "stdout",
     "output_type": "stream",
     "text": [
      "EXECUCAO COM SUCESSO\n",
      "(5001, 'James Hoog', 'New York', 0.15)\n",
      "(5005, 'Pit Alex', 'London', 0.11)\n",
      "(5007, 'Paul Adam', 'Rome', 0.13)\n",
      "(5003, 'Lauson Hen', 'San Jose', 0.12)\n",
      "(5012, 'Fred vultor', 'Teofilo otoni', 0.32)\n",
      "PostgreSQL connection is closed\n"
     ]
    }
   ],
   "source": [
    "# QUERY CONDICIONAIS - MAIS EXEMPLOS\n",
    "try:\n",
    "    connection = mysql_connection()\n",
    "    cursor = connection.cursor()\n",
    "    sql_query = \"\"\"SELECT * FROM Salesman\n",
    "                    WHERE city = %s\n",
    "                    OR NOT city = %s\"\"\"\n",
    "    result = cursor.execute(sql_query, ('New York', 'Paris'))\n",
    "    connection.commit()\n",
    "    print('EXECUCAO COM SUCESSO')\n",
    "    all_table = []\n",
    "    for record in cursor: # retorno dos records\n",
    "        all_table.append(record)\n",
    "        print(record)\n",
    "except (Exception, psycopg2.DatabaseError) as error :\n",
    "    print (\"Error:  \", error)\n",
    "finally:\n",
    "    close_connection(connection, cursor)"
   ]
  },
  {
   "cell_type": "code",
   "execution_count": 73,
   "metadata": {},
   "outputs": [
    {
     "name": "stdout",
     "output_type": "stream",
     "text": [
      "EXECUCAO COM SUCESSO\n",
      "(5001, 'James Hoog', 'New York', 'New York', 70001)\n",
      "(5005, 'Pit Alex', 'London', 'London', 70009)\n",
      "(5001, 'James Hoog', 'New York', 'New York', 70002)\n",
      "(5005, 'Pit Alex', 'London', 'London', 70004)\n",
      "(5005, 'Pit Alex', 'London', 'London', 70008)\n",
      "(5005, 'Pit Alex', 'London', 'London', 70010)\n",
      "(5005, 'Pit Alex', 'London', 'London', 70003)\n",
      "(5001, 'James Hoog', 'New York', 'New York', 70012)\n",
      "(5001, 'James Hoog', 'New York', 'New York', 70011)\n",
      "PostgreSQL connection is closed\n"
     ]
    }
   ],
   "source": [
    "# QUERY - combinacao de tabelas NXN\n",
    "# ESSE QUE SERIA O JOIN, E SO SABER USAR\n",
    "try:\n",
    "    connection = mysql_connection()\n",
    "    cursor = connection.cursor()\n",
    "    sql_query = \"\"\"SELECT Salesman.ID, Salesman.name, Salesman.city, orders.ord_city, orders.ord_no\n",
    "                    FROM Salesman, orders\n",
    "                    WHERE Salesman.city = orders.ord_city\"\"\"\n",
    "    result = cursor.execute(sql_query, ('New York', 'Paris'))\n",
    "    connection.commit()\n",
    "    print('EXECUCAO COM SUCESSO')\n",
    "    all_table = []\n",
    "    for record in cursor: # retorno dos records\n",
    "        all_table.append(record)\n",
    "        print(record)\n",
    "except (Exception, psycopg2.DatabaseError) as error :\n",
    "    print (\"Error:  \", error)\n",
    "finally:\n",
    "    close_connection(connection, cursor)"
   ]
  },
  {
   "cell_type": "code",
   "execution_count": null,
   "metadata": {},
   "outputs": [],
   "source": []
  },
  {
   "cell_type": "code",
   "execution_count": null,
   "metadata": {},
   "outputs": [],
   "source": []
  },
  {
   "cell_type": "code",
   "execution_count": null,
   "metadata": {},
   "outputs": [],
   "source": []
  },
  {
   "cell_type": "code",
   "execution_count": null,
   "metadata": {},
   "outputs": [],
   "source": []
  },
  {
   "cell_type": "code",
   "execution_count": null,
   "metadata": {},
   "outputs": [],
   "source": []
  },
  {
   "cell_type": "code",
   "execution_count": null,
   "metadata": {},
   "outputs": [],
   "source": []
  },
  {
   "cell_type": "code",
   "execution_count": null,
   "metadata": {},
   "outputs": [],
   "source": []
  },
  {
   "cell_type": "code",
   "execution_count": null,
   "metadata": {},
   "outputs": [],
   "source": []
  }
 ],
 "metadata": {
  "kernelspec": {
   "display_name": "Python 3",
   "language": "python",
   "name": "python3"
  },
  "language_info": {
   "codemirror_mode": {
    "name": "ipython",
    "version": 3
   },
   "file_extension": ".py",
   "mimetype": "text/x-python",
   "name": "python",
   "nbconvert_exporter": "python",
   "pygments_lexer": "ipython3",
   "version": "3.7.3"
  }
 },
 "nbformat": 4,
 "nbformat_minor": 2
}
