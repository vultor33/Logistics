{
 "cells": [
  {
   "cell_type": "code",
   "execution_count": 1,
   "metadata": {},
   "outputs": [],
   "source": [
    "import pytz\n",
    "import datetime\n",
    "import pandas as pd\n",
    "import collections\n",
    "import re\n",
    "from pymongo import MongoClient\n",
    "import numpy as np"
   ]
  },
  {
   "cell_type": "code",
   "execution_count": 2,
   "metadata": {},
   "outputs": [],
   "source": [
    "def removeSpecialCharacters(value):\n",
    "    return re.sub('[^A-Za-z0-9]+', ' ', str(value))\n",
    "\n",
    "def cleanDataColumns(data):\n",
    "    trueCol = []\n",
    "    for col in data.columns:\n",
    "        trueCol.append(removeSpecialCharacters(col))\n",
    "    data.columns = trueCol\n",
    "    return data\n",
    "\n",
    "def limpa_cpf(cpfString):\n",
    "    cpfString = cpfString.replace('.','')\n",
    "    cpfString = cpfString.replace('-','')\n",
    "    return int(cpfString)    \n",
    "\n",
    "def limpeza_de_cpfs(dados, coluna):\n",
    "    dados[coluna] = dados.loc[:,coluna].apply(limpa_cpf)\n",
    "    return dados\n",
    "            \n",
    "        \n",
    "def coluna_para_datetime(data, coluna):\n",
    "    data[coluna] = pd.to_datetime(data[coluna], format='%d/%m/%Y')\n",
    "    data[coluna] = data.loc[:,coluna].apply(date_to_Brazil_East_Utc)\n",
    "    return data\n",
    "\n",
    "def string_to_datetime(datetime_string):\n",
    "    datetime_string = datetime_string.split('/')\n",
    "    datetime_value = datetime.datetime(\n",
    "        int(datetime_string[2]),\n",
    "        int(datetime_string[1]),\n",
    "        int(datetime_string[0]))\n",
    "    return date_to_Brazil_East_Utc(datetime_value)\n",
    "\n",
    "def date_to_Brazil_East_Utc(datetime_value): # ele adianta o relogio em 3 horas\n",
    "    if str(datetime_value) == 'NaT':\n",
    "        datetime_value = datetime.datetime(1500,1,1) # minha data nulla e 01/01/1500\n",
    "    local = pytz.timezone(\"Brazil/East\")\n",
    "    local_dt = local.localize(datetime_value, is_dst=True) # esse is_dst e pra ambiguidades, deve ser horario de verao aqui\n",
    "    utc_dt = local_dt.astimezone(pytz.utc)\n",
    "    return utc_dt.strftime (\"%Y-%m-%d %H:%M:%S\")\n",
    "\n",
    "def float_latin_nan_e_zero(entry):\n",
    "    if _isNan(entry):\n",
    "        return 0.0e0\n",
    "    else:\n",
    "        return floatLatin(entry)\n",
    "    \n",
    "\n",
    "def floatLatin(entry):\n",
    "    if _isNan(entry):\n",
    "        return np.nan\n",
    "    entry = str(entry).replace('.','')\n",
    "    entry = str(entry).replace(',','.')\n",
    "    return float(entry)\n",
    "\n",
    "def _isNan(value):\n",
    "    if isinstance(value, str):\n",
    "        return value == 'nan'\n",
    "    else:\n",
    "        return np.isnan(value)\n",
    "\n",
    "\n",
    "# TRANSFORMACOES ESPECIFICAS DA TABELA ACORDOS\n",
    "\n",
    "def transforma_Assessoria(valor):\n",
    "    if str(valor) == 'nan':\n",
    "        return 'SEMEAR'\n",
    "    else:\n",
    "        return str(valor)\n",
    "\n",
    "def transforma_Cobrador(valor):\n",
    "    if 'Semear_Renego' in valor:\n",
    "        return 'Renegociacao'\n",
    "    elif 'Multiparcelas' in valor:\n",
    "        return 'Multiparcelas'\n",
    "    else:\n",
    "        return 'NULO'\n",
    "\n",
    "# TRANSFORMACOES ESPECIFICAS DA TABELA ACIONAMENTOS\n",
    "\n",
    "def coluna_para_datetime_hora(data, coluna):\n",
    "    data[coluna] = pd.to_datetime(data[coluna], format='%d/%m/%Y %H:%M')\n",
    "    data[coluna] = data.loc[:,coluna].apply(date_to_Brazil_East_Utc)\n",
    "    return data\n",
    "\n",
    "# TRANSFORMACOES ESPECIFICAS DO RELATORIO 3040\n",
    "\n",
    "def coluna_para_datetime_hora_seg(data, coluna):\n",
    "    data[coluna] = pd.to_datetime(data[coluna], format='%Y-%m-%d %H:%M:%S')\n",
    "    data[coluna] = data.loc[:,coluna].apply(date_to_Brazil_East_Utc)\n",
    "    return data\n",
    "\n",
    "\n",
    "def string_para_datetime(datetime_string):\n",
    "    return datetime.datetime.strptime(datetime_string, '%Y-%m-%d %H:%M:%S')\n"
   ]
  },
  {
   "cell_type": "markdown",
   "metadata": {},
   "source": [
    "# Leitura dos dados"
   ]
  },
  {
   "cell_type": "code",
   "execution_count": 3,
   "metadata": {},
   "outputs": [],
   "source": [
    "# O ideal e que cada coluna tenha sua safra."
   ]
  },
  {
   "cell_type": "code",
   "execution_count": null,
   "metadata": {},
   "outputs": [],
   "source": [
    "dados = pd.read_excel('3040_01_2019.xlsx', encoding='latin-1', dtype=str) # demora uns 15min"
   ]
  },
  {
   "cell_type": "code",
   "execution_count": 5,
   "metadata": {},
   "outputs": [],
   "source": [
    "dados = cleanDataColumns(dados)"
   ]
  },
  {
   "cell_type": "code",
   "execution_count": 18,
   "metadata": {},
   "outputs": [
    {
     "name": "stdout",
     "output_type": "stream",
     "text": [
      "NECESSARIO UMA PROTECAO AQUI PARA CORRIGIR PROBLEMAS NOS DADOS\n"
     ]
    }
   ],
   "source": [
    "dados = coluna_para_datetime_hora_seg(dados,'DatInicio')"
   ]
  },
  {
   "cell_type": "code",
   "execution_count": 11,
   "metadata": {},
   "outputs": [],
   "source": [
    "colunas_desnecessarias = ['Data', \n",
    "                          'TipPessoa',\n",
    "                          'Cliente',\n",
    "                          'CodNatureza',\n",
    "                          'TipControle',\n",
    "                          'CodSistema',\n",
    "                          'CodModalidade',\n",
    "                          'Atividade',\n",
    "                          'TotParcelas',\n",
    "                          'RatCliente',\n",
    "                          'RatOriginal',\n",
    "                          'RatOperacao',\n",
    "                          'PrazoContratado',\n",
    "                          'Cosif',\n",
    "                          'VlrPercInd',\n",
    "                          'PorCliente',\n",
    "                          'TipCessao',\n",
    "                          'DatCessao',\n",
    "                          'PctCedido',\n",
    "                          'opccnjces',\n",
    "                          'VlrNegociado',\n",
    "                          'ContrCessao',\n",
    "                          'SalCessao',\n",
    "                          'opcidcrbc',\n",
    "                          'CodModRenegociacao',\n",
    "                          'DatRenegociacao',\n",
    "                          'FatAnual',\n",
    "                          'GrupoEconomico'\n",
    "                         ]\n",
    "dados = dados.drop(colunas_desnecessarias,axis=1)"
   ]
  },
  {
   "cell_type": "code",
   "execution_count": 12,
   "metadata": {},
   "outputs": [],
   "source": [
    "dados = limpeza_de_cpfs(dados, 'CpfCgc')"
   ]
  },
  {
   "cell_type": "code",
   "execution_count": 13,
   "metadata": {},
   "outputs": [],
   "source": [
    "dados.loc[:,'VlrSaldo'] = dados.loc[:,'VlrSaldo'].astype(float)"
   ]
  },
  {
   "cell_type": "code",
   "execution_count": 36,
   "metadata": {},
   "outputs": [],
   "source": [
    "dados = coluna_para_datetime_hora_seg(dados,'DatProxParcela') # tem muitos null aqui que precisam de tratamento"
   ]
  },
  {
   "cell_type": "code",
   "execution_count": 42,
   "metadata": {},
   "outputs": [],
   "source": [
    "dados.loc[:,'VlrProxParcela'] = dados.loc[:,'VlrProxParcela'].astype(float)"
   ]
  },
  {
   "cell_type": "code",
   "execution_count": 44,
   "metadata": {},
   "outputs": [],
   "source": [
    "dados = coluna_para_datetime_hora_seg(dados,'DatVencimento')"
   ]
  },
  {
   "cell_type": "code",
   "execution_count": 45,
   "metadata": {},
   "outputs": [],
   "source": [
    "dados = coluna_para_datetime_hora_seg(dados,'DatPrejuizo')"
   ]
  },
  {
   "cell_type": "code",
   "execution_count": 52,
   "metadata": {},
   "outputs": [
    {
     "data": {
      "text/plain": [
       "0    3101\n",
       "1    3104\n",
       "2    3090\n",
       "Name: CodProduto, dtype: object"
      ]
     },
     "execution_count": 52,
     "metadata": {},
     "output_type": "execute_result"
    }
   ],
   "source": [
    "dados.loc[:,'CodProduto'].head(3)"
   ]
  },
  {
   "cell_type": "code",
   "execution_count": null,
   "metadata": {},
   "outputs": [],
   "source": [
    "for i in range(10):\n",
    "    Codigo_produto = int(dados.loc[i,'CodProduto'])"
   ]
  },
  {
   "cell_type": "code",
   "execution_count": null,
   "metadata": {},
   "outputs": [],
   "source": []
  },
  {
   "cell_type": "code",
   "execution_count": null,
   "metadata": {},
   "outputs": [],
   "source": []
  },
  {
   "cell_type": "code",
   "execution_count": null,
   "metadata": {},
   "outputs": [],
   "source": []
  },
  {
   "cell_type": "code",
   "execution_count": null,
   "metadata": {},
   "outputs": [],
   "source": []
  },
  {
   "cell_type": "code",
   "execution_count": null,
   "metadata": {},
   "outputs": [],
   "source": []
  },
  {
   "cell_type": "code",
   "execution_count": null,
   "metadata": {},
   "outputs": [],
   "source": []
  },
  {
   "cell_type": "code",
   "execution_count": null,
   "metadata": {},
   "outputs": [],
   "source": []
  },
  {
   "cell_type": "code",
   "execution_count": null,
   "metadata": {},
   "outputs": [],
   "source": []
  },
  {
   "cell_type": "code",
   "execution_count": null,
   "metadata": {},
   "outputs": [],
   "source": []
  },
  {
   "cell_type": "code",
   "execution_count": null,
   "metadata": {},
   "outputs": [],
   "source": []
  },
  {
   "cell_type": "code",
   "execution_count": 64,
   "metadata": {},
   "outputs": [],
   "source": []
  },
  {
   "cell_type": "code",
   "execution_count": null,
   "metadata": {},
   "outputs": [],
   "source": []
  },
  {
   "cell_type": "markdown",
   "metadata": {},
   "source": [
    "# Definicao da coluna liquidacoes"
   ]
  },
  {
   "cell_type": "code",
   "execution_count": 79,
   "metadata": {},
   "outputs": [],
   "source": [
    "client = MongoClient()\n",
    "client = MongoClient('localhost', 27017)\n",
    "db = client.cobrancas\n",
    "liquidacoes_mongo = db.liquidacoes"
   ]
  },
  {
   "cell_type": "code",
   "execution_count": null,
   "metadata": {},
   "outputs": [],
   "source": []
  },
  {
   "cell_type": "code",
   "execution_count": null,
   "metadata": {},
   "outputs": [],
   "source": []
  },
  {
   "cell_type": "markdown",
   "metadata": {},
   "source": [
    "# Carga no banco de dados"
   ]
  },
  {
   "cell_type": "code",
   "execution_count": 85,
   "metadata": {},
   "outputs": [],
   "source": [
    "# demora mais ou menos 1 hora essa carga aqui\n",
    "liquidacao_ID = 0 \n",
    "for i in dados.index:\n",
    "    liquidacao_ID += 1\n",
    "    Numero_do_contrato = dados.loc[i,'Contrato_sem_codigo']\n",
    "    Codigo_renegociacao_contrato = dados.loc[i,'Contrato_codigo_renegociacao']\n",
    "    Parcela = dados.loc[i, 'Parcela']\n",
    "    Data_de_vencimento_da_parcela_liquidada = dados.loc[i, 'Vencimento']\n",
    "    Data_de_liquidacao = dados.loc[i, 'Liquida o']\n",
    "    Codigo_do_produto = dados.loc[i, 'produtos_codigos']\n",
    "    Situacao_da_liquidacao = dados.loc[i,'Situa o']\n",
    "    Numero_do_CPF = dados.loc[i,'CPF CNPJ']\n",
    "    Dias_em_atraso_na_hora_da_liquidacao = dados.loc[i,'Dias']\n",
    "    Codigo_da_forma_de_liquidacao = dados.loc[i,'codigo_da_forma_de_liquidacao']\n",
    "    Estornado = dados.loc[i,'Estornado']\n",
    "    Valor_recebido_na_liquidacao = dados.loc[i,'Recebido']\n",
    "    dados_dict = {\n",
    "        'Liquidacao_ID': liquidacao_ID,\n",
    "        'Numero_do_contrato': int(Numero_do_contrato),\n",
    "        'Data_da_liquidacao': Data_de_liquidacao,\n",
    "        'Codigo_renegociacao_contrato': int(Codigo_renegociacao_contrato),\n",
    "        'Parcela_liquidada': int(Parcela),\n",
    "        'Data_de_vencimento_da_parcela_liquidada': Data_de_vencimento_da_parcela_liquidada,\n",
    "        'Codigo_do_produto': int(Codigo_do_produto),\n",
    "        'Situacao_da_liquidacao': str(Situacao_da_liquidacao), # poucos casos com situacao parcial aqui\n",
    "        'Numero_do_CPF': int(Numero_do_CPF),\n",
    "        'Dias_em_atraso_na_hora_da_liquidacao': int(Dias_em_atraso_na_hora_da_liquidacao),\n",
    "        'Codigo_da_forma_de_liquidacao': int(Codigo_da_forma_de_liquidacao),\n",
    "        'Estornado': str(Estornado),\n",
    "        'Valor_recebido_na_liquidacao': Valor_recebido_na_liquidacao\n",
    "    }\n",
    "\n",
    "    liquidacoes_mongo.insert_one(dados_dict)"
   ]
  },
  {
   "cell_type": "code",
   "execution_count": null,
   "metadata": {},
   "outputs": [],
   "source": []
  },
  {
   "cell_type": "code",
   "execution_count": null,
   "metadata": {},
   "outputs": [],
   "source": []
  },
  {
   "cell_type": "code",
   "execution_count": null,
   "metadata": {},
   "outputs": [],
   "source": []
  },
  {
   "cell_type": "code",
   "execution_count": null,
   "metadata": {},
   "outputs": [],
   "source": []
  },
  {
   "cell_type": "markdown",
   "metadata": {},
   "source": [
    "# Metadados que mapeiam os codigos dos produtos"
   ]
  },
  {
   "cell_type": "code",
   "execution_count": 107,
   "metadata": {},
   "outputs": [],
   "source": [
    "informacoes_adicionais = db.informacoes_adicionais"
   ]
  },
  {
   "cell_type": "code",
   "execution_count": 108,
   "metadata": {},
   "outputs": [
    {
     "data": {
      "text/plain": [
       "<pymongo.results.InsertOneResult at 0x2a150e9cf88>"
      ]
     },
     "execution_count": 108,
     "metadata": {},
     "output_type": "execute_result"
    }
   ],
   "source": [
    "#informacoes_adicionais.insert_one() Adicionar metadados aqui."
   ]
  },
  {
   "cell_type": "code",
   "execution_count": null,
   "metadata": {},
   "outputs": [],
   "source": []
  },
  {
   "cell_type": "code",
   "execution_count": null,
   "metadata": {},
   "outputs": [],
   "source": []
  },
  {
   "cell_type": "code",
   "execution_count": null,
   "metadata": {},
   "outputs": [],
   "source": []
  },
  {
   "cell_type": "markdown",
   "metadata": {},
   "source": [
    "# Todos os registros para um dado CPF"
   ]
  },
  {
   "cell_type": "code",
   "execution_count": 88,
   "metadata": {},
   "outputs": [
    {
     "name": "stdout",
     "output_type": "stream",
     "text": [
      "{'Codigo_da_forma_de_liquidacao': 123,\n",
      " 'Codigo_do_produto': 3101,\n",
      " 'Codigo_renegociacao_contrato': 0,\n",
      " 'Data_da_liquidacao': '2019-01-15 02:00:00',\n",
      " 'Data_de_vencimento_da_parcela_liquidada': '2019-01-06 02:00:00',\n",
      " 'Dias_em_atraso_na_hora_da_liquidacao': 9,\n",
      " 'Estornado': 'NÃ£o',\n",
      " 'Liquidacao_ID': 227478,\n",
      " 'Numero_do_CPF': 60014075920,\n",
      " 'Numero_do_contrato': 54245182,\n",
      " 'Parcela_liquidada': 7,\n",
      " 'Situacao_da_liquidacao': 'Liquidado',\n",
      " 'Valor_recebido_na_liquidacao': 139.43,\n",
      " '_id': ObjectId('5d41d360d44318a2f4ee03a9')}\n",
      "{'Codigo_da_forma_de_liquidacao': 123,\n",
      " 'Codigo_do_produto': 3101,\n",
      " 'Codigo_renegociacao_contrato': 0,\n",
      " 'Data_da_liquidacao': '2019-02-12 02:00:00',\n",
      " 'Data_de_vencimento_da_parcela_liquidada': '2019-02-06 02:00:00',\n",
      " 'Dias_em_atraso_na_hora_da_liquidacao': 6,\n",
      " 'Estornado': 'NÃ£o',\n",
      " 'Liquidacao_ID': 573279,\n",
      " 'Numero_do_CPF': 60014075920,\n",
      " 'Numero_do_contrato': 54245182,\n",
      " 'Parcela_liquidada': 8,\n",
      " 'Situacao_da_liquidacao': 'Liquidado',\n",
      " 'Valor_recebido_na_liquidacao': 137.35,\n",
      " '_id': ObjectId('5d41d520d44318a2f4f34a72')}\n",
      "{'Codigo_da_forma_de_liquidacao': 123,\n",
      " 'Codigo_do_produto': 3101,\n",
      " 'Codigo_renegociacao_contrato': 0,\n",
      " 'Data_da_liquidacao': '2019-03-13 03:00:00',\n",
      " 'Data_de_vencimento_da_parcela_liquidada': '2019-03-06 03:00:00',\n",
      " 'Dias_em_atraso_na_hora_da_liquidacao': 7,\n",
      " 'Estornado': 'NÃ£o',\n",
      " 'Liquidacao_ID': 945080,\n",
      " 'Numero_do_CPF': 60014075920,\n",
      " 'Numero_do_contrato': 54245182,\n",
      " 'Parcela_liquidada': 9,\n",
      " 'Situacao_da_liquidacao': 'Liquidado',\n",
      " 'Valor_recebido_na_liquidacao': 138.04,\n",
      " '_id': ObjectId('5d41d708d44318a2f4f8f6cb')}\n",
      "{'Codigo_da_forma_de_liquidacao': 123,\n",
      " 'Codigo_do_produto': 3101,\n",
      " 'Codigo_renegociacao_contrato': 0,\n",
      " 'Data_da_liquidacao': '2019-04-12 03:00:00',\n",
      " 'Data_de_vencimento_da_parcela_liquidada': '2019-04-06 03:00:00',\n",
      " 'Dias_em_atraso_na_hora_da_liquidacao': 6,\n",
      " 'Estornado': 'NÃ£o',\n",
      " 'Liquidacao_ID': 1323248,\n",
      " 'Numero_do_CPF': 60014075920,\n",
      " 'Numero_do_contrato': 54245182,\n",
      " 'Parcela_liquidada': 10,\n",
      " 'Situacao_da_liquidacao': 'Liquidado',\n",
      " 'Valor_recebido_na_liquidacao': 137.35,\n",
      " '_id': ObjectId('5d41d90dd44318a2f4febc03')}\n",
      "{'Codigo_da_forma_de_liquidacao': 123,\n",
      " 'Codigo_do_produto': 3101,\n",
      " 'Codigo_renegociacao_contrato': 0,\n",
      " 'Data_da_liquidacao': '2019-05-14 03:00:00',\n",
      " 'Data_de_vencimento_da_parcela_liquidada': '2019-05-06 03:00:00',\n",
      " 'Dias_em_atraso_na_hora_da_liquidacao': 8,\n",
      " 'Estornado': 'NÃ£o',\n",
      " 'Liquidacao_ID': 1695411,\n",
      " 'Numero_do_CPF': 60014075920,\n",
      " 'Numero_do_contrato': 54245182,\n",
      " 'Parcela_liquidada': 11,\n",
      " 'Situacao_da_liquidacao': 'Liquidado',\n",
      " 'Valor_recebido_na_liquidacao': 138.74,\n",
      " '_id': ObjectId('5d41daf3d44318a2f40469c6')}\n",
      "{'Codigo_da_forma_de_liquidacao': 123,\n",
      " 'Codigo_do_produto': 3101,\n",
      " 'Codigo_renegociacao_contrato': 0,\n",
      " 'Data_da_liquidacao': '2019-06-06 03:00:00',\n",
      " 'Data_de_vencimento_da_parcela_liquidada': '2019-06-06 03:00:00',\n",
      " 'Dias_em_atraso_na_hora_da_liquidacao': 0,\n",
      " 'Estornado': 'NÃ£o',\n",
      " 'Liquidacao_ID': 2185056,\n",
      " 'Numero_do_CPF': 60014075920,\n",
      " 'Numero_do_contrato': 54245182,\n",
      " 'Parcela_liquidada': 12,\n",
      " 'Situacao_da_liquidacao': 'Liquidado',\n",
      " 'Valor_recebido_na_liquidacao': 130.56,\n",
      " '_id': ObjectId('5d41dd6fd44318a2f40be273')}\n"
     ]
    }
   ],
   "source": [
    "import pprint\n",
    "cursor = liquidacoes_mongo.find({'Numero_do_CPF': 60014075920})\n",
    "for document in cursor:\n",
    "    pprint.pprint(document)"
   ]
  },
  {
   "cell_type": "code",
   "execution_count": null,
   "metadata": {},
   "outputs": [],
   "source": []
  },
  {
   "cell_type": "markdown",
   "metadata": {},
   "source": [
    "# Todos os registros em um determinado intervalo de datas"
   ]
  },
  {
   "cell_type": "code",
   "execution_count": null,
   "metadata": {},
   "outputs": [],
   "source": [
    "start = date_to_Brazil_East_Utc(datetime.datetime(2019, 6, 3))\n",
    "end = date_to_Brazil_East_Utc(datetime.datetime(2019, 6, 4))\n",
    "query_datas_limite = {'Data_da_liquidacao': {'$lt': end, '$gte': start}}\n",
    "cursor = liquidacoes_mongo.find(query_datas_limite)\n",
    "for document in cursor:\n",
    "    print(document)"
   ]
  },
  {
   "cell_type": "code",
   "execution_count": null,
   "metadata": {},
   "outputs": [],
   "source": []
  },
  {
   "cell_type": "code",
   "execution_count": null,
   "metadata": {},
   "outputs": [],
   "source": []
  },
  {
   "cell_type": "code",
   "execution_count": null,
   "metadata": {},
   "outputs": [],
   "source": []
  },
  {
   "cell_type": "code",
   "execution_count": null,
   "metadata": {},
   "outputs": [],
   "source": []
  },
  {
   "cell_type": "code",
   "execution_count": null,
   "metadata": {},
   "outputs": [],
   "source": []
  },
  {
   "cell_type": "code",
   "execution_count": null,
   "metadata": {},
   "outputs": [],
   "source": []
  }
 ],
 "metadata": {
  "kernelspec": {
   "display_name": "Python 3",
   "language": "python",
   "name": "python3"
  },
  "language_info": {
   "codemirror_mode": {
    "name": "ipython",
    "version": 3
   },
   "file_extension": ".py",
   "mimetype": "text/x-python",
   "name": "python",
   "nbconvert_exporter": "python",
   "pygments_lexer": "ipython3",
   "version": "3.7.3"
  }
 },
 "nbformat": 4,
 "nbformat_minor": 2
}
