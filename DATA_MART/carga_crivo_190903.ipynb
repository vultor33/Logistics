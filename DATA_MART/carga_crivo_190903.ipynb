{
 "cells": [
  {
   "cell_type": "code",
   "execution_count": 1,
   "metadata": {},
   "outputs": [],
   "source": [
    "import pandas as pd\n",
    "import dwsemear\n",
    "import datetime\n",
    "import collections\n",
    "import numpy as np\n",
    "\n",
    "import postgresemear as sql  # mover os arquivos para a pasta principal\n",
    "\n",
    "def calcula_idade(dados, coluna):\n",
    "    idade = []\n",
    "    for i in dados.index:\n",
    "        if dwsemear.e_nulo(dados.loc[i,coluna]):\n",
    "            idade.append(None)\n",
    "        else:\n",
    "            anos = (dados.loc[i,'datahora'] - dados.loc[i,coluna]).days\n",
    "            anos = int(round(anos/365))\n",
    "            idade.append(anos)\n",
    "    dados['idade'] = idade\n",
    "    return dados\n",
    "\n",
    "def remove_localize(data):\n",
    "    return data.tz_localize(None)\n",
    "\n",
    "def coluna_para_lista(coluna):\n",
    "    nova_coluna = []\n",
    "    for elem in coluna:\n",
    "        if dwsemear.e_nulo(elem):\n",
    "            nova_coluna.append(None)\n",
    "        else:\n",
    "            nova_coluna.append(elem)\n",
    "    return nova_coluna\n",
    "\n",
    "def para_int(elemento):\n",
    "    if dwsemear.e_nulo(elemento):\n",
    "        return None\n",
    "    if type(elemento) not int:\n",
    "        raise TypeError(str(elemento) + \" precisa ser um inteiro\")\n",
    "    else:\n",
    "        return int(elemento)\n",
    "\n",
    "def para_float(elemento):\n",
    "    if dwsemear.e_nulo(elemento):\n",
    "        return None\n",
    "    if type(elemento) not float:\n",
    "        raise TypeError(str(elemento) + \" precisa ser um numero real\")\n",
    "    else:\n",
    "        return float(elemento)\n",
    "\n",
    "def para_str(elemento):\n",
    "    if dwsemear.e_nulo(elemento):\n",
    "        return None\n",
    "    if type(elemento) not str:\n",
    "        raise TypeError(str(elemento) + \" precisa ser um texto\")    \n",
    "    else:\n",
    "        return str(elemento)\n",
    "    \n",
    "def para_data(elemento):\n",
    "    if dwsemear.e_nulo(elemento):\n",
    "        return None\n",
    "    else:\n",
    "        return elemento\n",
    "    \n",
    "def pegue_elementos_com_repeticao(coluna):\n",
    "    contagem = collections.Counter(coluna)\n",
    "    return list(getItemsUpToCount(contagem,1).keys())\n",
    "\n",
    "def getItemsUpToCount(dct, n):\n",
    "    upToCount = {}\n",
    "    for key in dct:\n",
    "        if dct[key] > n:\n",
    "            upToCount[key] = dct[key]\n",
    "    return upToCount\n"
   ]
  },
  {
   "cell_type": "code",
   "execution_count": 28,
   "metadata": {},
   "outputs": [],
   "source": [
    "crivo = pd.read_csv('190903_crivo.csv',sep=';', encoding='latin-1',dtype=str)"
   ]
  },
  {
   "cell_type": "code",
   "execution_count": 29,
   "metadata": {},
   "outputs": [],
   "source": [
    "crivo = dwsemear.limpa_nome_das_colunas(crivo)\n",
    "crivo = dwsemear.coluna_cpf_para_inteiro(crivo, 'CPF')"
   ]
  },
  {
   "cell_type": "code",
   "execution_count": 30,
   "metadata": {},
   "outputs": [],
   "source": [
    "# Obtendo timestamp do evento (data + hora)\n",
    "datahora = []\n",
    "for i in crivo.index:\n",
    "    datahora.append(crivo.loc[i,' Data'] + ' ' + crivo.loc[i,' Hora'])\n",
    "crivo['datahora'] = datahora    \n",
    "crivo['datahora'] = pd.to_datetime(crivo['datahora'], format='%d/%m/%Y %I:%M:%S %p')"
   ]
  },
  {
   "cell_type": "code",
   "execution_count": 36,
   "metadata": {},
   "outputs": [],
   "source": [
    "data_inicio = datetime.datetime(2018, 11, 6) # ja fizemos carga dos resultados antes desse\n",
    "crivo = crivo[crivo.datahora >= data_inicio]\n",
    "crivo = crivo.reset_index(drop=False)"
   ]
  },
  {
   "cell_type": "code",
   "execution_count": 37,
   "metadata": {},
   "outputs": [],
   "source": [
    "coluna = 'Data Nascimento Banco Semear Consulta Proposta JRetail PF '\n",
    "crivo[coluna] = pd.to_datetime(crivo[coluna], format='%d/%m/%Y')\n",
    "crivo = calcula_idade(crivo, coluna) # idade"
   ]
  },
  {
   "cell_type": "code",
   "execution_count": 38,
   "metadata": {},
   "outputs": [],
   "source": [
    "#coluna = 'Valor Compra Banco Semear Consulta Proposta JRetail PF '\n",
    "#crivo[coluna] = crivo[coluna].apply(dwsemear.converte_latin_para_float)\n",
    "coluna = 'Valor Renda Banco Semear Consulta Proposta JRetail PF '\n",
    "crivo[coluna] = crivo[coluna].apply(dwsemear.converte_latin_para_float)"
   ]
  },
  {
   "cell_type": "code",
   "execution_count": 39,
   "metadata": {},
   "outputs": [],
   "source": [
    "coluna = 'Valor Score 12 meses Banco Semear SPC MIX SPC CHEQUE PF ' # esse e o score?\n",
    "crivo.loc[:,coluna] = crivo.loc[:,coluna].apply(dwsemear.converte_latin_para_float)\n",
    "coluna = 'Valor Parcela da compra Banco Semear Consulta Proposta JRetail PF '\n",
    "crivo.loc[:,coluna] = crivo.loc[:,coluna].apply(dwsemear.converte_latin_para_float)\n",
    "coluna = 'Quantidade Parcelas da compra Banco Semear Consulta Proposta JRetail PF '\n",
    "crivo.loc[:,coluna] = crivo.loc[:,coluna].apply(dwsemear.converte_latin_para_float)\n",
    "coluna = 'Quantidade Total de associados distintos nos ltimos 30 dias nas consultas realizadas Banco Semear SPC MIX SPC CHEQUE PF '\n",
    "crivo.loc[:,coluna] = crivo.loc[:,coluna].apply(dwsemear.converte_latin_para_float)\n",
    "coluna = 'Quantidade Total de consultas realizadas Banco Semear SPC MIX SPC CHEQUE PF '\n",
    "crivo.loc[:,coluna] = crivo.loc[:,coluna].apply(dwsemear.converte_latin_para_float)\n",
    "coluna = 'Valor Renda presumida Unitfour Consulta perfil PF '\n",
    "crivo.loc[:,coluna] = crivo.loc[:,coluna].apply(dwsemear.converte_latin_para_float)\n",
    "coluna = 'Valor Atraso m dio Banco Semear Consulta Proposta JRetail PF '\n",
    "crivo.loc[:,coluna] = crivo.loc[:,coluna].apply(dwsemear.converte_latin_para_float)"
   ]
  },
  {
   "cell_type": "code",
   "execution_count": 40,
   "metadata": {},
   "outputs": [],
   "source": [
    "# Obtendo proposta unica (a ultima realizada)\n",
    "crivo.loc[:,'Codigo proposta'] = crivo.loc[:,'Codigo proposta'].astype(int)\n",
    "indice_mais_recente = []\n",
    "for proposta in set(crivo.loc[:,'Codigo proposta']):\n",
    "    crivo_proposta = crivo[crivo.loc[:,'Codigo proposta'] == proposta]\n",
    "    ultimo_pedido = crivo_proposta[crivo_proposta.loc[:,'Codigo proposta'] == proposta].datahora.max()\n",
    "    indice = crivo_proposta[(crivo_proposta.loc[:,'Codigo proposta'] == proposta) &\n",
    "      (crivo_proposta.loc[:,'datahora'] == ultimo_pedido)].index[0]\n",
    "    indice_mais_recente.append(indice)\n",
    "indice_mais_recente.sort()\n",
    "coluna_mais_recente = np.zeros(len(crivo),dtype=int)\n",
    "for i in indice_mais_recente:\n",
    "    coluna_mais_recente[i] = 1\n",
    "crivo['ultimo_pedido'] = coluna_mais_recente"
   ]
  },
  {
   "cell_type": "code",
   "execution_count": null,
   "metadata": {},
   "outputs": [],
   "source": []
  },
  {
   "cell_type": "code",
   "execution_count": null,
   "metadata": {},
   "outputs": [],
   "source": []
  },
  {
   "cell_type": "code",
   "execution_count": null,
   "metadata": {},
   "outputs": [],
   "source": []
  },
  {
   "cell_type": "code",
   "execution_count": null,
   "metadata": {},
   "outputs": [],
   "source": []
  },
  {
   "cell_type": "code",
   "execution_count": null,
   "metadata": {},
   "outputs": [],
   "source": []
  },
  {
   "cell_type": "code",
   "execution_count": null,
   "metadata": {},
   "outputs": [],
   "source": []
  },
  {
   "cell_type": "code",
   "execution_count": null,
   "metadata": {},
   "outputs": [],
   "source": []
  },
  {
   "cell_type": "code",
   "execution_count": null,
   "metadata": {},
   "outputs": [],
   "source": []
  },
  {
   "cell_type": "code",
   "execution_count": null,
   "metadata": {},
   "outputs": [],
   "source": []
  },
  {
   "cell_type": "code",
   "execution_count": null,
   "metadata": {},
   "outputs": [],
   "source": []
  },
  {
   "cell_type": "code",
   "execution_count": 41,
   "metadata": {},
   "outputs": [],
   "source": [
    "id_crivo = sql.query_max_coluna('id', 'crivo')\n",
    "if id_crivo == None:\n",
    "    id_crivo = 0"
   ]
  },
  {
   "cell_type": "code",
   "execution_count": 42,
   "metadata": {},
   "outputs": [],
   "source": [
    "crivo_registros = []\n",
    "for i in crivo.index:\n",
    "    id_crivo += 1\n",
    "#    if id_crivo > 10:\n",
    "#        break\n",
    "\n",
    "    crivo_registros.append((id_crivo,\n",
    "          para_int(crivo.loc[i,'Codigo proposta']),\n",
    "          para_data(crivo.loc[i,'datahora']),  # esse cara poderia ser not null\n",
    "          para_str(crivo.loc[i,'Discreta UF Banco Semear Consulta Proposta JRetail PF ']),\n",
    "          para_str(crivo.loc[i,'Discreta Sexo Banco Semear Consulta Proposta JRetail PF ']),\n",
    "          para_float(crivo.loc[i,'Valor Renda Banco Semear Consulta Proposta JRetail PF ']),\n",
    "          para_int(crivo.loc[i,'Valor Score 12 meses Banco Semear SPC MIX SPC CHEQUE PF ']),\n",
    "          para_float(crivo.loc[i,'Valor Parcela da compra Banco Semear Consulta Proposta JRetail PF ']),\n",
    "          para_float(crivo.loc[i,'Valor Renda presumida Unitfour Consulta perfil PF ']),\n",
    "          para_float(crivo.loc[i,'Valor Atraso m dio Banco Semear Consulta Proposta JRetail PF ']),\n",
    "          para_int(crivo.loc[i,'ultimo_pedido']),\n",
    "          para_int(crivo.loc[i,'idade']),  # not null\n",
    "          para_int(crivo.loc[i,'CPF']),\n",
    "          para_int(crivo.loc[i,'Quantidade Parcelas da compra Banco Semear Consulta Proposta JRetail PF ']),\n",
    "          para_int(crivo.loc[i,'Quantidade Total de associados distintos nos ltimos 30 dias nas consultas realizadas Banco Semear SPC MIX SPC CHEQUE PF ']),\n",
    "          para_int(crivo.loc[i,'Quantidade Total de consultas realizadas Banco Semear SPC MIX SPC CHEQUE PF '])))\n",
    "        \n",
    "#    print('LINHA: ',\n",
    "#          para_int(crivo.loc[i,'Codigo proposta']),\n",
    "#          para_data(crivo.loc[i,'datahora']),  # esse cara poderia ser not null\n",
    "#          para_str(crivo.loc[i,'Discreta UF Banco Semear Consulta Proposta JRetail PF ']),\n",
    "#          para_str(crivo.loc[i,'Discreta Sexo Banco Semear Consulta Proposta JRetail PF ']),\n",
    "#          para_float(crivo.loc[i,'Valor Renda Banco Semear Consulta Proposta JRetail PF ']),\n",
    "#          para_float(crivo.loc[i,'Valor Score 12 meses Banco Semear SPC MIX SPC CHEQUE PF ']),\n",
    "#          para_float(crivo.loc[i,'Valor Parcela da compra Banco Semear Consulta Proposta JRetail PF ']),\n",
    "#          para_float(crivo.loc[i,'Valor Renda presumida Unitfour Consulta perfil PF ']),\n",
    "#          para_float(crivo.loc[i,'Valor Atraso m dio Banco Semear Consulta Proposta JRetail PF ']),\n",
    "#          para_int(crivo.loc[i,'idade']),  # not null\n",
    "#          para_int(crivo.loc[i,'CPF']),\n",
    "#          para_int(crivo.loc[i,'Quantidade Parcelas da compra Banco Semear Consulta Proposta JRetail PF ']),\n",
    "#          para_int(crivo.loc[i,'Quantidade Total de associados distintos nos ltimos 30 dias nas consultas realizadas Banco Semear SPC MIX SPC CHEQUE PF ']),\n",
    "#          para_int(crivo.loc[i,'Quantidade Total de consultas realizadas Banco Semear SPC MIX SPC CHEQUE PF '])\n",
    "#         )\n",
    "    "
   ]
  },
  {
   "cell_type": "code",
   "execution_count": 43,
   "metadata": {},
   "outputs": [],
   "source": [
    "query = \"\"\" INSERT INTO crivo\n",
    "            (ID,\n",
    "            codigo_proposta,\n",
    "            data,\n",
    "            uf,\n",
    "            genero,\n",
    "            renda_cliente,\n",
    "            score,\n",
    "            valor_parcela,\n",
    "            renda_presumida_unitfour,\n",
    "            atraso_medio,\n",
    "            ultimo_pedido,\n",
    "            idade,\n",
    "            cpf,\n",
    "            quantidade_parcelas,\n",
    "            associados_distintos_30_dias,\n",
    "            quantidade_consultas) \n",
    "            VALUES (%s,%s,%s,%s,%s,%s,%s,%s,%s,%s,%s,%s,%s,%s,%s,%s)\"\"\"\n",
    "sql.adicione_multiplos_registros(query, crivo_registros)"
   ]
  },
  {
   "cell_type": "code",
   "execution_count": null,
   "metadata": {},
   "outputs": [],
   "source": []
  },
  {
   "cell_type": "code",
   "execution_count": null,
   "metadata": {},
   "outputs": [],
   "source": []
  },
  {
   "cell_type": "code",
   "execution_count": null,
   "metadata": {},
   "outputs": [],
   "source": []
  },
  {
   "cell_type": "code",
   "execution_count": null,
   "metadata": {},
   "outputs": [],
   "source": []
  },
  {
   "cell_type": "code",
   "execution_count": null,
   "metadata": {},
   "outputs": [],
   "source": []
  },
  {
   "cell_type": "markdown",
   "metadata": {},
   "source": [
    "# TESTE"
   ]
  },
  {
   "cell_type": "code",
   "execution_count": 44,
   "metadata": {},
   "outputs": [],
   "source": [
    "parametros = [datetime.datetime(2018,11,1), datetime.datetime(2018,11,30)]\n",
    "dados_crivo = sql.query_para_pandas('''SELECT *\n",
    "                      FROM crivo\n",
    "                      WHERE data BETWEEN %s AND %s\n",
    "                      ''',parametros)"
   ]
  },
  {
   "cell_type": "code",
   "execution_count": null,
   "metadata": {},
   "outputs": [],
   "source": []
  },
  {
   "cell_type": "code",
   "execution_count": null,
   "metadata": {},
   "outputs": [],
   "source": []
  },
  {
   "cell_type": "code",
   "execution_count": null,
   "metadata": {},
   "outputs": [],
   "source": []
  },
  {
   "cell_type": "code",
   "execution_count": null,
   "metadata": {},
   "outputs": [],
   "source": []
  },
  {
   "cell_type": "code",
   "execution_count": null,
   "metadata": {},
   "outputs": [],
   "source": []
  },
  {
   "cell_type": "code",
   "execution_count": null,
   "metadata": {},
   "outputs": [],
   "source": []
  },
  {
   "cell_type": "code",
   "execution_count": null,
   "metadata": {},
   "outputs": [],
   "source": []
  },
  {
   "cell_type": "code",
   "execution_count": null,
   "metadata": {},
   "outputs": [],
   "source": []
  },
  {
   "cell_type": "code",
   "execution_count": null,
   "metadata": {},
   "outputs": [],
   "source": []
  },
  {
   "cell_type": "code",
   "execution_count": null,
   "metadata": {},
   "outputs": [],
   "source": []
  }
 ],
 "metadata": {
  "kernelspec": {
   "display_name": "Python 3",
   "language": "python",
   "name": "python3"
  },
  "language_info": {
   "codemirror_mode": {
    "name": "ipython",
    "version": 3
   },
   "file_extension": ".py",
   "mimetype": "text/x-python",
   "name": "python",
   "nbconvert_exporter": "python",
   "pygments_lexer": "ipython3",
   "version": "3.7.3"
  }
 },
 "nbformat": 4,
 "nbformat_minor": 2
}
