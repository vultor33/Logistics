{
 "cells": [
  {
   "cell_type": "code",
   "execution_count": null,
   "metadata": {},
   "outputs": [],
   "source": [
    "import pandas as pd\n",
    "import dwsemear\n",
    "\n",
    "import postgresemear as sql  # mover os arquivos para a pasta principal\n",
    "\n",
    "# NECESSARIO REALIZAR A CARGA EM 'responsavel' PRIMEIRO"
   ]
  },
  {
   "cell_type": "markdown",
   "metadata": {},
   "source": [
    "# GERANDO DADOS"
   ]
  },
  {
   "cell_type": "code",
   "execution_count": null,
   "metadata": {},
   "outputs": [],
   "source": [
    "dados = pd.read_csv('Acionamentos_01012019_a_30062019.csv', sep=';', encoding='latin-1', dtype=str)"
   ]
  },
  {
   "cell_type": "code",
   "execution_count": null,
   "metadata": {},
   "outputs": [],
   "source": [
    "dados = dwsemear.limpa_nome_das_colunas(dados)\n",
    "dados = dwsemear.acionamentos_csv.corrige_campo_observacoes(dados)\n",
    "dados = dwsemear.coluna_cpf_para_inteiro(dados, 'CPF CNPJ')\n",
    "dados = dwsemear.acionamentos_csv.geracao_coluna_datahora(dados)\n",
    "dados = dwsemear.acionamentos_csv.adiciona_responsavel(dados)\n",
    "dados.loc[:,'Dias atraso'] = dados.loc[:,'Dias atraso'].astype(int)"
   ]
  },
  {
   "cell_type": "code",
   "execution_count": null,
   "metadata": {},
   "outputs": [],
   "source": []
  },
  {
   "cell_type": "code",
   "execution_count": null,
   "metadata": {},
   "outputs": [],
   "source": []
  },
  {
   "cell_type": "code",
   "execution_count": null,
   "metadata": {},
   "outputs": [],
   "source": []
  },
  {
   "cell_type": "code",
   "execution_count": null,
   "metadata": {},
   "outputs": [],
   "source": [
    "####################\n",
    "AcionamentoTipo = 1\n",
    "####################\n",
    "\n",
    "AcionamentoID = 0\n",
    "TabelaDeEventosID = 0\n",
    "Acionamento_registros = []\n",
    "Evento_registros = []\n",
    "for i in dados.index:\n",
    "    AcionamentoID += 1\n",
    "    TabelaDeEventosID += 1\n",
    "    \n",
    "    #Tabela de eventos\n",
    "    EventoTipo = AcionamentoTipo\n",
    "    EventoID = AcionamentoID\n",
    "    CPF = int(dados.loc[i,'CPF CNPJ'])\n",
    "    DataDoEvento = dados.loc[i,'datahora']\n",
    "    Evento_registros.append( (TabelaDeEventosID, \n",
    "                              EventoTipo, \n",
    "                              EventoID, \n",
    "                              CPF, \n",
    "                              DataDoEvento))\n",
    "    \n",
    "    #Acionamento\n",
    "    ResponsavelPeloAcionamento = int(dados.loc[i,'responsavel_acionamento'])\n",
    "    MotivoDoAcionamento = str(dados.loc[i,'Motivo Contato'])\n",
    "    observacoes = str(dados.loc[i,'Observa es'])\n",
    "    diasAtraso = int(dados.loc[i,'Dias atraso'])        # DiasEmAtraso precisa ser adicionado porque eles nao informam o numero do contrato\n",
    "    Acionamento_registros.append( (AcionamentoID, \n",
    "                                   ResponsavelPeloAcionamento, \n",
    "                                   MotivoDoAcionamento, \n",
    "                                   observacoes,\n",
    "                                   diasAtraso))"
   ]
  },
  {
   "cell_type": "markdown",
   "metadata": {},
   "source": [
    "# CRIACAO DAS TABELAS"
   ]
  },
  {
   "cell_type": "code",
   "execution_count": null,
   "metadata": {},
   "outputs": [],
   "source": [
    "# Deletando as tabelas\n",
    "delete_tabela = '''DROP TABLE eventos'''\n",
    "sql.execute_query(delete_tabela)\n",
    "delete_tabela = '''DROP TABLE acionamentos'''\n",
    "sql.execute_query(delete_tabela)"
   ]
  },
  {
   "cell_type": "code",
   "execution_count": null,
   "metadata": {},
   "outputs": [],
   "source": [
    "crie_tabela = '''CREATE TABLE eventos\n",
    "            (ID BIGINT PRIMARY KEY NOT NULL,\n",
    "            EventoTipo INT NOT NULL,\n",
    "            EventoID INT NOT NULL,\n",
    "            CPF BIGINT NOT NULL,\n",
    "            DataDoEvento timestamp with time zone NOT NULL);'''\n",
    "sql.execute_query(crie_tabela)"
   ]
  },
  {
   "cell_type": "markdown",
   "metadata": {},
   "source": [
    "# ATENCAO\n",
    "- Esse campo aqui é um snowflake. O campo ResponsavelPeloAcionamento endereca a outra tabela.\n",
    "- A motivacao disso e a normalizacao 3NF, ou seja, vao ter 3 colunas a mais com o mesmo significado.\n",
    "- Porem, o Redshift fala que pra ele nao tem problema. E isso quebra o esquema de estrela.\n",
    "- O Kimball nao gosta disso de jeito nenhum, hehe.\n",
    "- A saida para isso e fazer a query na tabela responsavel e depois usar os numeros resultantes para fazer a query nas tabelas normais. 200 QI."
   ]
  },
  {
   "cell_type": "code",
   "execution_count": null,
   "metadata": {},
   "outputs": [],
   "source": [
    "crie_tabela = '''CREATE TABLE acionamentos\n",
    "            (ID INT PRIMARY KEY NOT NULL,\n",
    "            ResponsavelPeloAcionamento INT NOT NULL,\n",
    "            MotivoDoAcionamento TEXT NOT NULL,\n",
    "            Observacoes TEXT NOT NULL,\n",
    "            DiasEmAtrasoAcionamento INT NOT NULL);'''\n",
    "sql.execute_query(crie_tabela)"
   ]
  },
  {
   "cell_type": "code",
   "execution_count": null,
   "metadata": {},
   "outputs": [],
   "source": [
    "query = \"\"\" INSERT INTO eventos \n",
    "            (ID, EventoTipo, EventoID, CPF, DataDoEvento) \n",
    "            VALUES (%s,%s,%s,%s,%s)\"\"\"\n",
    "sql.adicione_multiplos_registros(query, Evento_registros) "
   ]
  },
  {
   "cell_type": "code",
   "execution_count": null,
   "metadata": {},
   "outputs": [],
   "source": [
    "query = \"\"\" INSERT INTO acionamentos\n",
    "            (ID, ResponsavelPeloAcionamento, MotivoDoAcionamento, Observacoes,DiasEmAtrasoAcionamento) \n",
    "            VALUES (%s,%s,%s,%s,%s)\"\"\"\n",
    "sql.adicione_multiplos_registros(query, Acionamento_registros)"
   ]
  },
  {
   "cell_type": "code",
   "execution_count": null,
   "metadata": {},
   "outputs": [],
   "source": [
    "# os dados dessas querys nao vem ordenados\n",
    "dados_query = sql.query_para_pandas('''SELECT * FROM acionamentos,eventos\n",
    "                      WHERE acionamentos.ID = eventos.EventoID\n",
    "                      AND eventos.EventoTipo = 1''')"
   ]
  },
  {
   "cell_type": "code",
   "execution_count": null,
   "metadata": {},
   "outputs": [],
   "source": [
    "dados_query.head(3)"
   ]
  },
  {
   "cell_type": "code",
   "execution_count": null,
   "metadata": {},
   "outputs": [],
   "source": [
    "# os dados dessas querys nao vem ordenados\n",
    "dados_query = sql.query_para_pandas('''SELECT * FROM eventos, acionamentos\n",
    "                      WHERE acionamentos.ID = eventos.EventoID\n",
    "                      AND eventos.EventoTipo = 1''')"
   ]
  },
  {
   "cell_type": "code",
   "execution_count": null,
   "metadata": {},
   "outputs": [],
   "source": [
    "dados_query.to_csv('acionamentos_sql.csv', sep=';')"
   ]
  },
  {
   "cell_type": "code",
   "execution_count": null,
   "metadata": {},
   "outputs": [],
   "source": [
    "datas_naive = [data.tz_localize(None) for data in dados_query.loc[:,4]]"
   ]
  },
  {
   "cell_type": "code",
   "execution_count": null,
   "metadata": {},
   "outputs": [],
   "source": [
    "dados_query.loc[:,4] = datas_naive"
   ]
  },
  {
   "cell_type": "code",
   "execution_count": null,
   "metadata": {},
   "outputs": [],
   "source": [
    "dados_query.to_csv('acionamentos_sql.csv', sep=';')"
   ]
  },
  {
   "cell_type": "code",
   "execution_count": null,
   "metadata": {},
   "outputs": [],
   "source": []
  },
  {
   "cell_type": "code",
   "execution_count": null,
   "metadata": {},
   "outputs": [],
   "source": []
  },
  {
   "cell_type": "code",
   "execution_count": null,
   "metadata": {},
   "outputs": [],
   "source": []
  },
  {
   "cell_type": "code",
   "execution_count": null,
   "metadata": {},
   "outputs": [],
   "source": []
  },
  {
   "cell_type": "code",
   "execution_count": null,
   "metadata": {},
   "outputs": [],
   "source": []
  }
 ],
 "metadata": {
  "kernelspec": {
   "display_name": "Python 3",
   "language": "python",
   "name": "python3"
  },
  "language_info": {
   "codemirror_mode": {
    "name": "ipython",
    "version": 3
   },
   "file_extension": ".py",
   "mimetype": "text/x-python",
   "name": "python",
   "nbconvert_exporter": "python",
   "pygments_lexer": "ipython3",
   "version": "3.7.3"
  }
 },
 "nbformat": 4,
 "nbformat_minor": 2
}
