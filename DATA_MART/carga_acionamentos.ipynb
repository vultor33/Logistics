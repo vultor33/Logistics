{
 "cells": [
  {
   "cell_type": "code",
   "execution_count": 1,
   "metadata": {},
   "outputs": [],
   "source": [
    "import pandas as pd\n",
    "import dwsemear\n",
    "\n",
    "import postgresemear as sql  # mover os arquivos para a pasta principal\n",
    "\n",
    "#dwsemear.atualize_metadados()"
   ]
  },
  {
   "cell_type": "markdown",
   "metadata": {},
   "source": [
    "# GERANDO DADOS"
   ]
  },
  {
   "cell_type": "code",
   "execution_count": 13,
   "metadata": {},
   "outputs": [],
   "source": [
    "dados = pd.read_csv('Acionamentos_01012019_a_30062019.csv', sep=';', encoding='latin-1', dtype=str)"
   ]
  },
  {
   "cell_type": "code",
   "execution_count": 14,
   "metadata": {},
   "outputs": [],
   "source": [
    "dados = dwsemear.limpa_nome_das_colunas(dados)\n",
    "dados = dwsemear.acionamentos_csv.corrige_campo_observacoes(dados)\n",
    "dados.loc[:,'CPF CNPJ'] = dados.loc[:,'CPF CNPJ'].apply(dwsemear.cpf_para_inteiro)\n",
    "dados = dwsemear.acionamentos_csv.geracao_coluna_datahora(dados)\n",
    "dados = dwsemear.acionamentos_csv.adiciona_responsavel(dados)\n",
    "dados.loc[:,'Dias atraso'] = dados.loc[:,'Dias atraso'].apply(dwsemear.converte_latin_para_float)"
   ]
  },
  {
   "cell_type": "code",
   "execution_count": 2,
   "metadata": {},
   "outputs": [
    {
     "data": {
      "text/plain": [
       "['cpf',\n",
       " 'datahora',\n",
       " 'dias_atraso',\n",
       " 'id',\n",
       " 'motivo',\n",
       " 'observacoes',\n",
       " 'responsavel_id']"
      ]
     },
     "execution_count": 2,
     "metadata": {},
     "output_type": "execute_result"
    }
   ],
   "source": [
    "dwsemear.pegue_colunas('acionamentos')"
   ]
  },
  {
   "cell_type": "code",
   "execution_count": null,
   "metadata": {},
   "outputs": [],
   "source": [
    "dwsemear.pegue_colunas_naonulas('acionamentos') # o drop nas colunas nao nulas precisa ser consciente"
   ]
  },
  {
   "cell_type": "code",
   "execution_count": null,
   "metadata": {},
   "outputs": [],
   "source": []
  },
  {
   "cell_type": "code",
   "execution_count": null,
   "metadata": {},
   "outputs": [],
   "source": []
  },
  {
   "cell_type": "markdown",
   "metadata": {},
   "source": [
    "# CARGA"
   ]
  },
  {
   "cell_type": "code",
   "execution_count": 32,
   "metadata": {},
   "outputs": [],
   "source": [
    "id_acionamentos = sql.query_max_coluna('id', 'acionamentos')\n",
    "if id_acionamentos == None:\n",
    "    id_acionamentos = -1\n",
    "\n",
    "\n",
    "registros = []\n",
    "for i in dados.index:\n",
    "    id_acionamentos += 1\n",
    "    registros.append((\n",
    "        dwsemear.para_int(dados.loc[i,'CPF CNPJ']),\n",
    "        dwsemear.para_data(dados.loc[i,'datahora']),\n",
    "        dwsemear.para_int(dados.loc[i,'Dias atraso']),\n",
    "        id_acionamentos,\n",
    "        dwsemear.para_str(dados.loc[i,'Motivo Contato']),\n",
    "        dwsemear.para_str(dados.loc[i,'Observa es']),\n",
    "        dwsemear.para_int(dados.loc[i,'responsavel_acionamento'])))"
   ]
  },
  {
   "cell_type": "code",
   "execution_count": 35,
   "metadata": {},
   "outputs": [
    {
     "data": {
      "text/plain": [
       "(62361643120,\n",
       " Timestamp('2019-02-19 12:46:00'),\n",
       " 104,\n",
       " 0,\n",
       " 'CONTRA PROPOSTA',\n",
       " '19/02/2019 - Proposta negada. Contra proposta R$ 1.860,80. Cliente propos R$ 1.800,00',\n",
       " 8)"
      ]
     },
     "execution_count": 35,
     "metadata": {},
     "output_type": "execute_result"
    }
   ],
   "source": [
    "registros[0]"
   ]
  },
  {
   "cell_type": "code",
   "execution_count": 31,
   "metadata": {},
   "outputs": [],
   "source": [
    "# Resete a tabela\n",
    "#dwsemear.delete_tabela('acionamentos')\n",
    "#dwsemear.crie_tabela('acionamentos')"
   ]
  },
  {
   "cell_type": "code",
   "execution_count": 36,
   "metadata": {},
   "outputs": [],
   "source": [
    "dwsemear.insira_tabela('acionamentos', registros)"
   ]
  },
  {
   "cell_type": "code",
   "execution_count": null,
   "metadata": {},
   "outputs": [],
   "source": []
  },
  {
   "cell_type": "code",
   "execution_count": null,
   "metadata": {},
   "outputs": [],
   "source": []
  },
  {
   "cell_type": "code",
   "execution_count": 3,
   "metadata": {},
   "outputs": [],
   "source": [
    "dados_query = sql.query_para_pandas('''SELECT * FROM acionamentos, responsavel\n",
    "                      WHERE acionamentos.responsavel_id = responsavel.id''')"
   ]
  },
  {
   "cell_type": "code",
   "execution_count": 4,
   "metadata": {},
   "outputs": [
    {
     "data": {
      "text/html": [
       "<div>\n",
       "<style scoped>\n",
       "    .dataframe tbody tr th:only-of-type {\n",
       "        vertical-align: middle;\n",
       "    }\n",
       "\n",
       "    .dataframe tbody tr th {\n",
       "        vertical-align: top;\n",
       "    }\n",
       "\n",
       "    .dataframe thead th {\n",
       "        text-align: right;\n",
       "    }\n",
       "</style>\n",
       "<table border=\"1\" class=\"dataframe\">\n",
       "  <thead>\n",
       "    <tr style=\"text-align: right;\">\n",
       "      <th></th>\n",
       "      <th>0</th>\n",
       "      <th>1</th>\n",
       "      <th>2</th>\n",
       "      <th>3</th>\n",
       "      <th>4</th>\n",
       "      <th>5</th>\n",
       "      <th>6</th>\n",
       "      <th>7</th>\n",
       "      <th>8</th>\n",
       "      <th>9</th>\n",
       "      <th>10</th>\n",
       "    </tr>\n",
       "  </thead>\n",
       "  <tbody>\n",
       "    <tr>\n",
       "      <th>0</th>\n",
       "      <td>62361643120</td>\n",
       "      <td>2019-02-19 12:46:00</td>\n",
       "      <td>104</td>\n",
       "      <td>0</td>\n",
       "      <td>CONTRA PROPOSTA</td>\n",
       "      <td>19/02/2019 - Proposta negada. Contra proposta ...</td>\n",
       "      <td>8</td>\n",
       "      <td>Semear</td>\n",
       "      <td>Semear</td>\n",
       "      <td>8</td>\n",
       "      <td>Gabriel Torres de Carvalho Timochenco</td>\n",
       "    </tr>\n",
       "    <tr>\n",
       "      <th>1</th>\n",
       "      <td>97766330130</td>\n",
       "      <td>2019-02-19 12:53:00</td>\n",
       "      <td>315</td>\n",
       "      <td>1</td>\n",
       "      <td>CONTRA PROPOSTA</td>\n",
       "      <td>Proposta para quitaÃ§Ã£o da parcela 08 aceita ...</td>\n",
       "      <td>8</td>\n",
       "      <td>Semear</td>\n",
       "      <td>Semear</td>\n",
       "      <td>8</td>\n",
       "      <td>Gabriel Torres de Carvalho Timochenco</td>\n",
       "    </tr>\n",
       "    <tr>\n",
       "      <th>2</th>\n",
       "      <td>64756394604</td>\n",
       "      <td>2019-02-20 13:18:00</td>\n",
       "      <td>203</td>\n",
       "      <td>2</td>\n",
       "      <td>CONTRA PROPOSTA</td>\n",
       "      <td>Proposta para quitaÃ§Ã£o da parcela 06 aceita ...</td>\n",
       "      <td>8</td>\n",
       "      <td>Semear</td>\n",
       "      <td>Semear</td>\n",
       "      <td>8</td>\n",
       "      <td>Gabriel Torres de Carvalho Timochenco</td>\n",
       "    </tr>\n",
       "  </tbody>\n",
       "</table>\n",
       "</div>"
      ],
      "text/plain": [
       "            0                   1    2   3                4   \\\n",
       "0  62361643120 2019-02-19 12:46:00  104   0  CONTRA PROPOSTA   \n",
       "1  97766330130 2019-02-19 12:53:00  315   1  CONTRA PROPOSTA   \n",
       "2  64756394604 2019-02-20 13:18:00  203   2  CONTRA PROPOSTA   \n",
       "\n",
       "                                                  5   6       7       8   9   \\\n",
       "0  19/02/2019 - Proposta negada. Contra proposta ...   8  Semear  Semear   8   \n",
       "1  Proposta para quitaÃ§Ã£o da parcela 08 aceita ...   8  Semear  Semear   8   \n",
       "2  Proposta para quitaÃ§Ã£o da parcela 06 aceita ...   8  Semear  Semear   8   \n",
       "\n",
       "                                      10  \n",
       "0  Gabriel Torres de Carvalho Timochenco  \n",
       "1  Gabriel Torres de Carvalho Timochenco  \n",
       "2  Gabriel Torres de Carvalho Timochenco  "
      ]
     },
     "execution_count": 4,
     "metadata": {},
     "output_type": "execute_result"
    }
   ],
   "source": [
    "dados_query.head(3)"
   ]
  },
  {
   "cell_type": "code",
   "execution_count": null,
   "metadata": {},
   "outputs": [],
   "source": []
  },
  {
   "cell_type": "code",
   "execution_count": null,
   "metadata": {},
   "outputs": [],
   "source": []
  },
  {
   "cell_type": "code",
   "execution_count": null,
   "metadata": {},
   "outputs": [],
   "source": []
  },
  {
   "cell_type": "code",
   "execution_count": null,
   "metadata": {},
   "outputs": [],
   "source": []
  },
  {
   "cell_type": "code",
   "execution_count": null,
   "metadata": {},
   "outputs": [],
   "source": []
  },
  {
   "cell_type": "code",
   "execution_count": null,
   "metadata": {},
   "outputs": [],
   "source": []
  }
 ],
 "metadata": {
  "kernelspec": {
   "display_name": "Python 3",
   "language": "python",
   "name": "python3"
  },
  "language_info": {
   "codemirror_mode": {
    "name": "ipython",
    "version": 3
   },
   "file_extension": ".py",
   "mimetype": "text/x-python",
   "name": "python",
   "nbconvert_exporter": "python",
   "pygments_lexer": "ipython3",
   "version": "3.7.3"
  }
 },
 "nbformat": 4,
 "nbformat_minor": 2
}
