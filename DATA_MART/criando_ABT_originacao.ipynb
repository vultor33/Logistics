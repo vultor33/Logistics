{
 "cells": [
  {
   "cell_type": "code",
   "execution_count": 1,
   "metadata": {},
   "outputs": [],
   "source": [
    "import pandas as pd\n",
    "import dwsemear\n",
    "import datetime\n",
    "import collections\n",
    "import numpy as np\n",
    "\n",
    "import postgresemear as sql  # mover os arquivos para a pasta principal\n",
    "\n",
    "def calcula_idade(dados, coluna):\n",
    "    idade = []\n",
    "    for i in dados.index:\n",
    "        if dwsemear.e_nulo(dados.loc[i,coluna]):\n",
    "            idade.append(None)\n",
    "        else:\n",
    "            anos = (dados.loc[i,'datahora'] - dados.loc[i,coluna]).days\n",
    "            anos = int(round(anos/365))\n",
    "            idade.append(anos)\n",
    "    dados['idade'] = idade\n",
    "    return dados\n",
    "\n",
    "def remove_localize(data):\n",
    "    return data.tz_localize(None)\n",
    "\n",
    "def coluna_para_lista(coluna):\n",
    "    nova_coluna = []\n",
    "    for elem in coluna:\n",
    "        if dwsemear.e_nulo(elem):\n",
    "            nova_coluna.append(None)\n",
    "        else:\n",
    "            nova_coluna.append(elem)\n",
    "    return nova_coluna\n",
    "\n",
    "def para_int(elemento):\n",
    "    if dwsemear.e_nulo(elemento):\n",
    "        return None\n",
    "    else:\n",
    "        return int(elemento)\n",
    "\n",
    "def para_float(elemento):\n",
    "    if dwsemear.e_nulo(elemento):\n",
    "        return None\n",
    "    else:\n",
    "        return float(elemento)\n",
    "\n",
    "def para_str(elemento):\n",
    "    if dwsemear.e_nulo(elemento):\n",
    "        return None\n",
    "    else:\n",
    "        return str(elemento)\n",
    "    \n",
    "def para_data(elemento):\n",
    "    if dwsemear.e_nulo(elemento):\n",
    "        return None\n",
    "    else:\n",
    "        return elemento\n",
    "    \n",
    "def pegue_elementos_com_repeticao(coluna):\n",
    "    contagem = collections.Counter(coluna)\n",
    "    return list(getItemsUpToCount(contagem,1).keys())\n",
    "\n",
    "def getItemsUpToCount(dct, n):\n",
    "    upToCount = {}\n",
    "    for key in dct:\n",
    "        if dct[key] > n:\n",
    "            upToCount[key] = dct[key]\n",
    "    return upToCount\n"
   ]
  },
  {
   "cell_type": "code",
   "execution_count": 44,
   "metadata": {},
   "outputs": [],
   "source": [
    "COLUNAS_PDD = ['ID',\n",
    "            'DataDeReferencia',\n",
    "            'DataDeOriginiacao',\n",
    "            'DataDaProximaParcela',\n",
    "            'DataDeVencimento',\n",
    "            'DataDeRenegociacao',\n",
    "            'CPF',\n",
    "            'CodigoDoProduto',\n",
    "            'codigo_contrato',\n",
    "            'DiasEmAtraso',\n",
    "            'QuantidadeDeParcelasAbertas',\n",
    "            'ValorSaldo',\n",
    "            'ValorPDD',\n",
    "            'ValorOperacao',\n",
    "            'RendaDoCliente',\n",
    "            'ValorDaProximaParcela',\n",
    "            'RatingContabilFim']\n",
    "\n",
    "\n",
    "COLUNAS =  [\n",
    "            'ID',\n",
    "            'codigo_proposta',\n",
    "            'data_originacao',\n",
    "            'uf',\n",
    "            'genero',\n",
    "            'renda_cliente',\n",
    "            'score',\n",
    "            'valor_parcela',\n",
    "            'renda_presumida_unitfour',\n",
    "            'atraso_medio',\n",
    "            'ultimo_pedido',\n",
    "            'idade',\n",
    "            'cpf',\n",
    "            'quantidade_parcelas',\n",
    "            'associados_distintos_30_dias',\n",
    "            'quantidade_consultas',\n",
    "            'codigo_contrato',\n",
    "            'codigo_proposta_crivo',\n",
    "            'dias_atraso']"
   ]
  },
  {
   "cell_type": "code",
   "execution_count": 3,
   "metadata": {},
   "outputs": [],
   "source": [
    "dados_abt = sql.query_para_pandas('''SELECT *\n",
    "                      FROM crivo, producao\n",
    "                      WHERE crivo.ultimo_pedido = 1\n",
    "                      AND crivo.codigo_proposta = producao.codigo_proposta_crivo\n",
    "                      ''')"
   ]
  },
  {
   "cell_type": "code",
   "execution_count": 4,
   "metadata": {},
   "outputs": [],
   "source": [
    "dados_abt.columns = COLUNAS\n",
    "dados_abt = dados_abt.drop(['ID','codigo_proposta_crivo', 'ultimo_pedido'],axis=1)\n",
    "dados_abt.data_originacao = dados_abt.data_originacao.apply(remove_localize)\n",
    "dados_abt['inadimplente'] = dados_abt.dias_atraso.apply(lambda x: 1 if x > 60 else 0)"
   ]
  },
  {
   "cell_type": "code",
   "execution_count": 21,
   "metadata": {},
   "outputs": [],
   "source": [
    "abt_2018_1 = dados_abt[(dados_abt.data_originacao >= datetime.datetime(2018,1,1)) &\n",
    "          (dados_abt.data_originacao <= datetime.datetime(2018,6,30))]\n",
    "abt_2018_2 = dados_abt[(dados_abt.data_originacao >= datetime.datetime(2018,7,1)) &\n",
    "          (dados_abt.data_originacao <= datetime.datetime(2018,12,31))]\n",
    "abt_2019_1 = dados_abt[(dados_abt.data_originacao >= datetime.datetime(2019,1,1)) &\n",
    "          (dados_abt.data_originacao <= datetime.datetime(2019,6,30))]"
   ]
  },
  {
   "cell_type": "code",
   "execution_count": 27,
   "metadata": {},
   "outputs": [],
   "source": [
    "abt_2018_1.to_csv('190903_ABT_2018_1.csv',sep=';', index = False)\n",
    "abt_2018_2.to_csv('190903_ABT_2018_2.csv',sep=';', index = False)\n",
    "abt_2019_1.to_csv('190903_ABT_2019_1.csv',sep=';', index = False)"
   ]
  },
  {
   "cell_type": "code",
   "execution_count": null,
   "metadata": {},
   "outputs": [],
   "source": []
  },
  {
   "cell_type": "code",
   "execution_count": null,
   "metadata": {},
   "outputs": [],
   "source": []
  },
  {
   "cell_type": "code",
   "execution_count": null,
   "metadata": {},
   "outputs": [],
   "source": []
  },
  {
   "cell_type": "markdown",
   "metadata": {},
   "source": [
    "# ENRIQUECIMENTO COM PDD"
   ]
  },
  {
   "cell_type": "code",
   "execution_count": 2,
   "metadata": {},
   "outputs": [],
   "source": [
    "dados_abt = sql.query_para_pandas('''SELECT *\n",
    "                      FROM crivo, producao\n",
    "                      WHERE crivo.ultimo_pedido = 1\n",
    "                      AND crivo.codigo_proposta = producao.codigo_proposta_crivo\n",
    "                      ''')\n",
    "dados_abt.columns = COLUNAS\n",
    "dados_abt = dados_abt.drop(['ID','codigo_proposta_crivo', 'ultimo_pedido'],axis=1)"
   ]
  },
  {
   "cell_type": "code",
   "execution_count": 25,
   "metadata": {},
   "outputs": [],
   "source": [
    "dados_abt.data_originacao = dados_abt.data_originacao.apply(remove_localize)"
   ]
  },
  {
   "cell_type": "code",
   "execution_count": 40,
   "metadata": {},
   "outputs": [],
   "source": [
    "parametros = (datetime.datetime(2019,1,31),)\n",
    "dados_pdd = sql.query_para_pandas('''SELECT *\n",
    "                      FROM pdd\n",
    "                      WHERE DataDeReferencia = %s\n",
    "                      ''',parametros)\n",
    "dados_pdd.columns = COLUNAS_PDD\n",
    "joinDf = dados_abt.set_index('codigo_contrato').join(dados_pdd.set_index('codigo_contrato'))\n",
    "dados_abt['jan-19'] = joinDf.DiasEmAtraso.tolist()"
   ]
  },
  {
   "cell_type": "code",
   "execution_count": 85,
   "metadata": {},
   "outputs": [],
   "source": [
    "parametros = (datetime.datetime(2019,2,28),)\n",
    "dados_pdd = sql.query_para_pandas('''SELECT *\n",
    "                      FROM pdd\n",
    "                      WHERE DataDeReferencia = %s\n",
    "                      ''',parametros)\n",
    "dados_pdd.columns = COLUNAS_PDD\n",
    "joinDf = dados_abt.set_index('codigo_contrato').join(dados_pdd.set_index('codigo_contrato'))\n",
    "dados_abt['fev-19'] = joinDf.DiasEmAtraso.tolist()"
   ]
  },
  {
   "cell_type": "code",
   "execution_count": 86,
   "metadata": {},
   "outputs": [],
   "source": [
    "parametros = (datetime.datetime(2019,3,31),)\n",
    "dados_pdd = sql.query_para_pandas('''SELECT *\n",
    "                      FROM pdd\n",
    "                      WHERE DataDeReferencia = %s\n",
    "                      ''',parametros)\n",
    "dados_pdd.columns = COLUNAS_PDD\n",
    "joinDf = dados_abt.set_index('codigo_contrato').join(dados_pdd.set_index('codigo_contrato'))\n",
    "dados_abt['mar-19'] = joinDf.DiasEmAtraso.tolist()"
   ]
  },
  {
   "cell_type": "code",
   "execution_count": 87,
   "metadata": {},
   "outputs": [],
   "source": [
    "parametros = (datetime.datetime(2019,4,30),)\n",
    "dados_pdd = sql.query_para_pandas('''SELECT *\n",
    "                      FROM pdd\n",
    "                      WHERE DataDeReferencia = %s\n",
    "                      ''',parametros)\n",
    "dados_pdd.columns = COLUNAS_PDD\n",
    "joinDf = dados_abt.set_index('codigo_contrato').join(dados_pdd.set_index('codigo_contrato'))\n",
    "dados_abt['abr-19'] = joinDf.DiasEmAtraso.tolist()"
   ]
  },
  {
   "cell_type": "code",
   "execution_count": 88,
   "metadata": {},
   "outputs": [],
   "source": [
    "parametros = (datetime.datetime(2019,5,31),)\n",
    "dados_pdd = sql.query_para_pandas('''SELECT *\n",
    "                      FROM pdd\n",
    "                      WHERE DataDeReferencia = %s\n",
    "                      ''',parametros)\n",
    "dados_pdd.columns = COLUNAS_PDD\n",
    "joinDf = dados_abt.set_index('codigo_contrato').join(dados_pdd.set_index('codigo_contrato'))\n",
    "dados_abt['mai-19'] = joinDf.DiasEmAtraso.tolist()"
   ]
  },
  {
   "cell_type": "code",
   "execution_count": 89,
   "metadata": {},
   "outputs": [],
   "source": [
    "parametros = (datetime.datetime(2019,6,30),)\n",
    "dados_pdd = sql.query_para_pandas('''SELECT *\n",
    "                      FROM pdd\n",
    "                      WHERE DataDeReferencia = %s\n",
    "                      ''',parametros)\n",
    "dados_pdd.columns = COLUNAS_PDD\n",
    "joinDf = dados_abt.set_index('codigo_contrato').join(dados_pdd.set_index('codigo_contrato'))\n",
    "dados_abt['jun-19'] = joinDf.DiasEmAtraso.tolist()"
   ]
  },
  {
   "cell_type": "code",
   "execution_count": null,
   "metadata": {},
   "outputs": [],
   "source": []
  },
  {
   "cell_type": "code",
   "execution_count": null,
   "metadata": {},
   "outputs": [],
   "source": []
  },
  {
   "cell_type": "code",
   "execution_count": null,
   "metadata": {},
   "outputs": [],
   "source": []
  },
  {
   "cell_type": "code",
   "execution_count": null,
   "metadata": {},
   "outputs": [],
   "source": []
  },
  {
   "cell_type": "code",
   "execution_count": null,
   "metadata": {},
   "outputs": [],
   "source": []
  },
  {
   "cell_type": "code",
   "execution_count": null,
   "metadata": {},
   "outputs": [],
   "source": []
  }
 ],
 "metadata": {
  "kernelspec": {
   "display_name": "Python 3",
   "language": "python",
   "name": "python3"
  },
  "language_info": {
   "codemirror_mode": {
    "name": "ipython",
    "version": 3
   },
   "file_extension": ".py",
   "mimetype": "text/x-python",
   "name": "python",
   "nbconvert_exporter": "python",
   "pygments_lexer": "ipython3",
   "version": "3.7.3"
  }
 },
 "nbformat": 4,
 "nbformat_minor": 2
}
