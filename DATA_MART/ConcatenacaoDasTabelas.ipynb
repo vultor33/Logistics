{
 "cells": [
  {
   "cell_type": "code",
   "execution_count": 1,
   "metadata": {},
   "outputs": [],
   "source": [
    "import pandas\n",
    "from SmartCredit.ContratoConcatenating import ContratoConcatenating\n",
    "from SmartCredit.CreateWorkingSpreadSheet import CreateWorkingSpreadSheet\n",
    "from core.util import renameColumn"
   ]
  },
  {
   "cell_type": "code",
   "execution_count": null,
   "metadata": {},
   "outputs": [],
   "source": [
    "# PREPARACAO DA TABELA NOVA\n",
    "file = 'BaseClientes-FEV2019.csv'\n",
    "data = pandas.read_csv(file, delimiter=';',encoding='latin-1',dtype=str)\n",
    "data = data.drop(1505656)\n",
    "cancelIndex = data[data.loc[:,'con_sta'].values == 'C'].index\n",
    "data = data.drop(cancelIndex)\n",
    "data = data.reset_index(drop=True)\n",
    "data.to_csv('BaseClientes_FEV19_cleaned.csv',sep=';')\n",
    "#'L': 1110013, 'P': 17165, 'C': 9064, 'E': 344058, 'A': 25356, nan: 1\n",
    "#sumAberto = 446929087.5199511\n",
    "#sumAtraso = 63490187.31998122\n",
    "#sumPago = 1726812902.3391006"
   ]
  },
  {
   "cell_type": "markdown",
   "metadata": {},
   "source": [
    "## Definicao das variaveis relevantes"
   ]
  },
  {
   "cell_type": "code",
   "execution_count": 2,
   "metadata": {},
   "outputs": [],
   "source": [
    "#filePathTorre = 'C:\\\\Users\\\\frederico\\\\Documents\\\\!!Prime-Systems\\\\Credit-score\\\\dados\\\\'\n",
    "#filePathNote = 'C:\\\\Users\\\\admprime\\\\Documents\\\\PRIME\\\\SmartCredit\\\\'\n",
    "#fileCrivo = filePathNote + 'DadosCrivo-NOV2018.csv'\n",
    "#filePos = filePathNote + 'BaseClientes-FEV2019.csv'\n",
    "#fileCrivo = filePathNote + 'DadosCrivo-Reduzido.csv'\n",
    "#filePos = filePathNote + 'BaseClientes-Reduzida.csv'\n",
    "fileCrivo = 'DadosCrivo-NOV2018.csv'\n",
    "filePos = 'BaseClientes_FEV19_cleaned.csv'\n",
    "contCon = ContratoConcatenating()\n",
    "contCon.PRE_REFERENCE_COLUMN = 'Codigo proposta'\n",
    "contCon.POS_REFERENCE_COLUMN = 'Con_Contrato'"
   ]
  },
  {
   "cell_type": "markdown",
   "metadata": {},
   "source": [
    "## Remocao de individuos repetidos\n",
    " - Percorre a tabela inteira e agrupa os individuos repetidos.\n",
    " - Escolhe 1 dos individuos para ser mantido atraves de criterios especificos (consultar codigo para detalhes).\n",
    " - Salva o indice de todos os individuos exceto pela duplicata escolhida para ser mantida.\n",
    " - Os arquivos gerados sao os seguintes: \n",
    "     * self.PRE_REMOVE_FILE = 'removeCrivo.txt'\n",
    "     * self.POS_REMOVE_FILE = 'removePosCredit.txt'\n",
    " - Esses dois arquivos serao utilizados para concatenar as tabelas nos passos seguintes."
   ]
  },
  {
   "cell_type": "code",
   "execution_count": 3,
   "metadata": {},
   "outputs": [
    {
     "name": "stdout",
     "output_type": "stream",
     "text": [
      "done\n"
     ]
    }
   ],
   "source": [
    "[preData,posData] = contCon.getData(fileCrivo, filePos)\n",
    "contCon.removeCrivoDuplicatesList(preData)\n",
    "contCon.removePosCreditDuplicatesList(posData)\n",
    "print('done')"
   ]
  },
  {
   "cell_type": "markdown",
   "metadata": {},
   "source": [
    "# OPCIONAL - Checagem da remocao de linhas repetidas\n",
    "- Ele aplica os arquivos 'removeCrivo.txt' e 'removePosCredit.txt' às tabelas.\n",
    "- Em seguida, verifica se há alguma repeticao."
   ]
  },
  {
   "cell_type": "code",
   "execution_count": null,
   "metadata": {},
   "outputs": [],
   "source": [
    "#Opcional: checagem da remocao de linhas repetidas - ele aplica a remocao com os arquivos\n",
    "print(\"CRIVO\")\n",
    "contCon.checkIfLinesWereCorrectlyRemoved(preData, contCon.PRE_REMOVE_FILE, contCon.PRE_REFERENCE_COLUMN)\n",
    "print(\"\\nBASE DE CLIENTES\")\n",
    "contCon.checkIfLinesWereCorrectlyRemoved(posData, contCon.POS_REMOVE_FILE, contCon.POS_REFERENCE_COLUMN)\n"
   ]
  },
  {
   "cell_type": "markdown",
   "metadata": {},
   "source": [
    "# OPCIONAL - Impressao de exemplos de linhas onde houve repeticao\n",
    "- Ver codigo para detalhes"
   ]
  },
  {
   "cell_type": "code",
   "execution_count": null,
   "metadata": {},
   "outputs": [],
   "source": [
    "contCon.printDuplicates(preData, contCon.PRE_REFERENCE_COLUMN)\n",
    "contCon.printDuplicates(posData, contCon.POS_REFERENCE_COLUMN)"
   ]
  },
  {
   "cell_type": "markdown",
   "metadata": {},
   "source": [
    "# Concatenação da tabela\n",
    "- Saida: 'FullConcatTable.csv'"
   ]
  },
  {
   "cell_type": "code",
   "execution_count": 4,
   "metadata": {},
   "outputs": [],
   "source": [
    "#contCon.readAndConcatData(fileCrivo, filePos)"
   ]
  },
  {
   "cell_type": "code",
   "execution_count": null,
   "metadata": {},
   "outputs": [],
   "source": [
    "#CONCATENACAO VERSAO 2\n",
    "preData = contCon.createCleanDatabase(fileCrivo, contCon.PRE_REMOVE_FILE, contCon.PRE_REFERENCE_COLUMN)\n",
    "preData.loc[:,'Codigo proposta'] = preData.loc[:,'Codigo proposta'].astype(int)\n",
    "posData = contCon.createCleanDatabase(filePos, contCon.POS_REMOVE_FILE,contCon.POS_REFERENCE_COLUMN)\n",
    "renameColumn(posData, 'Pedido_Jretail', 'Codigo proposta')\n",
    "posData.loc[:,'Codigo proposta'] = posData.loc[:,'Codigo proposta'].astype(int)"
   ]
  },
  {
   "cell_type": "code",
   "execution_count": null,
   "metadata": {},
   "outputs": [],
   "source": [
    "dataMerged = pandas.merge(preData, posData, on=['Codigo proposta'])\n",
    "dataMerged.to_csv('FullConcatTable.csv',sep=';')"
   ]
  },
  {
   "cell_type": "markdown",
   "metadata": {},
   "source": [
    "# Definição do critério de inadimplência\n",
    " - Inicia adicionando a coluna inadimplente ao conjunto de dados criaArquivoQueDefineInadimplencia(data)\n",
    " - Saida: CreditDefaultSemear.csv"
   ]
  },
  {
   "cell_type": "code",
   "execution_count": null,
   "metadata": {},
   "outputs": [],
   "source": [
    "#dataFile = 'FullConcatTable.csv'\n",
    "#data = pandas.read_csv(dataFile, delimiter=';',encoding='latin-1',dtype=str)\n",
    "#createWork = CreateWorkingSpreadSheet()\n",
    "#createWork.criaArquivoQueDefineInadimplencia(data)"
   ]
  },
  {
   "cell_type": "code",
   "execution_count": 76,
   "metadata": {},
   "outputs": [],
   "source": [
    "# CREDIT DEFAULT VERSAO 2\n",
    "dataMerged.loc[:,'DiasEmAtraso'] = dataMerged.loc[:,'DiasEmAtraso'].astype(int)\n",
    "inadimplenteCol = []\n",
    "for i in dataMerged.index:\n",
    "    if dataMerged.loc[i,'DiasEmAtraso'] > 60:\n",
    "        inadimplenteCol.append('1')\n",
    "    else:\n",
    "        inadimplenteCol.append('0')\n",
    "dataMerged['Inadimplente'] = inadimplenteCol\n",
    "dataMerged.to_csv('CreditDefaultSemear-v2.csv',sep=';')"
   ]
  },
  {
   "cell_type": "code",
   "execution_count": 67,
   "metadata": {},
   "outputs": [],
   "source": []
  },
  {
   "cell_type": "code",
   "execution_count": null,
   "metadata": {},
   "outputs": [],
   "source": []
  },
  {
   "cell_type": "code",
   "execution_count": null,
   "metadata": {},
   "outputs": [],
   "source": []
  },
  {
   "cell_type": "code",
   "execution_count": null,
   "metadata": {},
   "outputs": [],
   "source": []
  },
  {
   "cell_type": "code",
   "execution_count": null,
   "metadata": {},
   "outputs": [],
   "source": []
  },
  {
   "cell_type": "code",
   "execution_count": null,
   "metadata": {},
   "outputs": [],
   "source": []
  },
  {
   "cell_type": "code",
   "execution_count": null,
   "metadata": {},
   "outputs": [],
   "source": []
  },
  {
   "cell_type": "code",
   "execution_count": null,
   "metadata": {},
   "outputs": [],
   "source": []
  },
  {
   "cell_type": "code",
   "execution_count": null,
   "metadata": {},
   "outputs": [],
   "source": []
  },
  {
   "cell_type": "code",
   "execution_count": null,
   "metadata": {},
   "outputs": [],
   "source": []
  },
  {
   "cell_type": "code",
   "execution_count": null,
   "metadata": {},
   "outputs": [],
   "source": []
  },
  {
   "cell_type": "code",
   "execution_count": null,
   "metadata": {},
   "outputs": [],
   "source": []
  },
  {
   "cell_type": "code",
   "execution_count": null,
   "metadata": {},
   "outputs": [],
   "source": []
  },
  {
   "cell_type": "code",
   "execution_count": null,
   "metadata": {},
   "outputs": [],
   "source": []
  },
  {
   "cell_type": "code",
   "execution_count": null,
   "metadata": {},
   "outputs": [],
   "source": []
  },
  {
   "cell_type": "code",
   "execution_count": null,
   "metadata": {},
   "outputs": [],
   "source": []
  },
  {
   "cell_type": "code",
   "execution_count": null,
   "metadata": {},
   "outputs": [],
   "source": []
  },
  {
   "cell_type": "code",
   "execution_count": null,
   "metadata": {},
   "outputs": [],
   "source": []
  },
  {
   "cell_type": "code",
   "execution_count": null,
   "metadata": {},
   "outputs": [],
   "source": []
  }
 ],
 "metadata": {
  "kernelspec": {
   "display_name": "Python 3",
   "language": "python",
   "name": "python3"
  },
  "language_info": {
   "codemirror_mode": {
    "name": "ipython",
    "version": 3
   },
   "file_extension": ".py",
   "mimetype": "text/x-python",
   "name": "python",
   "nbconvert_exporter": "python",
   "pygments_lexer": "ipython3",
   "version": "3.7.3"
  }
 },
 "nbformat": 4,
 "nbformat_minor": 2
}
