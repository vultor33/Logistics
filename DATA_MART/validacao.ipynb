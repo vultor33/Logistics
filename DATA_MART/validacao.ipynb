{
 "cells": [
  {
   "cell_type": "code",
   "execution_count": 2,
   "metadata": {},
   "outputs": [],
   "source": [
    "import pandas as pd\n",
    "import dwsemear\n",
    "import datetime\n",
    "\n",
    "import postgresemear as sql # mover os arquivos para a pasta principal"
   ]
  },
  {
   "cell_type": "code",
   "execution_count": 5,
   "metadata": {},
   "outputs": [],
   "source": [
    "COLUNAS_PDD = ['ID',\n",
    "            'DataDeReferencia',\n",
    "            'DataDeOriginiacao',\n",
    "            'DataDaProximaParcela',\n",
    "            'DataDeVencimento',\n",
    "            'DataDeRenegociacao',\n",
    "            'CPF',\n",
    "            'CodigoDoProduto',\n",
    "            'CodigoDoContrato',\n",
    "            'DiasEmAtraso',\n",
    "            'QuantidadeDeParcelasAbertas',\n",
    "            'ValorSaldo',\n",
    "            'ValorPDD',\n",
    "            'ValorOperacao',\n",
    "            'RendaDoCliente',\n",
    "            'ValorDaProximaParcela',\n",
    "            'RatingContabilFim']"
   ]
  },
  {
   "cell_type": "code",
   "execution_count": 40,
   "metadata": {},
   "outputs": [],
   "source": [
    "parametros = (datetime.datetime(2019,5,31),)\n",
    "dados_pdd = sql.query_para_pandas('''SELECT *\n",
    "                      FROM pdd\n",
    "                      WHERE DataDeOriginiacao = %s\n",
    "                      ''',parametros)\n",
    "dados_pdd.columns = COLUNAS_PDD"
   ]
  },
  {
   "cell_type": "code",
   "execution_count": 41,
   "metadata": {},
   "outputs": [
    {
     "data": {
      "text/html": [
       "<div>\n",
       "<style scoped>\n",
       "    .dataframe tbody tr th:only-of-type {\n",
       "        vertical-align: middle;\n",
       "    }\n",
       "\n",
       "    .dataframe tbody tr th {\n",
       "        vertical-align: top;\n",
       "    }\n",
       "\n",
       "    .dataframe thead th {\n",
       "        text-align: right;\n",
       "    }\n",
       "</style>\n",
       "<table border=\"1\" class=\"dataframe\">\n",
       "  <thead>\n",
       "    <tr style=\"text-align: right;\">\n",
       "      <th></th>\n",
       "      <th>ID</th>\n",
       "      <th>DataDeReferencia</th>\n",
       "      <th>DataDeOriginiacao</th>\n",
       "      <th>DataDaProximaParcela</th>\n",
       "      <th>DataDeVencimento</th>\n",
       "      <th>DataDeRenegociacao</th>\n",
       "      <th>CPF</th>\n",
       "      <th>CodigoDoProduto</th>\n",
       "      <th>CodigoDoContrato</th>\n",
       "      <th>DiasEmAtraso</th>\n",
       "      <th>QuantidadeDeParcelasAbertas</th>\n",
       "      <th>ValorSaldo</th>\n",
       "      <th>ValorPDD</th>\n",
       "      <th>ValorOperacao</th>\n",
       "      <th>RendaDoCliente</th>\n",
       "      <th>ValorDaProximaParcela</th>\n",
       "      <th>RatingContabilFim</th>\n",
       "    </tr>\n",
       "  </thead>\n",
       "  <tbody>\n",
       "    <tr>\n",
       "      <th>0</th>\n",
       "      <td>1682141</td>\n",
       "      <td>2019-05-31 00:00:00-03:00</td>\n",
       "      <td>2019-05-31 00:00:00-03:00</td>\n",
       "      <td>2019-07-10 00:00:00-03:00</td>\n",
       "      <td>2020-09-10 00:00:00-03:00</td>\n",
       "      <td>None</td>\n",
       "      <td>182180670</td>\n",
       "      <td>3086</td>\n",
       "      <td>55148502</td>\n",
       "      <td>0</td>\n",
       "      <td>15</td>\n",
       "      <td>5143.75</td>\n",
       "      <td>25.72</td>\n",
       "      <td>5143.75</td>\n",
       "      <td>5000.0</td>\n",
       "      <td>775.92</td>\n",
       "      <td>A</td>\n",
       "    </tr>\n",
       "    <tr>\n",
       "      <th>1</th>\n",
       "      <td>1681974</td>\n",
       "      <td>2019-05-31 00:00:00-03:00</td>\n",
       "      <td>2019-05-31 00:00:00-03:00</td>\n",
       "      <td>2019-07-01 00:00:00-03:00</td>\n",
       "      <td>2020-09-01 00:00:00-03:00</td>\n",
       "      <td>None</td>\n",
       "      <td>169925129</td>\n",
       "      <td>3086</td>\n",
       "      <td>55148792</td>\n",
       "      <td>0</td>\n",
       "      <td>15</td>\n",
       "      <td>1028.29</td>\n",
       "      <td>5.14</td>\n",
       "      <td>1028.29</td>\n",
       "      <td>1800.0</td>\n",
       "      <td>150.01</td>\n",
       "      <td>A</td>\n",
       "    </tr>\n",
       "    <tr>\n",
       "      <th>2</th>\n",
       "      <td>1689271</td>\n",
       "      <td>2019-05-31 00:00:00-03:00</td>\n",
       "      <td>2019-05-31 00:00:00-03:00</td>\n",
       "      <td>2019-07-15 00:00:00-03:00</td>\n",
       "      <td>2020-04-15 00:00:00-03:00</td>\n",
       "      <td>None</td>\n",
       "      <td>606827609</td>\n",
       "      <td>3086</td>\n",
       "      <td>55148747</td>\n",
       "      <td>0</td>\n",
       "      <td>10</td>\n",
       "      <td>1532.73</td>\n",
       "      <td>7.66</td>\n",
       "      <td>1532.73</td>\n",
       "      <td>3450.0</td>\n",
       "      <td>284.61</td>\n",
       "      <td>A</td>\n",
       "    </tr>\n",
       "  </tbody>\n",
       "</table>\n",
       "</div>"
      ],
      "text/plain": [
       "        ID          DataDeReferencia         DataDeOriginiacao  \\\n",
       "0  1682141 2019-05-31 00:00:00-03:00 2019-05-31 00:00:00-03:00   \n",
       "1  1681974 2019-05-31 00:00:00-03:00 2019-05-31 00:00:00-03:00   \n",
       "2  1689271 2019-05-31 00:00:00-03:00 2019-05-31 00:00:00-03:00   \n",
       "\n",
       "       DataDaProximaParcela          DataDeVencimento DataDeRenegociacao  \\\n",
       "0 2019-07-10 00:00:00-03:00 2020-09-10 00:00:00-03:00               None   \n",
       "1 2019-07-01 00:00:00-03:00 2020-09-01 00:00:00-03:00               None   \n",
       "2 2019-07-15 00:00:00-03:00 2020-04-15 00:00:00-03:00               None   \n",
       "\n",
       "         CPF  CodigoDoProduto  CodigoDoContrato  DiasEmAtraso  \\\n",
       "0  182180670             3086          55148502             0   \n",
       "1  169925129             3086          55148792             0   \n",
       "2  606827609             3086          55148747             0   \n",
       "\n",
       "   QuantidadeDeParcelasAbertas  ValorSaldo  ValorPDD  ValorOperacao  \\\n",
       "0                           15     5143.75     25.72        5143.75   \n",
       "1                           15     1028.29      5.14        1028.29   \n",
       "2                           10     1532.73      7.66        1532.73   \n",
       "\n",
       "   RendaDoCliente  ValorDaProximaParcela RatingContabilFim  \n",
       "0          5000.0                 775.92                 A  \n",
       "1          1800.0                 150.01                 A  \n",
       "2          3450.0                 284.61                 A  "
      ]
     },
     "execution_count": 41,
     "metadata": {},
     "output_type": "execute_result"
    }
   ],
   "source": [
    "dados_pdd.head(3)"
   ]
  },
  {
   "cell_type": "code",
   "execution_count": null,
   "metadata": {},
   "outputs": [],
   "source": [
    "dados_pdd[dados_pdd.CPF == 12124500600]"
   ]
  },
  {
   "cell_type": "code",
   "execution_count": null,
   "metadata": {},
   "outputs": [],
   "source": []
  },
  {
   "cell_type": "code",
   "execution_count": null,
   "metadata": {},
   "outputs": [],
   "source": []
  },
  {
   "cell_type": "code",
   "execution_count": null,
   "metadata": {},
   "outputs": [],
   "source": []
  },
  {
   "cell_type": "code",
   "execution_count": null,
   "metadata": {},
   "outputs": [],
   "source": []
  },
  {
   "cell_type": "code",
   "execution_count": null,
   "metadata": {},
   "outputs": [],
   "source": []
  }
 ],
 "metadata": {
  "kernelspec": {
   "display_name": "Python 3",
   "language": "python",
   "name": "python3"
  },
  "language_info": {
   "codemirror_mode": {
    "name": "ipython",
    "version": 3
   },
   "file_extension": ".py",
   "mimetype": "text/x-python",
   "name": "python",
   "nbconvert_exporter": "python",
   "pygments_lexer": "ipython3",
   "version": "3.7.3"
  }
 },
 "nbformat": 4,
 "nbformat_minor": 2
}
