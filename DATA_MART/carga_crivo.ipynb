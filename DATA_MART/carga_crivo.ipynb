{
 "cells": [
  {
   "cell_type": "code",
   "execution_count": 1,
   "metadata": {},
   "outputs": [],
   "source": [
    "# Crivo - pedidos\n",
    "# Pego alguma base de performance e relaciono pedido com codigo do contrato.\n",
    "# Eu pego o ultimo pedido - seria interessante reforcar isso com o Iverson.\n",
    "# NECESSARIO - Comparar o crivo que eu tenho com o novo que foi gerado para verificar\n",
    "#              diferenca nas datas e nao ter repeticao.\n",
    "#              ADICIONALMENTE - usar codigo proposta como primary key\n",
    "\n",
    "# dar um join pedido - contrato e ficar com o que sobrar\n"
   ]
  },
  {
   "cell_type": "code",
   "execution_count": 2,
   "metadata": {},
   "outputs": [],
   "source": [
    "import pandas as pd\n",
    "import dwsemear\n",
    "import datetime\n",
    "import collections\n",
    "import numpy as np\n",
    "\n",
    "import postgresemear as sql  # mover os arquivos para a pasta principal\n",
    "\n",
    "def calcula_idade(dados, coluna):\n",
    "    idade = []\n",
    "    for i in dados.index:\n",
    "        if dwsemear.e_nulo(dados.loc[i,coluna]):\n",
    "            idade.append(None)\n",
    "        else:\n",
    "            anos = (dados.loc[i,'datahora'] - dados.loc[i,coluna]).days\n",
    "            anos = int(round(anos/365))\n",
    "            idade.append(anos)\n",
    "    dados['idade'] = idade\n",
    "    return dados\n",
    "\n",
    "def remove_localize(data):\n",
    "    return data.tz_localize(None)\n",
    "\n",
    "def coluna_para_lista(coluna):\n",
    "    nova_coluna = []\n",
    "    for elem in coluna:\n",
    "        if dwsemear.e_nulo(elem):\n",
    "            nova_coluna.append(None)\n",
    "        else:\n",
    "            nova_coluna.append(elem)\n",
    "    return nova_coluna\n",
    "\n",
    "def para_int(elemento):\n",
    "    if dwsemear.e_nulo(elemento):\n",
    "        return None\n",
    "    else:\n",
    "        return int(elemento)\n",
    "\n",
    "def para_float(elemento):\n",
    "    if dwsemear.e_nulo(elemento):\n",
    "        return None\n",
    "    else:\n",
    "        return float(elemento)\n",
    "\n",
    "def para_str(elemento):\n",
    "    if dwsemear.e_nulo(elemento):\n",
    "        return None\n",
    "    else:\n",
    "        return str(elemento)\n",
    "    \n",
    "def para_data(elemento):\n",
    "    if dwsemear.e_nulo(elemento):\n",
    "        return None\n",
    "    else:\n",
    "        return elemento\n",
    "    \n",
    "def pegue_elementos_com_repeticao(coluna):\n",
    "    contagem = collections.Counter(coluna)\n",
    "    return list(getItemsUpToCount(contagem,1).keys())\n",
    "\n",
    "def getItemsUpToCount(dct, n):\n",
    "    upToCount = {}\n",
    "    for key in dct:\n",
    "        if dct[key] > n:\n",
    "            upToCount[key] = dct[key]\n",
    "    return upToCount\n"
   ]
  },
  {
   "cell_type": "code",
   "execution_count": 3,
   "metadata": {},
   "outputs": [],
   "source": [
    "crivo = pd.read_csv('DadosCrivo-NOV2018.csv',sep=';', encoding='latin-1',dtype=str)"
   ]
  },
  {
   "cell_type": "code",
   "execution_count": 4,
   "metadata": {},
   "outputs": [],
   "source": [
    "crivo = dwsemear.limpa_nome_das_colunas(crivo)\n",
    "crivo = dwsemear.coluna_cpf_para_inteiro(crivo, 'CPF')"
   ]
  },
  {
   "cell_type": "code",
   "execution_count": 5,
   "metadata": {},
   "outputs": [],
   "source": [
    "# Obtendo timestamp do evento (data + hora)\n",
    "datahora = []\n",
    "for i in crivo.index:\n",
    "    datahora.append(crivo.loc[i,' Data'] + ' ' + crivo.loc[i,' Hora'])\n",
    "crivo['datahora'] = datahora    \n",
    "crivo['datahora'] = pd.to_datetime(crivo['datahora'], format='%d/%m/%Y %I:%M:%S %p')"
   ]
  },
  {
   "cell_type": "code",
   "execution_count": 6,
   "metadata": {},
   "outputs": [],
   "source": [
    "# Obtendo proposta unica (a ultima realizada)\n",
    "crivo.loc[:,'Codigo proposta'] = crivo.loc[:,'Codigo proposta'].astype(int)\n",
    "indice_mais_recente = []\n",
    "for proposta in set(crivo.loc[:,'Codigo proposta']):\n",
    "    crivo_proposta = crivo[crivo.loc[:,'Codigo proposta'] == proposta]\n",
    "    ultimo_pedido = crivo_proposta[crivo_proposta.loc[:,'Codigo proposta'] == proposta].datahora.max()\n",
    "    indice = crivo_proposta[(crivo_proposta.loc[:,'Codigo proposta'] == proposta) &\n",
    "      (crivo_proposta.loc[:,'datahora'] == ultimo_pedido)].index[0]\n",
    "    indice_mais_recente.append(indice)\n",
    "indice_mais_recente.sort()\n",
    "coluna_mais_recente = np.zeros(len(crivo),dtype=int)\n",
    "for i in indice_mais_recente:\n",
    "    coluna_mais_recente[i] = 1\n",
    "crivo['ultimo_pedido'] = coluna_mais_recente    "
   ]
  },
  {
   "cell_type": "code",
   "execution_count": 7,
   "metadata": {},
   "outputs": [],
   "source": [
    "coluna = 'Data Nascimento Banco Semear Consulta Proposta JRetail PF '\n",
    "crivo[coluna] = pd.to_datetime(crivo[coluna], format='%d/%m/%Y')\n",
    "crivo = calcula_idade(crivo, coluna) # idade"
   ]
  },
  {
   "cell_type": "code",
   "execution_count": 8,
   "metadata": {},
   "outputs": [],
   "source": [
    "#coluna = 'Valor Compra Banco Semear Consulta Proposta JRetail PF '\n",
    "#crivo[coluna] = crivo[coluna].apply(dwsemear.converte_latin_para_float)\n",
    "coluna = 'Valor Renda Banco Semear Consulta Proposta JRetail PF '\n",
    "crivo[coluna] = crivo[coluna].apply(dwsemear.converte_latin_para_float)"
   ]
  },
  {
   "cell_type": "code",
   "execution_count": 9,
   "metadata": {},
   "outputs": [],
   "source": [
    "# 'Discreta Sexo Banco Semear Consulta Proposta JRetail PF '\n",
    "# crivo.loc[:,'Discreta UF Banco Semear Consulta Proposta JRetail PF ']\n",
    "# lembrar que data virou datahora\n",
    "# Discreta Estado civil Banco Semear Consulta Proposta JRetail PF "
   ]
  },
  {
   "cell_type": "code",
   "execution_count": 10,
   "metadata": {},
   "outputs": [],
   "source": [
    "coluna = 'Valor Score 12 meses Banco Semear SPC MIX SPC CHEQUE PF ' # esse e o score?\n",
    "crivo.loc[:,coluna] = crivo.loc[:,coluna].apply(dwsemear.converte_latin_para_float)"
   ]
  },
  {
   "cell_type": "code",
   "execution_count": 11,
   "metadata": {},
   "outputs": [],
   "source": [
    "coluna = 'Valor Parcela da compra Banco Semear Consulta Proposta JRetail PF '\n",
    "crivo.loc[:,coluna] = crivo.loc[:,coluna].apply(dwsemear.converte_latin_para_float)"
   ]
  },
  {
   "cell_type": "code",
   "execution_count": 12,
   "metadata": {},
   "outputs": [],
   "source": [
    "coluna = 'Quantidade Parcelas da compra Banco Semear Consulta Proposta JRetail PF '\n",
    "crivo.loc[:,coluna] = crivo.loc[:,coluna].apply(dwsemear.converte_latin_para_float)"
   ]
  },
  {
   "cell_type": "code",
   "execution_count": 13,
   "metadata": {},
   "outputs": [],
   "source": [
    "coluna = 'Quantidade Total de associados distintos nos ltimos 30 dias nas consultas realizadas Banco Semear SPC MIX SPC CHEQUE PF '\n",
    "crivo.loc[:,coluna] = crivo.loc[:,coluna].apply(dwsemear.converte_latin_para_float)"
   ]
  },
  {
   "cell_type": "code",
   "execution_count": 14,
   "metadata": {},
   "outputs": [],
   "source": [
    "coluna = 'Quantidade Total de consultas realizadas Banco Semear SPC MIX SPC CHEQUE PF '\n",
    "crivo.loc[:,coluna] = crivo.loc[:,coluna].apply(dwsemear.converte_latin_para_float)"
   ]
  },
  {
   "cell_type": "code",
   "execution_count": 15,
   "metadata": {},
   "outputs": [],
   "source": [
    "coluna = 'Valor Renda presumida Unitfour Consulta perfil PF '\n",
    "crivo.loc[:,coluna] = crivo.loc[:,coluna].apply(dwsemear.converte_latin_para_float)"
   ]
  },
  {
   "cell_type": "code",
   "execution_count": 16,
   "metadata": {},
   "outputs": [],
   "source": [
    "coluna = 'Valor Atraso m dio Banco Semear Consulta Proposta JRetail PF '\n",
    "crivo.loc[:,coluna] = crivo.loc[:,coluna].apply(dwsemear.converte_latin_para_float)"
   ]
  },
  {
   "cell_type": "code",
   "execution_count": null,
   "metadata": {},
   "outputs": [],
   "source": []
  },
  {
   "cell_type": "code",
   "execution_count": null,
   "metadata": {},
   "outputs": [],
   "source": []
  },
  {
   "cell_type": "code",
   "execution_count": null,
   "metadata": {},
   "outputs": [],
   "source": []
  },
  {
   "cell_type": "code",
   "execution_count": null,
   "metadata": {},
   "outputs": [],
   "source": []
  },
  {
   "cell_type": "code",
   "execution_count": null,
   "metadata": {},
   "outputs": [],
   "source": []
  },
  {
   "cell_type": "code",
   "execution_count": 17,
   "metadata": {},
   "outputs": [],
   "source": [
    "id_crivo = 0\n",
    "crivo_registros = []\n",
    "for i in crivo.index:\n",
    "    id_crivo += 1\n",
    "#    if id_crivo > 10:\n",
    "#        break\n",
    "\n",
    "    crivo_registros.append((id_crivo,\n",
    "          para_int(crivo.loc[i,'Codigo proposta']),\n",
    "          para_data(crivo.loc[i,'datahora']),  # esse cara poderia ser not null\n",
    "          para_str(crivo.loc[i,'Discreta UF Banco Semear Consulta Proposta JRetail PF ']),\n",
    "          para_str(crivo.loc[i,'Discreta Sexo Banco Semear Consulta Proposta JRetail PF ']),\n",
    "          para_float(crivo.loc[i,'Valor Renda Banco Semear Consulta Proposta JRetail PF ']),\n",
    "          para_int(crivo.loc[i,'Valor Score 12 meses Banco Semear SPC MIX SPC CHEQUE PF ']),\n",
    "          para_float(crivo.loc[i,'Valor Parcela da compra Banco Semear Consulta Proposta JRetail PF ']),\n",
    "          para_float(crivo.loc[i,'Valor Renda presumida Unitfour Consulta perfil PF ']),\n",
    "          para_float(crivo.loc[i,'Valor Atraso m dio Banco Semear Consulta Proposta JRetail PF ']),\n",
    "          para_int(crivo.loc[i,'ultimo_pedido']),\n",
    "          para_int(crivo.loc[i,'idade']),  # not null\n",
    "          para_int(crivo.loc[i,'CPF']),\n",
    "          para_int(crivo.loc[i,'Quantidade Parcelas da compra Banco Semear Consulta Proposta JRetail PF ']),\n",
    "          para_int(crivo.loc[i,'Quantidade Total de associados distintos nos ltimos 30 dias nas consultas realizadas Banco Semear SPC MIX SPC CHEQUE PF ']),\n",
    "          para_int(crivo.loc[i,'Quantidade Total de consultas realizadas Banco Semear SPC MIX SPC CHEQUE PF '])))\n",
    "        \n",
    "#    print('LINHA: ',\n",
    "#          para_int(crivo.loc[i,'Codigo proposta']),\n",
    "#          para_data(crivo.loc[i,'datahora']),  # esse cara poderia ser not null\n",
    "#          para_str(crivo.loc[i,'Discreta UF Banco Semear Consulta Proposta JRetail PF ']),\n",
    "#          para_str(crivo.loc[i,'Discreta Sexo Banco Semear Consulta Proposta JRetail PF ']),\n",
    "#          para_float(crivo.loc[i,'Valor Renda Banco Semear Consulta Proposta JRetail PF ']),\n",
    "#          para_float(crivo.loc[i,'Valor Score 12 meses Banco Semear SPC MIX SPC CHEQUE PF ']),\n",
    "#          para_float(crivo.loc[i,'Valor Parcela da compra Banco Semear Consulta Proposta JRetail PF ']),\n",
    "#          para_float(crivo.loc[i,'Valor Renda presumida Unitfour Consulta perfil PF ']),\n",
    "#          para_float(crivo.loc[i,'Valor Atraso m dio Banco Semear Consulta Proposta JRetail PF ']),\n",
    "#          para_int(crivo.loc[i,'idade']),  # not null\n",
    "#          para_int(crivo.loc[i,'CPF']),\n",
    "#          para_int(crivo.loc[i,'Quantidade Parcelas da compra Banco Semear Consulta Proposta JRetail PF ']),\n",
    "#          para_int(crivo.loc[i,'Quantidade Total de associados distintos nos ltimos 30 dias nas consultas realizadas Banco Semear SPC MIX SPC CHEQUE PF ']),\n",
    "#          para_int(crivo.loc[i,'Quantidade Total de consultas realizadas Banco Semear SPC MIX SPC CHEQUE PF '])\n",
    "#         )\n",
    "    "
   ]
  },
  {
   "cell_type": "code",
   "execution_count": null,
   "metadata": {},
   "outputs": [],
   "source": []
  },
  {
   "cell_type": "code",
   "execution_count": null,
   "metadata": {},
   "outputs": [],
   "source": []
  },
  {
   "cell_type": "code",
   "execution_count": null,
   "metadata": {},
   "outputs": [],
   "source": []
  },
  {
   "cell_type": "markdown",
   "metadata": {},
   "source": [
    "# LOAD"
   ]
  },
  {
   "cell_type": "code",
   "execution_count": 26,
   "metadata": {},
   "outputs": [],
   "source": [
    "delete_tabela = '''DROP TABLE crivo'''\n",
    "sql.execute_query(delete_tabela)"
   ]
  },
  {
   "cell_type": "code",
   "execution_count": 27,
   "metadata": {},
   "outputs": [],
   "source": [
    "crie_tabela = '''CREATE TABLE crivo\n",
    "            (ID BIGINT PRIMARY KEY NOT NULL,\n",
    "            codigo_proposta BIGINT NOT NULL,\n",
    "            data timestamp with time zone,\n",
    "            uf TEXT,\n",
    "            genero TEXT,\n",
    "            renda_cliente REAL,\n",
    "            score INT,\n",
    "            valor_parcela REAL,\n",
    "            renda_presumida_unitfour REAL,\n",
    "            atraso_medio REAL,\n",
    "            ultimo_pedido INT,\n",
    "            idade INT,\n",
    "            cpf BIGINT,\n",
    "            quantidade_parcelas INT,\n",
    "            associados_distintos_30_dias INT,\n",
    "            quantidade_consultas INT);'''\n",
    "sql.execute_query(crie_tabela)"
   ]
  },
  {
   "cell_type": "code",
   "execution_count": 28,
   "metadata": {},
   "outputs": [],
   "source": [
    "query = \"\"\" INSERT INTO crivo\n",
    "            (ID,\n",
    "            codigo_proposta,\n",
    "            data,\n",
    "            uf,\n",
    "            genero,\n",
    "            renda_cliente,\n",
    "            score,\n",
    "            valor_parcela,\n",
    "            renda_presumida_unitfour,\n",
    "            atraso_medio,\n",
    "            ultimo_pedido,\n",
    "            idade,\n",
    "            cpf,\n",
    "            quantidade_parcelas,\n",
    "            associados_distintos_30_dias,\n",
    "            quantidade_consultas) \n",
    "            VALUES (%s,%s,%s,%s,%s,%s,%s,%s,%s,%s,%s,%s,%s,%s,%s,%s)\"\"\"\n",
    "sql.adicione_multiplos_registros(query, crivo_registros)"
   ]
  },
  {
   "cell_type": "code",
   "execution_count": null,
   "metadata": {},
   "outputs": [],
   "source": []
  },
  {
   "cell_type": "code",
   "execution_count": null,
   "metadata": {},
   "outputs": [],
   "source": []
  },
  {
   "cell_type": "code",
   "execution_count": null,
   "metadata": {},
   "outputs": [],
   "source": []
  },
  {
   "cell_type": "markdown",
   "metadata": {},
   "source": [
    "# TESTANDO"
   ]
  },
  {
   "cell_type": "code",
   "execution_count": 21,
   "metadata": {},
   "outputs": [],
   "source": [
    "parametros = [1,31]\n",
    "dados_crivo = sql.query_para_pandas('''SELECT *\n",
    "                      FROM crivo\n",
    "                      WHERE ID BETWEEN %s AND %s\n",
    "                      ''',parametros)"
   ]
  },
  {
   "cell_type": "code",
   "execution_count": null,
   "metadata": {},
   "outputs": [],
   "source": []
  },
  {
   "cell_type": "code",
   "execution_count": null,
   "metadata": {},
   "outputs": [],
   "source": []
  },
  {
   "cell_type": "code",
   "execution_count": null,
   "metadata": {},
   "outputs": [],
   "source": []
  },
  {
   "cell_type": "code",
   "execution_count": null,
   "metadata": {},
   "outputs": [],
   "source": []
  },
  {
   "cell_type": "code",
   "execution_count": null,
   "metadata": {},
   "outputs": [],
   "source": []
  },
  {
   "cell_type": "code",
   "execution_count": null,
   "metadata": {},
   "outputs": [],
   "source": []
  },
  {
   "cell_type": "code",
   "execution_count": null,
   "metadata": {},
   "outputs": [],
   "source": []
  },
  {
   "cell_type": "code",
   "execution_count": null,
   "metadata": {},
   "outputs": [],
   "source": [
    "#coluna = 'Data Admiss o Banco Semear Consulta Proposta JRetail PF ' - corrigir isso aqui\n",
    "#crivo[coluna] = pd.to_datetime(crivo[coluna], format='%d/%m/%Y')\n",
    "#crivo = calcula_idade(crivo, coluna) # idade\n",
    "#tempo que mora na mesma casa"
   ]
  },
  {
   "cell_type": "code",
   "execution_count": null,
   "metadata": {
    "scrolled": true
   },
   "outputs": [],
   "source": [
    "for col in crivo.columns:\n",
    "    if 'traso' in col:\n",
    "        print(col)"
   ]
  },
  {
   "cell_type": "code",
   "execution_count": null,
   "metadata": {},
   "outputs": [],
   "source": []
  },
  {
   "cell_type": "code",
   "execution_count": null,
   "metadata": {},
   "outputs": [],
   "source": []
  },
  {
   "cell_type": "code",
   "execution_count": null,
   "metadata": {},
   "outputs": [],
   "source": []
  },
  {
   "cell_type": "code",
   "execution_count": null,
   "metadata": {},
   "outputs": [],
   "source": []
  },
  {
   "cell_type": "code",
   "execution_count": null,
   "metadata": {},
   "outputs": [],
   "source": []
  },
  {
   "cell_type": "code",
   "execution_count": null,
   "metadata": {},
   "outputs": [],
   "source": []
  },
  {
   "cell_type": "code",
   "execution_count": null,
   "metadata": {},
   "outputs": [],
   "source": []
  },
  {
   "cell_type": "markdown",
   "metadata": {},
   "source": [
    "# CRIVO ANTERIOR"
   ]
  },
  {
   "cell_type": "code",
   "execution_count": null,
   "metadata": {},
   "outputs": [],
   "source": [
    "import pandas as pd\n",
    "import dwsemear\n",
    "import datetime\n",
    "import collections\n",
    "\n",
    "import postgresemear as sql  # mover os arquivos para a pasta principal\n",
    "\n",
    "def calcula_idade(dados):\n",
    "    idade = []\n",
    "    nasc = 'Data Nascimento Banco Semear Consulta Proposta JRetail PF '\n",
    "    for i in dados.index:\n",
    "        anos = (dados.loc[i,' Data'] - dados.loc[i,nasc]).days\n",
    "        anos = int(round(anos/365))\n",
    "        idade.append(anos)\n",
    "    dados['idade'] = idade\n",
    "    return dados\n",
    "\n",
    "def remove_localize(data):\n",
    "    return data.tz_localize(None)"
   ]
  },
  {
   "cell_type": "code",
   "execution_count": null,
   "metadata": {},
   "outputs": [],
   "source": [
    "file = 'CreditDefaultSemear-v2.csv'\n",
    "dados = pd.read_csv(file, sep=';', encoding='latin-1', dtype=str)"
   ]
  },
  {
   "cell_type": "code",
   "execution_count": null,
   "metadata": {},
   "outputs": [],
   "source": [
    "dados = dwsemear.limpa_nome_das_colunas(dados)\n",
    "dados = dwsemear.coluna_cpf_para_inteiro(dados, 'CPF x')\n",
    "dados[' Data'] = pd.to_datetime(dados[' Data'], format='%d/%m/%Y')\n",
    "# UF y\n",
    "coluna = 'Data Nascimento Banco Semear Consulta Proposta JRetail PF '\n",
    "dados[coluna] = pd.to_datetime(dados[coluna], format='%d/%m/%Y')\n",
    "dados = calcula_idade(dados) # idade\n",
    "coluna = 'Valor Compra Banco Semear Consulta Proposta JRetail PF '\n",
    "dados[coluna] = dados[coluna].astype(float)\n",
    "coluna = 'Valor Renda Banco Semear Consulta Proposta JRetail PF '\n",
    "dados[coluna] = dados[coluna].apply(dwsemear.converte_latin_para_float)\n",
    "# 'Discreta Sexo Banco Semear Consulta Proposta JRetail PF '\n",
    "# 'Contrato Jretail'\n",
    "# 'Con Contrato'"
   ]
  },
  {
   "cell_type": "code",
   "execution_count": null,
   "metadata": {
    "scrolled": false
   },
   "outputs": [],
   "source": [
    "k = 0\n",
    "crivo_registros = []\n",
    "for i in dados.index:\n",
    "    k += 1\n",
    "#    if k > 10:\n",
    "#        break\n",
    "\n",
    "    crivo_registros.append((\n",
    "        k,\n",
    "        dados.loc[i, ' Data'],\n",
    "        int(dados.loc[i,'Con Contrato']),\n",
    "        int(dados.loc[i,'idade']),\n",
    "        dados.loc[i,'UF y'],\n",
    "        dados.loc[i,'Discreta Sexo Banco Semear Consulta Proposta JRetail PF '],\n",
    "        dados.loc[i,'Valor Renda Banco Semear Consulta Proposta JRetail PF '],\n",
    "        dados.loc[i,'Valor Compra Banco Semear Consulta Proposta JRetail PF '],\n",
    "        int(dados.loc[i,'Inadimplente'])))\n",
    "        \n",
    "        \n",
    "#    print('LINHA: ',\n",
    "#          int(dados.loc[i,'Con Contrato']),\n",
    "#          dados.loc[i,'idade'],\n",
    "#          dados.loc[i,'UF y'],\n",
    "#          dados.loc[i,'Discreta Sexo Banco Semear Consulta Proposta JRetail PF '],\n",
    "#          dados.loc[i,'Valor Renda Banco Semear Consulta Proposta JRetail PF '],\n",
    "#          dados.loc[i,'Valor Compra Banco Semear Consulta Proposta JRetail PF '],\n",
    "#          dados.loc[i,'Inadimplente'] # 60 dias\n",
    "#         )\n",
    "    "
   ]
  },
  {
   "cell_type": "code",
   "execution_count": null,
   "metadata": {},
   "outputs": [],
   "source": []
  },
  {
   "cell_type": "code",
   "execution_count": null,
   "metadata": {},
   "outputs": [],
   "source": []
  },
  {
   "cell_type": "code",
   "execution_count": null,
   "metadata": {},
   "outputs": [],
   "source": [
    "delete_tabela = '''DROP TABLE crivo'''\n",
    "sql.execute_query(delete_tabela)"
   ]
  },
  {
   "cell_type": "code",
   "execution_count": null,
   "metadata": {},
   "outputs": [],
   "source": [
    "crie_tabela = '''CREATE TABLE crivo\n",
    "            (ID BIGINT PRIMARY KEY NOT NULL,\n",
    "            Data timestamp with time zone NOT NULL,\n",
    "            Contrato BIGINT NOT NULL,\n",
    "            Idade REAL NOT NULL,\n",
    "            Uf TEXT NOT NULL,\n",
    "            Genero TEXT NOT NULL,\n",
    "            Valor_renda REAL NOT NULL,\n",
    "            Valor_compra REAL NOT NULL,\n",
    "            Inadimplente INT NOT NULL);'''\n",
    "sql.execute_query(crie_tabela)"
   ]
  },
  {
   "cell_type": "code",
   "execution_count": null,
   "metadata": {},
   "outputs": [],
   "source": [
    "query = \"\"\" INSERT INTO crivo\n",
    "            (ID,\n",
    "            Data,\n",
    "            Contrato,\n",
    "            Idade,\n",
    "            Uf,\n",
    "            Genero,\n",
    "            Valor_renda,\n",
    "            Valor_compra,\n",
    "            Inadimplente) \n",
    "            VALUES (%s,%s,%s,%s,%s,%s,%s,%s,%s)\"\"\"\n",
    "sql.adicione_multiplos_registros(query, crivo_registros)"
   ]
  },
  {
   "cell_type": "code",
   "execution_count": null,
   "metadata": {},
   "outputs": [],
   "source": [
    "COLUMNS = ['ID', 'Data', 'Contrato',\n",
    "           'Idade', 'Uf', 'Genero',\n",
    "           'Valor_renda', 'Valor_compra',\n",
    "           'Inadimplente']"
   ]
  },
  {
   "cell_type": "code",
   "execution_count": null,
   "metadata": {},
   "outputs": [],
   "source": [
    "parametros = [1,31]\n",
    "dados_crivo = sql.query_para_pandas('''SELECT *\n",
    "                      FROM crivo\n",
    "                      WHERE ID BETWEEN %s AND %s\n",
    "                      ''',parametros)\n",
    "dados_crivo.columns = COLUMNS"
   ]
  },
  {
   "cell_type": "code",
   "execution_count": null,
   "metadata": {},
   "outputs": [],
   "source": [
    "dados_crivo.Data = dados_crivo.Data.apply(remove_localize)"
   ]
  },
  {
   "cell_type": "code",
   "execution_count": null,
   "metadata": {},
   "outputs": [],
   "source": []
  },
  {
   "cell_type": "code",
   "execution_count": null,
   "metadata": {},
   "outputs": [],
   "source": []
  },
  {
   "cell_type": "code",
   "execution_count": null,
   "metadata": {},
   "outputs": [],
   "source": []
  },
  {
   "cell_type": "code",
   "execution_count": null,
   "metadata": {},
   "outputs": [],
   "source": []
  },
  {
   "cell_type": "code",
   "execution_count": null,
   "metadata": {},
   "outputs": [],
   "source": []
  },
  {
   "cell_type": "code",
   "execution_count": null,
   "metadata": {},
   "outputs": [],
   "source": []
  },
  {
   "cell_type": "code",
   "execution_count": null,
   "metadata": {},
   "outputs": [],
   "source": []
  }
 ],
 "metadata": {
  "kernelspec": {
   "display_name": "Python 3",
   "language": "python",
   "name": "python3"
  },
  "language_info": {
   "codemirror_mode": {
    "name": "ipython",
    "version": 3
   },
   "file_extension": ".py",
   "mimetype": "text/x-python",
   "name": "python",
   "nbconvert_exporter": "python",
   "pygments_lexer": "ipython3",
   "version": "3.7.3"
  }
 },
 "nbformat": 4,
 "nbformat_minor": 2
}
