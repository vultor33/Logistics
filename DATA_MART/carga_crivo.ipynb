{
 "cells": [
  {
   "cell_type": "code",
   "execution_count": 28,
   "metadata": {},
   "outputs": [],
   "source": [
    "import pandas as pd\n",
    "import dwsemear\n",
    "\n",
    "import postgresemear as sql\n",
    "\n",
    "dwsemear.atualize_metadados()"
   ]
  },
  {
   "cell_type": "code",
   "execution_count": 2,
   "metadata": {},
   "outputs": [],
   "source": [
    "import datetime\n",
    "def converte_data_forte(formato):\n",
    "    ''' Conversao de data na forma funcional. \n",
    "        Quando voce adicionar o formato,\n",
    "        ele ira retornar uma funcao que realiza a conversao da data aplicando\n",
    "        aquele formato'''\n",
    "    def converte_data(data):\n",
    "        try:\n",
    "            datahora = datetime.datetime.strptime(data, formato)\n",
    "            return datahora\n",
    "        except:\n",
    "            return None\n",
    "    \n",
    "    return converte_data\n"
   ]
  },
  {
   "cell_type": "markdown",
   "metadata": {},
   "source": [
    "# TRANSFORMACOES"
   ]
  },
  {
   "cell_type": "code",
   "execution_count": 35,
   "metadata": {},
   "outputs": [],
   "source": [
    "#crivo = pd.read_csv('DadosCrivo-NOV2018.csv', sep=';', encoding='latin-1',dtype=str)\n",
    "crivo = pd.read_csv('190903_crivo.csv',sep=';', encoding='latin-1',dtype=str)"
   ]
  },
  {
   "cell_type": "code",
   "execution_count": null,
   "metadata": {},
   "outputs": [],
   "source": []
  },
  {
   "cell_type": "code",
   "execution_count": null,
   "metadata": {},
   "outputs": [],
   "source": []
  },
  {
   "cell_type": "code",
   "execution_count": null,
   "metadata": {},
   "outputs": [],
   "source": []
  },
  {
   "cell_type": "code",
   "execution_count": 36,
   "metadata": {},
   "outputs": [],
   "source": [
    "crivo = dwsemear.limpa_nome_das_colunas(crivo)\n",
    "crivo.loc[:,'CPF'] = crivo.loc[:,'CPF'].apply(dwsemear.cpf_para_inteiro)\n",
    "crivo = dwsemear.crivo_csv.geracao_coluna_datahora(crivo)\n",
    "coluna = 'Data Nascimento Banco Semear Consulta Proposta JRetail PF '\n",
    "crivo[coluna] = crivo[coluna].apply(converte_data_forte('%d/%m/%Y'))\n",
    "crivo['idade'] = dwsemear.calcula_idade(crivo, 'datahora', coluna) # idade\n",
    "coluna = 'Data Admiss o Banco Semear Consulta Proposta JRetail PF '\n",
    "crivo[coluna] = crivo[coluna].apply(converte_data_forte('%d/%m/%Y'))\n",
    "crivo['admissao_meses'] = dwsemear.calcula_idade(crivo, 'datahora', coluna, 30) # tempo_emprego\n",
    "coluna = 'Data Resid ncia Banco Semear Consulta Proposta JRetail PF '\n",
    "crivo[coluna] = crivo[coluna].apply(converte_data_forte('%d/%m/%Y'))\n",
    "crivo['residencia_meses'] = dwsemear.calcula_idade(crivo, 'datahora', coluna, 30) # tempo_moradia"
   ]
  },
  {
   "cell_type": "code",
   "execution_count": 37,
   "metadata": {},
   "outputs": [],
   "source": [
    "coluna = 'Valor Renda Banco Semear Consulta Proposta JRetail PF '\n",
    "crivo[coluna] = crivo[coluna].apply(dwsemear.converte_latin_para_float)\n",
    "coluna = 'Valor Parcela da compra Banco Semear Consulta Proposta JRetail PF '\n",
    "crivo.loc[:,coluna] = crivo.loc[:,coluna].apply(dwsemear.converte_latin_para_float)\n",
    "coluna = 'Valor Parcela da compra Banco Semear Consulta Proposta JRetail PF '\n",
    "crivo.loc[:,coluna] = crivo.loc[:,coluna].apply(dwsemear.converte_latin_para_float)\n",
    "coluna = 'Quantidade Parcelas da compra Banco Semear Consulta Proposta JRetail PF '\n",
    "crivo.loc[:,coluna] = crivo.loc[:,coluna].apply(dwsemear.converte_latin_para_float)\n",
    "coluna = 'Quantidade Total de associados distintos nos ltimos 30 dias nas consultas realizadas Banco Semear SPC MIX SPC CHEQUE PF '\n",
    "crivo.loc[:,coluna] = crivo.loc[:,coluna].apply(dwsemear.converte_latin_para_float)\n",
    "coluna = 'Quantidade Total de consultas realizadas Banco Semear SPC MIX SPC CHEQUE PF '\n",
    "crivo.loc[:,coluna] = crivo.loc[:,coluna].apply(dwsemear.converte_latin_para_float)\n",
    "coluna = 'Valor Renda presumida Unitfour Consulta perfil PF '\n",
    "crivo.loc[:,coluna] = crivo.loc[:,coluna].apply(dwsemear.converte_latin_para_float)\n",
    "coluna = 'Valor Atraso m dio Banco Semear Consulta Proposta JRetail PF '\n",
    "crivo.loc[:,coluna] = crivo.loc[:,coluna].apply(dwsemear.converte_latin_para_float)\n",
    "coluna = 'Discreta CEP Banco Semear Consulta Proposta JRetail PF '\n",
    "crivo.loc[:,coluna] = crivo.loc[:,coluna].apply(dwsemear.converte_latin_para_float)\n",
    "coluna = 'Discreta J cliente Banco Semear Consulta Proposta JRetail PF '\n",
    "crivo.loc[:,coluna] = crivo.loc[:,coluna].apply(lambda x: 1 if x == 'N' else 0)\n",
    "\n",
    "#coluna = 'Discreta Categoria profissional Banco Semear Consulta Proposta JRetail PF '\n",
    "#crivo.loc[:,coluna]  -- profissao -> texto\n",
    "#C digo da filial do lojista  texto\n",
    "#C digo do lojista"
   ]
  },
  {
   "cell_type": "code",
   "execution_count": 38,
   "metadata": {},
   "outputs": [],
   "source": [
    "crivo = dwsemear.crivo_csv.geracao_coluna_ultimo_pedido(crivo) # passo lento"
   ]
  },
  {
   "cell_type": "markdown",
   "metadata": {},
   "source": [
    "# OBTENCAO DO SCORE"
   ]
  },
  {
   "cell_type": "code",
   "execution_count": 39,
   "metadata": {},
   "outputs": [],
   "source": [
    "coluna_score1 = 'Valor Score 12 meses Banco Semear SPC MIX SPC CHEQUE PF ' # score 0-100\n",
    "crivo.loc[:,coluna_score1] = crivo.loc[:,coluna_score1].apply(dwsemear.converte_latin_para_float)\n",
    "coluna_score2 = 'Valor - Score 12 meses(SPC BrasilV2 - SPC MIX (SPC + CHEQUE) .. - PF)' # score 0-1000\n",
    "score = []\n",
    "if coluna_score2 in crivo.columns:\n",
    "    crivo.loc[:,coluna_score2] = crivo.loc[:,coluna_score2].apply(dwsemear.converte_latin_para_float)\n",
    "    for i in crivo.index:\n",
    "        if dwsemear.e_nulo(crivo.loc[i,coluna_score2]):\n",
    "            score.append(crivo.loc[i,coluna_score1] * 10)\n",
    "        else:\n",
    "            score.append(crivo.loc[i,coluna_score2])\n",
    "    crivo['score'] = score\n",
    "else:\n",
    "    crivo['score'] = crivo.loc[:,coluna_score1] * 10\n"
   ]
  },
  {
   "cell_type": "markdown",
   "metadata": {},
   "source": [
    "# CONFERENCIA DE NOT NULL E SE OS REGISTROS JA FORAM ADICIONADOS"
   ]
  },
  {
   "cell_type": "code",
   "execution_count": 40,
   "metadata": {},
   "outputs": [],
   "source": [
    "metadados = dwsemear.pegue_metadados('originacao')"
   ]
  },
  {
   "cell_type": "code",
   "execution_count": 41,
   "metadata": {},
   "outputs": [
    {
     "data": {
      "text/plain": [
       "0"
      ]
     },
     "execution_count": 41,
     "metadata": {},
     "output_type": "execute_result"
    }
   ],
   "source": [
    "crivo.loc[:,'Codigo proposta'].isnull().sum()"
   ]
  },
  {
   "cell_type": "code",
   "execution_count": 42,
   "metadata": {},
   "outputs": [
    {
     "data": {
      "text/plain": [
       "0"
      ]
     },
     "execution_count": 42,
     "metadata": {},
     "output_type": "execute_result"
    }
   ],
   "source": [
    "crivo.loc[:,'CPF'].isnull().sum()"
   ]
  },
  {
   "cell_type": "code",
   "execution_count": 43,
   "metadata": {},
   "outputs": [
    {
     "data": {
      "text/plain": [
       "0"
      ]
     },
     "execution_count": 43,
     "metadata": {},
     "output_type": "execute_result"
    }
   ],
   "source": [
    "crivo.loc[:,'datahora'].isnull().sum()"
   ]
  },
  {
   "cell_type": "code",
   "execution_count": null,
   "metadata": {},
   "outputs": [],
   "source": []
  },
  {
   "cell_type": "code",
   "execution_count": null,
   "metadata": {},
   "outputs": [],
   "source": []
  },
  {
   "cell_type": "code",
   "execution_count": null,
   "metadata": {},
   "outputs": [],
   "source": []
  },
  {
   "cell_type": "markdown",
   "metadata": {},
   "source": [
    "# DELETANDO PEDIDOS QUE JA FORAM ADICIONADOS"
   ]
  },
  {
   "cell_type": "code",
   "execution_count": 48,
   "metadata": {},
   "outputs": [
    {
     "data": {
      "text/html": [
       "<div>\n",
       "<style scoped>\n",
       "    .dataframe tbody tr th:only-of-type {\n",
       "        vertical-align: middle;\n",
       "    }\n",
       "\n",
       "    .dataframe tbody tr th {\n",
       "        vertical-align: top;\n",
       "    }\n",
       "\n",
       "    .dataframe thead th {\n",
       "        text-align: right;\n",
       "    }\n",
       "</style>\n",
       "<table border=\"1\" class=\"dataframe\">\n",
       "  <thead>\n",
       "    <tr style=\"text-align: right;\">\n",
       "      <th></th>\n",
       "      <th>0</th>\n",
       "    </tr>\n",
       "  </thead>\n",
       "  <tbody>\n",
       "    <tr>\n",
       "      <th>0</th>\n",
       "      <td>2018-11-05 14:39:51</td>\n",
       "    </tr>\n",
       "  </tbody>\n",
       "</table>\n",
       "</div>"
      ],
      "text/plain": [
       "                    0\n",
       "0 2018-11-05 14:39:51"
      ]
     },
     "execution_count": 48,
     "metadata": {},
     "output_type": "execute_result"
    }
   ],
   "source": [
    "nome_tabela = 'originacao'\n",
    "nome_coluna = 'datahora_pedido'\n",
    "query_max = \"SELECT MAX(\" + nome_coluna + \") FROM \" + nome_tabela\n",
    "sql.query_para_pandas(query_max)"
   ]
  },
  {
   "cell_type": "code",
   "execution_count": 50,
   "metadata": {},
   "outputs": [],
   "source": [
    "ultimo_realizado = sql.query_para_pandas(query_max).iloc[0,0]"
   ]
  },
  {
   "cell_type": "code",
   "execution_count": 56,
   "metadata": {},
   "outputs": [],
   "source": [
    "crivo_back = crivo.copy()"
   ]
  },
  {
   "cell_type": "code",
   "execution_count": 57,
   "metadata": {},
   "outputs": [],
   "source": [
    "crivo = crivo[crivo.datahora > ultimo_realizado]  # descartando o ultimo"
   ]
  },
  {
   "cell_type": "code",
   "execution_count": null,
   "metadata": {},
   "outputs": [],
   "source": [
    "dwsemear.metadados.leia_metadados()"
   ]
  },
  {
   "cell_type": "code",
   "execution_count": null,
   "metadata": {},
   "outputs": [],
   "source": []
  },
  {
   "cell_type": "code",
   "execution_count": null,
   "metadata": {},
   "outputs": [],
   "source": []
  },
  {
   "cell_type": "code",
   "execution_count": null,
   "metadata": {},
   "outputs": [],
   "source": []
  },
  {
   "cell_type": "markdown",
   "metadata": {},
   "source": [
    "# CARGA"
   ]
  },
  {
   "cell_type": "code",
   "execution_count": 59,
   "metadata": {},
   "outputs": [],
   "source": [
    "colunas_map = {}\n",
    "colunas_map['associados_distintos_30_dias'] = 'Quantidade Total de associados distintos nos ltimos 30 dias nas consultas realizadas Banco Semear SPC MIX SPC CHEQUE PF '\n",
    "colunas_map['atraso_medio'] = 'Valor Atraso m dio Banco Semear Consulta Proposta JRetail PF '\n",
    "colunas_map['categoria_profissional'] = 'Discreta Categoria profissional Banco Semear Consulta Proposta JRetail PF '\n",
    "colunas_map['cep'] = 'Discreta CEP Banco Semear Consulta Proposta JRetail PF '\n",
    "colunas_map['cliente_novo'] = 'Discreta J cliente Banco Semear Consulta Proposta JRetail PF '\n",
    "colunas_map['codigo_lojista'] = 'C digo do lojista'\n",
    "colunas_map['codigo_lojista_filial'] = 'C digo da filial do lojista'\n",
    "colunas_map['codigo_proposta'] = 'Codigo proposta'\n",
    "colunas_map['cpf'] = 'CPF'\n",
    "colunas_map['datahora_pedido'] = 'datahora'\n",
    "colunas_map['genero'] = 'Discreta Sexo Banco Semear Consulta Proposta JRetail PF '\n",
    "colunas_map['idade'] = 'idade'\n",
    "colunas_map['quantidade_consultas'] = 'Quantidade Total de consultas realizadas Banco Semear SPC MIX SPC CHEQUE PF '\n",
    "colunas_map['quantidade_parcelas_plano'] = 'Quantidade Parcelas da compra Banco Semear Consulta Proposta JRetail PF '\n",
    "colunas_map['renda_cliente'] = 'Valor Renda Banco Semear Consulta Proposta JRetail PF '\n",
    "colunas_map['renda_presumida_unitfour'] = 'Valor Renda presumida Unitfour Consulta perfil PF '\n",
    "colunas_map['score'] = 'score'\n",
    "colunas_map['tempo_emprego'] = 'admissao_meses'\n",
    "colunas_map['tempo_moradia'] = 'residencia_meses'\n",
    "colunas_map['uf'] = 'Discreta UF Banco Semear Consulta Proposta JRetail PF '\n",
    "colunas_map['ultimo_pedido'] = 'ultimo_pedido'\n",
    "colunas_map['valor_parcela'] = 'Valor Parcela da compra Banco Semear Consulta Proposta JRetail PF '"
   ]
  },
  {
   "cell_type": "code",
   "execution_count": 65,
   "metadata": {},
   "outputs": [
    {
     "name": "stdout",
     "output_type": "stream",
     "text": [
      "254491\n"
     ]
    }
   ],
   "source": [
    "id_originacao = sql.query_max_coluna('id', 'originacao')\n",
    "if id_originacao == None:\n",
    "    id_originacao = -1\n",
    "print(id_originacao)"
   ]
  },
  {
   "cell_type": "code",
   "execution_count": 61,
   "metadata": {},
   "outputs": [],
   "source": [
    "registros = []\n",
    "for i in crivo.index:\n",
    "    id_originacao += 1\n",
    "    registros.append((\n",
    "        dwsemear.para_int(crivo.loc[i,colunas_map['associados_distintos_30_dias']]),\n",
    "        dwsemear.para_float(crivo.loc[i,colunas_map['atraso_medio']]),\n",
    "        dwsemear.para_str(crivo.loc[i,colunas_map['categoria_profissional']]),\n",
    "        dwsemear.para_int(crivo.loc[i,colunas_map['cep']]),\n",
    "        dwsemear.para_int(crivo.loc[i,colunas_map['cliente_novo']]),\n",
    "        dwsemear.para_str(crivo.loc[i,colunas_map['codigo_lojista']]),\n",
    "        dwsemear.para_str(crivo.loc[i,colunas_map['codigo_lojista_filial']]),\n",
    "        dwsemear.para_int(crivo.loc[i,colunas_map['codigo_proposta']]),\n",
    "        dwsemear.para_int(crivo.loc[i,colunas_map['cpf']]),\n",
    "        dwsemear.para_data(crivo.loc[i,colunas_map['datahora_pedido']]),\n",
    "        dwsemear.para_str(crivo.loc[i,colunas_map['genero']]),\n",
    "        id_originacao,\n",
    "        dwsemear.para_int(crivo.loc[i,colunas_map['idade']]),\n",
    "        dwsemear.para_int(crivo.loc[i,colunas_map['quantidade_consultas']]),\n",
    "        dwsemear.para_int(crivo.loc[i,colunas_map['quantidade_parcelas_plano']]),\n",
    "        dwsemear.para_float(crivo.loc[i,colunas_map['renda_cliente']]),\n",
    "        dwsemear.para_float(crivo.loc[i,colunas_map['renda_presumida_unitfour']]),\n",
    "        dwsemear.para_int(crivo.loc[i,colunas_map['score']]),\n",
    "        dwsemear.para_int(crivo.loc[i,colunas_map['tempo_emprego']]),\n",
    "        dwsemear.para_int(crivo.loc[i,colunas_map['tempo_moradia']]),\n",
    "        dwsemear.para_str(crivo.loc[i,colunas_map['uf']]),\n",
    "        dwsemear.para_int(crivo.loc[i,colunas_map['ultimo_pedido']]),\n",
    "        dwsemear.para_float(crivo.loc[i,colunas_map['valor_parcela']])\n",
    "    ))\n"
   ]
  },
  {
   "cell_type": "code",
   "execution_count": 64,
   "metadata": {},
   "outputs": [],
   "source": [
    "dwsemear.insira_tabela('originacao', registros)"
   ]
  },
  {
   "cell_type": "code",
   "execution_count": null,
   "metadata": {},
   "outputs": [],
   "source": []
  },
  {
   "cell_type": "code",
   "execution_count": null,
   "metadata": {},
   "outputs": [],
   "source": []
  },
  {
   "cell_type": "code",
   "execution_count": null,
   "metadata": {},
   "outputs": [],
   "source": []
  },
  {
   "cell_type": "code",
   "execution_count": null,
   "metadata": {},
   "outputs": [],
   "source": []
  },
  {
   "cell_type": "code",
   "execution_count": 29,
   "metadata": {},
   "outputs": [],
   "source": [
    "#dwsemear.delete_tabela('originacao')\n",
    "#dwsemear.crie_tabela('originacao')"
   ]
  },
  {
   "cell_type": "code",
   "execution_count": null,
   "metadata": {},
   "outputs": [],
   "source": []
  },
  {
   "cell_type": "code",
   "execution_count": null,
   "metadata": {},
   "outputs": [],
   "source": []
  },
  {
   "cell_type": "code",
   "execution_count": null,
   "metadata": {},
   "outputs": [],
   "source": []
  },
  {
   "cell_type": "code",
   "execution_count": null,
   "metadata": {
    "scrolled": true
   },
   "outputs": [],
   "source": [
    "for col in crivo.columns:\n",
    "    if 'liente' in col:\n",
    "        print(col)"
   ]
  },
  {
   "cell_type": "code",
   "execution_count": null,
   "metadata": {},
   "outputs": [],
   "source": []
  },
  {
   "cell_type": "code",
   "execution_count": null,
   "metadata": {},
   "outputs": [],
   "source": []
  },
  {
   "cell_type": "code",
   "execution_count": null,
   "metadata": {},
   "outputs": [],
   "source": []
  }
 ],
 "metadata": {
  "kernelspec": {
   "display_name": "Python 3",
   "language": "python",
   "name": "python3"
  },
  "language_info": {
   "codemirror_mode": {
    "name": "ipython",
    "version": 3
   },
   "file_extension": ".py",
   "mimetype": "text/x-python",
   "name": "python",
   "nbconvert_exporter": "python",
   "pygments_lexer": "ipython3",
   "version": "3.7.3"
  }
 },
 "nbformat": 4,
 "nbformat_minor": 2
}
