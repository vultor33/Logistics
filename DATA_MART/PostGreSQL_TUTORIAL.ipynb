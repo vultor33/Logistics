{
 "cells": [
  {
   "cell_type": "code",
   "execution_count": null,
   "metadata": {},
   "outputs": [],
   "source": [
    "# Faca o download do PostGreSQL no site.\n",
    "# Senha de adminsitrado: Bolota\n",
    "# A linha de comando do postgre fica no /bin que foi instalada, chama psql\n",
    "# Local que foi instalado: C:\\BANCO_SQL\\PostgreSQL\n",
    "# voce pode fazer o login assim:  \n",
    "# psql -U postgres -h localhost -W\n",
    "# o usuario padrao e o postgres, a senha e a que foi preenchida na hora da instalacao.\n",
    "# pela linha de comando voce pode criar um database por exemplo:\n",
    "# CREATE DATABASE guru89;  (; encerra a linha)\n",
    "\n",
    "\n",
    "# CLIENTE PYTHON\n",
    "# pip install psycopg2-binary\n",
    "\n"
   ]
  },
  {
   "cell_type": "code",
   "execution_count": 1,
   "metadata": {},
   "outputs": [],
   "source": [
    "import psycopg2\n",
    "from psycopg2 import Error"
   ]
  },
  {
   "cell_type": "code",
   "execution_count": 9,
   "metadata": {},
   "outputs": [],
   "source": [
    "def mysql_connection():\n",
    "    return psycopg2.connect(user = \"postgres\",\n",
    "                                  password = \"Bolota\",\n",
    "                                  host = \"127.0.0.1\",\n",
    "                                  port = \"5432\",\n",
    "                                  database = \"guru89\")\n",
    "\n",
    "def close_connection(connection, cursor):\n",
    "    if(connection):\n",
    "        cursor.close()\n",
    "        connection.close()\n",
    "        print(\"PostgreSQL connection is closed\")    \n",
    "        "
   ]
  },
  {
   "cell_type": "code",
   "execution_count": 10,
   "metadata": {},
   "outputs": [
    {
     "name": "stdout",
     "output_type": "stream",
     "text": [
      "{'user': 'postgres', 'dbname': 'guru89', 'host': '127.0.0.1', 'port': '5432', 'tty': '', 'options': '', 'sslmode': 'prefer', 'sslcompression': '0', 'krbsrvname': 'postgres', 'target_session_attrs': 'any'} \n",
      "\n",
      "You are connected to -  ('PostgreSQL 11.5, compiled by Visual C++ build 1914, 64-bit',) \n",
      "\n",
      "PostgreSQL connection is closed\n"
     ]
    }
   ],
   "source": [
    "# Hello world\n",
    "\n",
    "try:\n",
    "    connection = psycopg2.connect(user = \"postgres\",\n",
    "                                  password = \"Bolota\",\n",
    "                                  host = \"127.0.0.1\",\n",
    "                                  port = \"5432\",\n",
    "                                  database = \"guru89\")\n",
    "    cursor = connection.cursor()\n",
    "    print( connection.get_dsn_parameters(),\"\\n\")\n",
    "    cursor.execute(\"SELECT version();\")\n",
    "    record = cursor.fetchone()\n",
    "    print(\"You are connected to - \", record,\"\\n\")\n",
    "except (Exception, psycopg2.Error) as error :\n",
    "    print (\"Error while connecting to PostgreSQL\", error)\n",
    "finally:\n",
    "    close_connection(connection, cursor)"
   ]
  },
  {
   "cell_type": "code",
   "execution_count": 13,
   "metadata": {},
   "outputs": [
    {
     "name": "stdout",
     "output_type": "stream",
     "text": [
      "Table created successfully in PostgreSQL \n",
      "PostgreSQL connection is closed\n"
     ]
    }
   ],
   "source": [
    "# CRIACAO DE TABELA\n",
    "\n",
    "try:\n",
    "    connection = mysql_connection()\n",
    "    cursor = connection.cursor()\n",
    "        \n",
    "    # Criacao da tabela mobile no database guru89\n",
    "    create_table_query = '''CREATE TABLE mobile   \n",
    "            (ID INT PRIMARY KEY     NOT NULL,\n",
    "            MODEL           TEXT    NOT NULL,\n",
    "            PRICE         REAL); '''\n",
    "        \n",
    "    cursor.execute(create_table_query)\n",
    "    connection.commit()\n",
    "    print(\"Table created successfully in PostgreSQL \")\n",
    "except (Exception, psycopg2.DatabaseError) as error :\n",
    "    print (\"Error while creating PostgreSQL table\", error)\n",
    "finally:\n",
    "    close_connection(connection, cursor)\n"
   ]
  },
  {
   "cell_type": "code",
   "execution_count": 20,
   "metadata": {},
   "outputs": [
    {
     "name": "stdout",
     "output_type": "stream",
     "text": [
      "Failed to insert record into mobile table duplicate key value violates unique constraint \"mobile_pkey\"\n",
      "DETAIL:  Key (id)=(6) already exists.\n",
      "\n",
      "PostgreSQL connection is closed\n"
     ]
    }
   ],
   "source": [
    "# INSERT\n",
    "\n",
    "try:\n",
    "    connection = mysql_connection()\n",
    "    cursor = connection.cursor()\n",
    "    postgres_insert_query = \"\"\" INSERT INTO mobile (ID, MODEL, PRICE) VALUES (%s,%s,%s)\"\"\" #esse sss e adicionado depois, assim a query fica consistente.\n",
    "    record_to_insert = (6, 'PLUS ULTRA', 950)\n",
    "    cursor.execute(postgres_insert_query, record_to_insert)\n",
    "    connection.commit()\n",
    "    count = cursor.rowcount\n",
    "    print (count, \"Record inserted successfully into mobile table\")\n",
    "except (Exception, psycopg2.Error) as error :\n",
    "    if(connection):\n",
    "        print(\"Failed to insert record into mobile table\", error)\n",
    "finally:\n",
    "    close_connection(connection, cursor)\n",
    "\n",
    "# Isso e uma opcao para criar varios inserts    \n",
    "#cursor = connection.cursor(prepared=True) quando voce coloca esse prepared aqui, ele vai fazer a mesma query sempre, mas e bem mais rapido.\n",
    "#query = \"SELECT * FROM python_users WHERE id = %s\"\n",
    "#cursor.execute(query, (1,)) \n",
    "#cursor.execute(query, (2,))                \n",
    "\n",
    "# Existe outra opcao que cria varios inserts que o insertmany()\n"
   ]
  },
  {
   "cell_type": "code",
   "execution_count": 23,
   "metadata": {},
   "outputs": [
    {
     "name": "stdout",
     "output_type": "stream",
     "text": [
      "Table Before updating record \n",
      "(6, 'PLUS ULTRA', 950.0)\n",
      "1 Record Updated successfully \n",
      "Table After updating record \n",
      "(6, 'PLUS ULTRA', 970.0)\n",
      "PostgreSQL connection is closed\n"
     ]
    }
   ],
   "source": [
    "def updateTable(mobileId, price):\n",
    "    try:\n",
    "        connection =  mysql_connection()\n",
    "        cursor = connection.cursor()\n",
    "\n",
    "        # Fazendo a primeira query\n",
    "        print(\"Table Before updating record \")\n",
    "        sql_select_query = \"\"\"select * from mobile where id = %s\"\"\"\n",
    "        cursor.execute(sql_select_query, (mobileId, ))\n",
    "        record = cursor.fetchone()\n",
    "        print(record)\n",
    "\n",
    "        \n",
    "        # Update single record now\n",
    "        sql_update_query = \"\"\"Update mobile set price = %s where id = %s\"\"\"\n",
    "        cursor.execute(sql_update_query, (price, mobileId))\n",
    "        connection.commit()\n",
    "        count = cursor.rowcount\n",
    "        print(count, \"Record Updated successfully \")\n",
    "\n",
    "        # Fazendo a query para conferir\n",
    "        print(\"Table After updating record \")\n",
    "        sql_select_query = \"\"\"select * from mobile where id = %s\"\"\"\n",
    "        cursor.execute(sql_select_query, (mobileId,))\n",
    "        record = cursor.fetchone()\n",
    "        print(record)\n",
    "\n",
    "    \n",
    "    except (Exception, psycopg2.Error) as error:\n",
    "        print(\"Error in update operation\", error)\n",
    "    finally:\n",
    "        close_connection(connection, cursor)            \n",
    "\n",
    "        \n",
    "id = 6\n",
    "price = 970\n",
    "updateTable(id, price)            "
   ]
  },
  {
   "cell_type": "code",
   "execution_count": 24,
   "metadata": {},
   "outputs": [
    {
     "name": "stdout",
     "output_type": "stream",
     "text": [
      "0 Record deleted successfully \n",
      "PostgreSQL connection is closed\n",
      "1 Record deleted successfully \n",
      "PostgreSQL connection is closed\n"
     ]
    }
   ],
   "source": [
    "# DELETE ONE\n",
    "\n",
    "def deleteData(mobileId):\n",
    "    try:\n",
    "        connection = mysql_connection()\n",
    "        cursor = connection.cursor()\n",
    "        # Update single record now\n",
    "        sql_delete_query = \"\"\"Delete from mobile where id = %s\"\"\"\n",
    "        cursor.execute(sql_delete_query, (mobileId, ))\n",
    "        connection.commit()\n",
    "        count = cursor.rowcount\n",
    "        print(count, \"Record deleted successfully \")\n",
    "    except (Exception, psycopg2.Error) as error:\n",
    "        print(\"Error in Delete operation\", error)\n",
    "    finally:\n",
    "        close_connection(connection, cursor)       \n",
    "\n",
    "id4 = 4\n",
    "id5 = 5\n",
    "deleteData(id4)\n",
    "deleteData(id5)"
   ]
  },
  {
   "cell_type": "code",
   "execution_count": null,
   "metadata": {},
   "outputs": [],
   "source": []
  },
  {
   "cell_type": "code",
   "execution_count": null,
   "metadata": {},
   "outputs": [],
   "source": []
  },
  {
   "cell_type": "code",
   "execution_count": null,
   "metadata": {},
   "outputs": [],
   "source": []
  },
  {
   "cell_type": "code",
   "execution_count": null,
   "metadata": {},
   "outputs": [],
   "source": []
  },
  {
   "cell_type": "code",
   "execution_count": null,
   "metadata": {},
   "outputs": [],
   "source": []
  },
  {
   "cell_type": "code",
   "execution_count": null,
   "metadata": {},
   "outputs": [],
   "source": []
  },
  {
   "cell_type": "code",
   "execution_count": null,
   "metadata": {},
   "outputs": [],
   "source": []
  },
  {
   "cell_type": "code",
   "execution_count": null,
   "metadata": {},
   "outputs": [],
   "source": []
  },
  {
   "cell_type": "code",
   "execution_count": null,
   "metadata": {},
   "outputs": [],
   "source": []
  },
  {
   "cell_type": "code",
   "execution_count": null,
   "metadata": {},
   "outputs": [],
   "source": []
  },
  {
   "cell_type": "code",
   "execution_count": null,
   "metadata": {},
   "outputs": [],
   "source": []
  },
  {
   "cell_type": "code",
   "execution_count": null,
   "metadata": {},
   "outputs": [],
   "source": []
  },
  {
   "cell_type": "code",
   "execution_count": null,
   "metadata": {},
   "outputs": [],
   "source": []
  },
  {
   "cell_type": "code",
   "execution_count": null,
   "metadata": {},
   "outputs": [],
   "source": []
  },
  {
   "cell_type": "code",
   "execution_count": null,
   "metadata": {},
   "outputs": [],
   "source": []
  },
  {
   "cell_type": "code",
   "execution_count": null,
   "metadata": {},
   "outputs": [],
   "source": []
  },
  {
   "cell_type": "code",
   "execution_count": null,
   "metadata": {},
   "outputs": [],
   "source": []
  }
 ],
 "metadata": {
  "kernelspec": {
   "display_name": "Python 3",
   "language": "python",
   "name": "python3"
  },
  "language_info": {
   "codemirror_mode": {
    "name": "ipython",
    "version": 3
   },
   "file_extension": ".py",
   "mimetype": "text/x-python",
   "name": "python",
   "nbconvert_exporter": "python",
   "pygments_lexer": "ipython3",
   "version": "3.7.3"
  }
 },
 "nbformat": 4,
 "nbformat_minor": 2
}
