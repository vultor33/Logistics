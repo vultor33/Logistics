{
 "cells": [
  {
   "cell_type": "code",
   "execution_count": 1,
   "metadata": {},
   "outputs": [],
   "source": [
    "import postgresemear as sql\n",
    "import pandas as pd\n",
    "import dwsemear"
   ]
  },
  {
   "cell_type": "code",
   "execution_count": 2,
   "metadata": {},
   "outputs": [],
   "source": [
    "funcionarios = pd.read_csv('funcionarios_semear_cobrancas.csv', sep=';', encoding='latin-1',dtype=str)"
   ]
  },
  {
   "cell_type": "code",
   "execution_count": 3,
   "metadata": {},
   "outputs": [
    {
     "name": "stdout",
     "output_type": "stream",
     "text": [
      "['empresa', 'funcao', 'id', 'nome']\n"
     ]
    }
   ],
   "source": [
    "# Olhe as colunas\n",
    "print(dwsemear.pegue_colunas('responsavel'))"
   ]
  },
  {
   "cell_type": "markdown",
   "metadata": {},
   "source": [
    "# As colunas precisam estar em harmonia com os metadados"
   ]
  },
  {
   "cell_type": "code",
   "execution_count": 4,
   "metadata": {},
   "outputs": [],
   "source": [
    "registros = []\n",
    "for i in funcionarios.index:\n",
    "    registros.append((\n",
    "        dwsemear.para_str(funcionarios.loc[i,'Empresa']),\n",
    "        dwsemear.para_str(funcionarios.loc[i,'FuncaoDoResponsavel']),\n",
    "        dwsemear.para_int(funcionarios.loc[i,'IDResponsavel']),\n",
    "        dwsemear.para_str(funcionarios.loc[i,'Nome'])))"
   ]
  },
  {
   "cell_type": "code",
   "execution_count": 20,
   "metadata": {},
   "outputs": [
    {
     "data": {
      "text/plain": [
       "('Semear', 'Semear', 1, 'Aline Alves Luiz')"
      ]
     },
     "execution_count": 20,
     "metadata": {},
     "output_type": "execute_result"
    }
   ],
   "source": [
    "registros[0]"
   ]
  },
  {
   "cell_type": "code",
   "execution_count": null,
   "metadata": {},
   "outputs": [],
   "source": []
  },
  {
   "cell_type": "code",
   "execution_count": null,
   "metadata": {},
   "outputs": [],
   "source": []
  },
  {
   "cell_type": "markdown",
   "metadata": {},
   "source": [
    "# Carga na tabela"
   ]
  },
  {
   "cell_type": "code",
   "execution_count": 5,
   "metadata": {},
   "outputs": [],
   "source": [
    "dwsemear.delete_tabela('responsavel')"
   ]
  },
  {
   "cell_type": "code",
   "execution_count": 11,
   "metadata": {},
   "outputs": [],
   "source": [
    "dwsemear.crie_tabela('responsavel')"
   ]
  },
  {
   "cell_type": "code",
   "execution_count": 12,
   "metadata": {},
   "outputs": [],
   "source": [
    "dwsemear.insira_tabela('responsavel', registros)"
   ]
  },
  {
   "cell_type": "code",
   "execution_count": 13,
   "metadata": {},
   "outputs": [
    {
     "data": {
      "text/html": [
       "<div>\n",
       "<style scoped>\n",
       "    .dataframe tbody tr th:only-of-type {\n",
       "        vertical-align: middle;\n",
       "    }\n",
       "\n",
       "    .dataframe tbody tr th {\n",
       "        vertical-align: top;\n",
       "    }\n",
       "\n",
       "    .dataframe thead th {\n",
       "        text-align: right;\n",
       "    }\n",
       "</style>\n",
       "<table border=\"1\" class=\"dataframe\">\n",
       "  <thead>\n",
       "    <tr style=\"text-align: right;\">\n",
       "      <th></th>\n",
       "      <th>empresa</th>\n",
       "      <th>funcao</th>\n",
       "      <th>id</th>\n",
       "      <th>nome</th>\n",
       "    </tr>\n",
       "  </thead>\n",
       "  <tbody>\n",
       "    <tr>\n",
       "      <th>0</th>\n",
       "      <td>Semear</td>\n",
       "      <td>Semear</td>\n",
       "      <td>1</td>\n",
       "      <td>Aline Alves Luiz</td>\n",
       "    </tr>\n",
       "    <tr>\n",
       "      <th>1</th>\n",
       "      <td>Semear</td>\n",
       "      <td>Semear</td>\n",
       "      <td>2</td>\n",
       "      <td>Ana Paula Azevedo</td>\n",
       "    </tr>\n",
       "    <tr>\n",
       "      <th>2</th>\n",
       "      <td>Mar Azul</td>\n",
       "      <td>SAC</td>\n",
       "      <td>3</td>\n",
       "      <td>Anna Paula Pereira Gomes</td>\n",
       "    </tr>\n",
       "    <tr>\n",
       "      <th>3</th>\n",
       "      <td>Mar Azul</td>\n",
       "      <td>SAC</td>\n",
       "      <td>4</td>\n",
       "      <td>Bruno Aparecido Silva de Jesus</td>\n",
       "    </tr>\n",
       "    <tr>\n",
       "      <th>4</th>\n",
       "      <td>Mar Azul</td>\n",
       "      <td>SAC</td>\n",
       "      <td>5</td>\n",
       "      <td>Bruno Felipe Alves de Lima</td>\n",
       "    </tr>\n",
       "    <tr>\n",
       "      <th>5</th>\n",
       "      <td>Mar Azul</td>\n",
       "      <td>SAC</td>\n",
       "      <td>6</td>\n",
       "      <td>Bruno Naves de Oliveira</td>\n",
       "    </tr>\n",
       "    <tr>\n",
       "      <th>6</th>\n",
       "      <td>Mar Azul</td>\n",
       "      <td>SAC</td>\n",
       "      <td>7</td>\n",
       "      <td>Daniele Cristiane de Freitas Duarte</td>\n",
       "    </tr>\n",
       "    <tr>\n",
       "      <th>7</th>\n",
       "      <td>Semear</td>\n",
       "      <td>Semear</td>\n",
       "      <td>8</td>\n",
       "      <td>Gabriel Torres de Carvalho Timochenco</td>\n",
       "    </tr>\n",
       "    <tr>\n",
       "      <th>8</th>\n",
       "      <td>Mar Azul</td>\n",
       "      <td>SAC</td>\n",
       "      <td>9</td>\n",
       "      <td>Giovanna Mariana da Silva Santos</td>\n",
       "    </tr>\n",
       "    <tr>\n",
       "      <th>9</th>\n",
       "      <td>Semear</td>\n",
       "      <td>Semear</td>\n",
       "      <td>10</td>\n",
       "      <td>Ingrid Pereira de Oliveira Silva</td>\n",
       "    </tr>\n",
       "    <tr>\n",
       "      <th>10</th>\n",
       "      <td>Mar Azul</td>\n",
       "      <td>SAC</td>\n",
       "      <td>11</td>\n",
       "      <td>Leonardo Pereira Vida</td>\n",
       "    </tr>\n",
       "    <tr>\n",
       "      <th>11</th>\n",
       "      <td>Semear</td>\n",
       "      <td>Semear</td>\n",
       "      <td>12</td>\n",
       "      <td>Leonilton Sarmento Batista</td>\n",
       "    </tr>\n",
       "    <tr>\n",
       "      <th>12</th>\n",
       "      <td>Mar Azul</td>\n",
       "      <td>SAC</td>\n",
       "      <td>13</td>\n",
       "      <td>Lourrane Carolina de Jesus Segala</td>\n",
       "    </tr>\n",
       "    <tr>\n",
       "      <th>13</th>\n",
       "      <td>Mar Azul</td>\n",
       "      <td>SAC</td>\n",
       "      <td>14</td>\n",
       "      <td>Madson Gabriel Rocha Silva</td>\n",
       "    </tr>\n",
       "    <tr>\n",
       "      <th>14</th>\n",
       "      <td>Mar Azul</td>\n",
       "      <td>SAC</td>\n",
       "      <td>15</td>\n",
       "      <td>Maria Fernanda Silva Pereira</td>\n",
       "    </tr>\n",
       "    <tr>\n",
       "      <th>15</th>\n",
       "      <td>Mar Azul</td>\n",
       "      <td>SAC</td>\n",
       "      <td>16</td>\n",
       "      <td>Monaliza Nayanda Oliveira Rosa</td>\n",
       "    </tr>\n",
       "    <tr>\n",
       "      <th>16</th>\n",
       "      <td>Semear</td>\n",
       "      <td>Semear</td>\n",
       "      <td>17</td>\n",
       "      <td>MÃ´nia Alves de Souza</td>\n",
       "    </tr>\n",
       "    <tr>\n",
       "      <th>17</th>\n",
       "      <td>Mar Azul</td>\n",
       "      <td>SAC</td>\n",
       "      <td>18</td>\n",
       "      <td>Mylena Soares dos Reis</td>\n",
       "    </tr>\n",
       "    <tr>\n",
       "      <th>18</th>\n",
       "      <td>Semear</td>\n",
       "      <td>Semear</td>\n",
       "      <td>19</td>\n",
       "      <td>Pollyane NastÃ¡cia Pereira de Jesus</td>\n",
       "    </tr>\n",
       "    <tr>\n",
       "      <th>19</th>\n",
       "      <td>Mar Azul</td>\n",
       "      <td>SAC</td>\n",
       "      <td>20</td>\n",
       "      <td>Raiane Lorena Soares Oliveira</td>\n",
       "    </tr>\n",
       "    <tr>\n",
       "      <th>20</th>\n",
       "      <td>Mar Azul</td>\n",
       "      <td>SAC</td>\n",
       "      <td>21</td>\n",
       "      <td>Richard Nunes de Sousa</td>\n",
       "    </tr>\n",
       "    <tr>\n",
       "      <th>21</th>\n",
       "      <td>Mar Azul</td>\n",
       "      <td>SAC</td>\n",
       "      <td>22</td>\n",
       "      <td>Silvana Cristina Freitas da Cunha</td>\n",
       "    </tr>\n",
       "    <tr>\n",
       "      <th>22</th>\n",
       "      <td>Semear</td>\n",
       "      <td>Semear</td>\n",
       "      <td>23</td>\n",
       "      <td>Thailini Gomeri Barbosa</td>\n",
       "    </tr>\n",
       "    <tr>\n",
       "      <th>23</th>\n",
       "      <td>Mar Azul</td>\n",
       "      <td>SAC</td>\n",
       "      <td>24</td>\n",
       "      <td>Trissia Gabrielle Fernandes Pereira Geronimo</td>\n",
       "    </tr>\n",
       "    <tr>\n",
       "      <th>24</th>\n",
       "      <td>Mar Azul</td>\n",
       "      <td>AssessoriaDeCobranca</td>\n",
       "      <td>25</td>\n",
       "      <td>Mar Azul</td>\n",
       "    </tr>\n",
       "    <tr>\n",
       "      <th>25</th>\n",
       "      <td>Cobrarr</td>\n",
       "      <td>AssessoriaDeCobranca</td>\n",
       "      <td>26</td>\n",
       "      <td>Cobrarr</td>\n",
       "    </tr>\n",
       "  </tbody>\n",
       "</table>\n",
       "</div>"
      ],
      "text/plain": [
       "     empresa                funcao  id  \\\n",
       "0     Semear                Semear   1   \n",
       "1     Semear                Semear   2   \n",
       "2   Mar Azul                   SAC   3   \n",
       "3   Mar Azul                   SAC   4   \n",
       "4   Mar Azul                   SAC   5   \n",
       "5   Mar Azul                   SAC   6   \n",
       "6   Mar Azul                   SAC   7   \n",
       "7     Semear                Semear   8   \n",
       "8   Mar Azul                   SAC   9   \n",
       "9     Semear                Semear  10   \n",
       "10  Mar Azul                   SAC  11   \n",
       "11    Semear                Semear  12   \n",
       "12  Mar Azul                   SAC  13   \n",
       "13  Mar Azul                   SAC  14   \n",
       "14  Mar Azul                   SAC  15   \n",
       "15  Mar Azul                   SAC  16   \n",
       "16    Semear                Semear  17   \n",
       "17  Mar Azul                   SAC  18   \n",
       "18    Semear                Semear  19   \n",
       "19  Mar Azul                   SAC  20   \n",
       "20  Mar Azul                   SAC  21   \n",
       "21  Mar Azul                   SAC  22   \n",
       "22    Semear                Semear  23   \n",
       "23  Mar Azul                   SAC  24   \n",
       "24  Mar Azul  AssessoriaDeCobranca  25   \n",
       "25   Cobrarr  AssessoriaDeCobranca  26   \n",
       "\n",
       "                                            nome  \n",
       "0                               Aline Alves Luiz  \n",
       "1                              Ana Paula Azevedo  \n",
       "2                       Anna Paula Pereira Gomes  \n",
       "3                 Bruno Aparecido Silva de Jesus  \n",
       "4                     Bruno Felipe Alves de Lima  \n",
       "5                        Bruno Naves de Oliveira  \n",
       "6            Daniele Cristiane de Freitas Duarte  \n",
       "7          Gabriel Torres de Carvalho Timochenco  \n",
       "8               Giovanna Mariana da Silva Santos  \n",
       "9               Ingrid Pereira de Oliveira Silva  \n",
       "10                         Leonardo Pereira Vida  \n",
       "11                    Leonilton Sarmento Batista  \n",
       "12             Lourrane Carolina de Jesus Segala  \n",
       "13                    Madson Gabriel Rocha Silva  \n",
       "14                  Maria Fernanda Silva Pereira  \n",
       "15                Monaliza Nayanda Oliveira Rosa  \n",
       "16                         MÃ´nia Alves de Souza  \n",
       "17                        Mylena Soares dos Reis  \n",
       "18           Pollyane NastÃ¡cia Pereira de Jesus  \n",
       "19                 Raiane Lorena Soares Oliveira  \n",
       "20                        Richard Nunes de Sousa  \n",
       "21             Silvana Cristina Freitas da Cunha  \n",
       "22                       Thailini Gomeri Barbosa  \n",
       "23  Trissia Gabrielle Fernandes Pereira Geronimo  \n",
       "24                                      Mar Azul  \n",
       "25                                       Cobrarr  "
      ]
     },
     "execution_count": 13,
     "metadata": {},
     "output_type": "execute_result"
    }
   ],
   "source": [
    "dwsemear.pegue_tabela('responsavel')"
   ]
  },
  {
   "cell_type": "code",
   "execution_count": 18,
   "metadata": {},
   "outputs": [],
   "source": []
  },
  {
   "cell_type": "code",
   "execution_count": null,
   "metadata": {},
   "outputs": [],
   "source": []
  },
  {
   "cell_type": "code",
   "execution_count": null,
   "metadata": {},
   "outputs": [],
   "source": []
  },
  {
   "cell_type": "code",
   "execution_count": null,
   "metadata": {},
   "outputs": [],
   "source": []
  },
  {
   "cell_type": "code",
   "execution_count": null,
   "metadata": {},
   "outputs": [],
   "source": []
  },
  {
   "cell_type": "code",
   "execution_count": null,
   "metadata": {},
   "outputs": [],
   "source": []
  },
  {
   "cell_type": "code",
   "execution_count": null,
   "metadata": {},
   "outputs": [],
   "source": []
  },
  {
   "cell_type": "code",
   "execution_count": null,
   "metadata": {},
   "outputs": [],
   "source": []
  }
 ],
 "metadata": {
  "kernelspec": {
   "display_name": "Python 3",
   "language": "python",
   "name": "python3"
  },
  "language_info": {
   "codemirror_mode": {
    "name": "ipython",
    "version": 3
   },
   "file_extension": ".py",
   "mimetype": "text/x-python",
   "name": "python",
   "nbconvert_exporter": "python",
   "pygments_lexer": "ipython3",
   "version": "3.7.3"
  }
 },
 "nbformat": 4,
 "nbformat_minor": 2
}
