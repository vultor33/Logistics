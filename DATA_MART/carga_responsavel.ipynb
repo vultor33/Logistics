{
 "cells": [
  {
   "cell_type": "code",
   "execution_count": null,
   "metadata": {},
   "outputs": [],
   "source": [
    "import postgresemear as sql  # mover os arquivos para a pasta principal"
   ]
  },
  {
   "cell_type": "code",
   "execution_count": null,
   "metadata": {},
   "outputs": [],
   "source": [
    "#delete_tabela = '''DROP TABLE responsavel'''\n",
    "#sql.execute_query(delete_tabela)"
   ]
  },
  {
   "cell_type": "code",
   "execution_count": null,
   "metadata": {},
   "outputs": [],
   "source": [
    "crie_tabela = '''CREATE TABLE responsavel\n",
    "            (ID INT PRIMARY KEY NOT NULL,\n",
    "            FuncaoDoResponsavel TEXT NOT NULL,\n",
    "            Empresa TEXT NOT NULL,\n",
    "            Nome TEXT NOT NULL);'''\n",
    "sql.execute_query(crie_tabela)"
   ]
  },
  {
   "cell_type": "code",
   "execution_count": null,
   "metadata": {},
   "outputs": [],
   "source": [
    "# POPULANDO A TABELA\n",
    "import pandas as pd\n",
    "funcionarios = pd.read_csv('funcionarios_semear_cobrancas.csv', sep=';', encoding='latin-1',dtype=str)\n",
    "registros = []\n",
    "for i in funcionarios.index:\n",
    "    registros.append((\n",
    "        int(funcionarios.loc[i,'IDResponsavel']),\n",
    "        str(funcionarios.loc[i,'FuncaoDoResponsavel']),\n",
    "        str(funcionarios.loc[i,'Empresa']),\n",
    "        str(funcionarios.loc[i,'Nome'])))\n"
   ]
  },
  {
   "cell_type": "code",
   "execution_count": null,
   "metadata": {},
   "outputs": [],
   "source": [
    "query = \"\"\" INSERT INTO responsavel \n",
    "            (ID, FuncaoDoResponsavel, Empresa, Nome) \n",
    "            VALUES (%s,%s,%s,%s)\"\"\"\n",
    "sql.adicione_multiplos_registros(query, registros)"
   ]
  },
  {
   "cell_type": "code",
   "execution_count": null,
   "metadata": {},
   "outputs": [],
   "source": [
    "sql.query_para_pandas(\"SELECT * FROM responsavel\")"
   ]
  },
  {
   "cell_type": "code",
   "execution_count": null,
   "metadata": {},
   "outputs": [],
   "source": []
  }
 ],
 "metadata": {
  "kernelspec": {
   "display_name": "Python 3",
   "language": "python",
   "name": "python3"
  },
  "language_info": {
   "codemirror_mode": {
    "name": "ipython",
    "version": 3
   },
   "file_extension": ".py",
   "mimetype": "text/x-python",
   "name": "python",
   "nbconvert_exporter": "python",
   "pygments_lexer": "ipython3",
   "version": "3.7.3"
  }
 },
 "nbformat": 4,
 "nbformat_minor": 2
}
