{
 "cells": [
  {
   "cell_type": "code",
   "execution_count": 1,
   "metadata": {},
   "outputs": [],
   "source": [
    "import datetime\n",
    "from dateutil.relativedelta import relativedelta\n",
    "import collections\n",
    "import pandas as pd\n",
    "\n",
    "import dwsemear\n",
    "import postgresemear as sql # mover os arquivos para a pasta principal"
   ]
  },
  {
   "cell_type": "code",
   "execution_count": 12,
   "metadata": {},
   "outputs": [],
   "source": [
    "def adicione_liquidacoes(contratos_list, dados_liquidacao):\n",
    "    lista_liquidacoes = []\n",
    "    for contrato in contratos_list:\n",
    "        dados_contrato = dados_liquidacao[dados_liquidacao.Numero_do_contrato == contrato].copy()\n",
    "        for i in dados_contrato.index:\n",
    "            lista_liquidacoes.append(dados_contrato.loc[i,:].tolist())\n",
    "    return lista_liquidacoes\n",
    "\n",
    "# ESSA FUNCAO NAO ESTA SENDO UTILIZADA\n",
    "def pega_inadimplencia_3065(dados_pdd):\n",
    "    dados_3065 = dados_pdd[dados_pdd.CodigoDoProduto.isin([3065])].copy()\n",
    "    total = len(dados_3065)\n",
    "    inadimplentes = len(dados_3065[dados_3065.DiasEmAtraso > 60])\n",
    "    print('inadimplencia:  ', inadimplentes/total)\n",
    "\n",
    "def diferenca_de_datas_em_meses(data_inicial, data_final):\n",
    "    r = relativedelta(data_final, data_inicial) \n",
    "    return r.months + 12 * r.years\n",
    "\n",
    "def parcelas_abertas(data_inicial, data_final):\n",
    "    if data_final < data_inicial:\n",
    "        return 0\n",
    "    return diferenca_de_datas_em_meses(data_inicial, data_final) + 1\n",
    " \n",
    "def numero_parcelas_pagas(liquidacoes, contrato, data_entrada):\n",
    "    linhas_contrato = liquidacoes[liquidacoes.Numero_do_contrato == contrato].copy()\n",
    "    linhas_contrato.Data_de_liquidacao = linhas_contrato.Data_de_liquidacao.apply(remove_localize)\n",
    "    if len(linhas_contrato) == 0:\n",
    "        return 0\n",
    "    parcelas_pagas = len(linhas_contrato[linhas_contrato.Data_de_liquidacao <= data_entrada])\n",
    "    return parcelas_pagas    \n",
    "    \n",
    "def valor_pago(liquidacoes, contrato, data_entrada):\n",
    "    linhas_contrato = liquidacoes[liquidacoes.Numero_do_contrato == contrato].copy()\n",
    "    linhas_contrato.Data_de_liquidacao = linhas_contrato.Data_de_liquidacao.apply(remove_localize)\n",
    "    if len(linhas_contrato) == 0:\n",
    "        return 0\n",
    "    linhas_contrato = linhas_contrato[linhas_contrato.Data_de_liquidacao <= data_entrada]\n",
    "    if len(linhas_contrato) == 0:\n",
    "        return 0\n",
    "    if linhas_contrato.Codigo_renegociacao_contrato.mean(): # JOGANDO FORA QUEM FOI RENEGOCIADO\n",
    "        print('Descartando renegociado:  ', contrato)\n",
    "        return 0\n",
    "    return sum(linhas_contrato.Valor_recebido_na_liquidacao)\n",
    "\n",
    "def enriquecimento_plano_parcela(linha_pdd):\n",
    "    data_inicial = linha_pdd['DataDaProximaParcela'].iloc[0]\n",
    "    data_final = linha_pdd['DataDeVencimento'].iloc[0]\n",
    "    plano = diferenca_de_datas_em_meses(data_inicial, data_final) + 2\n",
    "    data_primeira_parcela = data_inicial + relativedelta(months=-1)\n",
    "    valor_parcela = linha_pdd.ValorDaProximaParcela.iloc[0]\n",
    "    return [plano, data_primeira_parcela, valor_parcela]\n",
    "    \n",
    "# ATENCAO - precisa rever essa funcao depois.\n",
    "def remove_localize_x(data):  # esse localize esta relacionado a fuso horario\n",
    "    return data.tz_localize(None)\n",
    "    \n",
    "def remove_localize(data):    \n",
    "    return data.replace(tzinfo=None)\n",
    "    \n",
    "#SOMAR 1 MES    \n",
    "#datetime.datetime(2019,2,27,23,59) + relativedelta(months=+1)#"
   ]
  },
  {
   "cell_type": "markdown",
   "metadata": {},
   "source": [
    "# OBTENCAO DOS NUMEROS DE CONTRATOS QUE ORIGINARAM EM UMA DADA DATA"
   ]
  },
  {
   "cell_type": "code",
   "execution_count": 3,
   "metadata": {},
   "outputs": [],
   "source": [
    "CODIGOS_EP = [3086]\n",
    "#CODIGOS_EP = [3064, 3065, 3069, 3070, 3071, 3072, 3077, \n",
    "#              3078, 3081, 3086, 3087, 3088, 3092, 3095, \n",
    "#              3096, 3103, 3105]\n",
    "COLUNAS_PDD = ['ID',\n",
    "            'DataDeReferencia',\n",
    "            'DataDeOriginiacao',\n",
    "            'DataDaProximaParcela',\n",
    "            'DataDeVencimento',\n",
    "            'DataDeRenegociacao',\n",
    "            'CPF',\n",
    "            'CodigoDoProduto',\n",
    "            'CodigoDoContrato',\n",
    "            'DiasEmAtraso',\n",
    "            'QuantidadeDeParcelasAbertas',\n",
    "            'ValorSaldo',\n",
    "            'ValorPDD',\n",
    "            'ValorOperacao',\n",
    "            'RendaDoCliente',\n",
    "            'ValorDaProximaParcela',\n",
    "            'RatingContabilFim']# os dados dessas querys nao vem ordenados\n",
    "parametros = (datetime.datetime(2019,1,31),\n",
    "              datetime.datetime(2018,12,1), \n",
    "              datetime.datetime(2018,12,31,23,59))\n",
    "dados_pdd = sql.query_para_pandas('''SELECT *\n",
    "                      FROM pdd\n",
    "                      WHERE DataDeReferencia = %s\n",
    "                      AND DataDeOriginiacao BETWEEN %s AND %s\n",
    "                      ''',\n",
    "                      parametros)\n",
    "dados_pdd.columns = COLUNAS_PDD\n",
    "dados_EP = dados_pdd[dados_pdd.CodigoDoProduto.isin(CODIGOS_EP)].copy()"
   ]
  },
  {
   "cell_type": "code",
   "execution_count": null,
   "metadata": {},
   "outputs": [],
   "source": []
  },
  {
   "cell_type": "code",
   "execution_count": null,
   "metadata": {},
   "outputs": [],
   "source": []
  },
  {
   "cell_type": "code",
   "execution_count": null,
   "metadata": {},
   "outputs": [],
   "source": []
  },
  {
   "cell_type": "code",
   "execution_count": 3,
   "metadata": {},
   "outputs": [],
   "source": [
    "COLUNAS_PDD = ['ID',\n",
    "            'DataDeReferencia',\n",
    "            'DataDeOriginiacao',\n",
    "            'DataDaProximaParcela',\n",
    "            'DataDeVencimento',\n",
    "            'DataDeRenegociacao',\n",
    "            'CPF',\n",
    "            'CodigoDoProduto',\n",
    "            'CodigoDoContrato',\n",
    "            'DiasEmAtraso',\n",
    "            'QuantidadeDeParcelasAbertas',\n",
    "            'ValorSaldo',\n",
    "            'ValorPDD',\n",
    "            'ValorOperacao',\n",
    "            'RendaDoCliente',\n",
    "            'ValorDaProximaParcela',\n",
    "            'RatingContabilFim']# os dados dessas querys nao vem ordenados\n",
    "parametros = (datetime.datetime(2019,1,31),)\n",
    "dados_pdd = sql.query_para_pandas('''SELECT *\n",
    "                      FROM pdd\n",
    "                      WHERE DataDeReferencia = %s\n",
    "                      ''',\n",
    "                      parametros)\n",
    "dados_pdd.columns = COLUNAS_PDD"
   ]
  },
  {
   "cell_type": "code",
   "execution_count": 4,
   "metadata": {},
   "outputs": [],
   "source": [
    "jan = dados_pdd"
   ]
  },
  {
   "cell_type": "code",
   "execution_count": 13,
   "metadata": {},
   "outputs": [],
   "source": [
    "jan.DataDeOriginiacao = jan.loc[:,'DataDeOriginiacao'].apply(remove_localize)"
   ]
  },
  {
   "cell_type": "code",
   "execution_count": 21,
   "metadata": {},
   "outputs": [],
   "source": [
    "jan_on = jan[(jan.DataDeOriginiacao >= datetime.datetime(2019,1,1)) &\n",
    "    (jan.DataDeOriginiacao <= datetime.datetime(2019,1,31))].copy()"
   ]
  },
  {
   "cell_type": "code",
   "execution_count": 18,
   "metadata": {},
   "outputs": [
    {
     "data": {
      "text/html": [
       "<div>\n",
       "<style scoped>\n",
       "    .dataframe tbody tr th:only-of-type {\n",
       "        vertical-align: middle;\n",
       "    }\n",
       "\n",
       "    .dataframe tbody tr th {\n",
       "        vertical-align: top;\n",
       "    }\n",
       "\n",
       "    .dataframe thead th {\n",
       "        text-align: right;\n",
       "    }\n",
       "</style>\n",
       "<table border=\"1\" class=\"dataframe\">\n",
       "  <thead>\n",
       "    <tr style=\"text-align: right;\">\n",
       "      <th></th>\n",
       "      <th>ID</th>\n",
       "      <th>DataDeReferencia</th>\n",
       "      <th>DataDeOriginiacao</th>\n",
       "      <th>DataDaProximaParcela</th>\n",
       "      <th>DataDeVencimento</th>\n",
       "      <th>DataDeRenegociacao</th>\n",
       "      <th>CPF</th>\n",
       "      <th>CodigoDoProduto</th>\n",
       "      <th>CodigoDoContrato</th>\n",
       "      <th>DiasEmAtraso</th>\n",
       "      <th>QuantidadeDeParcelasAbertas</th>\n",
       "      <th>ValorSaldo</th>\n",
       "      <th>ValorPDD</th>\n",
       "      <th>ValorOperacao</th>\n",
       "      <th>RendaDoCliente</th>\n",
       "      <th>ValorDaProximaParcela</th>\n",
       "      <th>RatingContabilFim</th>\n",
       "    </tr>\n",
       "  </thead>\n",
       "  <tbody>\n",
       "    <tr>\n",
       "      <th>208333</th>\n",
       "      <td>208333</td>\n",
       "      <td>2019-01-31 00:00:00-03:00</td>\n",
       "      <td>2019-01-02</td>\n",
       "      <td>2019-02-01 00:00:00-03:00</td>\n",
       "      <td>2020-02-01 00:00:00-03:00</td>\n",
       "      <td>None</td>\n",
       "      <td>23526521204</td>\n",
       "      <td>3090</td>\n",
       "      <td>54796133</td>\n",
       "      <td>0</td>\n",
       "      <td>13</td>\n",
       "      <td>830.03</td>\n",
       "      <td>4.15</td>\n",
       "      <td>768.5</td>\n",
       "      <td>1683.0</td>\n",
       "      <td>99.9</td>\n",
       "      <td>A</td>\n",
       "    </tr>\n",
       "  </tbody>\n",
       "</table>\n",
       "</div>"
      ],
      "text/plain": [
       "            ID          DataDeReferencia DataDeOriginiacao  \\\n",
       "208333  208333 2019-01-31 00:00:00-03:00        2019-01-02   \n",
       "\n",
       "            DataDaProximaParcela           DataDeVencimento  \\\n",
       "208333 2019-02-01 00:00:00-03:00  2020-02-01 00:00:00-03:00   \n",
       "\n",
       "       DataDeRenegociacao          CPF  CodigoDoProduto  CodigoDoContrato  \\\n",
       "208333               None  23526521204             3090          54796133   \n",
       "\n",
       "        DiasEmAtraso  QuantidadeDeParcelasAbertas  ValorSaldo  ValorPDD  \\\n",
       "208333             0                           13      830.03      4.15   \n",
       "\n",
       "        ValorOperacao  RendaDoCliente  ValorDaProximaParcela RatingContabilFim  \n",
       "208333          768.5          1683.0                   99.9                 A  "
      ]
     },
     "execution_count": 18,
     "metadata": {},
     "output_type": "execute_result"
    }
   ],
   "source": [
    "jan[jan.CodigoDoContrato == 54796133]"
   ]
  },
  {
   "cell_type": "code",
   "execution_count": 24,
   "metadata": {
    "scrolled": true
   },
   "outputs": [
    {
     "data": {
      "text/plain": [
       "32754"
      ]
     },
     "execution_count": 24,
     "metadata": {},
     "output_type": "execute_result"
    }
   ],
   "source": [
    "len(jan_on)"
   ]
  },
  {
   "cell_type": "code",
   "execution_count": 27,
   "metadata": {},
   "outputs": [
    {
     "data": {
      "text/plain": [
       "34355"
      ]
     },
     "execution_count": 27,
     "metadata": {},
     "output_type": "execute_result"
    }
   ],
   "source": [
    "19614 + 1599 + 17 + 13125"
   ]
  },
  {
   "cell_type": "code",
   "execution_count": null,
   "metadata": {},
   "outputs": [],
   "source": []
  },
  {
   "cell_type": "code",
   "execution_count": null,
   "metadata": {},
   "outputs": [],
   "source": []
  },
  {
   "cell_type": "code",
   "execution_count": null,
   "metadata": {},
   "outputs": [],
   "source": []
  },
  {
   "cell_type": "code",
   "execution_count": null,
   "metadata": {},
   "outputs": [],
   "source": []
  },
  {
   "cell_type": "code",
   "execution_count": null,
   "metadata": {},
   "outputs": [],
   "source": []
  },
  {
   "cell_type": "code",
   "execution_count": null,
   "metadata": {},
   "outputs": [],
   "source": []
  },
  {
   "cell_type": "code",
   "execution_count": null,
   "metadata": {},
   "outputs": [],
   "source": []
  },
  {
   "cell_type": "markdown",
   "metadata": {},
   "source": [
    "# Corte de informacoes importantes do PDD"
   ]
  },
  {
   "cell_type": "code",
   "execution_count": 4,
   "metadata": {},
   "outputs": [],
   "source": [
    "contratos_dez = list(set(dados_EP.CodigoDoContrato))"
   ]
  },
  {
   "cell_type": "code",
   "execution_count": 5,
   "metadata": {},
   "outputs": [
    {
     "data": {
      "text/plain": [
       "2280"
      ]
     },
     "execution_count": 5,
     "metadata": {},
     "output_type": "execute_result"
    }
   ],
   "source": [
    "len(contratos_dez) # Book deu 322"
   ]
  },
  {
   "cell_type": "code",
   "execution_count": 6,
   "metadata": {},
   "outputs": [],
   "source": [
    "enriquecimento = {}\n",
    "for contrato in contratos_dez:\n",
    "    linha_pdd = dados_EP[dados_EP.CodigoDoContrato == contrato]\n",
    "    plano, data_primeira_parcela, valor_parcela = enriquecimento_plano_parcela(linha_pdd)\n",
    "    enriquecimento[contrato] = {}\n",
    "    enriquecimento[contrato]['plano'] = plano\n",
    "    enriquecimento[contrato]['primeira'] = data_primeira_parcela.tz_localize(None)\n",
    "    enriquecimento[contrato]['valor'] = valor_parcela    "
   ]
  },
  {
   "cell_type": "code",
   "execution_count": null,
   "metadata": {},
   "outputs": [],
   "source": []
  },
  {
   "cell_type": "code",
   "execution_count": null,
   "metadata": {},
   "outputs": [],
   "source": []
  },
  {
   "cell_type": "code",
   "execution_count": null,
   "metadata": {},
   "outputs": [],
   "source": []
  },
  {
   "cell_type": "code",
   "execution_count": null,
   "metadata": {},
   "outputs": [],
   "source": []
  },
  {
   "cell_type": "markdown",
   "metadata": {},
   "source": [
    "# ANDE NOS CONTRATOS, VEJA QUANTO DEVIA E QUANTO PAGOU\n",
    "- De carga nas liquidacoes abaixo e volte aqui"
   ]
  },
  {
   "cell_type": "code",
   "execution_count": 9,
   "metadata": {},
   "outputs": [],
   "source": [
    "liq = corte_nas_liquidacoes(contratos_dez)"
   ]
  },
  {
   "cell_type": "code",
   "execution_count": 24,
   "metadata": {
    "scrolled": true
   },
   "outputs": [
    {
     "name": "stdout",
     "output_type": "stream",
     "text": [
      "Descartando renegociado:   54782051\n",
      "Descartando renegociado:   54724748\n",
      "Descartando renegociado:   54759005\n",
      "Descartando renegociado:   54770501\n"
     ]
    }
   ],
   "source": [
    "k = 0\n",
    "data_entrada = datetime.datetime(2019,6,14)  \n",
    "inadimplentes = 0\n",
    "total_receber = 0\n",
    "total_pago = 0\n",
    "for contrato in enriquecimento:\n",
    "    primeira = enriquecimento[contrato]['primeira']\n",
    "    plano = enriquecimento[contrato]['plano']\n",
    "    receber = parcelas_abertas(primeira, data_entrada)\n",
    "    pagas = numero_parcelas_pagas(liq, contrato, data_entrada)\n",
    "    if receber > plano:\n",
    "        receber = plano\n",
    "        #if pagas == receber:\n",
    "        #    continue\n",
    "        \n",
    "    valor = enriquecimento[contrato]['valor']\n",
    "    total_receber += receber * valor\n",
    "    #print(primeira, 'pgas: ', pagas, 'reber: ', receber, valor)\n",
    "    #if pagas > receber:\n",
    "    #    pagas = receber\n",
    "    total_pago += valor_pago(liq, contrato, data_entrada)\n",
    "    if pagas <= receber - 2:\n",
    "        inadimplentes += 1\n",
    "    #k+=1\n",
    "    #if k > 15: break\n",
    "    "
   ]
  },
  {
   "cell_type": "code",
   "execution_count": 29,
   "metadata": {
    "scrolled": true
   },
   "outputs": [
    {
     "data": {
      "text/plain": [
       "3270563.1599999876"
      ]
     },
     "execution_count": 29,
     "metadata": {},
     "output_type": "execute_result"
    }
   ],
   "source": [
    "total_receber # se vc sumir com contratos liquidados este numero nao bate"
   ]
  },
  {
   "cell_type": "code",
   "execution_count": 30,
   "metadata": {},
   "outputs": [
    {
     "data": {
      "text/plain": [
       "2877026.200000002"
      ]
     },
     "execution_count": 30,
     "metadata": {},
     "output_type": "execute_result"
    }
   ],
   "source": [
    "total_pago"
   ]
  },
  {
   "cell_type": "code",
   "execution_count": 31,
   "metadata": {
    "scrolled": true
   },
   "outputs": [
    {
     "data": {
      "text/plain": [
       "393536.9599999855"
      ]
     },
     "execution_count": 31,
     "metadata": {},
     "output_type": "execute_result"
    }
   ],
   "source": [
    "total_receber - total_pago"
   ]
  },
  {
   "cell_type": "code",
   "execution_count": 32,
   "metadata": {
    "scrolled": true
   },
   "outputs": [
    {
     "data": {
      "text/plain": [
       "0.1203269714564959"
      ]
     },
     "execution_count": 32,
     "metadata": {},
     "output_type": "execute_result"
    }
   ],
   "source": [
    "(total_receber - total_pago)/total_receber"
   ]
  },
  {
   "cell_type": "code",
   "execution_count": null,
   "metadata": {},
   "outputs": [],
   "source": []
  },
  {
   "cell_type": "code",
   "execution_count": null,
   "metadata": {},
   "outputs": [],
   "source": []
  },
  {
   "cell_type": "code",
   "execution_count": null,
   "metadata": {},
   "outputs": [],
   "source": []
  },
  {
   "cell_type": "code",
   "execution_count": null,
   "metadata": {},
   "outputs": [],
   "source": []
  },
  {
   "cell_type": "code",
   "execution_count": null,
   "metadata": {},
   "outputs": [],
   "source": []
  },
  {
   "cell_type": "code",
   "execution_count": null,
   "metadata": {
    "scrolled": true
   },
   "outputs": [],
   "source": [
    "inadimplentes/2280"
   ]
  },
  {
   "cell_type": "code",
   "execution_count": 228,
   "metadata": {
    "scrolled": true
   },
   "outputs": [
    {
     "data": {
      "text/plain": [
       "0.22885529258653192"
      ]
     },
     "execution_count": 228,
     "metadata": {},
     "output_type": "execute_result"
    }
   ],
   "source": [
    "150950.31/659588.46"
   ]
  },
  {
   "cell_type": "code",
   "execution_count": 242,
   "metadata": {},
   "outputs": [
    {
     "name": "stdout",
     "output_type": "stream",
     "text": [
      "2 %\n",
      "57\n"
     ]
    }
   ],
   "source": [
    "# Tenho 2280 contratos - book -> 2337\n",
    "# eu tenho:\n",
    "print(int(100*(2337-2280)/2337),'%')\n",
    "print(2337 - 2280)"
   ]
  },
  {
   "cell_type": "code",
   "execution_count": 243,
   "metadata": {},
   "outputs": [],
   "source": [
    "total_aberto = total_receber - total_pago\n",
    "total_aberto_ref = 526511.14\n",
    "total_venc = total_receber\n",
    "total_venc_ref = 3353287.28"
   ]
  },
  {
   "cell_type": "code",
   "execution_count": 246,
   "metadata": {
    "scrolled": false
   },
   "outputs": [
    {
     "data": {
      "text/plain": [
       "-82724.12000001222"
      ]
     },
     "execution_count": 246,
     "metadata": {},
     "output_type": "execute_result"
    }
   ],
   "source": [
    "# meu vencimento foi 82 mil menor\n",
    "# Tive 57 menos contratos, e mais ou menos aceitavel.\n",
    "total_venc - total_venc_ref "
   ]
  },
  {
   "cell_type": "code",
   "execution_count": 247,
   "metadata": {
    "scrolled": true
   },
   "outputs": [
    {
     "data": {
      "text/plain": [
       "-132974.1800000145"
      ]
     },
     "execution_count": 247,
     "metadata": {},
     "output_type": "execute_result"
    }
   ],
   "source": [
    "# meu calculo de vencimentos esta bem maior do que deveria.\n",
    "total_aberto - total_aberto_ref"
   ]
  },
  {
   "cell_type": "code",
   "execution_count": null,
   "metadata": {},
   "outputs": [],
   "source": []
  },
  {
   "cell_type": "code",
   "execution_count": null,
   "metadata": {},
   "outputs": [],
   "source": []
  },
  {
   "cell_type": "code",
   "execution_count": null,
   "metadata": {},
   "outputs": [],
   "source": []
  },
  {
   "cell_type": "code",
   "execution_count": null,
   "metadata": {},
   "outputs": [],
   "source": []
  },
  {
   "cell_type": "code",
   "execution_count": null,
   "metadata": {},
   "outputs": [],
   "source": []
  },
  {
   "cell_type": "code",
   "execution_count": null,
   "metadata": {},
   "outputs": [],
   "source": []
  },
  {
   "cell_type": "code",
   "execution_count": null,
   "metadata": {},
   "outputs": [],
   "source": []
  },
  {
   "cell_type": "markdown",
   "metadata": {},
   "source": [
    "# CARREGANDO LIQUIDACOES"
   ]
  },
  {
   "cell_type": "code",
   "execution_count": 8,
   "metadata": {},
   "outputs": [],
   "source": [
    "def corte_nas_liquidacoes(contratos_dez):\n",
    "    COLUNAS_LIQUIDACAO = [\n",
    "            'ID',\n",
    "            'Data_de_liquidacao',\n",
    "            'Data_de_vencimento_da_parcela_liquidada',\n",
    "            'CPF',\n",
    "            'Numero_do_contrato',\n",
    "            'Codigo_renegociacao_contrato',\n",
    "            'Codigo_do_produto',\n",
    "            'Parcela',\n",
    "            'Dias_em_atraso_na_hora_da_liquidacao',\n",
    "            'Valor_recebido_na_liquidacao',\n",
    "            'Codigo_forma',\n",
    "            'Situacao_da_liquidacao',\n",
    "            'Descricao_forma',\n",
    "            'Estornado']\n",
    "\n",
    "    lista_liquidacoes = []    \n",
    "    parametros = (datetime.datetime(2018,1,1), datetime.datetime(2019,1,31,23,59))\n",
    "    dados_liquidacao = sql.query_para_pandas('''SELECT *\n",
    "                          FROM liquidacoes\n",
    "                          WHERE Data_de_liquidacao BETWEEN %s AND %s\n",
    "                          ''',parametros)\n",
    "    dados_liquidacao.columns = COLUNAS_LIQUIDACAO\n",
    "    lista_liquidacoes += adicione_liquidacoes(contratos_dez, dados_liquidacao)    \n",
    "    parametros = (datetime.datetime(2019,2,1), datetime.datetime(2019,2,28,23,59))\n",
    "    dados_liquidacao = sql.query_para_pandas('''SELECT *\n",
    "                          FROM liquidacoes\n",
    "                          WHERE Data_de_liquidacao BETWEEN %s AND %s\n",
    "                          ''',parametros)\n",
    "    dados_liquidacao.columns = COLUNAS_LIQUIDACAO\n",
    "    lista_liquidacoes += adicione_liquidacoes(contratos_dez, dados_liquidacao)    \n",
    "    parametros = (datetime.datetime(2019,3,1), datetime.datetime(2019,3,31,23,59))\n",
    "    dados_liquidacao = sql.query_para_pandas('''SELECT *\n",
    "                          FROM liquidacoes\n",
    "                          WHERE Data_de_liquidacao BETWEEN %s AND %s\n",
    "                          ''',parametros)\n",
    "    dados_liquidacao.columns = COLUNAS_LIQUIDACAO\n",
    "    lista_liquidacoes += adicione_liquidacoes(contratos_dez, dados_liquidacao)    \n",
    "    parametros = (datetime.datetime(2019,4,1), datetime.datetime(2019,4,30,23,59))\n",
    "    dados_liquidacao = sql.query_para_pandas('''SELECT *\n",
    "                          FROM liquidacoes\n",
    "                          WHERE Data_de_liquidacao BETWEEN %s AND %s\n",
    "                          ''',parametros)\n",
    "    dados_liquidacao.columns = COLUNAS_LIQUIDACAO\n",
    "    lista_liquidacoes += adicione_liquidacoes(contratos_dez, dados_liquidacao)    \n",
    "    parametros = (datetime.datetime(2019,5,1), datetime.datetime(2019,5,31,23,59))\n",
    "    dados_liquidacao = sql.query_para_pandas('''SELECT *\n",
    "                          FROM liquidacoes\n",
    "                          WHERE Data_de_liquidacao BETWEEN %s AND %s\n",
    "                          ''',parametros)\n",
    "    dados_liquidacao.columns = COLUNAS_LIQUIDACAO\n",
    "    lista_liquidacoes += adicione_liquidacoes(contratos_dez, dados_liquidacao)    \n",
    "    parametros = (datetime.datetime(2019,6,1), datetime.datetime(2019,6,30,23,59))\n",
    "    dados_liquidacao = sql.query_para_pandas('''SELECT *\n",
    "                          FROM liquidacoes\n",
    "                          WHERE Data_de_liquidacao BETWEEN %s AND %s\n",
    "                          ''',parametros)\n",
    "    dados_liquidacao.columns = COLUNAS_LIQUIDACAO\n",
    "    lista_liquidacoes += adicione_liquidacoes(contratos_dez, dados_liquidacao)    \n",
    "    liq = pd.DataFrame(lista_liquidacoes)\n",
    "    liq.columns = COLUNAS_LIQUIDACAO\n",
    "    return liq\n",
    "       "
   ]
  },
  {
   "cell_type": "code",
   "execution_count": null,
   "metadata": {},
   "outputs": [],
   "source": []
  },
  {
   "cell_type": "code",
   "execution_count": null,
   "metadata": {},
   "outputs": [],
   "source": []
  },
  {
   "cell_type": "code",
   "execution_count": null,
   "metadata": {},
   "outputs": [],
   "source": []
  },
  {
   "cell_type": "code",
   "execution_count": null,
   "metadata": {},
   "outputs": [],
   "source": []
  },
  {
   "cell_type": "code",
   "execution_count": null,
   "metadata": {},
   "outputs": [],
   "source": []
  },
  {
   "cell_type": "code",
   "execution_count": null,
   "metadata": {},
   "outputs": [],
   "source": []
  },
  {
   "cell_type": "code",
   "execution_count": null,
   "metadata": {},
   "outputs": [],
   "source": []
  },
  {
   "cell_type": "code",
   "execution_count": null,
   "metadata": {},
   "outputs": [],
   "source": []
  },
  {
   "cell_type": "code",
   "execution_count": null,
   "metadata": {},
   "outputs": [],
   "source": []
  }
 ],
 "metadata": {
  "kernelspec": {
   "display_name": "Python 3",
   "language": "python",
   "name": "python3"
  },
  "language_info": {
   "codemirror_mode": {
    "name": "ipython",
    "version": 3
   },
   "file_extension": ".py",
   "mimetype": "text/x-python",
   "name": "python",
   "nbconvert_exporter": "python",
   "pygments_lexer": "ipython3",
   "version": "3.7.3"
  }
 },
 "nbformat": 4,
 "nbformat_minor": 2
}
