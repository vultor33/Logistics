{
 "cells": [
  {
   "cell_type": "code",
   "execution_count": 1,
   "metadata": {},
   "outputs": [],
   "source": [
    "import datetime\n",
    "import numpy as np\n",
    "import collections\n",
    "import pandas as pd\n",
    "import matplotlib.pyplot as plt\n",
    "\n",
    "import postgresemear as sql"
   ]
  },
  {
   "cell_type": "code",
   "execution_count": 23,
   "metadata": {},
   "outputs": [],
   "source": [
    "CODIGOS_EP = [3064, 3065, 3069, 3070, \n",
    "              3071, 3072, 3077, 3078, \n",
    "              3081, 3086, 3087, 3088, \n",
    "              3092, 3095, 3096, 3103, 3105]\n",
    "\n",
    "COLUNAS_PDD = ['ID',\n",
    "            'DataDeReferencia',\n",
    "            'DataDeOriginiacao',\n",
    "            'DataDaProximaParcela',\n",
    "            'DataDeVencimento',\n",
    "            'DataDeRenegociacao',\n",
    "            'CPF',\n",
    "            'CodigoDoProduto',\n",
    "            'CodigoDoContrato',\n",
    "            'DiasEmAtraso',\n",
    "            'QuantidadeDeParcelasAbertas',\n",
    "            'ValorSaldo',\n",
    "            'ValorPDD',\n",
    "            'ValorOperacao',\n",
    "            'RendaDoCliente',\n",
    "            'ValorDaProximaParcela',\n",
    "            'RatingContabilFim']\n",
    "\n",
    "def query_acionamentos(parametros):\n",
    "    dados_acionamentos = sql.query_para_pandas('''SELECT \n",
    "                              eventos.CPF,\n",
    "                              eventos.DataDoEvento,\n",
    "                              acionamentos.DiasEmAtrasoAcionamento\n",
    "                          FROM acionamentos,eventos\n",
    "                          WHERE acionamentos.ID = eventos.EventoID\n",
    "                          AND eventos.EventoTipo = 1\n",
    "                          AND DataDoEvento BETWEEN %s AND %s''',\n",
    "                          parametros)\n",
    "    dados_acionamentos.columns = ['CPF','DataDoEvento','DiasAtraso']\n",
    "    return dados_acionamentos\n",
    "\n",
    "def query_pdd(parametros):\n",
    "    dados_pdd = sql.query_para_pandas('''SELECT \n",
    "                          pdd.CPF, pdd.DiasEmAtraso, pdd.CodigoDoProduto\n",
    "                          FROM pdd\n",
    "                          WHERE DataDeReferencia = %s\n",
    "                          ''',\n",
    "                          parametros)\n",
    "    dados_pdd.columns = ['CPF','DiasAtraso', 'CodigoDoProduto']   \n",
    "    #dados_pdd = dados_pdd[dados_pdd.CodigoDoProduto.isin(CODIGOS_EP)] - SO EP\n",
    "    return dados_pdd\n",
    "\n",
    "\n",
    "# Atencao - o mesmo CPF pode estar em duas faixas diferentes se ele tiver\n",
    "# mais de um contrato ativo.\n",
    "def segmentacao_dias_em_atraso(dados_EP): \n",
    "    rol_1 = dados_EP[dados_EP.DiasAtraso <= 5]\n",
    "    rol_1 = len(set(rol_1.CPF))\n",
    "    rol_2 = dados_EP[(dados_EP.DiasAtraso >= 6) & (dados_EP.DiasAtraso <= 30)]\n",
    "    rol_2 = len(set(rol_2.CPF))\n",
    "    rol_3 = dados_EP[(dados_EP.DiasAtraso >= 31) & (dados_EP.DiasAtraso <= 60)]\n",
    "    rol_3 = len(set(rol_3.CPF))\n",
    "    rol_4 = dados_EP[(dados_EP.DiasAtraso >= 61) & (dados_EP.DiasAtraso <= 90)]\n",
    "    rol_4 = len(set(rol_4.CPF))\n",
    "    rol_5 = dados_EP[(dados_EP.DiasAtraso >= 91) & (dados_EP.DiasAtraso <= 120)]\n",
    "    rol_5 = len(set(rol_5.CPF))\n",
    "    rol_6 = dados_EP[(dados_EP.DiasAtraso >= 121) & (dados_EP.DiasAtraso <= 150)]\n",
    "    rol_6 = len(set(rol_6.CPF))\n",
    "    rol_7 = dados_EP[(dados_EP.DiasAtraso >= 151) & (dados_EP.DiasAtraso <= 180)]\n",
    "    rol_7 = len(set(rol_7.CPF))\n",
    "    rol_8 = dados_EP[dados_EP.DiasAtraso >= 181]\n",
    "    rol_8 = len(set(rol_8.CPF))\n",
    "    return [rol_1, rol_2, rol_3, rol_4, rol_5, rol_6, rol_7, rol_8]\n",
    "    \n",
    "def plote_barras_duplas(barra_vermelha, \n",
    "                        barra_azul, \n",
    "                        nomes_colunas,\n",
    "                        nome_figura = 'figura_anotada.png'):\n",
    "    barra_total = [x + y for x,y in zip(barra_vermelha,barra_azul)]\n",
    "    porcentagens = [str(int(100*y/x)) + '%' for x,y in zip(barra_total,barra_vermelha)]\n",
    "    fig = plt.figure()\n",
    "    y_pos = np.arange(len(nomes_colunas))\n",
    "    plt.bar(y_pos, barra_vermelha, color= 'r')\n",
    "    plt.bar(y_pos, barra_azul, bottom=barra_vermelha, color='b')\n",
    "    plt.xticks(y_pos, nomes_colunas)\n",
    "    anotacao_no_topo(fig, barra_total, nomes_colunas, porcentagens)\n",
    "    fig.savefig(nome_figura, dpi=150)\n",
    "    plt.close()\n",
    "\n",
    "def anotacao_no_topo(fig, totalHeight, labels, allPercentages):\n",
    "    ax = fig.add_subplot(111)\n",
    "    up = max(totalHeight) * .05\n",
    "    ax.set_ylim(0, max(totalHeight) + 3 * up)\n",
    "    y_pos = np.arange(len(labels))\n",
    "    for xi, yi, l in zip(*[y_pos, totalHeight, list(map(str, allPercentages))]):\n",
    "        ax.text(xi - len(l) * .05, yi + up, l, bbox=dict(facecolor='w', edgecolor='w', alpha=.5))\n",
    "\n",
    "def limita_acionamentos(cpfs_referencia, acionamentos):\n",
    "    nao_encontrados = []\n",
    "    for i in acionamentos.index:\n",
    "        if acionamentos.loc[i,'CPF'] not in cpfs_referencia:\n",
    "            nao_encontrados.append(i)\n",
    "    return acionamentos.drop(nao_encontrados)        \n",
    "        "
   ]
  },
  {
   "cell_type": "code",
   "execution_count": 8,
   "metadata": {},
   "outputs": [],
   "source": [
    "parametros = (datetime.datetime(2019,3,31),)\n",
    "pdd_marco = query_pdd(parametros)\n",
    "pdd_marco = pdd_marco[pdd_marco.CodigoDoProduto.isin(CODIGOS_EP)].copy()\n",
    "parametros = (datetime.datetime(2019,4,30),)\n",
    "pdd_abril = query_pdd(parametros)\n",
    "pdd_abril = pdd_abril[pdd_abril.CodigoDoProduto.isin(CODIGOS_EP)].copy()\n",
    "parametros = (datetime.datetime(2019,5,31),)\n",
    "pdd_maio = query_pdd(parametros)\n",
    "pdd_maio = pdd_maio[pdd_maio.CodigoDoProduto.isin(CODIGOS_EP)].copy()\n",
    "parametros = (datetime.datetime(2019,6,30),)\n",
    "pdd_junho = query_pdd(parametros)\n",
    "pdd_junho = pdd_junho[pdd_junho.CodigoDoProduto.isin(CODIGOS_EP)].copy()"
   ]
  },
  {
   "cell_type": "code",
   "execution_count": null,
   "metadata": {},
   "outputs": [],
   "source": []
  },
  {
   "cell_type": "code",
   "execution_count": 24,
   "metadata": {},
   "outputs": [],
   "source": [
    "parametros = (datetime.datetime(2019,3,1), datetime.datetime(2019,3,31,23,59,59))\n",
    "acionamentos_marco = query_acionamentos(parametros)\n",
    "acionamentos_marco = limita_acionamentos(set(pdd_marco.CPF), acionamentos_marco)\n",
    "parametros = (datetime.datetime(2019,4,1), datetime.datetime(2019,4,30,23,59,59))\n",
    "acionamentos_abril = query_acionamentos(parametros)\n",
    "acionamentos_abril = limita_acionamentos(set(pdd_abril.CPF), acionamentos_abril)\n",
    "parametros = (datetime.datetime(2019,5,1), datetime.datetime(2019,5,31,23,59,59))\n",
    "acionamentos_maio = query_acionamentos(parametros)\n",
    "acionamentos_maio = limita_acionamentos(set(pdd_maio.CPF), acionamentos_maio)\n",
    "parametros = (datetime.datetime(2019,6,1), datetime.datetime(2019,6,30,23,59,59))\n",
    "acionamentos_junho = query_acionamentos(parametros)\n",
    "acionamentos_junho = limita_acionamentos(set(pdd_junho.CPF), acionamentos_junho)"
   ]
  },
  {
   "cell_type": "code",
   "execution_count": null,
   "metadata": {},
   "outputs": [],
   "source": []
  },
  {
   "cell_type": "code",
   "execution_count": 25,
   "metadata": {},
   "outputs": [],
   "source": [
    "dados_acion = []\n",
    "dados_acion.append(segmentacao_dias_em_atraso(acionamentos_marco))\n",
    "dados_acion.append(segmentacao_dias_em_atraso(pdd_marco))\n",
    "dados_acion.append(segmentacao_dias_em_atraso(acionamentos_abril))\n",
    "dados_acion.append(segmentacao_dias_em_atraso(pdd_abril))\n",
    "dados_acion.append(segmentacao_dias_em_atraso(acionamentos_maio))\n",
    "dados_acion.append(segmentacao_dias_em_atraso(pdd_maio))\n",
    "dados_acion.append(segmentacao_dias_em_atraso(acionamentos_junho))\n",
    "dados_acion.append(segmentacao_dias_em_atraso(pdd_junho))\n",
    "pd.DataFrame(data=dados_acion).to_csv('dados_de_acionamentos.csv',sep=';')"
   ]
  },
  {
   "cell_type": "code",
   "execution_count": null,
   "metadata": {},
   "outputs": [],
   "source": []
  },
  {
   "cell_type": "code",
   "execution_count": null,
   "metadata": {},
   "outputs": [],
   "source": []
  },
  {
   "cell_type": "code",
   "execution_count": null,
   "metadata": {},
   "outputs": [],
   "source": []
  },
  {
   "cell_type": "code",
   "execution_count": 31,
   "metadata": {},
   "outputs": [
    {
     "name": "stderr",
     "output_type": "stream",
     "text": [
      "C:\\Users\\admprime\\Miniconda3\\envs\\fklearn\\lib\\site-packages\\ipykernel_launcher.py:86: MatplotlibDeprecationWarning: Adding an axes using the same arguments as a previous axes currently reuses the earlier instance.  In a future version, a new instance will always be created and returned.  Meanwhile, this warning can be suppressed, and the future behavior ensured, by passing a unique label to each axes instance.\n"
     ]
    }
   ],
   "source": [
    "barra_vermelha = segmentacao_dias_em_atraso(acionamentos_marco)\n",
    "total = segmentacao_dias_em_atraso(pdd_marco)\n",
    "barra_azul = [x - y for x, y in zip(total, barra_vermelha)]\n",
    "NOMES_COLUNAS = ['-5','6-30','31-60','61-90','\\n91-120','121-150','\\n151-180','181+']\n",
    "plote_barras_duplas(barra_vermelha[1:], barra_azul[1:], NOMES_COLUNAS[1:])"
   ]
  },
  {
   "cell_type": "code",
   "execution_count": 30,
   "metadata": {},
   "outputs": [
    {
     "name": "stderr",
     "output_type": "stream",
     "text": [
      "C:\\Users\\admprime\\Miniconda3\\envs\\fklearn\\lib\\site-packages\\ipykernel_launcher.py:86: MatplotlibDeprecationWarning: Adding an axes using the same arguments as a previous axes currently reuses the earlier instance.  In a future version, a new instance will always be created and returned.  Meanwhile, this warning can be suppressed, and the future behavior ensured, by passing a unique label to each axes instance.\n"
     ]
    }
   ],
   "source": [
    "barra_vermelha = segmentacao_dias_em_atraso(acionamentos_abril)\n",
    "total = segmentacao_dias_em_atraso(pdd_abril)\n",
    "barra_azul = [x - y for x, y in zip(total, barra_vermelha)]\n",
    "NOMES_COLUNAS = ['-5','6-30','31-60','61-90','\\n91-120','121-150','\\n151-180','181+']\n",
    "plote_barras_duplas(barra_vermelha[1:], barra_azul[1:], NOMES_COLUNAS[1:])"
   ]
  },
  {
   "cell_type": "code",
   "execution_count": 28,
   "metadata": {},
   "outputs": [
    {
     "name": "stderr",
     "output_type": "stream",
     "text": [
      "C:\\Users\\admprime\\Miniconda3\\envs\\fklearn\\lib\\site-packages\\ipykernel_launcher.py:86: MatplotlibDeprecationWarning: Adding an axes using the same arguments as a previous axes currently reuses the earlier instance.  In a future version, a new instance will always be created and returned.  Meanwhile, this warning can be suppressed, and the future behavior ensured, by passing a unique label to each axes instance.\n"
     ]
    }
   ],
   "source": [
    "barra_vermelha = segmentacao_dias_em_atraso(acionamentos_maio)\n",
    "total = segmentacao_dias_em_atraso(pdd_maio)\n",
    "barra_azul = [x - y for x, y in zip(total, barra_vermelha)]\n",
    "NOMES_COLUNAS = ['-5','6-30','31-60','61-90','\\n91-120','121-150','\\n151-180','181+']\n",
    "plote_barras_duplas(barra_vermelha[1:], barra_azul[1:], NOMES_COLUNAS[1:])"
   ]
  },
  {
   "cell_type": "code",
   "execution_count": 32,
   "metadata": {},
   "outputs": [
    {
     "name": "stderr",
     "output_type": "stream",
     "text": [
      "C:\\Users\\admprime\\Miniconda3\\envs\\fklearn\\lib\\site-packages\\ipykernel_launcher.py:86: MatplotlibDeprecationWarning: Adding an axes using the same arguments as a previous axes currently reuses the earlier instance.  In a future version, a new instance will always be created and returned.  Meanwhile, this warning can be suppressed, and the future behavior ensured, by passing a unique label to each axes instance.\n"
     ]
    }
   ],
   "source": [
    "barra_vermelha = segmentacao_dias_em_atraso(acionamentos_junho)\n",
    "total = segmentacao_dias_em_atraso(pdd_junho)\n",
    "barra_azul = [x - y for x, y in zip(total, barra_vermelha)]\n",
    "NOMES_COLUNAS = ['-5','6-30','31-60','61-90','\\n91-120','121-150','\\n151-180','181+']\n",
    "plote_barras_duplas(barra_vermelha[1:], barra_azul[1:], NOMES_COLUNAS[1:])"
   ]
  },
  {
   "cell_type": "code",
   "execution_count": null,
   "metadata": {},
   "outputs": [],
   "source": []
  },
  {
   "cell_type": "code",
   "execution_count": null,
   "metadata": {},
   "outputs": [],
   "source": []
  },
  {
   "cell_type": "code",
   "execution_count": null,
   "metadata": {},
   "outputs": [],
   "source": []
  },
  {
   "cell_type": "code",
   "execution_count": null,
   "metadata": {},
   "outputs": [],
   "source": []
  },
  {
   "cell_type": "code",
   "execution_count": null,
   "metadata": {},
   "outputs": [],
   "source": []
  },
  {
   "cell_type": "code",
   "execution_count": null,
   "metadata": {},
   "outputs": [],
   "source": []
  },
  {
   "cell_type": "code",
   "execution_count": null,
   "metadata": {},
   "outputs": [],
   "source": []
  },
  {
   "cell_type": "code",
   "execution_count": null,
   "metadata": {},
   "outputs": [],
   "source": []
  },
  {
   "cell_type": "code",
   "execution_count": null,
   "metadata": {},
   "outputs": [],
   "source": []
  }
 ],
 "metadata": {
  "kernelspec": {
   "display_name": "Python 3",
   "language": "python",
   "name": "python3"
  },
  "language_info": {
   "codemirror_mode": {
    "name": "ipython",
    "version": 3
   },
   "file_extension": ".py",
   "mimetype": "text/x-python",
   "name": "python",
   "nbconvert_exporter": "python",
   "pygments_lexer": "ipython3",
   "version": "3.7.3"
  }
 },
 "nbformat": 4,
 "nbformat_minor": 2
}
