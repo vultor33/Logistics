{
 "cells": [
  {
   "cell_type": "code",
   "execution_count": 1,
   "metadata": {},
   "outputs": [],
   "source": [
    "import uuid\n",
    "\n",
    "from confluent_kafka import Producer, Consumer\n"
   ]
  },
  {
   "cell_type": "code",
   "execution_count": null,
   "metadata": {},
   "outputs": [
    {
     "name": "stdout",
     "output_type": "stream",
     "text": [
      "consumed: b'teste inicial do kafka'\n",
      "consumed: b'eeewwqq'\n",
      "consumed: b'vdsvsd'\n",
      "consumed: b'dvweeeee'\n",
      "consumed: b'mandando mensagem'\n",
      "consumed: b'dklsmfkldsm'\n",
      "consumed: b'dsvds'\n",
      "consumed: b'enviando do python'\n",
      "consumed: b'python test value'\n",
      "consumed: b'nova mensagem'\n",
      "consumed: b'mundo'\n",
      "consumed: b'221341ff'\n",
      "consumed: b'blz deu certo'\n",
      "consumed: b'produzindo do CLI'\n",
      "consumed: b'Ola'\n",
      "consumed: b'ewf'\n",
      "consumed: b'consumingo esse topico'\n",
      "consumed: b'nova mensagem produzida'\n",
      "consumed: b'go go go'\n"
     ]
    }
   ],
   "source": [
    "c = Consumer({\n",
    "    'bootstrap.servers': 'pkc-43n10.us-central1.gcp.confluent.cloud:9092',\n",
    "    'sasl.mechanisms': 'PLAIN',\n",
    "    'security.protocol': 'SASL_SSL',\n",
    "    'sasl.username': 'AJIC6XOC6CNDEBTR',\n",
    "    'sasl.password': '1V5RfA4IUGuNK7g3k+zsMy4TMSOWuwgWdMZq3am516AK6CB/OKgW83LkdJAkiMgW',\n",
    "    'group.id': str(uuid.uuid1()),  # this will create a new consumer group on each invocation.\n",
    "    'auto.offset.reset': 'earliest'\n",
    "})\n",
    "\n",
    "c.subscribe(['test-topic'])\n",
    "\n",
    "try:\n",
    "    while True:\n",
    "        msg = c.poll(0.1)  # Wait for message or event/error\n",
    "        if msg is None:\n",
    "            # No message available within timeout.\n",
    "            # Initial message consumption may take up to `session.timeout.ms` for\n",
    "            #   the group to rebalance and start consuming.\n",
    "            continue\n",
    "        if msg.error():\n",
    "            # Errors are typically temporary, print error and continue.\n",
    "            print(\"Consumer error: {}\".format(msg.error()))\n",
    "            continue\n",
    "\n",
    "        print('consumed: {}'.format(msg.value()))\n",
    "\n",
    "except KeyboardInterrupt:\n",
    "    pass\n",
    "\n",
    "finally:\n",
    "    # Leave group and commit final offsets\n",
    "    c.close()"
   ]
  },
  {
   "cell_type": "code",
   "execution_count": null,
   "metadata": {},
   "outputs": [],
   "source": []
  },
  {
   "cell_type": "code",
   "execution_count": null,
   "metadata": {},
   "outputs": [],
   "source": []
  },
  {
   "cell_type": "code",
   "execution_count": null,
   "metadata": {},
   "outputs": [],
   "source": []
  },
  {
   "cell_type": "code",
   "execution_count": null,
   "metadata": {},
   "outputs": [],
   "source": []
  },
  {
   "cell_type": "code",
   "execution_count": null,
   "metadata": {},
   "outputs": [],
   "source": []
  },
  {
   "cell_type": "code",
   "execution_count": null,
   "metadata": {},
   "outputs": [],
   "source": []
  },
  {
   "cell_type": "code",
   "execution_count": null,
   "metadata": {},
   "outputs": [],
   "source": []
  },
  {
   "cell_type": "markdown",
   "metadata": {},
   "source": [
    "# SERVIDOR PROPRIO"
   ]
  },
  {
   "cell_type": "code",
   "execution_count": 1,
   "metadata": {},
   "outputs": [],
   "source": [
    "from kafka import KafkaConsumer   # tem que abrir outro anaconda aqui?\n",
    "from pymongo import MongoClient\n",
    "from json import loads"
   ]
  },
  {
   "cell_type": "code",
   "execution_count": null,
   "metadata": {},
   "outputs": [],
   "source": [
    "consumer = KafkaConsumer(\n",
    "    'numtest',\n",
    "     bootstrap_servers=['localhost:9092'],\n",
    "     auto_offset_reset='earliest',\n",
    "     enable_auto_commit=True,\n",
    "     group_id='my-group',\n",
    "     value_deserializer=lambda x: loads(x.decode('utf-8')))"
   ]
  },
  {
   "cell_type": "code",
   "execution_count": 5,
   "metadata": {},
   "outputs": [],
   "source": [
    "client = MongoClient('localhost:27017')\n",
    "collection = client.numtest.numtest"
   ]
  },
  {
   "cell_type": "code",
   "execution_count": null,
   "metadata": {},
   "outputs": [],
   "source": [
    "for message in consumer:\n",
    "    message = message.value\n",
    "    print('{} added to {}'.format(message, collection))"
   ]
  },
  {
   "cell_type": "code",
   "execution_count": null,
   "metadata": {},
   "outputs": [],
   "source": []
  },
  {
   "cell_type": "code",
   "execution_count": null,
   "metadata": {},
   "outputs": [],
   "source": []
  },
  {
   "cell_type": "code",
   "execution_count": null,
   "metadata": {},
   "outputs": [],
   "source": []
  }
 ],
 "metadata": {
  "kernelspec": {
   "display_name": "Python 3",
   "language": "python",
   "name": "python3"
  },
  "language_info": {
   "codemirror_mode": {
    "name": "ipython",
    "version": 3
   },
   "file_extension": ".py",
   "mimetype": "text/x-python",
   "name": "python",
   "nbconvert_exporter": "python",
   "pygments_lexer": "ipython3",
   "version": "3.7.3"
  }
 },
 "nbformat": 4,
 "nbformat_minor": 2
}
