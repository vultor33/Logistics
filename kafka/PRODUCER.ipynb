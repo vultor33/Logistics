{
 "cells": [
  {
   "cell_type": "markdown",
   "metadata": {},
   "source": [
    "# COMO SETAR O KAFKA"
   ]
  },
  {
   "cell_type": "code",
   "execution_count": 1,
   "metadata": {},
   "outputs": [],
   "source": [
    "# Inicie o zookeeper:\n",
    "# Abra um cmd e execute: zkServer\n",
    "# Inicie o kafka:\n",
    "# va para a pasta D:\\kafka_2.11-2.3.0\\bin\\windows\n",
    "# execute: kafka-server-start.bat server.properties\n",
    "# USO\n",
    "# https://towardsdatascience.com/kafka-python-explained-in-10-lines-of-code-800e3e07dad1"
   ]
  },
  {
   "cell_type": "markdown",
   "metadata": {},
   "source": [
    "# CLUSTER DA CONFLUENT"
   ]
  },
  {
   "cell_type": "code",
   "execution_count": 7,
   "metadata": {},
   "outputs": [
    {
     "name": "stdout",
     "output_type": "stream",
     "text": [
      "produced to: test-topic [2] @ 3\n"
     ]
    },
    {
     "data": {
      "text/plain": [
       "0"
      ]
     },
     "execution_count": 7,
     "metadata": {},
     "output_type": "execute_result"
    }
   ],
   "source": [
    "import uuid\n",
    "\n",
    "from confluent_kafka import Producer, Consumer\n",
    "\n",
    "\n",
    "p = Producer({\n",
    "    'bootstrap.servers': 'pkc-43n10.us-central1.gcp.confluent.cloud:9092',\n",
    "    'sasl.mechanisms': 'PLAIN',\n",
    "    'security.protocol': 'SASL_SSL',\n",
    "    'sasl.username': 'AJIC6XOC6CNDEBTR',\n",
    "    'sasl.password': '1V5RfA4IUGuNK7g3k+zsMy4TMSOWuwgWdMZq3am516AK6CB/OKgW83LkdJAkiMgW',\n",
    "})\n",
    "\n",
    "\n",
    "def acked(err, msg):\n",
    "    \"\"\"Delivery report callback called (from flush()) on successful or failed delivery of the message.\"\"\"\n",
    "    if err is not None:\n",
    "        print(\"failed to deliver message: {}\".format(err.str()))\n",
    "    else:\n",
    "        print(\"produced to: {} [{}] @ {}\".format(msg.topic(), msg.partition(), msg.offset()))\n",
    "\n",
    "\n",
    "p.produce('test-topic', value='python test value', callback=acked)\n",
    "\n",
    "# flush() is typically called when the producer is done sending messages to wait\n",
    "# for outstanding messages to be transmitted to the broker and delivery report\n",
    "# callbacks to get called. For continous producing you should call p.poll(0)\n",
    "# after each produce() call to trigger delivery report callbacks.\n",
    "p.flush(10)\n"
   ]
  },
  {
   "cell_type": "code",
   "execution_count": 9,
   "metadata": {},
   "outputs": [
    {
     "name": "stdout",
     "output_type": "stream",
     "text": [
      "produced to: test-topic [0] @ 2\n"
     ]
    },
    {
     "data": {
      "text/plain": [
       "0"
      ]
     },
     "execution_count": 9,
     "metadata": {},
     "output_type": "execute_result"
    }
   ],
   "source": [
    "p.produce('test-topic', value='go go go', callback=acked)\n",
    "p.flush(10)"
   ]
  },
  {
   "cell_type": "code",
   "execution_count": null,
   "metadata": {},
   "outputs": [],
   "source": []
  },
  {
   "cell_type": "code",
   "execution_count": null,
   "metadata": {},
   "outputs": [],
   "source": []
  },
  {
   "cell_type": "markdown",
   "metadata": {},
   "source": [
    "# CONSUMER"
   ]
  },
  {
   "cell_type": "code",
   "execution_count": null,
   "metadata": {},
   "outputs": [],
   "source": [
    "c = Consumer({\n",
    "    'bootstrap.servers': '<ccloud bootstrap servers>',\n",
    "    'sasl.mechanisms': 'PLAIN',\n",
    "    'security.protocol': 'SASL_SSL',\n",
    "    'sasl.username': 'AJIC6XOC6CNDEBTR',\n",
    "    'sasl.password': '1V5RfA4IUGuNK7g3k+zsMy4TMSOWuwgWdMZq3am516AK6CB/OKgW83LkdJAkiMgW',\n",
    "    'group.id': str(uuid.uuid1()),  # this will create a new consumer group on each invocation.\n",
    "    'auto.offset.reset': 'earliest'\n",
    "})\n",
    "\n",
    "c.subscribe(['test-topic'])\n",
    "\n",
    "try:\n",
    "    while True:\n",
    "        msg = c.poll(0.1)  # Wait for message or event/error\n",
    "        if msg is None:\n",
    "            # No message available within timeout.\n",
    "            # Initial message consumption may take up to `session.timeout.ms` for\n",
    "            #   the group to rebalance and start consuming.\n",
    "            continue\n",
    "        if msg.error():\n",
    "            # Errors are typically temporary, print error and continue.\n",
    "            print(\"Consumer error: {}\".format(msg.error()))\n",
    "            continue\n",
    "\n",
    "        print('consumed: {}'.format(msg.value()))\n",
    "\n",
    "except KeyboardInterrupt:\n",
    "    pass\n",
    "\n",
    "finally:\n",
    "    # Leave group and commit final offsets\n",
    "    c.close()"
   ]
  },
  {
   "cell_type": "code",
   "execution_count": null,
   "metadata": {},
   "outputs": [],
   "source": []
  },
  {
   "cell_type": "code",
   "execution_count": null,
   "metadata": {},
   "outputs": [],
   "source": []
  },
  {
   "cell_type": "markdown",
   "metadata": {},
   "source": [
    "# EXEMPLO 2"
   ]
  },
  {
   "cell_type": "code",
   "execution_count": null,
   "metadata": {},
   "outputs": [],
   "source": [
    "import uuid\n",
    "\n",
    "from confluent_kafka import Producer, Consumer\n",
    "\n",
    "\n",
    "p = Producer({\n",
    "    'bootstrap.servers': 'pkc-43n10.us-central1.gcp.confluent.cloud:9092',\n",
    "    'sasl.mechanisms': 'PLAIN',\n",
    "    'security.protocol': 'SASL_SSL',\n",
    "    'sasl.username': 'AJIC6XOC6CNDEBTR',\n",
    "    'sasl.password': '1V5RfA4IUGuNK7g3k+zsMy4TMSOWuwgWdMZq3am516AK6CB/OKgW83LkdJAkiMgW',\n",
    "})\n",
    "\n",
    "\n",
    "def acked(err, msg):\n",
    "    \"\"\"Delivery report callback called (from flush()) on successful or failed delivery of the message.\"\"\"\n",
    "    if err is not None:\n",
    "        print(\"failed to deliver message: {}\".format(err.str()))\n",
    "    else:\n",
    "        print(\"produced to: {} [{}] @ {}\".format(msg.topic(), msg.partition(), msg.offset()))\n",
    "\n",
    "\n",
    "p.produce('python-test-topic', value='python test value', callback=acked)\n",
    "\n",
    "# flush() is typically called when the producer is done sending messages to wait\n",
    "# for outstanding messages to be transmitted to the broker and delivery report\n",
    "# callbacks to get called. For continous producing you should call p.poll(0)\n",
    "# after each produce() call to trigger delivery report callbacks.\n",
    "p.flush(10)\n",
    "\n",
    "c = Consumer({\n",
    "    'bootstrap.servers': '<ccloud bootstrap servers>',\n",
    "    'sasl.mechanisms': 'PLAIN',\n",
    "    'security.protocol': 'SASL_SSL',\n",
    "    'sasl.username': 'AJIC6XOC6CNDEBTR',\n",
    "    'sasl.password': '1V5RfA4IUGuNK7g3k+zsMy4TMSOWuwgWdMZq3am516AK6CB/OKgW83LkdJAkiMgW',\n",
    "    'group.id': str(uuid.uuid1()),  # this will create a new consumer group on each invocation.\n",
    "    'auto.offset.reset': 'earliest'\n",
    "})\n",
    "\n",
    "c.subscribe(['python-test-topic'])\n",
    "\n",
    "try:\n",
    "    while True:\n",
    "        msg = c.poll(0.1)  # Wait for message or event/error\n",
    "        if msg is None:\n",
    "            # No message available within timeout.\n",
    "            # Initial message consumption may take up to `session.timeout.ms` for\n",
    "            #   the group to rebalance and start consuming.\n",
    "            continue\n",
    "        if msg.error():\n",
    "            # Errors are typically temporary, print error and continue.\n",
    "            print(\"Consumer error: {}\".format(msg.error()))\n",
    "            continue\n",
    "\n",
    "        print('consumed: {}'.format(msg.value()))\n",
    "\n",
    "except KeyboardInterrupt:\n",
    "    pass\n",
    "\n",
    "finally:\n",
    "    # Leave group and commit final offsets\n",
    "    c.close()"
   ]
  },
  {
   "cell_type": "code",
   "execution_count": null,
   "metadata": {},
   "outputs": [],
   "source": []
  },
  {
   "cell_type": "code",
   "execution_count": null,
   "metadata": {},
   "outputs": [],
   "source": []
  },
  {
   "cell_type": "code",
   "execution_count": null,
   "metadata": {},
   "outputs": [],
   "source": []
  },
  {
   "cell_type": "code",
   "execution_count": null,
   "metadata": {},
   "outputs": [],
   "source": []
  },
  {
   "cell_type": "code",
   "execution_count": null,
   "metadata": {},
   "outputs": [],
   "source": []
  },
  {
   "cell_type": "code",
   "execution_count": null,
   "metadata": {},
   "outputs": [],
   "source": []
  },
  {
   "cell_type": "markdown",
   "metadata": {},
   "source": [
    "# PRODUCER DO SERVER LOCAL"
   ]
  },
  {
   "cell_type": "code",
   "execution_count": 3,
   "metadata": {},
   "outputs": [],
   "source": [
    "producer = KafkaProducer(bootstrap_servers=['localhost:9092'],\n",
    "                         value_serializer=lambda x: dumps(x).encode('utf-8'))"
   ]
  },
  {
   "cell_type": "code",
   "execution_count": null,
   "metadata": {},
   "outputs": [],
   "source": [
    "for e in range(1000):\n",
    "    data = {'number' : e}\n",
    "    producer.send('numtest', value=data)\n",
    "    sleep(5)"
   ]
  },
  {
   "cell_type": "code",
   "execution_count": null,
   "metadata": {},
   "outputs": [],
   "source": []
  },
  {
   "cell_type": "code",
   "execution_count": null,
   "metadata": {},
   "outputs": [],
   "source": []
  },
  {
   "cell_type": "code",
   "execution_count": null,
   "metadata": {},
   "outputs": [],
   "source": []
  }
 ],
 "metadata": {
  "kernelspec": {
   "display_name": "Python 3",
   "language": "python",
   "name": "python3"
  },
  "language_info": {
   "codemirror_mode": {
    "name": "ipython",
    "version": 3
   },
   "file_extension": ".py",
   "mimetype": "text/x-python",
   "name": "python",
   "nbconvert_exporter": "python",
   "pygments_lexer": "ipython3",
   "version": "3.7.3"
  }
 },
 "nbformat": 4,
 "nbformat_minor": 2
}
