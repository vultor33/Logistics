{
 "cells": [
  {
   "cell_type": "code",
   "execution_count": 1,
   "metadata": {},
   "outputs": [],
   "source": [
    "# suponha que ele preve ruptura em 2 dias. Depois desses 2 dias nao teve mais ruptura. Mas como eu nao aviso ele continua na previsao.\n",
    "# ranqueamento das lojas"
   ]
  },
  {
   "cell_type": "markdown",
   "metadata": {},
   "source": [
    "# Historico\n",
    "- Rede dupla e/ou com 100 neuronios: ruim. Nos primeiros passos o resultado fica razoavel, mas quando avanca piora.\n",
    "- Rede unica com 10 neuronios: bom."
   ]
  },
  {
   "cell_type": "code",
   "execution_count": 2,
   "metadata": {},
   "outputs": [
    {
     "name": "stderr",
     "output_type": "stream",
     "text": [
      "Using TensorFlow backend.\n"
     ]
    }
   ],
   "source": [
    "#https://machinelearningmastery.com/timedistributed-layer-for-long-short-term-memory-networks-in-python/\n",
    "import sys \n",
    "import json\n",
    "import numpy as np # linear algebra\n",
    "import matplotlib.pyplot as plt # this is used for the plot the graph \n",
    "import math\n",
    "import collections\n",
    "import pandas as pd\n",
    "\n",
    "## for Deep-learing:\n",
    "import keras\n",
    "import tensorflow as tf\n",
    "from keras import backend as K\n",
    "from keras.layers import LSTM\n",
    "from keras.layers import Dense\n",
    "from keras.layers import Dropout\n",
    "from keras.models import Sequential\n",
    "from keras.layers import TimeDistributed\n",
    "from keras.layers import Lambda\n",
    "from keras.models import model_from_json\n",
    "from tensorflow.python.keras.callbacks import TensorBoard\n",
    "\n",
    "from itertools import product\n",
    "from functools import partial\n",
    "from time import time\n",
    "\n",
    "from core.DataExploration import DataExploration\n",
    "from ruptura.CreateBatch import CreateBatch\n",
    "from ruptura.RupturaPrediction import RupturaPrediction\n",
    "from ruptura.RupturaNeuralNetwork import RupturaNeuralNetwork"
   ]
  },
  {
   "cell_type": "markdown",
   "metadata": {},
   "source": [
    "# CARREGAMENTO DOS DADOS"
   ]
  },
  {
   "cell_type": "code",
   "execution_count": 3,
   "metadata": {},
   "outputs": [],
   "source": [
    "createBatch = CreateBatch()\n",
    "amostras = createBatch.loadBatch()\n",
    "X, Y, Ytest = createBatch.batch(amostras,nDiasTreino = 60, nDiasTeste = 10)"
   ]
  },
  {
   "cell_type": "markdown",
   "metadata": {},
   "source": [
    "# MODEL DEFINITION"
   ]
  },
  {
   "cell_type": "code",
   "execution_count": 4,
   "metadata": {},
   "outputs": [
    {
     "name": "stdout",
     "output_type": "stream",
     "text": [
      "model loaded\n"
     ]
    }
   ],
   "source": [
    "#DEFINE THE MODEL\n",
    "rupNN = RupturaNeuralNetwork()\n",
    "newModel = False\n",
    "\n",
    "if newModel:\n",
    "    n_neurons = 10\n",
    "    batch_size = X.shape[0]\n",
    "    time_steps = X.shape[1]\n",
    "    x_dimension = X.shape[2]\n",
    "    model = Sequential()\n",
    "    model.add(LSTM(n_neurons, input_shape=(time_steps, x_dimension), return_sequences=True)) \n",
    "    model.add(TimeDistributed(Dense(x_dimension, activation='softmax')))\n",
    "    #model.add(LSTM(n_neurons, input_shape=(time_steps, x_dimension), return_sequences=True)) \n",
    "    #model.add(TimeDistributed(Dense(x_dimension, activation='softmax')))\n",
    "    model.compile(\n",
    "        loss=rupNN.getCustomLoss(Y),\n",
    "        #loss = 'categorical_crossentropy', \n",
    "        optimizer='adam')\n",
    "    print(model.summary())\n",
    "else:\n",
    "    model = rupNN.loadModel(Y)  # Y dimensions are needed for custom loss definitions\n",
    "    print('model loaded')"
   ]
  },
  {
   "cell_type": "markdown",
   "metadata": {},
   "source": [
    "# TRAINING"
   ]
  },
  {
   "cell_type": "code",
   "execution_count": 5,
   "metadata": {
    "scrolled": true
   },
   "outputs": [
    {
     "name": "stdout",
     "output_type": "stream",
     "text": [
      "Epoch 1/100\n",
      " - 1s - loss: 0.3114\n",
      "Epoch 2/100\n",
      " - 0s - loss: 0.3114\n",
      "Epoch 3/100\n",
      " - 0s - loss: 0.3122\n",
      "Epoch 4/100\n",
      " - 0s - loss: 0.3113\n",
      "Epoch 5/100\n",
      " - 0s - loss: 0.3116\n",
      "Epoch 6/100\n",
      " - 0s - loss: 0.3119\n",
      "Epoch 7/100\n",
      " - 0s - loss: 0.3118\n",
      "Epoch 8/100\n",
      " - 0s - loss: 0.3116\n",
      "Epoch 9/100\n",
      " - 0s - loss: 0.3116\n",
      "Epoch 10/100\n",
      " - 0s - loss: 0.3116\n",
      "Epoch 11/100\n",
      " - 0s - loss: 0.3115\n",
      "Epoch 12/100\n",
      " - 0s - loss: 0.3114\n",
      "Epoch 13/100\n",
      " - 0s - loss: 0.3114\n",
      "Epoch 14/100\n",
      " - 0s - loss: 0.3114\n",
      "Epoch 15/100\n",
      " - 0s - loss: 0.3114\n",
      "Epoch 16/100\n",
      " - 0s - loss: 0.3113\n",
      "Epoch 17/100\n",
      " - 0s - loss: 0.3112\n",
      "Epoch 18/100\n",
      " - 0s - loss: 0.3111\n",
      "Epoch 19/100\n",
      " - 0s - loss: 0.3111\n",
      "Epoch 20/100\n",
      " - 0s - loss: 0.3111\n",
      "Epoch 21/100\n",
      " - 0s - loss: 0.3111\n",
      "Epoch 22/100\n",
      " - 0s - loss: 0.3110\n",
      "Epoch 23/100\n",
      " - 0s - loss: 0.3110\n",
      "Epoch 24/100\n",
      " - 0s - loss: 0.3110\n",
      "Epoch 25/100\n",
      " - 0s - loss: 0.3109\n",
      "Epoch 26/100\n",
      " - 0s - loss: 0.3109\n",
      "Epoch 27/100\n",
      " - 0s - loss: 0.3109\n",
      "Epoch 28/100\n",
      " - 0s - loss: 0.3109\n",
      "Epoch 29/100\n",
      " - 0s - loss: 0.3108\n",
      "Epoch 30/100\n",
      " - 0s - loss: 0.3108\n",
      "Epoch 31/100\n",
      " - 0s - loss: 0.3108\n",
      "Epoch 32/100\n",
      " - 0s - loss: 0.3108\n",
      "Epoch 33/100\n",
      " - 0s - loss: 0.3108\n",
      "Epoch 34/100\n",
      " - 0s - loss: 0.3107\n",
      "Epoch 35/100\n",
      " - 0s - loss: 0.3107\n",
      "Epoch 36/100\n",
      " - 0s - loss: 0.3107\n",
      "Epoch 37/100\n",
      " - 0s - loss: 0.3106\n",
      "Epoch 38/100\n",
      " - 0s - loss: 0.3106\n",
      "Epoch 39/100\n",
      " - 0s - loss: 0.3106\n",
      "Epoch 40/100\n",
      " - 0s - loss: 0.3106\n",
      "Epoch 41/100\n",
      " - 0s - loss: 0.3105\n",
      "Epoch 42/100\n",
      " - 0s - loss: 0.3105\n",
      "Epoch 43/100\n",
      " - 0s - loss: 0.3105\n",
      "Epoch 44/100\n",
      " - 0s - loss: 0.3105\n",
      "Epoch 45/100\n",
      " - 0s - loss: 0.3104\n",
      "Epoch 46/100\n",
      " - 0s - loss: 0.3104\n",
      "Epoch 47/100\n",
      " - 0s - loss: 0.3104\n",
      "Epoch 48/100\n",
      " - 0s - loss: 0.3104\n",
      "Epoch 49/100\n",
      " - 0s - loss: 0.3103\n",
      "Epoch 50/100\n",
      " - 0s - loss: 0.3103\n",
      "Epoch 51/100\n",
      " - 0s - loss: 0.3103\n",
      "Epoch 52/100\n",
      " - 0s - loss: 0.3103\n",
      "Epoch 53/100\n",
      " - 0s - loss: 0.3102\n",
      "Epoch 54/100\n",
      " - 0s - loss: 0.3102\n",
      "Epoch 55/100\n",
      " - 0s - loss: 0.3102\n",
      "Epoch 56/100\n",
      " - 0s - loss: 0.3102\n",
      "Epoch 57/100\n",
      " - 0s - loss: 0.3101\n",
      "Epoch 58/100\n",
      " - 0s - loss: 0.3101\n",
      "Epoch 59/100\n",
      " - 0s - loss: 0.3101\n",
      "Epoch 60/100\n",
      " - 0s - loss: 0.3100\n",
      "Epoch 61/100\n",
      " - 0s - loss: 0.3100\n",
      "Epoch 62/100\n",
      " - 0s - loss: 0.3100\n",
      "Epoch 63/100\n",
      " - 0s - loss: 0.3100\n",
      "Epoch 64/100\n",
      " - 0s - loss: 0.3099\n",
      "Epoch 65/100\n",
      " - 0s - loss: 0.3099\n",
      "Epoch 66/100\n",
      " - 0s - loss: 0.3099\n",
      "Epoch 67/100\n",
      " - 0s - loss: 0.3099\n",
      "Epoch 68/100\n",
      " - 0s - loss: 0.3098\n",
      "Epoch 69/100\n",
      " - 0s - loss: 0.3098\n",
      "Epoch 70/100\n",
      " - 0s - loss: 0.3098\n",
      "Epoch 71/100\n",
      " - 0s - loss: 0.3098\n",
      "Epoch 72/100\n",
      " - 0s - loss: 0.3097\n",
      "Epoch 73/100\n",
      " - 0s - loss: 0.3097\n",
      "Epoch 74/100\n",
      " - 0s - loss: 0.3097\n",
      "Epoch 75/100\n",
      " - 0s - loss: 0.3097\n",
      "Epoch 76/100\n",
      " - 0s - loss: 0.3096\n",
      "Epoch 77/100\n",
      " - 0s - loss: 0.3096\n",
      "Epoch 78/100\n",
      " - 0s - loss: 0.3096\n",
      "Epoch 79/100\n",
      " - 0s - loss: 0.3096\n",
      "Epoch 80/100\n",
      " - 0s - loss: 0.3095\n",
      "Epoch 81/100\n",
      " - 0s - loss: 0.3095\n",
      "Epoch 82/100\n",
      " - 0s - loss: 0.3095\n",
      "Epoch 83/100\n",
      " - 0s - loss: 0.3094\n",
      "Epoch 84/100\n",
      " - 0s - loss: 0.3094\n",
      "Epoch 85/100\n",
      " - 0s - loss: 0.3094\n",
      "Epoch 86/100\n",
      " - 0s - loss: 0.3094\n",
      "Epoch 87/100\n",
      " - 0s - loss: 0.3093\n",
      "Epoch 88/100\n",
      " - 0s - loss: 0.3093\n",
      "Epoch 89/100\n",
      " - 0s - loss: 0.3093\n",
      "Epoch 90/100\n",
      " - 0s - loss: 0.3093\n",
      "Epoch 91/100\n",
      " - 0s - loss: 0.3092\n",
      "Epoch 92/100\n",
      " - 0s - loss: 0.3092\n",
      "Epoch 93/100\n",
      " - 0s - loss: 0.3092\n",
      "Epoch 94/100\n",
      " - 0s - loss: 0.3092\n",
      "Epoch 95/100\n",
      " - 0s - loss: 0.3091\n",
      "Epoch 96/100\n",
      " - 0s - loss: 0.3091\n",
      "Epoch 97/100\n",
      " - 0s - loss: 0.3091\n",
      "Epoch 98/100\n",
      " - 0s - loss: 0.3091\n",
      "Epoch 99/100\n",
      " - 0s - loss: 0.3090\n",
      "Epoch 100/100\n",
      " - 0s - loss: 0.3090\n"
     ]
    }
   ],
   "source": [
    "for step in range(1):\n",
    "    n_epoch = 100\n",
    "    model.fit(X, Y, \n",
    "                  epochs=n_epoch, \n",
    "                  batch_size= X.shape[0], \n",
    "                  #validation_data=(Xval, Yval),\n",
    "                  verbose=2)\n",
    "    rupNN.saveModel(model)"
   ]
  },
  {
   "cell_type": "code",
   "execution_count": 7,
   "metadata": {},
   "outputs": [],
   "source": []
  },
  {
   "cell_type": "code",
   "execution_count": null,
   "metadata": {},
   "outputs": [],
   "source": []
  },
  {
   "cell_type": "markdown",
   "metadata": {},
   "source": [
    "# VALIDATION"
   ]
  },
  {
   "cell_type": "code",
   "execution_count": 6,
   "metadata": {
    "scrolled": false
   },
   "outputs": [
    {
     "name": "stdout",
     "output_type": "stream",
     "text": [
      "Contratos adimplentes:   9628\n",
      "Contratos inadimlentes:  690\n",
      "xAxis:   [2.0, 24.75, 47.5, 70.25, 93.0] \n",
      "\n",
      "yAxis:   [2, 4, 16, 27, 23] \n",
      "\n"
     ]
    },
    {
     "data": {
      "image/png": "[encoded data removed]",
      "text/plain": [
       "<Figure size 432x288 with 1 Axes>"
      ]
     },
     "metadata": {
      "needs_background": "light"
     },
     "output_type": "display_data"
    }
   ],
   "source": [
    "rupPred = RupturaPrediction(X)\n",
    "model = rupNN.loadModel()\n",
    "rupPred.validate(Ytest, model)"
   ]
  },
  {
   "cell_type": "code",
   "execution_count": 10,
   "metadata": {},
   "outputs": [],
   "source": []
  },
  {
   "cell_type": "code",
   "execution_count": null,
   "metadata": {},
   "outputs": [],
   "source": []
  },
  {
   "cell_type": "code",
   "execution_count": null,
   "metadata": {},
   "outputs": [],
   "source": []
  },
  {
   "cell_type": "code",
   "execution_count": null,
   "metadata": {},
   "outputs": [],
   "source": []
  },
  {
   "cell_type": "code",
   "execution_count": null,
   "metadata": {},
   "outputs": [],
   "source": []
  },
  {
   "cell_type": "code",
   "execution_count": null,
   "metadata": {},
   "outputs": [],
   "source": []
  },
  {
   "cell_type": "code",
   "execution_count": null,
   "metadata": {},
   "outputs": [],
   "source": [
    "plt.figure(figsize=(12,8))\n",
    "plt.plot(range(len(resPlot)), resPlot, 'r.', label='PREVISTO, x') # x\n",
    "plt.plot(range(len(yPlot)),yPlot, 'b.', label='REAL, y') # y\n",
    "plt.legend(loc='best')\n",
    "plt.show()  "
   ]
  },
  {
   "cell_type": "code",
   "execution_count": null,
   "metadata": {},
   "outputs": [],
   "source": []
  },
  {
   "cell_type": "code",
   "execution_count": null,
   "metadata": {},
   "outputs": [],
   "source": []
  },
  {
   "cell_type": "code",
   "execution_count": null,
   "metadata": {},
   "outputs": [],
   "source": []
  },
  {
   "cell_type": "code",
   "execution_count": null,
   "metadata": {},
   "outputs": [],
   "source": []
  },
  {
   "cell_type": "code",
   "execution_count": null,
   "metadata": {},
   "outputs": [],
   "source": []
  },
  {
   "cell_type": "code",
   "execution_count": null,
   "metadata": {},
   "outputs": [],
   "source": []
  },
  {
   "cell_type": "code",
   "execution_count": null,
   "metadata": {},
   "outputs": [],
   "source": []
  },
  {
   "cell_type": "code",
   "execution_count": null,
   "metadata": {},
   "outputs": [],
   "source": []
  },
  {
   "cell_type": "code",
   "execution_count": null,
   "metadata": {},
   "outputs": [],
   "source": []
  },
  {
   "cell_type": "code",
   "execution_count": null,
   "metadata": {},
   "outputs": [],
   "source": []
  },
  {
   "cell_type": "code",
   "execution_count": null,
   "metadata": {},
   "outputs": [],
   "source": []
  },
  {
   "cell_type": "code",
   "execution_count": null,
   "metadata": {},
   "outputs": [],
   "source": []
  },
  {
   "cell_type": "code",
   "execution_count": null,
   "metadata": {},
   "outputs": [],
   "source": []
  },
  {
   "cell_type": "code",
   "execution_count": null,
   "metadata": {},
   "outputs": [],
   "source": []
  },
  {
   "cell_type": "code",
   "execution_count": null,
   "metadata": {},
   "outputs": [],
   "source": []
  }
 ],
 "metadata": {
  "kernelspec": {
   "display_name": "Python 3",
   "language": "python",
   "name": "python3"
  },
  "language_info": {
   "codemirror_mode": {
    "name": "ipython",
    "version": 3
   },
   "file_extension": ".py",
   "mimetype": "text/x-python",
   "name": "python",
   "nbconvert_exporter": "python",
   "pygments_lexer": "ipython3",
   "version": "3.6.7"
  }
 },
 "nbformat": 4,
 "nbformat_minor": 2
}
