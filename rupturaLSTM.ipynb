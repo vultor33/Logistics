{
 "cells": [
  {
   "cell_type": "code",
   "execution_count": 1,
   "metadata": {},
   "outputs": [],
   "source": [
    "# IMPORTANTE\n",
    "# TODO: na validacao se acontecer uma presenca no meio eu tenho que contar como erro meu\n",
    "\n",
    "# TODO: adicionar a validacao la de baixo\n",
    "# TODO: tentar uma unica variaval para ruptura\n",
    "# TODO: Gerar os indicadores para o mario poder validar.\n",
    "\n",
    "# ranqueamento das lojas\n",
    "# se tiver presenca e eu marquei pontos la em cima, poderia contar como erro."
   ]
  },
  {
   "cell_type": "markdown",
   "metadata": {},
   "source": [
    "# Historico\n",
    "- Rede dupla e/ou com 100 neuronios: ruim. Nos primeiros passos o resultado fica razoavel, mas quando avanca piora.\n",
    "- Rede unica com 10 neuronios: bom."
   ]
  },
  {
   "cell_type": "code",
   "execution_count": 2,
   "metadata": {},
   "outputs": [
    {
     "name": "stderr",
     "output_type": "stream",
     "text": [
      "Using TensorFlow backend.\n"
     ]
    }
   ],
   "source": [
    "#https://machinelearningmastery.com/timedistributed-layer-for-long-short-term-memory-networks-in-python/\n",
    "import sys \n",
    "import json\n",
    "import numpy as np # linear algebra\n",
    "import matplotlib.pyplot as plt # this is used for the plot the graph \n",
    "import math\n",
    "import collections\n",
    "import pandas as pd\n",
    "\n",
    "## for Deep-learing:\n",
    "import keras\n",
    "import tensorflow as tf\n",
    "from keras import backend as K\n",
    "from keras.layers import LSTM\n",
    "from keras.layers import Dense\n",
    "from keras.layers import Dropout\n",
    "from keras.models import Sequential\n",
    "from keras.layers import TimeDistributed\n",
    "from keras.layers import Lambda\n",
    "from keras.models import model_from_json\n",
    "from tensorflow.python.keras.callbacks import TensorBoard\n",
    "\n",
    "from itertools import product\n",
    "from functools import partial\n",
    "from time import time\n",
    "\n",
    "from core.DataExploration import DataExploration\n",
    "from ruptura.CreateBatch import CreateBatch\n",
    "from ruptura.RupturaPrediction import RupturaPrediction\n",
    "from ruptura.RupturaNeuralNetwork import RupturaNeuralNetwork"
   ]
  },
  {
   "cell_type": "markdown",
   "metadata": {},
   "source": [
    "# CARREGAMENTO DOS DADOS"
   ]
  },
  {
   "cell_type": "code",
   "execution_count": 3,
   "metadata": {},
   "outputs": [],
   "source": [
    "createBatch = CreateBatch()\n",
    "amostras = createBatch.loadBatch('biscoitos-barbieri-1-3-19.json')\n",
    "#X, Y, Ytest = createBatch.batch(amostras,nDiasTreino = 60, nDiasTeste = 10)"
   ]
  },
  {
   "cell_type": "code",
   "execution_count": 4,
   "metadata": {},
   "outputs": [],
   "source": [
    "# BATCH DEFINITION\n",
    "X = []\n",
    "Y = []\n",
    "Ytest = []\n",
    "for key in amostras:\n",
    "    x = np.array(amostras[key]['x'])\n",
    "    y = np.array(amostras[key]['y'])\n",
    "    yt = np.array(amostras[key]['ytest'])\n",
    "    if x.shape != (60,4):\n",
    "        continue\n",
    "    X.append(x)\n",
    "    Y.append(y)\n",
    "    Ytest.append(yt)\n",
    "X = np.array(X)\n",
    "Y = np.array(Y)\n",
    "Ytest = np.array(Ytest)"
   ]
  },
  {
   "cell_type": "code",
   "execution_count": null,
   "metadata": {},
   "outputs": [],
   "source": []
  },
  {
   "cell_type": "code",
   "execution_count": null,
   "metadata": {},
   "outputs": [],
   "source": []
  },
  {
   "cell_type": "code",
   "execution_count": null,
   "metadata": {},
   "outputs": [],
   "source": []
  },
  {
   "cell_type": "code",
   "execution_count": null,
   "metadata": {},
   "outputs": [],
   "source": []
  },
  {
   "cell_type": "markdown",
   "metadata": {},
   "source": [
    "# MODEL DEFINITION"
   ]
  },
  {
   "cell_type": "code",
   "execution_count": 6,
   "metadata": {},
   "outputs": [
    {
     "name": "stdout",
     "output_type": "stream",
     "text": [
      "MODEL LOADED\n",
      "\n",
      "_________________________________________________________________\n",
      "Layer (type)                 Output Shape              Param #   \n",
      "=================================================================\n",
      "lstm_1 (LSTM)                (None, 60, 10)            600       \n",
      "_________________________________________________________________\n",
      "time_distributed_1 (TimeDist (None, 60, 4)             44        \n",
      "=================================================================\n",
      "Total params: 644\n",
      "Trainable params: 644\n",
      "Non-trainable params: 0\n",
      "_________________________________________________________________\n",
      "None\n"
     ]
    }
   ],
   "source": [
    "#DEFINE THE MODEL\n",
    "batch_size = 64\n",
    "time_steps = X.shape[1]\n",
    "x_dimension = X.shape[2]\n",
    "rupNN = RupturaNeuralNetwork()\n",
    "newModel = False\n",
    "\n",
    "if newModel:\n",
    "    n_neurons = 15\n",
    "    model = Sequential()\n",
    "    model.add(LSTM(n_neurons, input_shape=(time_steps, x_dimension), return_sequences=True)) \n",
    "    model.add(TimeDistributed(Dense(x_dimension, activation='softmax')))\n",
    "    #model.add(LSTM(n_neurons, input_shape=(time_steps, x_dimension), return_sequences=True)) \n",
    "    #model.add(TimeDistributed(Dense(x_dimension, activation='softmax')))\n",
    "    model.compile(\n",
    "        loss=rupNN.getCustomLoss((batch_size,time_steps)),\n",
    "        #loss = 'categorical_crossentropy', \n",
    "        optimizer='adam')\n",
    "    print('MODEL CREATED\\n')\n",
    "    print(model.summary())\n",
    "else:\n",
    "    model = rupNN.loadModel((batch_size,time_steps))  # Y dimensions are needed for custom loss definitions\n",
    "    print('MODEL LOADED\\n')\n",
    "    print(model.summary())"
   ]
  },
  {
   "cell_type": "markdown",
   "metadata": {},
   "source": [
    "# TRAINING"
   ]
  },
  {
   "cell_type": "code",
   "execution_count": null,
   "metadata": {
    "scrolled": true
   },
   "outputs": [],
   "source": [
    "cut1 = batch_size\n",
    "cut2 = X.shape[0] - X.shape[0]%batch_size\n",
    "Xval, Xtrain,_ = np.split(X,[cut1,cut2])\n",
    "Yval, Ytrain,_ = np.split(Y,[cut1,cut2])\n",
    "\n",
    "for step in range(30):\n",
    "    n_epoch = 100\n",
    "    model.fit(Xtrain, Ytrain, \n",
    "                  epochs=n_epoch, \n",
    "                  batch_size= batch_size, \n",
    "                  validation_data=(Xval, Yval),\n",
    "                  verbose=2)\n",
    "    rupNN.saveModel(model)"
   ]
  },
  {
   "cell_type": "code",
   "execution_count": 7,
   "metadata": {},
   "outputs": [],
   "source": []
  },
  {
   "cell_type": "code",
   "execution_count": null,
   "metadata": {},
   "outputs": [],
   "source": []
  },
  {
   "cell_type": "markdown",
   "metadata": {},
   "source": [
    "# VALIDATION"
   ]
  },
  {
   "cell_type": "code",
   "execution_count": 7,
   "metadata": {},
   "outputs": [
    {
     "name": "stdout",
     "output_type": "stream",
     "text": [
      "Contratos adimplentes:   1788\n",
      "Contratos inadimlentes:  409\n",
      "xAxis:   [0.0, 23.0, 46.0, 69.0, 92.0] \n",
      "\n",
      "yAxis:   [2, 18, 36, 73, 97] \n",
      "\n"
     ]
    },
    {
     "data": {
      "image/png": "[encoded data removed]",
      "text/plain": [
       "<Figure size 432x288 with 1 Axes>"
      ]
     },
     "metadata": {
      "needs_background": "light"
     },
     "output_type": "display_data"
    }
   ],
   "source": [
    "rupPred = RupturaPrediction(X)\n",
    "rupPred.addFirstPrediction(Y)\n",
    "rupPred.validate(Ytest, model)\n",
    "dataScore = rupPred.calculateDataScore()  # passo muito importante para a validacao\n",
    "rupPred.plotScore(dataScore)"
   ]
  },
  {
   "cell_type": "code",
   "execution_count": 16,
   "metadata": {},
   "outputs": [],
   "source": [
    "dataScore.to_csv('score-rupt.csv',sep=';')"
   ]
  },
  {
   "cell_type": "code",
   "execution_count": null,
   "metadata": {},
   "outputs": [],
   "source": []
  },
  {
   "cell_type": "code",
   "execution_count": null,
   "metadata": {},
   "outputs": [],
   "source": []
  },
  {
   "cell_type": "code",
   "execution_count": null,
   "metadata": {},
   "outputs": [],
   "source": []
  },
  {
   "cell_type": "code",
   "execution_count": 9,
   "metadata": {},
   "outputs": [],
   "source": [
    "def getScoreEvolution(i_batch, scorePred, realValues):\n",
    "    scoresI = []\n",
    "    yI = []\n",
    "    for i in range(scorePred.shape[0]):\n",
    "        scoresI.append(scorePred[i][i_batch])\n",
    "        yI.append(realValues[i][i_batch])\n",
    "    return [scoresI,yI]   "
   ]
  },
  {
   "cell_type": "code",
   "execution_count": 11,
   "metadata": {},
   "outputs": [],
   "source": [
    "rupPred = RupturaPrediction(X)\n",
    "rupPred.addFirstPrediction(Y)\n",
    "rupPred.validate(Ytest, model)\n",
    "scorePred = rupPred.getScore()\n",
    "realValues = rupPred.getRealValues()"
   ]
  },
  {
   "cell_type": "code",
   "execution_count": 29,
   "metadata": {},
   "outputs": [
    {
     "data": {
      "image/png": "[encoded data removed]",
      "text/plain": [
       "<Figure size 432x288 with 1 Axes>"
      ]
     },
     "metadata": {
      "needs_background": "light"
     },
     "output_type": "display_data"
    }
   ],
   "source": [
    "i_batch = 601\n",
    "scPred, y = getScoreEvolution(i_batch, scorePred, realValues)\n",
    "fig = plt.figure()\n",
    "name = 'amostra-' + str(i_batch) + '-previsto-vs-real'\n",
    "plt.title(name)\n",
    "plt.ylim((-0.1, 1.1))  \n",
    "plt.plot(range(len(scPred)), scPred, 'r', label='PREVISTO, x') # x\n",
    "plt.plot(range(len(scPred)),y , 'b', label='REAL, y') # y\n",
    "plt.legend(loc='best')\n",
    "fig.savefig(name + '.png',dpi=150)\n",
    "#plt.show()  "
   ]
  },
  {
   "cell_type": "code",
   "execution_count": null,
   "metadata": {},
   "outputs": [],
   "source": []
  },
  {
   "cell_type": "code",
   "execution_count": null,
   "metadata": {},
   "outputs": [],
   "source": []
  },
  {
   "cell_type": "code",
   "execution_count": null,
   "metadata": {},
   "outputs": [],
   "source": []
  },
  {
   "cell_type": "code",
   "execution_count": null,
   "metadata": {},
   "outputs": [],
   "source": []
  },
  {
   "cell_type": "code",
   "execution_count": 66,
   "metadata": {},
   "outputs": [],
   "source": []
  },
  {
   "cell_type": "code",
   "execution_count": null,
   "metadata": {},
   "outputs": [],
   "source": []
  },
  {
   "cell_type": "code",
   "execution_count": null,
   "metadata": {},
   "outputs": [],
   "source": []
  },
  {
   "cell_type": "code",
   "execution_count": null,
   "metadata": {},
   "outputs": [],
   "source": []
  },
  {
   "cell_type": "code",
   "execution_count": null,
   "metadata": {},
   "outputs": [],
   "source": []
  },
  {
   "cell_type": "code",
   "execution_count": null,
   "metadata": {},
   "outputs": [],
   "source": []
  },
  {
   "cell_type": "code",
   "execution_count": null,
   "metadata": {},
   "outputs": [],
   "source": []
  },
  {
   "cell_type": "code",
   "execution_count": null,
   "metadata": {},
   "outputs": [],
   "source": []
  },
  {
   "cell_type": "code",
   "execution_count": null,
   "metadata": {},
   "outputs": [],
   "source": []
  },
  {
   "cell_type": "code",
   "execution_count": null,
   "metadata": {},
   "outputs": [],
   "source": []
  },
  {
   "cell_type": "code",
   "execution_count": null,
   "metadata": {},
   "outputs": [],
   "source": []
  },
  {
   "cell_type": "code",
   "execution_count": null,
   "metadata": {},
   "outputs": [],
   "source": []
  },
  {
   "cell_type": "code",
   "execution_count": null,
   "metadata": {},
   "outputs": [],
   "source": []
  },
  {
   "cell_type": "code",
   "execution_count": null,
   "metadata": {},
   "outputs": [],
   "source": []
  },
  {
   "cell_type": "code",
   "execution_count": null,
   "metadata": {},
   "outputs": [],
   "source": []
  },
  {
   "cell_type": "code",
   "execution_count": null,
   "metadata": {},
   "outputs": [],
   "source": []
  }
 ],
 "metadata": {
  "kernelspec": {
   "display_name": "Python 3",
   "language": "python",
   "name": "python3"
  },
  "language_info": {
   "codemirror_mode": {
    "name": "ipython",
    "version": 3
   },
   "file_extension": ".py",
   "mimetype": "text/x-python",
   "name": "python",
   "nbconvert_exporter": "python",
   "pygments_lexer": "ipython3",
   "version": "3.6.7"
  }
 },
 "nbformat": 4,
 "nbformat_minor": 2
}
