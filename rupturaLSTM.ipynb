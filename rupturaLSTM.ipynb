{
 "cells": [
  {
   "cell_type": "code",
   "execution_count": 1,
   "metadata": {},
   "outputs": [],
   "source": [
    "# suponha que ele preve ruptura em 2 dias. Depois desses 2 dias nao teve mais ruptura. Mas como eu nao aviso ele continua na previsao.\n",
    "# ranqueamento das lojas"
   ]
  },
  {
   "cell_type": "markdown",
   "metadata": {},
   "source": [
    "# Historico\n",
    "- Rede dupla e/ou com 100 neuronios: ruim. Nos primeiros passos o resultado fica razoavel, mas quando avanca piora.\n",
    "- Rede unica com 10 neuronios: bom."
   ]
  },
  {
   "cell_type": "code",
   "execution_count": 1,
   "metadata": {},
   "outputs": [
    {
     "name": "stderr",
     "output_type": "stream",
     "text": [
      "Using TensorFlow backend.\n"
     ]
    }
   ],
   "source": [
    "#https://machinelearningmastery.com/timedistributed-layer-for-long-short-term-memory-networks-in-python/\n",
    "import sys \n",
    "import json\n",
    "import numpy as np # linear algebra\n",
    "import matplotlib.pyplot as plt # this is used for the plot the graph \n",
    "import math\n",
    "import collections\n",
    "import pandas as pd\n",
    "\n",
    "## for Deep-learing:\n",
    "import keras\n",
    "import tensorflow as tf\n",
    "from keras import backend as K\n",
    "from keras.layers import LSTM\n",
    "from keras.layers import Dense\n",
    "from keras.layers import Dropout\n",
    "from keras.models import Sequential\n",
    "from keras.layers import TimeDistributed\n",
    "from keras.layers import Lambda\n",
    "from keras.models import model_from_json\n",
    "from tensorflow.python.keras.callbacks import TensorBoard\n",
    "\n",
    "from itertools import product\n",
    "from functools import partial\n",
    "from time import time\n",
    "\n",
    "from core.DataExploration import DataExploration\n",
    "from ruptura.CreateBatch import CreateBatch\n",
    "from ruptura.RupturaPrediction import RupturaPrediction\n",
    "from ruptura.RupturaNeuralNetwork import RupturaNeuralNetwork"
   ]
  },
  {
   "cell_type": "markdown",
   "metadata": {},
   "source": [
    "# CARREGAMENTO DOS DADOS"
   ]
  },
  {
   "cell_type": "code",
   "execution_count": 2,
   "metadata": {},
   "outputs": [],
   "source": [
    "createBatch = CreateBatch()\n",
    "amostras = createBatch.loadBatch()\n",
    "X, Y, Ytest = createBatch.batch(amostras,nDiasTreino = 60, nDiasTeste = 10)"
   ]
  },
  {
   "cell_type": "markdown",
   "metadata": {},
   "source": [
    "# MODEL DEFINITION"
   ]
  },
  {
   "cell_type": "code",
   "execution_count": 6,
   "metadata": {},
   "outputs": [
    {
     "name": "stdout",
     "output_type": "stream",
     "text": [
      "MODEL LOADED\n",
      "\n",
      "_________________________________________________________________\n",
      "Layer (type)                 Output Shape              Param #   \n",
      "=================================================================\n",
      "lstm_1 (LSTM)                (None, 60, 10)            600       \n",
      "_________________________________________________________________\n",
      "time_distributed_1 (TimeDist (None, 60, 4)             44        \n",
      "=================================================================\n",
      "Total params: 644\n",
      "Trainable params: 644\n",
      "Non-trainable params: 0\n",
      "_________________________________________________________________\n",
      "None\n"
     ]
    }
   ],
   "source": [
    "#DEFINE THE MODEL\n",
    "batch_size = 64\n",
    "time_steps = X.shape[1]\n",
    "x_dimension = X.shape[2]\n",
    "rupNN = RupturaNeuralNetwork()\n",
    "newModel = False\n",
    "\n",
    "if newModel:\n",
    "    n_neurons = 10\n",
    "    model = Sequential()\n",
    "    model.add(LSTM(n_neurons, input_shape=(time_steps, x_dimension), return_sequences=True)) \n",
    "    model.add(TimeDistributed(Dense(x_dimension, activation='softmax')))\n",
    "    #model.add(LSTM(n_neurons, input_shape=(time_steps, x_dimension), return_sequences=True)) \n",
    "    #model.add(TimeDistributed(Dense(x_dimension, activation='softmax')))\n",
    "    model.compile(\n",
    "        loss=rupNN.getCustomLoss((batch_size,time_steps)),\n",
    "        #loss = 'categorical_crossentropy', \n",
    "        optimizer='adam')\n",
    "    print('MODEL CREATED\\n')\n",
    "    print(model.summary())\n",
    "else:\n",
    "    model = rupNN.loadModel((batch_size,time_steps))  # Y dimensions are needed for custom loss definitions\n",
    "    print('MODEL LOADED\\n')\n",
    "    print(model.summary())"
   ]
  },
  {
   "cell_type": "markdown",
   "metadata": {},
   "source": [
    "# TRAINING"
   ]
  },
  {
   "cell_type": "code",
   "execution_count": 34,
   "metadata": {
    "scrolled": true
   },
   "outputs": [
    {
     "name": "stdout",
     "output_type": "stream",
     "text": [
      "Train on 1408 samples, validate on 64 samples\n",
      "Epoch 1/100\n",
      " - 4s - loss: 0.4454 - val_loss: 0.5114\n",
      "Epoch 2/100\n",
      " - 4s - loss: 0.4301 - val_loss: 0.4948\n",
      "Epoch 3/100\n",
      " - 4s - loss: 0.4166 - val_loss: 0.4804\n",
      "Epoch 4/100\n",
      " - 4s - loss: 0.4041 - val_loss: 0.4677\n",
      "Epoch 5/100\n",
      " - 4s - loss: 0.3933 - val_loss: 0.4549\n",
      "Epoch 6/100\n",
      " - 4s - loss: 0.3836 - val_loss: 0.4397\n",
      "Epoch 7/100\n",
      " - 4s - loss: 0.3748 - val_loss: 0.4271\n",
      "Epoch 8/100\n",
      " - 4s - loss: 0.3690 - val_loss: 0.4193\n",
      "Epoch 9/100\n",
      " - 4s - loss: 0.3650 - val_loss: 0.4142\n",
      "Epoch 10/100\n",
      " - 4s - loss: 0.3615 - val_loss: 0.4095\n",
      "Epoch 11/100\n",
      " - 4s - loss: 0.3587 - val_loss: 0.4056\n",
      "Epoch 12/100\n",
      " - 4s - loss: 0.3565 - val_loss: 0.4028\n",
      "Epoch 13/100\n",
      " - 4s - loss: 0.3545 - val_loss: 0.4008\n",
      "Epoch 14/100\n",
      " - 4s - loss: 0.3527 - val_loss: 0.3989\n",
      "Epoch 15/100\n",
      " - 4s - loss: 0.3511 - val_loss: 0.3974\n",
      "Epoch 16/100\n",
      " - 4s - loss: 0.3494 - val_loss: 0.3957\n",
      "Epoch 17/100\n",
      " - 4s - loss: 0.3477 - val_loss: 0.3944\n",
      "Epoch 18/100\n",
      " - 4s - loss: 0.3460 - val_loss: 0.3922\n",
      "Epoch 19/100\n",
      " - 4s - loss: 0.3442 - val_loss: 0.3908\n",
      "Epoch 20/100\n",
      " - 4s - loss: 0.3427 - val_loss: 0.3886\n",
      "Epoch 21/100\n",
      " - 4s - loss: 0.3412 - val_loss: 0.3872\n",
      "Epoch 22/100\n",
      " - 4s - loss: 0.3394 - val_loss: 0.3854\n",
      "Epoch 23/100\n",
      " - 4s - loss: 0.3380 - val_loss: 0.3837\n",
      "Epoch 24/100\n",
      " - 4s - loss: 0.3366 - val_loss: 0.3822\n",
      "Epoch 25/100\n",
      " - 4s - loss: 0.3352 - val_loss: 0.3809\n",
      "Epoch 26/100\n",
      " - 4s - loss: 0.3338 - val_loss: 0.3798\n",
      "Epoch 27/100\n",
      " - 4s - loss: 0.3330 - val_loss: 0.3786\n",
      "Epoch 28/100\n",
      " - 4s - loss: 0.3319 - val_loss: 0.3782\n",
      "Epoch 29/100\n",
      " - 4s - loss: 0.3311 - val_loss: 0.3774\n",
      "Epoch 30/100\n",
      " - 4s - loss: 0.3304 - val_loss: 0.3768\n",
      "Epoch 31/100\n",
      " - 4s - loss: 0.3294 - val_loss: 0.3766\n",
      "Epoch 32/100\n",
      " - 4s - loss: 0.3288 - val_loss: 0.3758\n",
      "Epoch 33/100\n",
      " - 4s - loss: 0.3281 - val_loss: 0.3754\n",
      "Epoch 34/100\n",
      " - 4s - loss: 0.3276 - val_loss: 0.3749\n",
      "Epoch 35/100\n",
      " - 4s - loss: 0.3273 - val_loss: 0.3750\n",
      "Epoch 36/100\n",
      " - 4s - loss: 0.3268 - val_loss: 0.3745\n",
      "Epoch 37/100\n",
      " - 4s - loss: 0.3261 - val_loss: 0.3740\n",
      "Epoch 38/100\n",
      " - 4s - loss: 0.3255 - val_loss: 0.3733\n",
      "Epoch 39/100\n",
      " - 4s - loss: 0.3250 - val_loss: 0.3731\n",
      "Epoch 40/100\n",
      " - 4s - loss: 0.3246 - val_loss: 0.3731\n",
      "Epoch 41/100\n",
      " - 4s - loss: 0.3241 - val_loss: 0.3725\n",
      "Epoch 42/100\n",
      " - 4s - loss: 0.3236 - val_loss: 0.3721\n",
      "Epoch 43/100\n",
      " - 4s - loss: 0.3232 - val_loss: 0.3718\n",
      "Epoch 44/100\n",
      " - 4s - loss: 0.3229 - val_loss: 0.3714\n",
      "Epoch 45/100\n",
      " - 4s - loss: 0.3223 - val_loss: 0.3717\n",
      "Epoch 46/100\n",
      " - 4s - loss: 0.3220 - val_loss: 0.3715\n",
      "Epoch 47/100\n",
      " - 4s - loss: 0.3217 - val_loss: 0.3711\n",
      "Epoch 48/100\n",
      " - 4s - loss: 0.3213 - val_loss: 0.3713\n",
      "Epoch 49/100\n",
      " - 4s - loss: 0.3209 - val_loss: 0.3709\n",
      "Epoch 50/100\n",
      " - 4s - loss: 0.3205 - val_loss: 0.3707\n",
      "Epoch 51/100\n",
      " - 4s - loss: 0.3203 - val_loss: 0.3704\n",
      "Epoch 52/100\n",
      " - 4s - loss: 0.3199 - val_loss: 0.3704\n",
      "Epoch 53/100\n",
      " - 4s - loss: 0.3198 - val_loss: 0.3706\n",
      "Epoch 54/100\n",
      " - 4s - loss: 0.3194 - val_loss: 0.3698\n",
      "Epoch 55/100\n",
      " - 4s - loss: 0.3190 - val_loss: 0.3699\n",
      "Epoch 56/100\n",
      " - 4s - loss: 0.3187 - val_loss: 0.3692\n",
      "Epoch 57/100\n",
      " - 4s - loss: 0.3185 - val_loss: 0.3693\n",
      "Epoch 58/100\n",
      " - 4s - loss: 0.3182 - val_loss: 0.3689\n",
      "Epoch 59/100\n",
      " - 4s - loss: 0.3177 - val_loss: 0.3686\n",
      "Epoch 60/100\n",
      " - 4s - loss: 0.3175 - val_loss: 0.3683\n",
      "Epoch 61/100\n",
      " - 4s - loss: 0.3172 - val_loss: 0.3682\n",
      "Epoch 62/100\n",
      " - 4s - loss: 0.3170 - val_loss: 0.3676\n",
      "Epoch 63/100\n",
      " - 4s - loss: 0.3166 - val_loss: 0.3671\n",
      "Epoch 64/100\n",
      " - 4s - loss: 0.3163 - val_loss: 0.3673\n",
      "Epoch 65/100\n",
      " - 4s - loss: 0.3159 - val_loss: 0.3666\n",
      "Epoch 66/100\n",
      " - 4s - loss: 0.3158 - val_loss: 0.3666\n",
      "Epoch 67/100\n",
      " - 4s - loss: 0.3155 - val_loss: 0.3660\n",
      "Epoch 68/100\n",
      " - 4s - loss: 0.3151 - val_loss: 0.3658\n",
      "Epoch 69/100\n",
      " - 4s - loss: 0.3148 - val_loss: 0.3654\n",
      "Epoch 70/100\n",
      " - 4s - loss: 0.3144 - val_loss: 0.3650\n",
      "Epoch 71/100\n",
      " - 4s - loss: 0.3141 - val_loss: 0.3647\n",
      "Epoch 72/100\n",
      " - 4s - loss: 0.3139 - val_loss: 0.3645\n",
      "Epoch 73/100\n",
      " - 4s - loss: 0.3136 - val_loss: 0.3643\n",
      "Epoch 74/100\n",
      " - 4s - loss: 0.3133 - val_loss: 0.3641\n",
      "Epoch 75/100\n",
      " - 4s - loss: 0.3130 - val_loss: 0.3636\n",
      "Epoch 76/100\n",
      " - 4s - loss: 0.3128 - val_loss: 0.3632\n",
      "Epoch 77/100\n",
      " - 4s - loss: 0.3128 - val_loss: 0.3632\n",
      "Epoch 78/100\n",
      " - 4s - loss: 0.3120 - val_loss: 0.3631\n",
      "Epoch 79/100\n",
      " - 4s - loss: 0.3117 - val_loss: 0.3627\n",
      "Epoch 80/100\n",
      " - 4s - loss: 0.3114 - val_loss: 0.3623\n",
      "Epoch 81/100\n",
      " - 4s - loss: 0.3110 - val_loss: 0.3623\n",
      "Epoch 82/100\n",
      " - 4s - loss: 0.3107 - val_loss: 0.3618\n",
      "Epoch 83/100\n",
      " - 4s - loss: 0.3105 - val_loss: 0.3615\n",
      "Epoch 84/100\n",
      " - 4s - loss: 0.3099 - val_loss: 0.3613\n",
      "Epoch 85/100\n",
      " - 4s - loss: 0.3096 - val_loss: 0.3607\n",
      "Epoch 86/100\n",
      " - 4s - loss: 0.3092 - val_loss: 0.3606\n",
      "Epoch 87/100\n",
      " - 4s - loss: 0.3090 - val_loss: 0.3606\n",
      "Epoch 88/100\n",
      " - 4s - loss: 0.3086 - val_loss: 0.3599\n",
      "Epoch 89/100\n",
      " - 4s - loss: 0.3082 - val_loss: 0.3593\n",
      "Epoch 90/100\n",
      " - 4s - loss: 0.3079 - val_loss: 0.3598\n",
      "Epoch 91/100\n",
      " - 4s - loss: 0.3076 - val_loss: 0.3602\n",
      "Epoch 92/100\n",
      " - 4s - loss: 0.3072 - val_loss: 0.3594\n",
      "Epoch 93/100\n",
      " - 4s - loss: 0.3068 - val_loss: 0.3586\n",
      "Epoch 94/100\n",
      " - 4s - loss: 0.3065 - val_loss: 0.3586\n",
      "Epoch 95/100\n",
      " - 4s - loss: 0.3061 - val_loss: 0.3582\n",
      "Epoch 96/100\n",
      " - 4s - loss: 0.3059 - val_loss: 0.3579\n",
      "Epoch 97/100\n",
      " - 4s - loss: 0.3055 - val_loss: 0.3578\n",
      "Epoch 98/100\n",
      " - 4s - loss: 0.3052 - val_loss: 0.3575\n",
      "Epoch 99/100\n",
      " - 4s - loss: 0.3050 - val_loss: 0.3571\n",
      "Epoch 100/100\n",
      " - 4s - loss: 0.3045 - val_loss: 0.3570\n"
     ]
    }
   ],
   "source": [
    "cut1 = batch_size\n",
    "cut2 = X.shape[0] - X.shape[0]%batch_size\n",
    "Xval, Xtrain,_ = np.split(X,[cut1,cut2])\n",
    "Yval, Ytrain,_ = np.split(Y,[cut1,cut2])\n",
    "\n",
    "for step in range(1):\n",
    "    n_epoch = 100\n",
    "    model.fit(Xtrain, Ytrain, \n",
    "                  epochs=n_epoch, \n",
    "                  batch_size= batch_size, \n",
    "                  validation_data=(Xval, Yval),\n",
    "                  verbose=2)\n",
    "    rupNN.saveModel(model)"
   ]
  },
  {
   "cell_type": "code",
   "execution_count": 7,
   "metadata": {},
   "outputs": [],
   "source": []
  },
  {
   "cell_type": "code",
   "execution_count": null,
   "metadata": {},
   "outputs": [],
   "source": []
  },
  {
   "cell_type": "markdown",
   "metadata": {},
   "source": [
    "# VALIDATION"
   ]
  },
  {
   "cell_type": "code",
   "execution_count": 7,
   "metadata": {
    "scrolled": false
   },
   "outputs": [
    {
     "name": "stdout",
     "output_type": "stream",
     "text": [
      "Contratos adimplentes:   9628\n",
      "Contratos inadimlentes:  690\n",
      "xAxis:   [2.0, 22.5, 43.0, 63.5, 84.0] \n",
      "\n",
      "yAxis:   [1, 3, 17, 27, 21] \n",
      "\n"
     ]
    },
    {
     "data": {
      "image/png": "[encoded data removed]",
      "text/plain": [
       "<Figure size 432x288 with 1 Axes>"
      ]
     },
     "metadata": {
      "needs_background": "light"
     },
     "output_type": "display_data"
    }
   ],
   "source": [
    "rupPred = RupturaPrediction(X)\n",
    "rupPred.validate(Ytest, model)"
   ]
  },
  {
   "cell_type": "code",
   "execution_count": 10,
   "metadata": {},
   "outputs": [],
   "source": []
  },
  {
   "cell_type": "code",
   "execution_count": null,
   "metadata": {},
   "outputs": [],
   "source": []
  },
  {
   "cell_type": "code",
   "execution_count": null,
   "metadata": {},
   "outputs": [],
   "source": []
  },
  {
   "cell_type": "code",
   "execution_count": null,
   "metadata": {},
   "outputs": [],
   "source": []
  },
  {
   "cell_type": "code",
   "execution_count": null,
   "metadata": {},
   "outputs": [],
   "source": []
  },
  {
   "cell_type": "code",
   "execution_count": null,
   "metadata": {},
   "outputs": [],
   "source": []
  },
  {
   "cell_type": "code",
   "execution_count": null,
   "metadata": {},
   "outputs": [],
   "source": []
  },
  {
   "cell_type": "code",
   "execution_count": null,
   "metadata": {},
   "outputs": [],
   "source": []
  },
  {
   "cell_type": "code",
   "execution_count": null,
   "metadata": {},
   "outputs": [],
   "source": []
  },
  {
   "cell_type": "code",
   "execution_count": null,
   "metadata": {},
   "outputs": [],
   "source": []
  },
  {
   "cell_type": "code",
   "execution_count": null,
   "metadata": {},
   "outputs": [],
   "source": []
  },
  {
   "cell_type": "code",
   "execution_count": null,
   "metadata": {},
   "outputs": [],
   "source": []
  },
  {
   "cell_type": "code",
   "execution_count": null,
   "metadata": {},
   "outputs": [],
   "source": [
    "plt.figure(figsize=(12,8))\n",
    "plt.plot(range(len(resPlot)), resPlot, 'r.', label='PREVISTO, x') # x\n",
    "plt.plot(range(len(yPlot)),yPlot, 'b.', label='REAL, y') # y\n",
    "plt.legend(loc='best')\n",
    "plt.show()  "
   ]
  },
  {
   "cell_type": "code",
   "execution_count": null,
   "metadata": {},
   "outputs": [],
   "source": []
  },
  {
   "cell_type": "code",
   "execution_count": null,
   "metadata": {},
   "outputs": [],
   "source": []
  },
  {
   "cell_type": "code",
   "execution_count": null,
   "metadata": {},
   "outputs": [],
   "source": []
  },
  {
   "cell_type": "code",
   "execution_count": null,
   "metadata": {},
   "outputs": [],
   "source": []
  },
  {
   "cell_type": "code",
   "execution_count": null,
   "metadata": {},
   "outputs": [],
   "source": []
  },
  {
   "cell_type": "code",
   "execution_count": null,
   "metadata": {},
   "outputs": [],
   "source": []
  },
  {
   "cell_type": "code",
   "execution_count": null,
   "metadata": {},
   "outputs": [],
   "source": []
  },
  {
   "cell_type": "code",
   "execution_count": null,
   "metadata": {},
   "outputs": [],
   "source": []
  },
  {
   "cell_type": "code",
   "execution_count": null,
   "metadata": {},
   "outputs": [],
   "source": []
  },
  {
   "cell_type": "code",
   "execution_count": null,
   "metadata": {},
   "outputs": [],
   "source": []
  },
  {
   "cell_type": "code",
   "execution_count": null,
   "metadata": {},
   "outputs": [],
   "source": []
  },
  {
   "cell_type": "code",
   "execution_count": null,
   "metadata": {},
   "outputs": [],
   "source": []
  },
  {
   "cell_type": "code",
   "execution_count": null,
   "metadata": {},
   "outputs": [],
   "source": []
  },
  {
   "cell_type": "code",
   "execution_count": null,
   "metadata": {},
   "outputs": [],
   "source": []
  },
  {
   "cell_type": "code",
   "execution_count": null,
   "metadata": {},
   "outputs": [],
   "source": []
  }
 ],
 "metadata": {
  "kernelspec": {
   "display_name": "Python 3",
   "language": "python",
   "name": "python3"
  },
  "language_info": {
   "codemirror_mode": {
    "name": "ipython",
    "version": 3
   },
   "file_extension": ".py",
   "mimetype": "text/x-python",
   "name": "python",
   "nbconvert_exporter": "python",
   "pygments_lexer": "ipython3",
   "version": "3.6.7"
  }
 },
 "nbformat": 4,
 "nbformat_minor": 2
}
