{
 "cells": [
  {
   "cell_type": "code",
   "execution_count": 1,
   "metadata": {},
   "outputs": [],
   "source": [
    "# IMPORTANTE\n",
    "# TODO: tentar uma unica variaval para ruptura\n",
    "\n",
    "# ranqueamento das lojas\n",
    "# se tiver presenca e eu marquei pontos la em cima, poderia contar como erro."
   ]
  },
  {
   "cell_type": "markdown",
   "metadata": {},
   "source": [
    "# Historico\n",
    "- Rede dupla e/ou com 100 neuronios: ruim. Nos primeiros passos o resultado fica razoavel, mas quando avanca piora.\n",
    "- Rede unica com 10 neuronios: bom."
   ]
  },
  {
   "cell_type": "code",
   "execution_count": 1,
   "metadata": {},
   "outputs": [
    {
     "name": "stderr",
     "output_type": "stream",
     "text": [
      "Using TensorFlow backend.\n"
     ]
    }
   ],
   "source": [
    "#https://machinelearningmastery.com/timedistributed-layer-for-long-short-term-memory-networks-in-python/\n",
    "import sys \n",
    "import json\n",
    "import numpy as np # linear algebra\n",
    "import matplotlib.pyplot as plt # this is used for the plot the graph \n",
    "import math\n",
    "import collections\n",
    "import pandas as pd\n",
    "\n",
    "## for Deep-learing:\n",
    "import keras\n",
    "import tensorflow as tf\n",
    "from keras import backend as K\n",
    "from keras.layers import LSTM\n",
    "from keras.layers import Dense\n",
    "from keras.layers import Dropout\n",
    "from keras.models import Sequential\n",
    "from keras.layers import TimeDistributed\n",
    "from keras.layers import Lambda\n",
    "from keras.models import model_from_json\n",
    "from tensorflow.python.keras.callbacks import TensorBoard\n",
    "\n",
    "from itertools import product\n",
    "from functools import partial\n",
    "from time import time\n",
    "\n",
    "from core.DataExploration import DataExploration\n",
    "from core.ModelIndicators import ModelIndicators\n",
    "from ruptura.CreateBatch import CreateBatch\n",
    "from ruptura.RupturaPrediction import RupturaPrediction\n",
    "from ruptura.RupturaNeuralNetwork import RupturaNeuralNetwork"
   ]
  },
  {
   "cell_type": "code",
   "execution_count": 2,
   "metadata": {},
   "outputs": [],
   "source": [
    "version = '0-0-3'\n",
    "referenceDate = '1/03/2019'\n",
    "modelName = 'model-' + version"
   ]
  },
  {
   "cell_type": "markdown",
   "metadata": {},
   "source": [
    "# CARREGAMENTO DOS DADOS"
   ]
  },
  {
   "cell_type": "code",
   "execution_count": 4,
   "metadata": {},
   "outputs": [
    {
     "name": "stdout",
     "output_type": "stream",
     "text": [
      "WARNING - need error handling on samples\n"
     ]
    }
   ],
   "source": [
    "createBatch = CreateBatch(version)\n",
    "X, Y, Ytest = createBatch.batch('barbieri-encode-3-1-3-19.json')"
   ]
  },
  {
   "cell_type": "code",
   "execution_count": null,
   "metadata": {},
   "outputs": [],
   "source": []
  },
  {
   "cell_type": "code",
   "execution_count": null,
   "metadata": {},
   "outputs": [],
   "source": []
  },
  {
   "cell_type": "code",
   "execution_count": null,
   "metadata": {},
   "outputs": [],
   "source": []
  },
  {
   "cell_type": "markdown",
   "metadata": {},
   "source": [
    "# MODEL DEFINITION"
   ]
  },
  {
   "cell_type": "code",
   "execution_count": 8,
   "metadata": {},
   "outputs": [
    {
     "name": "stdout",
     "output_type": "stream",
     "text": [
      "MODEL CREATED\n",
      "\n",
      "_________________________________________________________________\n",
      "Layer (type)                 Output Shape              Param #   \n",
      "=================================================================\n",
      "lstm_2 (LSTM)                (None, 60, 12)            816       \n",
      "_________________________________________________________________\n",
      "time_distributed_2 (TimeDist (None, 60, 3)             39        \n",
      "=================================================================\n",
      "Total params: 855\n",
      "Trainable params: 855\n",
      "Non-trainable params: 0\n",
      "_________________________________________________________________\n",
      "None\n"
     ]
    }
   ],
   "source": [
    "batch_size = 64\n",
    "time_steps = X.shape[1]\n",
    "x_dimension = X.shape[2]\n",
    "y_dimension = Y.shape[2]\n",
    "rupNN = RupturaNeuralNetwork(modelName)\n",
    "newModel = True\n",
    "\n",
    "if newModel:\n",
    "    n_neurons = 12\n",
    "    model = Sequential()\n",
    "    model.add(LSTM(n_neurons, input_shape=(time_steps, x_dimension), return_sequences=True)) \n",
    "    model.add(TimeDistributed(Dense(y_dimension, activation='softmax')))\n",
    "    #model.add(LSTM(n_neurons, input_shape=(time_steps, x_dimension), return_sequences=True)) \n",
    "    #model.add(TimeDistributed(Dense(x_dimension, activation='softmax')))\n",
    "    model.compile(\n",
    "        loss=rupNN.getCustomLoss((batch_size,time_steps)),\n",
    "        #loss = 'categorical_crossentropy', \n",
    "        optimizer='adam')\n",
    "    print('MODEL CREATED\\n')\n",
    "    print(model.summary())\n",
    "else:\n",
    "    model = rupNN.loadModel((batch_size,time_steps))  # Y dimensions are needed for custom loss definitions\n",
    "    print('MODEL LOADED\\n')\n",
    "    print(model.summary())"
   ]
  },
  {
   "cell_type": "code",
   "execution_count": null,
   "metadata": {},
   "outputs": [],
   "source": []
  },
  {
   "cell_type": "code",
   "execution_count": null,
   "metadata": {},
   "outputs": [],
   "source": []
  },
  {
   "cell_type": "code",
   "execution_count": null,
   "metadata": {},
   "outputs": [],
   "source": []
  },
  {
   "cell_type": "code",
   "execution_count": null,
   "metadata": {},
   "outputs": [],
   "source": []
  },
  {
   "cell_type": "code",
   "execution_count": null,
   "metadata": {},
   "outputs": [],
   "source": []
  },
  {
   "cell_type": "markdown",
   "metadata": {},
   "source": [
    "# TRAINING"
   ]
  },
  {
   "cell_type": "code",
   "execution_count": null,
   "metadata": {
    "scrolled": true
   },
   "outputs": [
    {
     "name": "stdout",
     "output_type": "stream",
     "text": [
      "Train on 2304 samples, validate on 64 samples\n",
      "Epoch 1/100\n",
      " - 8s - loss: 0.3521 - val_loss: 0.3928\n",
      "Epoch 2/100\n",
      " - 6s - loss: 0.3376 - val_loss: 0.3844\n",
      "Epoch 3/100\n",
      " - 6s - loss: 0.3287 - val_loss: 0.3657\n",
      "Epoch 4/100\n",
      " - 6s - loss: 0.3128 - val_loss: 0.3395\n",
      "Epoch 5/100\n",
      " - 6s - loss: 0.3011 - val_loss: 0.3267\n",
      "Epoch 6/100\n",
      " - 6s - loss: 0.2941 - val_loss: 0.3185\n",
      "Epoch 7/100\n",
      " - 6s - loss: 0.2887 - val_loss: 0.3143\n",
      "Epoch 8/100\n",
      " - 6s - loss: 0.2852 - val_loss: 0.3135\n",
      "Epoch 9/100\n",
      " - 6s - loss: 0.2829 - val_loss: 0.3130\n",
      "Epoch 10/100\n",
      " - 6s - loss: 0.2808 - val_loss: 0.3077\n",
      "Epoch 11/100\n",
      " - 6s - loss: 0.2784 - val_loss: 0.3059\n",
      "Epoch 12/100\n",
      " - 6s - loss: 0.2760 - val_loss: 0.3027\n",
      "Epoch 13/100\n",
      " - 6s - loss: 0.2737 - val_loss: 0.3003\n",
      "Epoch 14/100\n",
      " - 6s - loss: 0.2713 - val_loss: 0.2993\n",
      "Epoch 15/100\n",
      " - 6s - loss: 0.2689 - val_loss: 0.2952\n",
      "Epoch 16/100\n",
      " - 6s - loss: 0.2668 - val_loss: 0.2943\n",
      "Epoch 17/100\n",
      " - 6s - loss: 0.2649 - val_loss: 0.2929\n",
      "Epoch 18/100\n"
     ]
    }
   ],
   "source": [
    "cut1 = batch_size\n",
    "cut2 = X.shape[0] - X.shape[0]%batch_size\n",
    "Xval, Xtrain,_ = np.split(X,[cut1,cut2])\n",
    "Yval, Ytrain,_ = np.split(Y,[cut1,cut2])\n",
    "for step in range(30):\n",
    "    n_epoch = 100\n",
    "    model.fit(Xtrain, Ytrain, \n",
    "                  epochs=n_epoch, \n",
    "                  batch_size= batch_size, \n",
    "                  validation_data=(Xval, Yval),\n",
    "                  verbose=2)\n",
    "    rupNN.saveModel(model)"
   ]
  },
  {
   "cell_type": "code",
   "execution_count": null,
   "metadata": {},
   "outputs": [],
   "source": []
  },
  {
   "cell_type": "code",
   "execution_count": null,
   "metadata": {},
   "outputs": [],
   "source": []
  },
  {
   "cell_type": "code",
   "execution_count": null,
   "metadata": {},
   "outputs": [],
   "source": []
  },
  {
   "cell_type": "code",
   "execution_count": null,
   "metadata": {},
   "outputs": [],
   "source": []
  },
  {
   "cell_type": "code",
   "execution_count": null,
   "metadata": {},
   "outputs": [],
   "source": []
  },
  {
   "cell_type": "code",
   "execution_count": null,
   "metadata": {},
   "outputs": [],
   "source": []
  },
  {
   "cell_type": "markdown",
   "metadata": {},
   "source": [
    "# VALIDATION"
   ]
  },
  {
   "cell_type": "code",
   "execution_count": 11,
   "metadata": {},
   "outputs": [
    {
     "name": "stdout",
     "output_type": "stream",
     "text": [
      "Contratos adimplentes:   912\n",
      "Contratos inadimlentes:  569\n",
      "xAxis:   [0.0, 24.75, 49.5, 74.25, 99.0] \n",
      "\n",
      "yAxis:   [12, 29, 59, 80, 83] \n",
      "\n"
     ]
    },
    {
     "data": {
      "image/png": "[encoded data removed]",
      "text/plain": [
       "<Figure size 432x288 with 1 Axes>"
      ]
     },
     "metadata": {
      "needs_background": "light"
     },
     "output_type": "display_data"
    }
   ],
   "source": [
    "rupPred = RupturaPrediction(X)\n",
    "rupPred.addFirstPrediction(Y)\n",
    "rupPred.validate(Ytest, model)\n",
    "dataScore = rupPred.calculateDataScore()  # passo que define a validacao\n",
    "rupPred.plotScore(dataScore)"
   ]
  },
  {
   "cell_type": "code",
   "execution_count": 12,
   "metadata": {},
   "outputs": [],
   "source": [
    "pred = dataScore.score.tolist()\n",
    "ytrue = dataScore.Inadimplente.tolist()\n",
    "ytrue = [int(x) for x in ytrue]\n",
    "modelIndicators = ModelIndicators(version)\n",
    "modelIndicators.TARGET_SCORE_CUT = 50\n",
    "modelIndicators.setPredProbs(ytrue,pred)\n",
    "indic = modelIndicators.allIndicators()\n",
    "file = open('ruptura-indicators.csv','a+')\n",
    "file.write('\\n' + 'version;' + version + ';' + 'referenceDate;' + referenceDate + '\\n')\n",
    "for i in range(len(indic)):\n",
    "    file.write(str(indic.index[i]) + ';' + str(indic.iloc[i,0]) + '\\n')\n",
    "file.close()"
   ]
  },
  {
   "cell_type": "code",
   "execution_count": 18,
   "metadata": {},
   "outputs": [],
   "source": []
  },
  {
   "cell_type": "code",
   "execution_count": null,
   "metadata": {},
   "outputs": [],
   "source": []
  },
  {
   "cell_type": "code",
   "execution_count": null,
   "metadata": {},
   "outputs": [],
   "source": []
  },
  {
   "cell_type": "code",
   "execution_count": null,
   "metadata": {},
   "outputs": [],
   "source": []
  },
  {
   "cell_type": "code",
   "execution_count": null,
   "metadata": {},
   "outputs": [],
   "source": []
  },
  {
   "cell_type": "code",
   "execution_count": null,
   "metadata": {},
   "outputs": [],
   "source": []
  },
  {
   "cell_type": "code",
   "execution_count": null,
   "metadata": {},
   "outputs": [],
   "source": []
  }
 ],
 "metadata": {
  "kernelspec": {
   "display_name": "Python 3",
   "language": "python",
   "name": "python3"
  },
  "language_info": {
   "codemirror_mode": {
    "name": "ipython",
    "version": 3
   },
   "file_extension": ".py",
   "mimetype": "text/x-python",
   "name": "python",
   "nbconvert_exporter": "python",
   "pygments_lexer": "ipython3",
   "version": "3.6.7"
  }
 },
 "nbformat": 4,
 "nbformat_minor": 2
}
