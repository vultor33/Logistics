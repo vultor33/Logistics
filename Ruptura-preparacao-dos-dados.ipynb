{
 "cells": [
  {
   "cell_type": "code",
   "execution_count": null,
   "metadata": {},
   "outputs": [],
   "source": [
    "from ruptura.RupturaTable import RupturaTable\n",
    "from ruptura.CreateBatch import CreateBatch\n",
    "import collections"
   ]
  },
  {
   "cell_type": "code",
   "execution_count": null,
   "metadata": {},
   "outputs": [],
   "source": [
    "rupturaTable = RupturaTable()\n",
    "files = [\n",
    "    'ruptura-2018-dezembro-1oQ.csv', \n",
    "    'ruptura-2018-dezembro-2oQ.csv', \n",
    "    'ruptura-2019-fevereiro.csv', \n",
    "    'ruptura-2019-janeiro-1oQ.csv', \n",
    "    'ruptura-2019-janeiro-2oQ.csv', \n",
    "    'ruptura-2019-marco.csv',\n",
    "    'ruptura-2019-marco-09-ate-15.csv']\n",
    "clipData = ['01/11/2018', '01/04/2019']  # mais recente 08/03/2019\n",
    "rupturaTable.generate(files,clipData)"
   ]
  },
  {
   "cell_type": "code",
   "execution_count": null,
   "metadata": {},
   "outputs": [],
   "source": [
    "createBatch = CreateBatch()\n",
    "amostras = createBatch.create(rupturaTable.getData(), 'BARBIERI', '01/03/2019')\n",
    "createBatch.exportBatch(amostras, 'barbieri-interno-1-3-19.json')"
   ]
  },
  {
   "cell_type": "code",
   "execution_count": null,
   "metadata": {},
   "outputs": [],
   "source": []
  },
  {
   "cell_type": "code",
   "execution_count": null,
   "metadata": {},
   "outputs": [],
   "source": []
  },
  {
   "cell_type": "code",
   "execution_count": null,
   "metadata": {},
   "outputs": [],
   "source": [
    "# eu vou vir aqui e definir uma nova forma de gerar esses dados\n",
    "# seria interessante ter um objeto - data encoder em que ele recebesse a versao e fizesse o encoder correto.\n",
    "# a primeira que eu quero definir e\n",
    "# - input - igual estava antes pra comecar\n",
    "# - saida [ruptura, presenca, desconhecido]"
   ]
  },
  {
   "cell_type": "code",
   "execution_count": null,
   "metadata": {},
   "outputs": [],
   "source": [
    "createBatch = CreateBatch()\n",
    "amostras = createBatch.createItem(rupturaTable.getData(), 'BISCOITO BARBIERI PAPA OVO 150G', '01/03/2019')"
   ]
  },
  {
   "cell_type": "code",
   "execution_count": null,
   "metadata": {},
   "outputs": [],
   "source": []
  },
  {
   "cell_type": "code",
   "execution_count": null,
   "metadata": {},
   "outputs": [],
   "source": []
  },
  {
   "cell_type": "code",
   "execution_count": null,
   "metadata": {},
   "outputs": [],
   "source": []
  },
  {
   "cell_type": "markdown",
   "metadata": {},
   "source": [
    "# GERANDO TABELA PARA CONFERENCIA"
   ]
  },
  {
   "cell_type": "code",
   "execution_count": null,
   "metadata": {},
   "outputs": [],
   "source": [
    "# APENAS BARBIERI\n",
    "indBarbieri = []\n",
    "for i in data.index:\n",
    "    if data.Produto[i] in todosBiscoitos:\n",
    "        indBarbieri.append(i)\n",
    "dataBarbieri = data.iloc[indBarbieri,:].copy()\n",
    "dataBarbieri = dataBarbieri.reset_index(drop=True)\n",
    "dataBarbieri.to_csv('data-barbieri.csv',sep=';')"
   ]
  },
  {
   "cell_type": "code",
   "execution_count": null,
   "metadata": {},
   "outputs": [],
   "source": []
  },
  {
   "cell_type": "code",
   "execution_count": null,
   "metadata": {},
   "outputs": [],
   "source": []
  },
  {
   "cell_type": "code",
   "execution_count": null,
   "metadata": {},
   "outputs": [],
   "source": []
  },
  {
   "cell_type": "code",
   "execution_count": null,
   "metadata": {},
   "outputs": [],
   "source": []
  },
  {
   "cell_type": "code",
   "execution_count": null,
   "metadata": {},
   "outputs": [],
   "source": []
  },
  {
   "cell_type": "code",
   "execution_count": null,
   "metadata": {},
   "outputs": [],
   "source": []
  },
  {
   "cell_type": "code",
   "execution_count": null,
   "metadata": {},
   "outputs": [],
   "source": []
  },
  {
   "cell_type": "code",
   "execution_count": null,
   "metadata": {},
   "outputs": [],
   "source": []
  }
 ],
 "metadata": {
  "kernelspec": {
   "display_name": "Python 3",
   "language": "python",
   "name": "python3"
  },
  "language_info": {
   "codemirror_mode": {
    "name": "ipython",
    "version": 3
   },
   "file_extension": ".py",
   "mimetype": "text/x-python",
   "name": "python",
   "nbconvert_exporter": "python",
   "pygments_lexer": "ipython3",
   "version": "3.6.7"
  }
 },
 "nbformat": 4,
 "nbformat_minor": 2
}
