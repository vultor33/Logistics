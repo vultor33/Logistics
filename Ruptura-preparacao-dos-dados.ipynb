{
 "cells": [
  {
   "cell_type": "code",
   "execution_count": 1,
   "metadata": {},
   "outputs": [],
   "source": [
    "from ruptura.RupturaTable import RupturaTable\n",
    "from ruptura.CreateBatch import CreateBatch\n",
    "import collections\n",
    "# JANELA DESLIZANTE"
   ]
  },
  {
   "cell_type": "code",
   "execution_count": 2,
   "metadata": {},
   "outputs": [],
   "source": [
    "rupturaTable = RupturaTable()\n",
    "files = [\n",
    "    'ruptura-2018-dezembro-1oQ.csv', \n",
    "    'ruptura-2018-dezembro-2oQ.csv', \n",
    "    'ruptura-2019-fevereiro.csv', \n",
    "    'ruptura-2019-janeiro-1oQ.csv', \n",
    "    'ruptura-2019-janeiro-2oQ.csv', \n",
    "    'ruptura-2019-marco.csv',\n",
    "    'ruptura-2019-marco-09-ate-15.csv']\n",
    "clipData = ['01/11/2018', '01/04/2019']  # mais recente 08/03/2019\n",
    "rupturaTable.generate(files,clipData)"
   ]
  },
  {
   "cell_type": "code",
   "execution_count": null,
   "metadata": {},
   "outputs": [],
   "source": [
    "createBatch = CreateBatch()\n",
    "amostras = createBatch.create(rupturaTable.getData(), 'BISCOITO BARBIERI PAPA OVO 150G', '01/03/2019')\n",
    "#createBatch.exportBatch(amostras)"
   ]
  },
  {
   "cell_type": "code",
   "execution_count": null,
   "metadata": {
    "scrolled": true
   },
   "outputs": [],
   "source": [
    "from ruptura.CreateBatch import CreateBatch\n",
    "createBatch = CreateBatch()\n",
    "amostras = createBatch.loadBatch()\n",
    "X, Y, Ytest = createBatch.batch(amostras)"
   ]
  },
  {
   "cell_type": "code",
   "execution_count": null,
   "metadata": {},
   "outputs": [],
   "source": [
    "# TODO - consertar a definicao do batch ou talvez transferir para outro objeto.\n",
    "# TREINO E TESTE DO NOVO CARA - colocar para treinar\n",
    "# INCORPORAR ESTE DE TODOS OS PRODUTOS\n",
    "# CRIAR UMA FUNCAO PARA ELIMINAR ESSE QUE TEM INFORMACOES ERRADAS"
   ]
  },
  {
   "cell_type": "code",
   "execution_count": null,
   "metadata": {},
   "outputs": [],
   "source": []
  },
  {
   "cell_type": "code",
   "execution_count": null,
   "metadata": {},
   "outputs": [],
   "source": []
  },
  {
   "cell_type": "markdown",
   "metadata": {},
   "source": [
    "# MAIS DE UM PRODUTO"
   ]
  },
  {
   "cell_type": "code",
   "execution_count": 8,
   "metadata": {},
   "outputs": [],
   "source": [
    "referenceDate = '1/03/2019'  # ESSE VAI SER O ULTIMO Y. O ULTIMO X E UM DIA ANTES DESSE\n",
    "data = rupturaTable.getData()\n",
    "createBatch = CreateBatch()\n",
    "produtos = list(collections.Counter(data.loc[:,'Produto']))\n",
    "todosBiscoitos  = []\n",
    "for prod in produtos:\n",
    "    if 'BARBIERI' in prod:\n",
    "        todosBiscoitos.append(prod)"
   ]
  },
  {
   "cell_type": "code",
   "execution_count": 9,
   "metadata": {},
   "outputs": [],
   "source": [
    "todasAmostras = {}\n",
    "data = rupturaTable.getData()\n",
    "for nomeDoProduto in todosBiscoitos:\n",
    "    amostras = createBatch.create(data, nomeDoProduto, referenceDate)\n",
    "    todasAmostras.update(dict(amostras))\n",
    "\n",
    "createBatch.exportBatch(todasAmostras, 'barbieri-1-3-19.json')"
   ]
  },
  {
   "cell_type": "code",
   "execution_count": 19,
   "metadata": {},
   "outputs": [],
   "source": [
    "# APENAS BARBIERI\n",
    "indBarbieri = []\n",
    "for i in data.index:\n",
    "    if data.Produto[i] in todosBiscoitos:\n",
    "        indBarbieri.append(i)\n"
   ]
  },
  {
   "cell_type": "code",
   "execution_count": 25,
   "metadata": {},
   "outputs": [],
   "source": [
    "dataBarbieri = data.iloc[indBarbieri,:].copy()\n",
    "dataBarbieri = dataBarbieri.reset_index(drop=True)"
   ]
  },
  {
   "cell_type": "code",
   "execution_count": 30,
   "metadata": {},
   "outputs": [],
   "source": [
    "dataBarbieri.to_csv('data-barbieri.csv',sep=';')"
   ]
  },
  {
   "cell_type": "code",
   "execution_count": null,
   "metadata": {},
   "outputs": [],
   "source": []
  },
  {
   "cell_type": "code",
   "execution_count": null,
   "metadata": {},
   "outputs": [],
   "source": []
  },
  {
   "cell_type": "code",
   "execution_count": null,
   "metadata": {},
   "outputs": [],
   "source": []
  },
  {
   "cell_type": "code",
   "execution_count": null,
   "metadata": {},
   "outputs": [],
   "source": []
  },
  {
   "cell_type": "code",
   "execution_count": null,
   "metadata": {},
   "outputs": [],
   "source": []
  },
  {
   "cell_type": "code",
   "execution_count": null,
   "metadata": {},
   "outputs": [],
   "source": []
  }
 ],
 "metadata": {
  "kernelspec": {
   "display_name": "Python 3",
   "language": "python",
   "name": "python3"
  },
  "language_info": {
   "codemirror_mode": {
    "name": "ipython",
    "version": 3
   },
   "file_extension": ".py",
   "mimetype": "text/x-python",
   "name": "python",
   "nbconvert_exporter": "python",
   "pygments_lexer": "ipython3",
   "version": "3.6.7"
  }
 },
 "nbformat": 4,
 "nbformat_minor": 2
}
