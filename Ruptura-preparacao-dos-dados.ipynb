{
 "cells": [
  {
   "cell_type": "code",
   "execution_count": 4,
   "metadata": {},
   "outputs": [],
   "source": [
    "from ruptura.RupturaTable import RupturaTable\n",
    "from ruptura.CreateBatch import CreateBatch\n",
    "import collections"
   ]
  },
  {
   "cell_type": "code",
   "execution_count": 5,
   "metadata": {},
   "outputs": [],
   "source": [
    "rupturaTable = RupturaTable()\n",
    "files = ['barbieri-only.csv']  #concat all files here\n",
    "clipData = ['01/11/2018', '01/04/2019']\n",
    "rupturaTable.generate(files,clipData)"
   ]
  },
  {
   "cell_type": "code",
   "execution_count": 6,
   "metadata": {},
   "outputs": [
    {
     "ename": "TypeError",
     "evalue": "Object of type 'int64' is not JSON serializable",
     "output_type": "error",
     "traceback": [
      "\u001b[1;31m---------------------------------------------------------------------------\u001b[0m",
      "\u001b[1;31mTypeError\u001b[0m                                 Traceback (most recent call last)",
      "\u001b[1;32m<timed exec>\u001b[0m in \u001b[0;36m<module>\u001b[1;34m\u001b[0m\n",
      "\u001b[1;32mD:\\CODIGOS\\!PRIME-SYSTEMS\\LOGISTICA\\Logistics\\ruptura\\CreateBatch.py\u001b[0m in \u001b[0;36mexportBatch\u001b[1;34m(self, batch, fileName)\u001b[0m\n\u001b[0;32m     45\u001b[0m     \u001b[1;32mdef\u001b[0m \u001b[0mexportBatch\u001b[0m\u001b[1;33m(\u001b[0m\u001b[0mself\u001b[0m\u001b[1;33m,\u001b[0m \u001b[0mbatch\u001b[0m\u001b[1;33m,\u001b[0m \u001b[0mfileName\u001b[0m \u001b[1;33m=\u001b[0m \u001b[1;34m'rupturaTable.json'\u001b[0m\u001b[1;33m)\u001b[0m\u001b[1;33m:\u001b[0m\u001b[1;33m\u001b[0m\u001b[1;33m\u001b[0m\u001b[0m\n\u001b[0;32m     46\u001b[0m         \u001b[1;32mwith\u001b[0m \u001b[0mopen\u001b[0m\u001b[1;33m(\u001b[0m\u001b[0mfileName\u001b[0m\u001b[1;33m,\u001b[0m \u001b[1;34m'w'\u001b[0m\u001b[1;33m)\u001b[0m \u001b[1;32mas\u001b[0m \u001b[0moutfile\u001b[0m\u001b[1;33m:\u001b[0m\u001b[1;33m\u001b[0m\u001b[1;33m\u001b[0m\u001b[0m\n\u001b[1;32m---> 47\u001b[1;33m             \u001b[0mjson\u001b[0m\u001b[1;33m.\u001b[0m\u001b[0mdump\u001b[0m\u001b[1;33m(\u001b[0m\u001b[0mbatch\u001b[0m\u001b[1;33m,\u001b[0m \u001b[0moutfile\u001b[0m\u001b[1;33m)\u001b[0m\u001b[1;33m\u001b[0m\u001b[1;33m\u001b[0m\u001b[0m\n\u001b[0m\u001b[0;32m     48\u001b[0m \u001b[1;33m\u001b[0m\u001b[0m\n\u001b[0;32m     49\u001b[0m     \u001b[1;32mdef\u001b[0m \u001b[0mloadBatch\u001b[0m\u001b[1;33m(\u001b[0m\u001b[0mself\u001b[0m\u001b[1;33m,\u001b[0m \u001b[0mfileName\u001b[0m \u001b[1;33m=\u001b[0m \u001b[1;34m'rupturaTable.json'\u001b[0m\u001b[1;33m)\u001b[0m\u001b[1;33m:\u001b[0m\u001b[1;33m\u001b[0m\u001b[1;33m\u001b[0m\u001b[0m\n",
      "\u001b[1;32m~\\Miniconda3\\envs\\TENSOR-GPU\\lib\\json\\__init__.py\u001b[0m in \u001b[0;36mdump\u001b[1;34m(obj, fp, skipkeys, ensure_ascii, check_circular, allow_nan, cls, indent, separators, default, sort_keys, **kw)\u001b[0m\n\u001b[0;32m    177\u001b[0m     \u001b[1;31m# could accelerate with writelines in some versions of Python, at\u001b[0m\u001b[1;33m\u001b[0m\u001b[1;33m\u001b[0m\u001b[1;33m\u001b[0m\u001b[0m\n\u001b[0;32m    178\u001b[0m     \u001b[1;31m# a debuggability cost\u001b[0m\u001b[1;33m\u001b[0m\u001b[1;33m\u001b[0m\u001b[1;33m\u001b[0m\u001b[0m\n\u001b[1;32m--> 179\u001b[1;33m     \u001b[1;32mfor\u001b[0m \u001b[0mchunk\u001b[0m \u001b[1;32min\u001b[0m \u001b[0miterable\u001b[0m\u001b[1;33m:\u001b[0m\u001b[1;33m\u001b[0m\u001b[1;33m\u001b[0m\u001b[0m\n\u001b[0m\u001b[0;32m    180\u001b[0m         \u001b[0mfp\u001b[0m\u001b[1;33m.\u001b[0m\u001b[0mwrite\u001b[0m\u001b[1;33m(\u001b[0m\u001b[0mchunk\u001b[0m\u001b[1;33m)\u001b[0m\u001b[1;33m\u001b[0m\u001b[1;33m\u001b[0m\u001b[0m\n\u001b[0;32m    181\u001b[0m \u001b[1;33m\u001b[0m\u001b[0m\n",
      "\u001b[1;32m~\\Miniconda3\\envs\\TENSOR-GPU\\lib\\json\\encoder.py\u001b[0m in \u001b[0;36m_iterencode\u001b[1;34m(o, _current_indent_level)\u001b[0m\n\u001b[0;32m    428\u001b[0m             \u001b[1;32myield\u001b[0m \u001b[1;32mfrom\u001b[0m \u001b[0m_iterencode_list\u001b[0m\u001b[1;33m(\u001b[0m\u001b[0mo\u001b[0m\u001b[1;33m,\u001b[0m \u001b[0m_current_indent_level\u001b[0m\u001b[1;33m)\u001b[0m\u001b[1;33m\u001b[0m\u001b[1;33m\u001b[0m\u001b[0m\n\u001b[0;32m    429\u001b[0m         \u001b[1;32melif\u001b[0m \u001b[0misinstance\u001b[0m\u001b[1;33m(\u001b[0m\u001b[0mo\u001b[0m\u001b[1;33m,\u001b[0m \u001b[0mdict\u001b[0m\u001b[1;33m)\u001b[0m\u001b[1;33m:\u001b[0m\u001b[1;33m\u001b[0m\u001b[1;33m\u001b[0m\u001b[0m\n\u001b[1;32m--> 430\u001b[1;33m             \u001b[1;32myield\u001b[0m \u001b[1;32mfrom\u001b[0m \u001b[0m_iterencode_dict\u001b[0m\u001b[1;33m(\u001b[0m\u001b[0mo\u001b[0m\u001b[1;33m,\u001b[0m \u001b[0m_current_indent_level\u001b[0m\u001b[1;33m)\u001b[0m\u001b[1;33m\u001b[0m\u001b[1;33m\u001b[0m\u001b[0m\n\u001b[0m\u001b[0;32m    431\u001b[0m         \u001b[1;32melse\u001b[0m\u001b[1;33m:\u001b[0m\u001b[1;33m\u001b[0m\u001b[1;33m\u001b[0m\u001b[0m\n\u001b[0;32m    432\u001b[0m             \u001b[1;32mif\u001b[0m \u001b[0mmarkers\u001b[0m \u001b[1;32mis\u001b[0m \u001b[1;32mnot\u001b[0m \u001b[1;32mNone\u001b[0m\u001b[1;33m:\u001b[0m\u001b[1;33m\u001b[0m\u001b[1;33m\u001b[0m\u001b[0m\n",
      "\u001b[1;32m~\\Miniconda3\\envs\\TENSOR-GPU\\lib\\json\\encoder.py\u001b[0m in \u001b[0;36m_iterencode_dict\u001b[1;34m(dct, _current_indent_level)\u001b[0m\n\u001b[0;32m    402\u001b[0m                 \u001b[1;32melse\u001b[0m\u001b[1;33m:\u001b[0m\u001b[1;33m\u001b[0m\u001b[1;33m\u001b[0m\u001b[0m\n\u001b[0;32m    403\u001b[0m                     \u001b[0mchunks\u001b[0m \u001b[1;33m=\u001b[0m \u001b[0m_iterencode\u001b[0m\u001b[1;33m(\u001b[0m\u001b[0mvalue\u001b[0m\u001b[1;33m,\u001b[0m \u001b[0m_current_indent_level\u001b[0m\u001b[1;33m)\u001b[0m\u001b[1;33m\u001b[0m\u001b[1;33m\u001b[0m\u001b[0m\n\u001b[1;32m--> 404\u001b[1;33m                 \u001b[1;32myield\u001b[0m \u001b[1;32mfrom\u001b[0m \u001b[0mchunks\u001b[0m\u001b[1;33m\u001b[0m\u001b[1;33m\u001b[0m\u001b[0m\n\u001b[0m\u001b[0;32m    405\u001b[0m         \u001b[1;32mif\u001b[0m \u001b[0mnewline_indent\u001b[0m \u001b[1;32mis\u001b[0m \u001b[1;32mnot\u001b[0m \u001b[1;32mNone\u001b[0m\u001b[1;33m:\u001b[0m\u001b[1;33m\u001b[0m\u001b[1;33m\u001b[0m\u001b[0m\n\u001b[0;32m    406\u001b[0m             \u001b[0m_current_indent_level\u001b[0m \u001b[1;33m-=\u001b[0m \u001b[1;36m1\u001b[0m\u001b[1;33m\u001b[0m\u001b[1;33m\u001b[0m\u001b[0m\n",
      "\u001b[1;32m~\\Miniconda3\\envs\\TENSOR-GPU\\lib\\json\\encoder.py\u001b[0m in \u001b[0;36m_iterencode_dict\u001b[1;34m(dct, _current_indent_level)\u001b[0m\n\u001b[0;32m    402\u001b[0m                 \u001b[1;32melse\u001b[0m\u001b[1;33m:\u001b[0m\u001b[1;33m\u001b[0m\u001b[1;33m\u001b[0m\u001b[0m\n\u001b[0;32m    403\u001b[0m                     \u001b[0mchunks\u001b[0m \u001b[1;33m=\u001b[0m \u001b[0m_iterencode\u001b[0m\u001b[1;33m(\u001b[0m\u001b[0mvalue\u001b[0m\u001b[1;33m,\u001b[0m \u001b[0m_current_indent_level\u001b[0m\u001b[1;33m)\u001b[0m\u001b[1;33m\u001b[0m\u001b[1;33m\u001b[0m\u001b[0m\n\u001b[1;32m--> 404\u001b[1;33m                 \u001b[1;32myield\u001b[0m \u001b[1;32mfrom\u001b[0m \u001b[0mchunks\u001b[0m\u001b[1;33m\u001b[0m\u001b[1;33m\u001b[0m\u001b[0m\n\u001b[0m\u001b[0;32m    405\u001b[0m         \u001b[1;32mif\u001b[0m \u001b[0mnewline_indent\u001b[0m \u001b[1;32mis\u001b[0m \u001b[1;32mnot\u001b[0m \u001b[1;32mNone\u001b[0m\u001b[1;33m:\u001b[0m\u001b[1;33m\u001b[0m\u001b[1;33m\u001b[0m\u001b[0m\n\u001b[0;32m    406\u001b[0m             \u001b[0m_current_indent_level\u001b[0m \u001b[1;33m-=\u001b[0m \u001b[1;36m1\u001b[0m\u001b[1;33m\u001b[0m\u001b[1;33m\u001b[0m\u001b[0m\n",
      "\u001b[1;32m~\\Miniconda3\\envs\\TENSOR-GPU\\lib\\json\\encoder.py\u001b[0m in \u001b[0;36m_iterencode_list\u001b[1;34m(lst, _current_indent_level)\u001b[0m\n\u001b[0;32m    323\u001b[0m                 \u001b[1;32melse\u001b[0m\u001b[1;33m:\u001b[0m\u001b[1;33m\u001b[0m\u001b[1;33m\u001b[0m\u001b[0m\n\u001b[0;32m    324\u001b[0m                     \u001b[0mchunks\u001b[0m \u001b[1;33m=\u001b[0m \u001b[0m_iterencode\u001b[0m\u001b[1;33m(\u001b[0m\u001b[0mvalue\u001b[0m\u001b[1;33m,\u001b[0m \u001b[0m_current_indent_level\u001b[0m\u001b[1;33m)\u001b[0m\u001b[1;33m\u001b[0m\u001b[1;33m\u001b[0m\u001b[0m\n\u001b[1;32m--> 325\u001b[1;33m                 \u001b[1;32myield\u001b[0m \u001b[1;32mfrom\u001b[0m \u001b[0mchunks\u001b[0m\u001b[1;33m\u001b[0m\u001b[1;33m\u001b[0m\u001b[0m\n\u001b[0m\u001b[0;32m    326\u001b[0m         \u001b[1;32mif\u001b[0m \u001b[0mnewline_indent\u001b[0m \u001b[1;32mis\u001b[0m \u001b[1;32mnot\u001b[0m \u001b[1;32mNone\u001b[0m\u001b[1;33m:\u001b[0m\u001b[1;33m\u001b[0m\u001b[1;33m\u001b[0m\u001b[0m\n\u001b[0;32m    327\u001b[0m             \u001b[0m_current_indent_level\u001b[0m \u001b[1;33m-=\u001b[0m \u001b[1;36m1\u001b[0m\u001b[1;33m\u001b[0m\u001b[1;33m\u001b[0m\u001b[0m\n",
      "\u001b[1;32m~\\Miniconda3\\envs\\TENSOR-GPU\\lib\\json\\encoder.py\u001b[0m in \u001b[0;36m_iterencode\u001b[1;34m(o, _current_indent_level)\u001b[0m\n\u001b[0;32m    435\u001b[0m                     \u001b[1;32mraise\u001b[0m \u001b[0mValueError\u001b[0m\u001b[1;33m(\u001b[0m\u001b[1;34m\"Circular reference detected\"\u001b[0m\u001b[1;33m)\u001b[0m\u001b[1;33m\u001b[0m\u001b[1;33m\u001b[0m\u001b[0m\n\u001b[0;32m    436\u001b[0m                 \u001b[0mmarkers\u001b[0m\u001b[1;33m[\u001b[0m\u001b[0mmarkerid\u001b[0m\u001b[1;33m]\u001b[0m \u001b[1;33m=\u001b[0m \u001b[0mo\u001b[0m\u001b[1;33m\u001b[0m\u001b[1;33m\u001b[0m\u001b[0m\n\u001b[1;32m--> 437\u001b[1;33m             \u001b[0mo\u001b[0m \u001b[1;33m=\u001b[0m \u001b[0m_default\u001b[0m\u001b[1;33m(\u001b[0m\u001b[0mo\u001b[0m\u001b[1;33m)\u001b[0m\u001b[1;33m\u001b[0m\u001b[1;33m\u001b[0m\u001b[0m\n\u001b[0m\u001b[0;32m    438\u001b[0m             \u001b[1;32myield\u001b[0m \u001b[1;32mfrom\u001b[0m \u001b[0m_iterencode\u001b[0m\u001b[1;33m(\u001b[0m\u001b[0mo\u001b[0m\u001b[1;33m,\u001b[0m \u001b[0m_current_indent_level\u001b[0m\u001b[1;33m)\u001b[0m\u001b[1;33m\u001b[0m\u001b[1;33m\u001b[0m\u001b[0m\n\u001b[0;32m    439\u001b[0m             \u001b[1;32mif\u001b[0m \u001b[0mmarkers\u001b[0m \u001b[1;32mis\u001b[0m \u001b[1;32mnot\u001b[0m \u001b[1;32mNone\u001b[0m\u001b[1;33m:\u001b[0m\u001b[1;33m\u001b[0m\u001b[1;33m\u001b[0m\u001b[0m\n",
      "\u001b[1;32m~\\Miniconda3\\envs\\TENSOR-GPU\\lib\\json\\encoder.py\u001b[0m in \u001b[0;36mdefault\u001b[1;34m(self, o)\u001b[0m\n\u001b[0;32m    178\u001b[0m         \"\"\"\n\u001b[0;32m    179\u001b[0m         raise TypeError(\"Object of type '%s' is not JSON serializable\" %\n\u001b[1;32m--> 180\u001b[1;33m                         o.__class__.__name__)\n\u001b[0m\u001b[0;32m    181\u001b[0m \u001b[1;33m\u001b[0m\u001b[0m\n\u001b[0;32m    182\u001b[0m     \u001b[1;32mdef\u001b[0m \u001b[0mencode\u001b[0m\u001b[1;33m(\u001b[0m\u001b[0mself\u001b[0m\u001b[1;33m,\u001b[0m \u001b[0mo\u001b[0m\u001b[1;33m)\u001b[0m\u001b[1;33m:\u001b[0m\u001b[1;33m\u001b[0m\u001b[1;33m\u001b[0m\u001b[0m\n",
      "\u001b[1;31mTypeError\u001b[0m: Object of type 'int64' is not JSON serializable"
     ]
    }
   ],
   "source": [
    "%%time\n",
    "createBatch = CreateBatch('0-1-0')\n",
    "amostras = createBatch.create(rupturaTable.getData(), 'BARBIERI', '01/03/2019')\n",
    "createBatch.exportBatch(amostras, 'barbieri-ymod.json')"
   ]
  },
  {
   "cell_type": "code",
   "execution_count": 7,
   "metadata": {},
   "outputs": [
    {
     "data": {
      "text/plain": [
       "{'x': [{'Ocorr ncia': 'Reposi o',\n",
       "   'Ocorr ncia2': 'Unidades Estocadas Armazenadas',\n",
       "   'Data Hora de encerramento da OS': '01/12/2018 09:22'},\n",
       "  {'Ocorr ncia': 'Reposi o',\n",
       "   'Ocorr ncia2': 'Sem Unidades Estocadas Armazenadas',\n",
       "   'Data Hora de encerramento da OS': '08/12/2018 11:24'},\n",
       "  {'Ocorr ncia': 'Reposi o',\n",
       "   'Ocorr ncia2': 'Sem Unidades Estocadas Armazenadas',\n",
       "   'Data Hora de encerramento da OS': '12/12/2018 11:45'},\n",
       "  {'Ocorr ncia': 'Presen a',\n",
       "   'Ocorr ncia2': 'Sem Unidades Estocadas Armazenadas',\n",
       "   'Data Hora de encerramento da OS': '13/12/2018 16:30'},\n",
       "  {'Ocorr ncia': 'Reposi o',\n",
       "   'Ocorr ncia2': 'Sem Unidades Estocadas Armazenadas',\n",
       "   'Data Hora de encerramento da OS': '20/12/2018 16:31'},\n",
       "  {'Ocorr ncia': 'Presen a',\n",
       "   'Ocorr ncia2': 'Sem Unidades Estocadas Armazenadas',\n",
       "   'Data Hora de encerramento da OS': '23/12/2018 10:04'},\n",
       "  {'Ocorr ncia': 'Presen a',\n",
       "   'Ocorr ncia2': 'Sem Unidades Estocadas Armazenadas',\n",
       "   'Data Hora de encerramento da OS': '23/12/2018 10:05'},\n",
       "  {'Ocorr ncia': 'Reposi o',\n",
       "   'Ocorr ncia2': 'Sem Unidades Estocadas Armazenadas',\n",
       "   'Data Hora de encerramento da OS': '27/12/2018 17:47'},\n",
       "  {'Ocorr ncia': 'Reposi o',\n",
       "   'Ocorr ncia2': 'Sem Unidades Estocadas Armazenadas',\n",
       "   'Data Hora de encerramento da OS': '29/12/2018 15:39'},\n",
       "  {'Ocorr ncia': 'Presen a',\n",
       "   'Ocorr ncia2': 'Sem Unidades Estocadas Armazenadas',\n",
       "   'Data Hora de encerramento da OS': '02/02/2019 09:57'},\n",
       "  {'Ocorr ncia': 'Presen a',\n",
       "   'Ocorr ncia2': 'Sem Unidades Estocadas Armazenadas',\n",
       "   'Data Hora de encerramento da OS': '05/02/2019 16:44'},\n",
       "  {'Ocorr ncia': 'Reposi o',\n",
       "   'Ocorr ncia2': 'Sem Unidades Estocadas Armazenadas',\n",
       "   'Data Hora de encerramento da OS': '08/02/2019 14:58'},\n",
       "  {'Ocorr ncia': 'Presen a',\n",
       "   'Ocorr ncia2': 'Sem Unidades Estocadas Armazenadas',\n",
       "   'Data Hora de encerramento da OS': '09/02/2019 09:18'},\n",
       "  {'Ocorr ncia': 'Reposi o',\n",
       "   'Ocorr ncia2': 'Sem Unidades Estocadas Armazenadas',\n",
       "   'Data Hora de encerramento da OS': '12/02/2019 16:40'},\n",
       "  {'Ocorr ncia': 'Presen a',\n",
       "   'Ocorr ncia2': 'Sem Unidades Estocadas Armazenadas',\n",
       "   'Data Hora de encerramento da OS': '14/02/2019 16:34'},\n",
       "  {'Ocorr ncia': 'Reposi o',\n",
       "   'Ocorr ncia2': 'Sem Unidades Estocadas Armazenadas',\n",
       "   'Data Hora de encerramento da OS': '21/02/2019 15:44'},\n",
       "  {'Ocorr ncia': 'Reposi o',\n",
       "   'Ocorr ncia2': 'Sem Unidades Estocadas Armazenadas',\n",
       "   'Data Hora de encerramento da OS': '23/02/2019 09:40'},\n",
       "  {'Ocorr ncia': 'Reposi o',\n",
       "   'Ocorr ncia2': 'Sem Unidades Estocadas Armazenadas',\n",
       "   'Data Hora de encerramento da OS': '26/02/2019 15:22'},\n",
       "  {'Ocorr ncia': 'Reposi o',\n",
       "   'Ocorr ncia2': 'Sem Unidades Estocadas Armazenadas',\n",
       "   'Data Hora de encerramento da OS': '28/02/2019 15:16'},\n",
       "  {'Ocorr ncia': 'Reposi o',\n",
       "   'Ocorr ncia2': 'Sem Unidades Estocadas Armazenadas',\n",
       "   'Data Hora de encerramento da OS': '04/01/2019 14:14'},\n",
       "  {'Ocorr ncia': 'Presen a',\n",
       "   'Ocorr ncia2': 'Sem Unidades Estocadas Armazenadas',\n",
       "   'Data Hora de encerramento da OS': '05/01/2019 11:45'},\n",
       "  {'Ocorr ncia': 'Reposi o',\n",
       "   'Ocorr ncia2': 'Sem Unidades Estocadas Armazenadas',\n",
       "   'Data Hora de encerramento da OS': '08/01/2019 17:08'},\n",
       "  {'Ocorr ncia': 'Reposi o',\n",
       "   'Ocorr ncia2': 'Sem Unidades Estocadas Armazenadas',\n",
       "   'Data Hora de encerramento da OS': '10/01/2019 16:26'},\n",
       "  {'Ocorr ncia': 'Ruptura em G ndola',\n",
       "   'Ocorr ncia2': 'Unidades Estocadas Armazenadas',\n",
       "   'Data Hora de encerramento da OS': '12/01/2019 12:09'},\n",
       "  {'Ocorr ncia': 'Reposi o',\n",
       "   'Ocorr ncia2': 'Sem Unidades Estocadas Armazenadas',\n",
       "   'Data Hora de encerramento da OS': '15/01/2019 16:06'},\n",
       "  {'Ocorr ncia': 'Reposi o',\n",
       "   'Ocorr ncia2': 'Sem Unidades Estocadas Armazenadas',\n",
       "   'Data Hora de encerramento da OS': '17/01/2019 16:24'},\n",
       "  {'Ocorr ncia': 'Reposi o',\n",
       "   'Ocorr ncia2': 'Sem Unidades Estocadas Armazenadas',\n",
       "   'Data Hora de encerramento da OS': '19/01/2019 11:49'},\n",
       "  {'Ocorr ncia': 'Reposi o',\n",
       "   'Ocorr ncia2': 'Sem Unidades Estocadas Armazenadas',\n",
       "   'Data Hora de encerramento da OS': '22/01/2019 16:46'},\n",
       "  {'Ocorr ncia': 'Reposi o',\n",
       "   'Ocorr ncia2': 'Sem Unidades Estocadas Armazenadas',\n",
       "   'Data Hora de encerramento da OS': '24/01/2019 15:13'},\n",
       "  {'Ocorr ncia': 'Reposi o',\n",
       "   'Ocorr ncia2': 'Sem Unidades Estocadas Armazenadas',\n",
       "   'Data Hora de encerramento da OS': '25/01/2019 11:57'},\n",
       "  {'Ocorr ncia': 'Reposi o',\n",
       "   'Ocorr ncia2': 'Sem Unidades Estocadas Armazenadas',\n",
       "   'Data Hora de encerramento da OS': '02/03/2019 10:11'},\n",
       "  {'Ocorr ncia': 'Reposi o',\n",
       "   'Ocorr ncia2': 'Sem Unidades Estocadas Armazenadas',\n",
       "   'Data Hora de encerramento da OS': '07/03/2019 17:07'},\n",
       "  {'Ocorr ncia': 'Reposi o',\n",
       "   'Ocorr ncia2': 'Sem Unidades Estocadas Armazenadas',\n",
       "   'Data Hora de encerramento da OS': '09/03/2019 10:07'},\n",
       "  {'Ocorr ncia': 'Reposi o',\n",
       "   'Ocorr ncia2': 'Sem Unidades Estocadas Armazenadas',\n",
       "   'Data Hora de encerramento da OS': '12/03/2019 17:11'},\n",
       "  {'Ocorr ncia': 'Reposi o',\n",
       "   'Ocorr ncia2': 'Sem Unidades Estocadas Armazenadas',\n",
       "   'Data Hora de encerramento da OS': '14/03/2019 16:37'}],\n",
       " 'data': [-160,\n",
       "  -153,\n",
       "  -149,\n",
       "  -148,\n",
       "  -141,\n",
       "  -138,\n",
       "  -138,\n",
       "  -134,\n",
       "  -132,\n",
       "  -97,\n",
       "  -94,\n",
       "  -91,\n",
       "  -90,\n",
       "  -87,\n",
       "  -85,\n",
       "  -78,\n",
       "  -76,\n",
       "  -73,\n",
       "  -71,\n",
       "  -126,\n",
       "  -125,\n",
       "  -122,\n",
       "  -120,\n",
       "  -118,\n",
       "  -115,\n",
       "  -113,\n",
       "  -111,\n",
       "  -108,\n",
       "  -106,\n",
       "  -105,\n",
       "  -69,\n",
       "  -64,\n",
       "  -62,\n",
       "  -59,\n",
       "  -57]}"
      ]
     },
     "execution_count": 7,
     "metadata": {},
     "output_type": "execute_result"
    }
   ],
   "source": [
    "amostras['Mart Minas Paracatu Loja 224-BISCOITO BARBIERI ESCALDADO 150G']"
   ]
  },
  {
   "cell_type": "code",
   "execution_count": null,
   "metadata": {},
   "outputs": [],
   "source": []
  },
  {
   "cell_type": "code",
   "execution_count": null,
   "metadata": {},
   "outputs": [],
   "source": []
  },
  {
   "cell_type": "code",
   "execution_count": null,
   "metadata": {},
   "outputs": [],
   "source": []
  },
  {
   "cell_type": "code",
   "execution_count": null,
   "metadata": {},
   "outputs": [],
   "source": []
  },
  {
   "cell_type": "code",
   "execution_count": null,
   "metadata": {},
   "outputs": [],
   "source": []
  },
  {
   "cell_type": "code",
   "execution_count": null,
   "metadata": {},
   "outputs": [],
   "source": []
  },
  {
   "cell_type": "code",
   "execution_count": null,
   "metadata": {},
   "outputs": [],
   "source": []
  },
  {
   "cell_type": "code",
   "execution_count": null,
   "metadata": {},
   "outputs": [],
   "source": []
  },
  {
   "cell_type": "code",
   "execution_count": null,
   "metadata": {},
   "outputs": [],
   "source": []
  },
  {
   "cell_type": "code",
   "execution_count": null,
   "metadata": {},
   "outputs": [],
   "source": []
  },
  {
   "cell_type": "code",
   "execution_count": null,
   "metadata": {},
   "outputs": [],
   "source": []
  },
  {
   "cell_type": "code",
   "execution_count": null,
   "metadata": {},
   "outputs": [],
   "source": []
  },
  {
   "cell_type": "code",
   "execution_count": null,
   "metadata": {},
   "outputs": [],
   "source": []
  },
  {
   "cell_type": "code",
   "execution_count": null,
   "metadata": {},
   "outputs": [],
   "source": []
  },
  {
   "cell_type": "code",
   "execution_count": null,
   "metadata": {},
   "outputs": [],
   "source": []
  },
  {
   "cell_type": "code",
   "execution_count": null,
   "metadata": {},
   "outputs": [],
   "source": []
  },
  {
   "cell_type": "code",
   "execution_count": null,
   "metadata": {},
   "outputs": [],
   "source": []
  },
  {
   "cell_type": "code",
   "execution_count": null,
   "metadata": {},
   "outputs": [],
   "source": []
  },
  {
   "cell_type": "code",
   "execution_count": null,
   "metadata": {},
   "outputs": [],
   "source": []
  },
  {
   "cell_type": "code",
   "execution_count": null,
   "metadata": {},
   "outputs": [],
   "source": []
  },
  {
   "cell_type": "code",
   "execution_count": 8,
   "metadata": {},
   "outputs": [],
   "source": [
    "# loja \n",
    "# --  data da visita  # em realacao ao dia de referencia zero: '01/03/2019'\n",
    "#     -- produto 1: x1\n",
    "#     -- produto 2: nao tem registro\n",
    "#     -- pruduto 3: x3\n",
    "visitas = {}\n",
    "for lojaProd in amostras: # esse amostras vem do tabledict antes do encoder\n",
    "    loja, produto = lojaProd.split('-')\n",
    "    if loja not in visitas:\n",
    "        visitas[loja] = {}\n",
    "    for i,date in enumerate(amostras[lojaProd]['data']):\n",
    "        if date not in visitas[loja]:\n",
    "            visitas[loja][date] = {}\n",
    "        visitas[loja][date][produto] = amostras[lojaProd]['x'][i]\n"
   ]
  },
  {
   "cell_type": "code",
   "execution_count": 9,
   "metadata": {},
   "outputs": [
    {
     "data": {
      "text/plain": [
       "{'Ocorr ncia': 'Reposi o',\n",
       " 'Ocorr ncia2': 'Unidades Estocadas Armazenadas',\n",
       " 'Data Hora de encerramento da OS': '01/12/2018 09:22'}"
      ]
     },
     "execution_count": 9,
     "metadata": {},
     "output_type": "execute_result"
    }
   ],
   "source": [
    "visitas['Mart Minas Paracatu Loja 224'][-160]['BISCOITO BARBIERI ESCALDADO 150G']"
   ]
  },
  {
   "cell_type": "code",
   "execution_count": null,
   "metadata": {},
   "outputs": [],
   "source": []
  },
  {
   "cell_type": "code",
   "execution_count": null,
   "metadata": {},
   "outputs": [],
   "source": []
  },
  {
   "cell_type": "code",
   "execution_count": null,
   "metadata": {},
   "outputs": [],
   "source": []
  },
  {
   "cell_type": "code",
   "execution_count": 1,
   "metadata": {},
   "outputs": [],
   "source": [
    "from ruptura.EncoderX import EncoderX\n",
    "encoderX = EncoderX('0-1-0')\n",
    "encoderX.oneHot(visitas['Mart Minas Paracatu Loja 224'][-160]['BISCOITO BARBIERI ESCALDADO 150G'])"
   ]
  },
  {
   "cell_type": "code",
   "execution_count": null,
   "metadata": {},
   "outputs": [],
   "source": []
  },
  {
   "cell_type": "code",
   "execution_count": null,
   "metadata": {},
   "outputs": [],
   "source": []
  },
  {
   "cell_type": "code",
   "execution_count": null,
   "metadata": {},
   "outputs": [],
   "source": [
    "# dado uma data qualquer ---> pra isso tem que transformar esse cara (-160 e um numero conheciudo)\n",
    "# pegar as ultimas N visitas para um determinado produto (n=5,10 etc.)\n",
    "# contruir um X assim [x1,data1, x2,data2, x3,data3 ... ]"
   ]
  },
  {
   "cell_type": "code",
   "execution_count": null,
   "metadata": {},
   "outputs": [],
   "source": []
  },
  {
   "cell_type": "code",
   "execution_count": null,
   "metadata": {},
   "outputs": [],
   "source": []
  },
  {
   "cell_type": "code",
   "execution_count": null,
   "metadata": {},
   "outputs": [],
   "source": []
  },
  {
   "cell_type": "code",
   "execution_count": null,
   "metadata": {},
   "outputs": [],
   "source": []
  },
  {
   "cell_type": "code",
   "execution_count": null,
   "metadata": {},
   "outputs": [],
   "source": []
  },
  {
   "cell_type": "code",
   "execution_count": null,
   "metadata": {},
   "outputs": [],
   "source": []
  },
  {
   "cell_type": "code",
   "execution_count": null,
   "metadata": {},
   "outputs": [],
   "source": []
  },
  {
   "cell_type": "code",
   "execution_count": null,
   "metadata": {},
   "outputs": [],
   "source": []
  },
  {
   "cell_type": "code",
   "execution_count": null,
   "metadata": {},
   "outputs": [],
   "source": []
  },
  {
   "cell_type": "code",
   "execution_count": null,
   "metadata": {},
   "outputs": [],
   "source": []
  },
  {
   "cell_type": "code",
   "execution_count": null,
   "metadata": {},
   "outputs": [],
   "source": []
  },
  {
   "cell_type": "code",
   "execution_count": null,
   "metadata": {},
   "outputs": [],
   "source": []
  },
  {
   "cell_type": "code",
   "execution_count": null,
   "metadata": {},
   "outputs": [],
   "source": []
  },
  {
   "cell_type": "code",
   "execution_count": null,
   "metadata": {},
   "outputs": [],
   "source": []
  },
  {
   "cell_type": "code",
   "execution_count": null,
   "metadata": {},
   "outputs": [],
   "source": []
  },
  {
   "cell_type": "code",
   "execution_count": null,
   "metadata": {},
   "outputs": [],
   "source": []
  },
  {
   "cell_type": "code",
   "execution_count": null,
   "metadata": {},
   "outputs": [],
   "source": []
  },
  {
   "cell_type": "code",
   "execution_count": null,
   "metadata": {},
   "outputs": [],
   "source": []
  },
  {
   "cell_type": "markdown",
   "metadata": {},
   "source": [
    "# GERANDO TABELA PARA CONFERENCIA"
   ]
  },
  {
   "cell_type": "code",
   "execution_count": null,
   "metadata": {},
   "outputs": [],
   "source": [
    "# APENAS BARBIERI\n",
    "indBarbieri = []\n",
    "for i in data.index:\n",
    "    if data.Produto[i] in todosBiscoitos:\n",
    "        indBarbieri.append(i)\n",
    "dataBarbieri = data.iloc[indBarbieri,:].copy()\n",
    "dataBarbieri = dataBarbieri.reset_index(drop=True)\n",
    "dataBarbieri.to_csv('data-barbieri.csv',sep=';')"
   ]
  },
  {
   "cell_type": "code",
   "execution_count": null,
   "metadata": {},
   "outputs": [],
   "source": []
  },
  {
   "cell_type": "code",
   "execution_count": null,
   "metadata": {},
   "outputs": [],
   "source": []
  },
  {
   "cell_type": "code",
   "execution_count": null,
   "metadata": {},
   "outputs": [],
   "source": []
  },
  {
   "cell_type": "code",
   "execution_count": null,
   "metadata": {},
   "outputs": [],
   "source": []
  },
  {
   "cell_type": "code",
   "execution_count": null,
   "metadata": {},
   "outputs": [],
   "source": []
  },
  {
   "cell_type": "code",
   "execution_count": null,
   "metadata": {},
   "outputs": [],
   "source": []
  },
  {
   "cell_type": "code",
   "execution_count": null,
   "metadata": {},
   "outputs": [],
   "source": []
  }
 ],
 "metadata": {
  "kernelspec": {
   "display_name": "Python 3",
   "language": "python",
   "name": "python3"
  },
  "language_info": {
   "codemirror_mode": {
    "name": "ipython",
    "version": 3
   },
   "file_extension": ".py",
   "mimetype": "text/x-python",
   "name": "python",
   "nbconvert_exporter": "python",
   "pygments_lexer": "ipython3",
   "version": "3.6.7"
  }
 },
 "nbformat": 4,
 "nbformat_minor": 2
}
