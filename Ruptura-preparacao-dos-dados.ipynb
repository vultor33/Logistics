{
 "cells": [
  {
   "cell_type": "code",
   "execution_count": 1,
   "metadata": {},
   "outputs": [],
   "source": [
    "from ruptura.RupturaTable import RupturaTable\n",
    "from ruptura.CreateBatch import CreateBatch\n",
    "import collections"
   ]
  },
  {
   "cell_type": "code",
   "execution_count": 2,
   "metadata": {},
   "outputs": [],
   "source": [
    "rupturaTable = RupturaTable()\n",
    "files = ['barbieri-only.csv']  #concat all files here\n",
    "clipData = ['01/11/2018', '01/04/2019']\n",
    "rupturaTable.generate(files,clipData)"
   ]
  },
  {
   "cell_type": "code",
   "execution_count": 3,
   "metadata": {},
   "outputs": [
    {
     "name": "stdout",
     "output_type": "stream",
     "text": [
      "Wall time: 21.8 s\n"
     ]
    }
   ],
   "source": [
    "%%time\n",
    "createBatch = CreateBatch('0-1-0')\n",
    "amostras = createBatch.create(rupturaTable.getData(), 'BARBIERI', '01/03/2019')\n",
    "createBatch.exportBatch(amostras, 'barbieri-ymod.json')"
   ]
  },
  {
   "cell_type": "code",
   "execution_count": 4,
   "metadata": {},
   "outputs": [
    {
     "data": {
      "text/plain": [
       "{'x': [[0, 0, 1],\n",
       "  [0, 0, 1],\n",
       "  [0, 0, 1],\n",
       "  [0, 0, 1],\n",
       "  [0.33, 0, 0],\n",
       "  [1, 0, 0],\n",
       "  [0, 0, 1],\n",
       "  [0, 0, 1],\n",
       "  [0.33, 0, 0],\n",
       "  [0, 0, 1],\n",
       "  [0.33, 0, 0],\n",
       "  [0, 0, 1],\n",
       "  [0, 1, 0],\n",
       "  [0, 0, 1],\n",
       "  [0, 0, 1],\n",
       "  [0.33, 0, 0],\n",
       "  [0, 0, 1],\n",
       "  [0.33, 0, 0],\n",
       "  [0, 0, 1],\n",
       "  [0.33, 0, 0],\n",
       "  [0, 0, 1],\n",
       "  [0, 0, 1],\n",
       "  [0.33, 0, 0],\n",
       "  [0, 0, 1],\n",
       "  [0.33, 0, 0],\n",
       "  [0.33, 0, 0],\n",
       "  [0, 0, 1],\n",
       "  [0, 0, 1],\n",
       "  [0, 0, 1],\n",
       "  [0, 0, 1],\n",
       "  [0, 0, 1],\n",
       "  [0, 0, 1],\n",
       "  [0, 0, 1],\n",
       "  [1, 0, 0],\n",
       "  [0, 0, 1],\n",
       "  [0, 0, 1],\n",
       "  [1, 0, 0],\n",
       "  [0, 0, 1],\n",
       "  [0, 0, 1],\n",
       "  [0.33, 0, 0],\n",
       "  [1, 0, 0],\n",
       "  [0, 0, 1],\n",
       "  [0, 0, 1],\n",
       "  [0.33, 0, 0],\n",
       "  [0, 0, 1],\n",
       "  [1, 0, 0],\n",
       "  [0, 0, 1],\n",
       "  [0, 0, 1],\n",
       "  [0, 0, 1],\n",
       "  [0, 0, 1],\n",
       "  [0, 0, 1],\n",
       "  [0, 0, 1],\n",
       "  [0.33, 0, 0],\n",
       "  [0, 0, 1],\n",
       "  [0.33, 0, 0],\n",
       "  [0, 0, 1],\n",
       "  [0, 0, 1],\n",
       "  [0.33, 0, 0],\n",
       "  [0, 0, 1],\n",
       "  [0.33, 0, 0]],\n",
       " 'y': [[0, 1],\n",
       "  [0, 1],\n",
       "  [0, 1],\n",
       "  [0.33, 0],\n",
       "  [1, 0],\n",
       "  [0, 1],\n",
       "  [0, 1],\n",
       "  [0.33, 0],\n",
       "  [0, 1],\n",
       "  [0.33, 0],\n",
       "  [0, 1],\n",
       "  [0, 0],\n",
       "  [0, 1],\n",
       "  [0, 1],\n",
       "  [0.33, 0],\n",
       "  [0, 1],\n",
       "  [0.33, 0],\n",
       "  [0, 1],\n",
       "  [0.33, 0],\n",
       "  [0, 1],\n",
       "  [0, 1],\n",
       "  [0.33, 0],\n",
       "  [0, 1],\n",
       "  [0.33, 0],\n",
       "  [0.33, 0],\n",
       "  [0, 1],\n",
       "  [0, 1],\n",
       "  [0, 1],\n",
       "  [0, 1],\n",
       "  [0, 1],\n",
       "  [0, 1],\n",
       "  [0, 1],\n",
       "  [1, 0],\n",
       "  [0, 1],\n",
       "  [0, 1],\n",
       "  [1, 0],\n",
       "  [0, 1],\n",
       "  [0, 1],\n",
       "  [0.33, 0],\n",
       "  [1, 0],\n",
       "  [0, 1],\n",
       "  [0, 1],\n",
       "  [0.33, 0],\n",
       "  [0, 1],\n",
       "  [1, 0],\n",
       "  [0, 1],\n",
       "  [0, 1],\n",
       "  [0, 1],\n",
       "  [0, 1],\n",
       "  [0, 1],\n",
       "  [0, 1],\n",
       "  [0.33, 0],\n",
       "  [0, 1],\n",
       "  [0.33, 0],\n",
       "  [0, 1],\n",
       "  [0, 1],\n",
       "  [0.33, 0],\n",
       "  [0, 1],\n",
       "  [0.33, 0],\n",
       "  [0, 1]],\n",
       " 'ytest': [[0.33, 0], [0, 1], [0, 1], [0, 1], [0, 1], [0.33, 0], [0, 1]],\n",
       " 'lastX': [0, 0, 1]}"
      ]
     },
     "execution_count": 4,
     "metadata": {},
     "output_type": "execute_result"
    }
   ],
   "source": [
    "amostras['Mart Minas Paracatu Loja 224-BISCOITO BARBIERI ESCALDADO 150G']"
   ]
  },
  {
   "cell_type": "code",
   "execution_count": null,
   "metadata": {},
   "outputs": [],
   "source": []
  },
  {
   "cell_type": "code",
   "execution_count": null,
   "metadata": {},
   "outputs": [],
   "source": []
  },
  {
   "cell_type": "code",
   "execution_count": null,
   "metadata": {},
   "outputs": [],
   "source": []
  },
  {
   "cell_type": "code",
   "execution_count": null,
   "metadata": {},
   "outputs": [],
   "source": []
  },
  {
   "cell_type": "code",
   "execution_count": null,
   "metadata": {},
   "outputs": [],
   "source": []
  },
  {
   "cell_type": "code",
   "execution_count": null,
   "metadata": {},
   "outputs": [],
   "source": []
  },
  {
   "cell_type": "markdown",
   "metadata": {},
   "source": [
    "# GERANDO TABELA PARA CONFERENCIA"
   ]
  },
  {
   "cell_type": "code",
   "execution_count": null,
   "metadata": {},
   "outputs": [],
   "source": [
    "# APENAS BARBIERI\n",
    "indBarbieri = []\n",
    "for i in data.index:\n",
    "    if data.Produto[i] in todosBiscoitos:\n",
    "        indBarbieri.append(i)\n",
    "dataBarbieri = data.iloc[indBarbieri,:].copy()\n",
    "dataBarbieri = dataBarbieri.reset_index(drop=True)\n",
    "dataBarbieri.to_csv('data-barbieri.csv',sep=';')"
   ]
  },
  {
   "cell_type": "code",
   "execution_count": null,
   "metadata": {},
   "outputs": [],
   "source": []
  },
  {
   "cell_type": "code",
   "execution_count": null,
   "metadata": {},
   "outputs": [],
   "source": []
  },
  {
   "cell_type": "code",
   "execution_count": null,
   "metadata": {},
   "outputs": [],
   "source": []
  },
  {
   "cell_type": "code",
   "execution_count": null,
   "metadata": {},
   "outputs": [],
   "source": []
  },
  {
   "cell_type": "code",
   "execution_count": null,
   "metadata": {},
   "outputs": [],
   "source": []
  },
  {
   "cell_type": "code",
   "execution_count": null,
   "metadata": {},
   "outputs": [],
   "source": []
  },
  {
   "cell_type": "code",
   "execution_count": null,
   "metadata": {},
   "outputs": [],
   "source": []
  }
 ],
 "metadata": {
  "kernelspec": {
   "display_name": "Python 3",
   "language": "python",
   "name": "python3"
  },
  "language_info": {
   "codemirror_mode": {
    "name": "ipython",
    "version": 3
   },
   "file_extension": ".py",
   "mimetype": "text/x-python",
   "name": "python",
   "nbconvert_exporter": "python",
   "pygments_lexer": "ipython3",
   "version": "3.6.7"
  }
 },
 "nbformat": 4,
 "nbformat_minor": 2
}
