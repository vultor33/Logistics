{
 "cells": [
  {
   "cell_type": "code",
   "execution_count": 1,
   "metadata": {},
   "outputs": [],
   "source": [
    "from ruptura.RupturaTable import RupturaTable\n",
    "from ruptura.CreateBatch import CreateBatch\n",
    "import collections"
   ]
  },
  {
   "cell_type": "code",
   "execution_count": null,
   "metadata": {},
   "outputs": [],
   "source": [
    "rupturaTable = RupturaTable()\n",
    "files = ['ruptura-2018-dezembro-1oQ.csv', 'ruptura-2018-dezembro-2oQ.csv', 'ruptura-2019-fevereiro.csv', 'ruptura-2019-janeiro-1oQ.csv', 'ruptura-2019-janeiro-2oQ.csv', 'ruptura-2019-marco.csv']\n",
    "clipData = ['01/11/2018', '01/04/2019']  # mais recente 08/03/2019\n",
    "rupturaTable.generate(files,clipData)"
   ]
  },
  {
   "cell_type": "code",
   "execution_count": null,
   "metadata": {},
   "outputs": [],
   "source": [
    "createBatch = CreateBatch()\n",
    "amostras = createBatch.create(rupturaTable.getData(), 'BISCOITO BARBIERI PAPA OVO 150G', '01/03/2019')\n",
    "#createBatch.exportBatch(amostras)"
   ]
  },
  {
   "cell_type": "code",
   "execution_count": null,
   "metadata": {
    "scrolled": true
   },
   "outputs": [],
   "source": [
    "from ruptura.CreateBatch import CreateBatch\n",
    "createBatch = CreateBatch()\n",
    "amostras = createBatch.loadBatch()\n",
    "X, Y, Ytest = createBatch.batch(amostras)"
   ]
  },
  {
   "cell_type": "code",
   "execution_count": null,
   "metadata": {},
   "outputs": [],
   "source": [
    "# TODO - consertar a definicao do batch ou talvez transferir para outro objeto.\n",
    "# TREINO E TESTE DO NOVO CARA - colocar para treinar\n",
    "# INCORPORAR ESTE DE TODOS OS PRODUTOS\n",
    "# CRIAR UMA FUNCAO PARA ELIMINAR ESSE QUE TEM INFORMACOES ERRADAS"
   ]
  },
  {
   "cell_type": "code",
   "execution_count": null,
   "metadata": {},
   "outputs": [],
   "source": []
  },
  {
   "cell_type": "code",
   "execution_count": null,
   "metadata": {},
   "outputs": [],
   "source": []
  },
  {
   "cell_type": "markdown",
   "metadata": {},
   "source": [
    "# MAIS DE UM PRODUTO"
   ]
  },
  {
   "cell_type": "code",
   "execution_count": 9,
   "metadata": {},
   "outputs": [],
   "source": [
    "referenceDate = '08/03/2019'\n",
    "data = rupturaTable.getData()\n",
    "createBatch = CreateBatch()\n",
    "produtos = list(collections.Counter(data.loc[:,'Produto']))\n",
    "todosBiscoitos  = []\n",
    "for prod in produtos:\n",
    "    if 'BISCOITO BARBIERI' in prod:\n",
    "        todosBiscoitos.append(prod)\n",
    "todasAmostras = {}\n",
    "data = rupturaTable.getData()\n",
    "for nomeDoProduto in todosBiscoitos:\n",
    "    amostras = createBatch.create(data, nomeDoProduto, referenceDate)\n",
    "    todasAmostras.update(dict(amostras))\n",
    "\n",
    "createBatch.exportBatch(todasAmostras, 'biscoitos-barbieri-8-3-19.json')"
   ]
  },
  {
   "cell_type": "code",
   "execution_count": null,
   "metadata": {},
   "outputs": [],
   "source": []
  },
  {
   "cell_type": "code",
   "execution_count": null,
   "metadata": {},
   "outputs": [],
   "source": []
  },
  {
   "cell_type": "code",
   "execution_count": null,
   "metadata": {},
   "outputs": [],
   "source": []
  },
  {
   "cell_type": "code",
   "execution_count": null,
   "metadata": {},
   "outputs": [],
   "source": []
  },
  {
   "cell_type": "code",
   "execution_count": null,
   "metadata": {},
   "outputs": [],
   "source": []
  },
  {
   "cell_type": "code",
   "execution_count": null,
   "metadata": {},
   "outputs": [],
   "source": []
  },
  {
   "cell_type": "code",
   "execution_count": null,
   "metadata": {},
   "outputs": [],
   "source": []
  },
  {
   "cell_type": "code",
   "execution_count": null,
   "metadata": {},
   "outputs": [],
   "source": []
  },
  {
   "cell_type": "code",
   "execution_count": null,
   "metadata": {},
   "outputs": [],
   "source": []
  },
  {
   "cell_type": "code",
   "execution_count": null,
   "metadata": {},
   "outputs": [],
   "source": []
  },
  {
   "cell_type": "code",
   "execution_count": null,
   "metadata": {},
   "outputs": [],
   "source": []
  },
  {
   "cell_type": "code",
   "execution_count": null,
   "metadata": {},
   "outputs": [],
   "source": []
  },
  {
   "cell_type": "code",
   "execution_count": null,
   "metadata": {},
   "outputs": [],
   "source": []
  },
  {
   "cell_type": "code",
   "execution_count": null,
   "metadata": {},
   "outputs": [],
   "source": []
  }
 ],
 "metadata": {
  "kernelspec": {
   "display_name": "Python 3",
   "language": "python",
   "name": "python3"
  },
  "language_info": {
   "codemirror_mode": {
    "name": "ipython",
    "version": 3
   },
   "file_extension": ".py",
   "mimetype": "text/x-python",
   "name": "python",
   "nbconvert_exporter": "python",
   "pygments_lexer": "ipython3",
   "version": "3.6.7"
  }
 },
 "nbformat": 4,
 "nbformat_minor": 2
}
