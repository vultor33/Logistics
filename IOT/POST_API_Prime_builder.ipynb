{
 "cells": [
  {
   "cell_type": "code",
   "execution_count": null,
   "metadata": {},
   "outputs": [],
   "source": [
    "import requests\n",
    "import json"
   ]
  },
  {
   "cell_type": "code",
   "execution_count": null,
   "metadata": {},
   "outputs": [],
   "source": [
    "# DADOS DA CONTA  (essas informacoes devem ser adicionadas na query abaixo)\n",
    "#workspace: 276\n",
    "#username: fred\n",
    "#password: 2019"
   ]
  },
  {
   "cell_type": "code",
   "execution_count": null,
   "metadata": {},
   "outputs": [],
   "source": [
    "# OBTENCAO DO TOKEN DE IDENTIFICACAO\n",
    "url_auth = 'https://api.primebuilder.com.br/main/auth'\n",
    "query = 'username=fred&password=2019&workspace=276&grant_type=password'  # informacoes do usuario\n",
    "authentification_response = requests.post(url_auth, data=query)\n",
    "print(authentification_response.json()) # aqui aparecera um token de acesso de duracao de 1 dia\n",
    "# na autentificacao la na frente deve-se adicinar bearer (espaco) copia do token"
   ]
  },
  {
   "cell_type": "code",
   "execution_count": 40,
   "metadata": {},
   "outputs": [],
   "source": [
    "# INFORMACOES A SEREM ENVIADAS\n",
    "# Os dados como \"Customer\", \"User\" e etc. sao informacoes internas e eu\n",
    "# preciso passar os numeros corretos aqui. O POST confere esses valores e resulta\n",
    "# em acesso negado caso nao estejam corretos.\n",
    "modelo_json = {\n",
    "    \"Limit\": \"2019-08-05T17:00:00\",\n",
    "    \"Observation\": \"\",\n",
    "    \"ScheduledDate\": \"2019-08-05T09:00:00\",\n",
    "    \"User\": 53157,\n",
    "    \"Office\": 882,\n",
    "    \"Address\": {\n",
    "        \"Street\": \"Teofilo Otoni\",\n",
    "        \"Number\": \" 412 \",\n",
    "        \"Complement\": \"\",\n",
    "        \"Neighborhood\": \"Funcionarios\",\n",
    "        \"City\": \"TchoTcho\",\n",
    "        \"StateAcronym\": \"MG\",\n",
    "        \"CountryAcronym\": \"BR\",\n",
    "        \"PostalCode\": \"\",\n",
    "        \"Latitude\": 0,\n",
    "        \"Longitude\": 0\n",
    "    },\n",
    "    \"Region\": 9,\n",
    "    \"Customer\": 1160011,\n",
    "    \"Workflow\": 26801,\n",
    "    \"Group\": 5343\n",
    "}  "
   ]
  },
  {
   "cell_type": "code",
   "execution_count": null,
   "metadata": {},
   "outputs": [],
   "source": [
    "# CRIACAO DO HEADER\n",
    "headers = {}\n",
    "headers['Content-Type'] = 'application/json'#'text/csv'\n",
    "headers['Authorization'] = 'bearer ' + authentification_response.json()['access_token']\n",
    "headers['Accept'] = 'text/csv'\n",
    "print(headers)"
   ]
  },
  {
   "cell_type": "code",
   "execution_count": null,
   "metadata": {},
   "outputs": [],
   "source": [
    "# POSTAGEM DA TRANSACAO\n",
    "url_post = 'http://api.primebuilder.com.br/Main/v1/movement/tasks/'\n",
    "res_os = requests.post(url_post, json=modelo_json, headers = headers)\n",
    "print('Resposta:  ', res_os, ' Valor:  ',res_os.json())"
   ]
  },
  {
   "cell_type": "code",
   "execution_count": null,
   "metadata": {},
   "outputs": [],
   "source": [
    "# ENCONTRANDO A TRANSACAO QUE FOI CRIADA\n",
    "url_get = 'http://api.primebuilder.com.br/Main/v1/movement/tasks/70230414' #adicionar o ID de saida aqui\n",
    "res_get = requests.get(url_get, headers = headers)\n",
    "print(res_get.json())"
   ]
  },
  {
   "cell_type": "code",
   "execution_count": null,
   "metadata": {},
   "outputs": [],
   "source": []
  },
  {
   "cell_type": "code",
   "execution_count": null,
   "metadata": {},
   "outputs": [],
   "source": []
  },
  {
   "cell_type": "code",
   "execution_count": null,
   "metadata": {},
   "outputs": [],
   "source": []
  },
  {
   "cell_type": "code",
   "execution_count": null,
   "metadata": {},
   "outputs": [],
   "source": []
  },
  {
   "cell_type": "code",
   "execution_count": null,
   "metadata": {},
   "outputs": [],
   "source": []
  },
  {
   "cell_type": "code",
   "execution_count": null,
   "metadata": {},
   "outputs": [],
   "source": []
  },
  {
   "cell_type": "code",
   "execution_count": null,
   "metadata": {},
   "outputs": [],
   "source": []
  }
 ],
 "metadata": {
  "kernelspec": {
   "display_name": "Python 3",
   "language": "python",
   "name": "python3"
  },
  "language_info": {
   "codemirror_mode": {
    "name": "ipython",
    "version": 3
   },
   "file_extension": ".py",
   "mimetype": "text/x-python",
   "name": "python",
   "nbconvert_exporter": "python",
   "pygments_lexer": "ipython3",
   "version": "3.7.3"
  }
 },
 "nbformat": 4,
 "nbformat_minor": 2
}
